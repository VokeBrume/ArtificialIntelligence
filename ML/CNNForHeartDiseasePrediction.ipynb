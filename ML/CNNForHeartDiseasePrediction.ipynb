{
  "nbformat": 4,
  "nbformat_minor": 0,
  "metadata": {
    "colab": {
      "name": "CNNForHeartDiseasePrediction",
      "provenance": [],
      "collapsed_sections": [
        "32ZOZ7NdzJq8",
        "TE_0Bdx7yg_O",
        "uW0D-wXKq8hq",
        "-fwntyeVs8i5",
        "eVP9hEziRSAk",
        "E06aaZGVJf8z",
        "1SScvL4V8pOo",
        "w5PJn2wfMi_w",
        "2NQC3totkFgG",
        "_dPwePbipxBS",
        "gvFmcMuSkwMu",
        "qRLtLRammFtt",
        "_0ho96dvmRh0",
        "wX6-TAC7m8Kw",
        "0Ecs3vFJnhuc",
        "HppYBnvNBh8P"
      ],
      "toc_visible": true,
      "mount_file_id": "https://github.com/VokeBrume/ArtificialIntelligence/blob/main/ML/CNNForHeartDiseasePrediction.ipynb",
      "authorship_tag": "ABX9TyPgiMbzkk+eSw20ApEmKKhS",
      "include_colab_link": true
    },
    "kernelspec": {
      "name": "python3",
      "display_name": "Python 3"
    },
    "language_info": {
      "name": "python"
    }
  },
  "cells": [
    {
      "cell_type": "markdown",
      "metadata": {
        "id": "view-in-github",
        "colab_type": "text"
      },
      "source": [
        "<a href=\"https://colab.research.google.com/github/VokeBrume/ArtificialIntelligence/blob/main/ML/CNNForHeartDiseasePrediction.ipynb\" target=\"_parent\"><img src=\"https://colab.research.google.com/assets/colab-badge.svg\" alt=\"Open In Colab\"/></a>"
      ]
    },
    {
      "cell_type": "markdown",
      "source": [
        "# **CONVOLUTIONAL NEURAL NETWORK (CNN) FOR HEART DISEASE PREDICTION** \n",
        "by Voke Brume"
      ],
      "metadata": {
        "id": "Q544Cj-Djr5Q"
      }
    },
    {
      "cell_type": "markdown",
      "source": [
        "## **INTRODUCTION**"
      ],
      "metadata": {
        "id": "32ZOZ7NdzJq8"
      }
    },
    {
      "cell_type": "markdown",
      "source": [
        "Several factors (known as risk factors) such as general health conditions, lifestyle, age, and family history can increase an individual's risk for heart disease. According to the CDC, about 47% of Americans have at least one of three key risk factors for heart disease: high blood pressure, high cholesterol, and smoking. Other key indicators include diabetic status,  obesity (high BMI), lack of sufficient physical activity, hypertension, or high alcohol intake.\n",
        "\n",
        "\n",
        "Ahmed. et al. (2017) show that Body Mass Index (BMI) and systolic blood pressure are the two most critical factors affecting hypertension. \n",
        "High blood pressure (also called \"silent killer\") is a medical condition that happens when the blood pressure in your arteries and other blood vessels is too high. High blood pressure can be lowered with lifestyle changes or medicine to reduce the risk of heart disease and heart attack.\n",
        "\n",
        "Cholesterol is a fat-like substance made by the liver or found in certain foods. When more cholesterol than the body can use is taken, the extra cholesterol can build up in the artery's walls, including those of the heart. This leads to narrowing the arteries and can decrease the blood flow to the heart, brain, kidneys, and other parts of the body. There are two main types of blood cholesterol: Low-density Lipoprotein (LDL), which is considered to be \"bad\" cholesterol because it can cause plaque buildup in your arteries, and High-density Lipoprotein) (HDL) cholesterol, which is considered \"good\" cholesterol because higher levels provide some protection against heart disease.\n",
        "\n",
        "The human body needs glucose for energy. A hormone called insulin moves this glucose from the food we eat to our body's cells for energy. Diabetes is when the body does not make enough insulin, causing sugar to build up in the blood. Adults with diabetes have a higher risk of death than adults who do not have diabetes. \n",
        "\n",
        "Obesity is excess body fat linked to higher \"bad\" cholesterol and triglyceride levels and lower \"good\" cholesterol levels. Obesity can lead to high blood pressure and diabetes, and heart disease."
      ],
      "metadata": {
        "id": "s96uVzIBj2DD"
      }
    },
    {
      "cell_type": "markdown",
      "source": [
        "##### **GOAL** \n",
        "\n",
        "While most of the existing machine learning models used on similar datasets are vulnerable to class imbalance, even after adjusting class-specific weights, a simple two-layer CNN exhibits resilience to the imbalance with fair harmony in class-specific performance (Dutta et al., 2020).\n",
        "\n",
        "This project implements Dutta et al.'s convolutional neural network approach to the CDC's Behavioral Risk Factor Surveillance System (BRFSS) 2020 dataset to predict heart disease in a person. This process is known as Transfer Learning, which is a machine learning method where a model developed for a task is used as the starting point for a model on a second task."
      ],
      "metadata": {
        "id": "wM9COEfjj_KW"
      }
    },
    {
      "cell_type": "markdown",
      "source": [
        "## **DATA**"
      ],
      "metadata": {
        "id": "Ga-__E91zv4W"
      }
    },
    {
      "cell_type": "markdown",
      "source": [
        "### **CDC DATASET**"
      ],
      "metadata": {
        "id": "TE_0Bdx7yg_O"
      }
    },
    {
      "cell_type": "markdown",
      "source": [
        "The BRFSS is a system of ongoing health-related telephone surveys initiated in 1984 to collect uniform state-specific data on health risk behaviors, chronic diseases and conditions, access to health care, and preventive health services related to the leading causes of death and disability in the United States.\n",
        "\n",
        "Since 2011, the BRFSS has conducted both landline telephone-and cellular telephone-based surveys. All the responses were self-reported; the BRFSS does not conduct proxy interviews. In conducting the landline telephone survey, interviewers collect data from a randomly selected adult in a household. In conducting the cellular telephone survey, interviewers collect data from adults answering the cellular telephones residing in a private residence or college housing. In 2014, all adults contacted through their cellular telephone were eligible, regardless of their landline phone use (i.e., complete overlap).\n",
        "\n",
        "In 2020, an optional module was included to measure several childhood health and wellness indicators, including asthma prevalence for people aged 17 years or younger. BRFSS respondents are identified through telephone-based methods. According to the 2019 American Community Survey (ACS), 99% of all occupied housing units in the United States had telephone service available, and telephone non-coverage ranged from less than 1.0% in several states to 1.6% in South Dakota. It is estimated that 3.5% of occupied households in Puerto Rico did not have telephone service. The increasing percentage of households abandoning their landline telephones for cellular telephones has significantly eroded the population coverage provided by landline telephone-based surveys to pre-1970s levels. The preliminary results (January to June 2020) from the National Health Interview Survey (NHIS) indicate that 61.8% of adults were wireless-only.3 Using a dual-frame survey including landline and cellular telephones improved the validity, data quality, and representativeness of BRFSS data.\n",
        "\n",
        "Each year, the states—represented by their BRFSS coordinators and CDC—agree on the questionnaire's content. The questionnaire consists of three parts:\n",
        "\n",
        "- Core component (a standard set of questions that all states use.\n",
        "- Optional BRFSS Modules (set of questions on specific questions)\n",
        "- State-added questions (Questions added by individual states)"
      ],
      "metadata": {
        "id": "F0J8O7YLkL0U"
      }
    },
    {
      "cell_type": "markdown",
      "source": [
        "**Sample Description**\n",
        "\n",
        "In the sample design, states begin with a single stratum. However, many states sample disproportionately from strata that correspond to sub-state regions to provide adequate sample sizes for smaller geographically defined populations of interest. In 2020, the 47 states with geographic stratification were Alabama, Alaska, Arizona, Arkansas, California, Colorado, Connecticut, Delaware, Florida, Georgia, Hawaii, Idaho, Illinois, Indiana, Iowa, Kansas, Kentucky, Louisiana, Maine, Maryland, Massachusetts, Michigan, Minnesota, Mississippi, Missouri, Montana, Nebraska, Nevada, New Hampshire, New Mexico, New York, North Carolina, North Dakota, Ohio, Oklahoma, Pennsylvania, Puerto Rico, Rhode Island, South Carolina, South Dakota, Tennessee, Texas, Utah, Vermont, Virginia, Washington, and Wisconsin. As a precaution to protect the confidential responses provided by the respondent, specific variables (such as sub-state geographic identifiers, detailed race or ethnicity, and older than 80 years of age) in a given year were removed. (BRFSS 2020)\n"
      ],
      "metadata": {
        "id": "Se0diu1SoNJ_"
      }
    },
    {
      "cell_type": "markdown",
      "source": [
        "**Data Collection**\n",
        "\n",
        "In 2020, 53 states or territories used Computer-Assisted Telephone Interview (CATI) systems. CDC supports CATI programming using the Ci3 WinCATI software package. This support includes programming the core and module questions for data collectors, providing questionnaire scripting of state-added questions for states requiring such assistance, and contracting with a Ci3 consultant to assist states. Following the BRFSS, state health personnel or contractors conduct interviews. The core portion of the questionnaire lasts an average of 17 minutes. Interview time for modules and state-added questions depends on the number of questions used, but generally, they add 5 to 10 minutes to the interview. (BRFSS 2020)"
      ],
      "metadata": {
        "id": "7sInyYktopvy"
      }
    },
    {
      "cell_type": "markdown",
      "source": [
        "For more information on CDC data collection and processing, see reference."
      ],
      "metadata": {
        "id": "3ejteJ_PpHIH"
      }
    },
    {
      "cell_type": "markdown",
      "source": [
        "### **REPORT DATASET**"
      ],
      "metadata": {
        "id": "jXOJTfbzqKHK"
      }
    },
    {
      "cell_type": "markdown",
      "source": [
        "This report dataset comes from the CDC BRFSS dataset. Variables deemed most relevant to directly or indirectly influence heart disease were kept, while other variables were dropped. Other undisclosed cleaning procedures to make the dataset usable for machine learning projects were also applied to the dataset. This shrunk the CDC dataset down from about 401,958 records and over 300 variables to the report dataset. Examples of shrunk data include the removal of responses from individuals aged 18 - 24 because there is little to no threat of heart disease and multiple variables such as \"Do you have serious difficulty walking or climbing stairs?\""
      ],
      "metadata": {
        "id": "0m9eqUnIOouk"
      }
    },
    {
      "cell_type": "code",
      "execution_count": 1,
      "metadata": {
        "id": "4JKpB9yZWC8-"
      },
      "outputs": [],
      "source": [
        "# Import needed libraries\n",
        "import os\n",
        "import copy\n",
        "import urllib.request\n",
        "\n",
        "import pandas as pd\n",
        "import numpy as np\n",
        "import seaborn as sns\n",
        "import tensorflow as tf\n",
        "\n",
        "from tensorflow import keras\n",
        "from sklearn import preprocessing\n",
        "from matplotlib import pyplot as plt"
      ]
    },
    {
      "cell_type": "code",
      "source": [
        "# Read the file\n",
        "file = \"/content/drive/Othercomputers/myPCWindows/schoolStuff [D]/CS677/report/heart_2020_cleaned.xlsx\"\n",
        "heart_disease = pd.read_excel(file)"
      ],
      "metadata": {
        "id": "_9uh-FA5Wadg"
      },
      "execution_count": 2,
      "outputs": []
    },
    {
      "cell_type": "code",
      "source": [
        "# View the first five samples in the dataset\n",
        "heart_disease.head()"
      ],
      "metadata": {
        "id": "1WSz0Ad-XWQf",
        "colab": {
          "base_uri": "https://localhost:8080/",
          "height": 0
        },
        "outputId": "237e1971-1aef-47ba-e29a-3cb04036fb23"
      },
      "execution_count": 3,
      "outputs": [
        {
          "output_type": "execute_result",
          "data": {
            "text/plain": [
              "  HeartDisease    BMI Smoking AlcoholDrinking Stroke  PhysicalHealth  \\\n",
              "0           No  16.60     Yes              No     No               3   \n",
              "1           No  20.34      No              No    Yes               0   \n",
              "2           No  26.58     Yes              No     No              20   \n",
              "3           No  24.21      No              No     No               0   \n",
              "4           No  23.71      No              No     No              28   \n",
              "\n",
              "   MentalHealth DiffWalking     Sex  AgeCategory   Race Diabetic  \\\n",
              "0            30          No  Female        55-59  White      Yes   \n",
              "1             0          No  Female  80 or older  White       No   \n",
              "2            30          No    Male        65-69  White      Yes   \n",
              "3             0          No  Female        75-79  White       No   \n",
              "4             0         Yes  Female        40-44  White       No   \n",
              "\n",
              "  PhysicalActivity  GenHealth  SleepTime Asthma KidneyDisease SkinCancer  \n",
              "0              Yes  Very good          5    Yes            No        Yes  \n",
              "1              Yes  Very good          7     No            No         No  \n",
              "2              Yes       Fair          8    Yes            No         No  \n",
              "3               No       Good          6     No            No        Yes  \n",
              "4              Yes  Very good          8     No            No         No  "
            ],
            "text/html": [
              "\n",
              "  <div id=\"df-d838f7fc-6915-4efd-aaca-7abdbba0c613\">\n",
              "    <div class=\"colab-df-container\">\n",
              "      <div>\n",
              "<style scoped>\n",
              "    .dataframe tbody tr th:only-of-type {\n",
              "        vertical-align: middle;\n",
              "    }\n",
              "\n",
              "    .dataframe tbody tr th {\n",
              "        vertical-align: top;\n",
              "    }\n",
              "\n",
              "    .dataframe thead th {\n",
              "        text-align: right;\n",
              "    }\n",
              "</style>\n",
              "<table border=\"1\" class=\"dataframe\">\n",
              "  <thead>\n",
              "    <tr style=\"text-align: right;\">\n",
              "      <th></th>\n",
              "      <th>HeartDisease</th>\n",
              "      <th>BMI</th>\n",
              "      <th>Smoking</th>\n",
              "      <th>AlcoholDrinking</th>\n",
              "      <th>Stroke</th>\n",
              "      <th>PhysicalHealth</th>\n",
              "      <th>MentalHealth</th>\n",
              "      <th>DiffWalking</th>\n",
              "      <th>Sex</th>\n",
              "      <th>AgeCategory</th>\n",
              "      <th>Race</th>\n",
              "      <th>Diabetic</th>\n",
              "      <th>PhysicalActivity</th>\n",
              "      <th>GenHealth</th>\n",
              "      <th>SleepTime</th>\n",
              "      <th>Asthma</th>\n",
              "      <th>KidneyDisease</th>\n",
              "      <th>SkinCancer</th>\n",
              "    </tr>\n",
              "  </thead>\n",
              "  <tbody>\n",
              "    <tr>\n",
              "      <th>0</th>\n",
              "      <td>No</td>\n",
              "      <td>16.60</td>\n",
              "      <td>Yes</td>\n",
              "      <td>No</td>\n",
              "      <td>No</td>\n",
              "      <td>3</td>\n",
              "      <td>30</td>\n",
              "      <td>No</td>\n",
              "      <td>Female</td>\n",
              "      <td>55-59</td>\n",
              "      <td>White</td>\n",
              "      <td>Yes</td>\n",
              "      <td>Yes</td>\n",
              "      <td>Very good</td>\n",
              "      <td>5</td>\n",
              "      <td>Yes</td>\n",
              "      <td>No</td>\n",
              "      <td>Yes</td>\n",
              "    </tr>\n",
              "    <tr>\n",
              "      <th>1</th>\n",
              "      <td>No</td>\n",
              "      <td>20.34</td>\n",
              "      <td>No</td>\n",
              "      <td>No</td>\n",
              "      <td>Yes</td>\n",
              "      <td>0</td>\n",
              "      <td>0</td>\n",
              "      <td>No</td>\n",
              "      <td>Female</td>\n",
              "      <td>80 or older</td>\n",
              "      <td>White</td>\n",
              "      <td>No</td>\n",
              "      <td>Yes</td>\n",
              "      <td>Very good</td>\n",
              "      <td>7</td>\n",
              "      <td>No</td>\n",
              "      <td>No</td>\n",
              "      <td>No</td>\n",
              "    </tr>\n",
              "    <tr>\n",
              "      <th>2</th>\n",
              "      <td>No</td>\n",
              "      <td>26.58</td>\n",
              "      <td>Yes</td>\n",
              "      <td>No</td>\n",
              "      <td>No</td>\n",
              "      <td>20</td>\n",
              "      <td>30</td>\n",
              "      <td>No</td>\n",
              "      <td>Male</td>\n",
              "      <td>65-69</td>\n",
              "      <td>White</td>\n",
              "      <td>Yes</td>\n",
              "      <td>Yes</td>\n",
              "      <td>Fair</td>\n",
              "      <td>8</td>\n",
              "      <td>Yes</td>\n",
              "      <td>No</td>\n",
              "      <td>No</td>\n",
              "    </tr>\n",
              "    <tr>\n",
              "      <th>3</th>\n",
              "      <td>No</td>\n",
              "      <td>24.21</td>\n",
              "      <td>No</td>\n",
              "      <td>No</td>\n",
              "      <td>No</td>\n",
              "      <td>0</td>\n",
              "      <td>0</td>\n",
              "      <td>No</td>\n",
              "      <td>Female</td>\n",
              "      <td>75-79</td>\n",
              "      <td>White</td>\n",
              "      <td>No</td>\n",
              "      <td>No</td>\n",
              "      <td>Good</td>\n",
              "      <td>6</td>\n",
              "      <td>No</td>\n",
              "      <td>No</td>\n",
              "      <td>Yes</td>\n",
              "    </tr>\n",
              "    <tr>\n",
              "      <th>4</th>\n",
              "      <td>No</td>\n",
              "      <td>23.71</td>\n",
              "      <td>No</td>\n",
              "      <td>No</td>\n",
              "      <td>No</td>\n",
              "      <td>28</td>\n",
              "      <td>0</td>\n",
              "      <td>Yes</td>\n",
              "      <td>Female</td>\n",
              "      <td>40-44</td>\n",
              "      <td>White</td>\n",
              "      <td>No</td>\n",
              "      <td>Yes</td>\n",
              "      <td>Very good</td>\n",
              "      <td>8</td>\n",
              "      <td>No</td>\n",
              "      <td>No</td>\n",
              "      <td>No</td>\n",
              "    </tr>\n",
              "  </tbody>\n",
              "</table>\n",
              "</div>\n",
              "      <button class=\"colab-df-convert\" onclick=\"convertToInteractive('df-d838f7fc-6915-4efd-aaca-7abdbba0c613')\"\n",
              "              title=\"Convert this dataframe to an interactive table.\"\n",
              "              style=\"display:none;\">\n",
              "        \n",
              "  <svg xmlns=\"http://www.w3.org/2000/svg\" height=\"24px\"viewBox=\"0 0 24 24\"\n",
              "       width=\"24px\">\n",
              "    <path d=\"M0 0h24v24H0V0z\" fill=\"none\"/>\n",
              "    <path d=\"M18.56 5.44l.94 2.06.94-2.06 2.06-.94-2.06-.94-.94-2.06-.94 2.06-2.06.94zm-11 1L8.5 8.5l.94-2.06 2.06-.94-2.06-.94L8.5 2.5l-.94 2.06-2.06.94zm10 10l.94 2.06.94-2.06 2.06-.94-2.06-.94-.94-2.06-.94 2.06-2.06.94z\"/><path d=\"M17.41 7.96l-1.37-1.37c-.4-.4-.92-.59-1.43-.59-.52 0-1.04.2-1.43.59L10.3 9.45l-7.72 7.72c-.78.78-.78 2.05 0 2.83L4 21.41c.39.39.9.59 1.41.59.51 0 1.02-.2 1.41-.59l7.78-7.78 2.81-2.81c.8-.78.8-2.07 0-2.86zM5.41 20L4 18.59l7.72-7.72 1.47 1.35L5.41 20z\"/>\n",
              "  </svg>\n",
              "      </button>\n",
              "      \n",
              "  <style>\n",
              "    .colab-df-container {\n",
              "      display:flex;\n",
              "      flex-wrap:wrap;\n",
              "      gap: 12px;\n",
              "    }\n",
              "\n",
              "    .colab-df-convert {\n",
              "      background-color: #E8F0FE;\n",
              "      border: none;\n",
              "      border-radius: 50%;\n",
              "      cursor: pointer;\n",
              "      display: none;\n",
              "      fill: #1967D2;\n",
              "      height: 32px;\n",
              "      padding: 0 0 0 0;\n",
              "      width: 32px;\n",
              "    }\n",
              "\n",
              "    .colab-df-convert:hover {\n",
              "      background-color: #E2EBFA;\n",
              "      box-shadow: 0px 1px 2px rgba(60, 64, 67, 0.3), 0px 1px 3px 1px rgba(60, 64, 67, 0.15);\n",
              "      fill: #174EA6;\n",
              "    }\n",
              "\n",
              "    [theme=dark] .colab-df-convert {\n",
              "      background-color: #3B4455;\n",
              "      fill: #D2E3FC;\n",
              "    }\n",
              "\n",
              "    [theme=dark] .colab-df-convert:hover {\n",
              "      background-color: #434B5C;\n",
              "      box-shadow: 0px 1px 3px 1px rgba(0, 0, 0, 0.15);\n",
              "      filter: drop-shadow(0px 1px 2px rgba(0, 0, 0, 0.3));\n",
              "      fill: #FFFFFF;\n",
              "    }\n",
              "  </style>\n",
              "\n",
              "      <script>\n",
              "        const buttonEl =\n",
              "          document.querySelector('#df-d838f7fc-6915-4efd-aaca-7abdbba0c613 button.colab-df-convert');\n",
              "        buttonEl.style.display =\n",
              "          google.colab.kernel.accessAllowed ? 'block' : 'none';\n",
              "\n",
              "        async function convertToInteractive(key) {\n",
              "          const element = document.querySelector('#df-d838f7fc-6915-4efd-aaca-7abdbba0c613');\n",
              "          const dataTable =\n",
              "            await google.colab.kernel.invokeFunction('convertToInteractive',\n",
              "                                                     [key], {});\n",
              "          if (!dataTable) return;\n",
              "\n",
              "          const docLinkHtml = 'Like what you see? Visit the ' +\n",
              "            '<a target=\"_blank\" href=https://colab.research.google.com/notebooks/data_table.ipynb>data table notebook</a>'\n",
              "            + ' to learn more about interactive tables.';\n",
              "          element.innerHTML = '';\n",
              "          dataTable['output_type'] = 'display_data';\n",
              "          await google.colab.output.renderOutput(dataTable, element);\n",
              "          const docLink = document.createElement('div');\n",
              "          docLink.innerHTML = docLinkHtml;\n",
              "          element.appendChild(docLink);\n",
              "        }\n",
              "      </script>\n",
              "    </div>\n",
              "  </div>\n",
              "  "
            ]
          },
          "metadata": {},
          "execution_count": 3
        }
      ]
    },
    {
      "cell_type": "markdown",
      "source": [
        "The above table show that the dataset has one (1) dichotomous dependent variable named \"HeartDisease\" and seventeen variables that can be used to predict it. The exhaustive list of variables is BMI, Smoking, AlcoholDrinking, Stroke, PhysicalHealth, MentalHealth, DiffWalking, Sex, AgeCategory, Race, Diabetic, PhysicalActivity, GenHealth, SleepTime, Asthma, KidneyDisease, and SkinCancer."
      ],
      "metadata": {
        "id": "TQ6Nr1NGrHmb"
      }
    },
    {
      "cell_type": "markdown",
      "source": [
        "COLUMN CODES\n",
        "- HeartDisease: Respondents who have ever reported coronary heart disease (CHD) or myocardial infarction (MI).\n",
        "- BMI: Body Mass Index (BMI).\n",
        "- Smoking: \"Have you smoked at least 100 cigarettes in your entire life?\"\n",
        "- AlcoholDrinking: Heavy drinkers (adult men having more than 14 drinks per week and adult women having more than seven drinks per week\n",
        "- Stroke: (Ever told) (you had) a stroke?\n",
        "- PhysicalHealth: \"Now, thinking about your physical health, including physical illness and injury, for how many days during the past 30 days was your physical health not good? (0-30 days).\"\n",
        "- MentalHealth: \"Thinking about your mental health, how many days during the past 30 days were your mental health not good? (0-30 days).\"\n",
        "- DiffWalking: \"Do you have serious difficulty walking or climbing stairs?\"\n",
        "- Sex: \"Are you male or female?\"\n",
        "- AgeCategory: Fourteen-level age category. (then calculated the mean)\n",
        "- Race: Imputed race/ethnicity value.\n",
        "- Diabetic: \"Ever told you had diabetes?\"\n",
        "- PhysicalActivity: Adults who reported doing physical activity or exercise during the past 30 days other than their regular job.\n",
        "- GenHealth: \"Would you say that, in general, your health is Very good, Good, Excellent, Fair, or Poor?\"\n",
        "- SleepTime: \"On average, how many hours of sleep do you get in 24 hours?\"\n",
        "- Asthma: \"Ever told you had asthma?\"\n",
        "- KidneyDisease: \"Not including kidney stones, bladder infection, or incontinence, were you ever told you had kidney disease?\"\n",
        "- SkinCancer: \"Ever told you had skin cancer?\""
      ],
      "metadata": {
        "id": "dbkhIZaTwF6d"
      }
    },
    {
      "cell_type": "markdown",
      "source": [
        "### **DATA EXPLORATION AND VISUALIZATION**\n",
        "\n"
      ],
      "metadata": {
        "id": "uW0D-wXKq8hq"
      }
    },
    {
      "cell_type": "code",
      "source": [
        "# The info() function is used to get a quick description of the data and the number of null values.\n",
        "heart_disease.info()"
      ],
      "metadata": {
        "id": "f1vYBbyfXzDw",
        "colab": {
          "base_uri": "https://localhost:8080/"
        },
        "outputId": "5d7865ea-02ca-4017-9e47-b78b66341056"
      },
      "execution_count": null,
      "outputs": [
        {
          "output_type": "stream",
          "name": "stdout",
          "text": [
            "<class 'pandas.core.frame.DataFrame'>\n",
            "RangeIndex: 319795 entries, 0 to 319794\n",
            "Data columns (total 18 columns):\n",
            " #   Column            Non-Null Count   Dtype  \n",
            "---  ------            --------------   -----  \n",
            " 0   HeartDisease      319795 non-null  object \n",
            " 1   BMI               319795 non-null  float64\n",
            " 2   Smoking           319795 non-null  object \n",
            " 3   AlcoholDrinking   319795 non-null  object \n",
            " 4   Stroke            319795 non-null  object \n",
            " 5   PhysicalHealth    319795 non-null  int64  \n",
            " 6   MentalHealth      319795 non-null  int64  \n",
            " 7   DiffWalking       319795 non-null  object \n",
            " 8   Sex               319795 non-null  object \n",
            " 9   AgeCategory       319795 non-null  object \n",
            " 10  Race              319795 non-null  object \n",
            " 11  Diabetic          319795 non-null  object \n",
            " 12  PhysicalActivity  319795 non-null  object \n",
            " 13  GenHealth         319795 non-null  object \n",
            " 14  SleepTime         319795 non-null  int64  \n",
            " 15  Asthma            319795 non-null  object \n",
            " 16  KidneyDisease     319795 non-null  object \n",
            " 17  SkinCancer        319795 non-null  object \n",
            "dtypes: float64(1), int64(3), object(14)\n",
            "memory usage: 43.9+ MB\n"
          ]
        }
      ]
    },
    {
      "cell_type": "markdown",
      "source": [
        "The above figure shows that the dataset contains 319795 samples. Also, all attributes contain all 319795 non-null values, meaning that all null values have been treated. Furthermore, the variables in the dataset are a mixture of numerical values and objects (string data type in this dataset). The objects were examined to understand the nature of the dataset better."
      ],
      "metadata": {
        "id": "CuUMI4zMr5T-"
      }
    },
    {
      "cell_type": "code",
      "source": [
        "# Show categories and their respective counts\n",
        "\n",
        "# List of all object type variables in the dataset\n",
        "object_variables = [\"HeartDisease\", \"Smoking\", \"AlcoholDrinking\", \"Stroke\", \"DiffWalking\", \"Sex\", \"AgeCategory\", \"Race\", \"Diabetic\", \"PhysicalActivity\", \"GenHealth\", \"Asthma\", \"KidneyDisease\", \"SkinCancer\"]\n",
        "\n",
        "# Loop to visualize counts of object type variables\n",
        "for obj_var in object_variables:\n",
        "    print(heart_disease[obj_var].value_counts())"
      ],
      "metadata": {
        "id": "q7b8qpmDX3av",
        "colab": {
          "base_uri": "https://localhost:8080/"
        },
        "outputId": "e092b322-ed01-42dd-c3ce-688bf9776fc8"
      },
      "execution_count": null,
      "outputs": [
        {
          "output_type": "stream",
          "name": "stdout",
          "text": [
            "No     292422\n",
            "Yes     27373\n",
            "Name: HeartDisease, dtype: int64\n",
            "No     187887\n",
            "Yes    131908\n",
            "Name: Smoking, dtype: int64\n",
            "No     298018\n",
            "Yes     21777\n",
            "Name: AlcoholDrinking, dtype: int64\n",
            "No     307726\n",
            "Yes     12069\n",
            "Name: Stroke, dtype: int64\n",
            "No     275385\n",
            "Yes     44410\n",
            "Name: DiffWalking, dtype: int64\n",
            "Female    167805\n",
            "Male      151990\n",
            "Name: Sex, dtype: int64\n",
            "65-69          34151\n",
            "60-64          33686\n",
            "70-74          31065\n",
            "55-59          29757\n",
            "50-54          25382\n",
            "80 or older    24153\n",
            "45-49          21791\n",
            "75-79          21482\n",
            "18-24          21064\n",
            "40-44          21006\n",
            "35-39          20550\n",
            "30-34          18753\n",
            "25-29          16955\n",
            "Name: AgeCategory, dtype: int64\n",
            "White                             245212\n",
            "Hispanic                           27446\n",
            "Black                              22939\n",
            "Other                              10928\n",
            "Asian                               8068\n",
            "American Indian/Alaskan Native      5202\n",
            "Name: Race, dtype: int64\n",
            "No                         269653\n",
            "Yes                         40802\n",
            "No, borderline diabetes      6781\n",
            "Yes (during pregnancy)       2559\n",
            "Name: Diabetic, dtype: int64\n",
            "Yes    247957\n",
            "No      71838\n",
            "Name: PhysicalActivity, dtype: int64\n",
            "Very good    113858\n",
            "Good          93129\n",
            "Excellent     66842\n",
            "Fair          34677\n",
            "Poor          11289\n",
            "Name: GenHealth, dtype: int64\n",
            "No     276923\n",
            "Yes     42872\n",
            "Name: Asthma, dtype: int64\n",
            "No     308016\n",
            "Yes     11779\n",
            "Name: KidneyDisease, dtype: int64\n",
            "No     289976\n",
            "Yes     29819\n",
            "Name: SkinCancer, dtype: int64\n"
          ]
        }
      ]
    },
    {
      "cell_type": "markdown",
      "source": [
        "The above counts show that the values of the objects are repetitive, meaning they are most likely categorical. They will be considered categorical for subsequent processing in this report. It also shows what categories exist and how many districts belong to each category. A pivotal piece of information to observe is the enormous disparity between the number of respondents diagnosed with heart disease and those that have not (No = 292422 vs. Yes = 27373). The preprocessing phase addresses this imbalance."
      ],
      "metadata": {
        "id": "k5vwy0yCsHDL"
      }
    },
    {
      "cell_type": "code",
      "source": [
        "# Show a summary of the numerical attributes\n",
        "heart_disease.describe()"
      ],
      "metadata": {
        "id": "uhax1xExX5s4",
        "colab": {
          "base_uri": "https://localhost:8080/",
          "height": 300
        },
        "outputId": "90aab2d9-99f8-411a-fb8f-6307cc5035d0"
      },
      "execution_count": null,
      "outputs": [
        {
          "output_type": "execute_result",
          "data": {
            "text/plain": [
              "                 BMI  PhysicalHealth   MentalHealth      SleepTime\n",
              "count  319795.000000    319795.00000  319795.000000  319795.000000\n",
              "mean       28.325399         3.37171       3.898366       7.097075\n",
              "std         6.356100         7.95085       7.955235       1.436007\n",
              "min        12.020000         0.00000       0.000000       1.000000\n",
              "25%        24.030000         0.00000       0.000000       6.000000\n",
              "50%        27.340000         0.00000       0.000000       7.000000\n",
              "75%        31.420000         2.00000       3.000000       8.000000\n",
              "max        94.850000        30.00000      30.000000      24.000000"
            ],
            "text/html": [
              "\n",
              "  <div id=\"df-742d8828-4ea2-406e-b2c2-cc7d5b1680f3\">\n",
              "    <div class=\"colab-df-container\">\n",
              "      <div>\n",
              "<style scoped>\n",
              "    .dataframe tbody tr th:only-of-type {\n",
              "        vertical-align: middle;\n",
              "    }\n",
              "\n",
              "    .dataframe tbody tr th {\n",
              "        vertical-align: top;\n",
              "    }\n",
              "\n",
              "    .dataframe thead th {\n",
              "        text-align: right;\n",
              "    }\n",
              "</style>\n",
              "<table border=\"1\" class=\"dataframe\">\n",
              "  <thead>\n",
              "    <tr style=\"text-align: right;\">\n",
              "      <th></th>\n",
              "      <th>BMI</th>\n",
              "      <th>PhysicalHealth</th>\n",
              "      <th>MentalHealth</th>\n",
              "      <th>SleepTime</th>\n",
              "    </tr>\n",
              "  </thead>\n",
              "  <tbody>\n",
              "    <tr>\n",
              "      <th>count</th>\n",
              "      <td>319795.000000</td>\n",
              "      <td>319795.00000</td>\n",
              "      <td>319795.000000</td>\n",
              "      <td>319795.000000</td>\n",
              "    </tr>\n",
              "    <tr>\n",
              "      <th>mean</th>\n",
              "      <td>28.325399</td>\n",
              "      <td>3.37171</td>\n",
              "      <td>3.898366</td>\n",
              "      <td>7.097075</td>\n",
              "    </tr>\n",
              "    <tr>\n",
              "      <th>std</th>\n",
              "      <td>6.356100</td>\n",
              "      <td>7.95085</td>\n",
              "      <td>7.955235</td>\n",
              "      <td>1.436007</td>\n",
              "    </tr>\n",
              "    <tr>\n",
              "      <th>min</th>\n",
              "      <td>12.020000</td>\n",
              "      <td>0.00000</td>\n",
              "      <td>0.000000</td>\n",
              "      <td>1.000000</td>\n",
              "    </tr>\n",
              "    <tr>\n",
              "      <th>25%</th>\n",
              "      <td>24.030000</td>\n",
              "      <td>0.00000</td>\n",
              "      <td>0.000000</td>\n",
              "      <td>6.000000</td>\n",
              "    </tr>\n",
              "    <tr>\n",
              "      <th>50%</th>\n",
              "      <td>27.340000</td>\n",
              "      <td>0.00000</td>\n",
              "      <td>0.000000</td>\n",
              "      <td>7.000000</td>\n",
              "    </tr>\n",
              "    <tr>\n",
              "      <th>75%</th>\n",
              "      <td>31.420000</td>\n",
              "      <td>2.00000</td>\n",
              "      <td>3.000000</td>\n",
              "      <td>8.000000</td>\n",
              "    </tr>\n",
              "    <tr>\n",
              "      <th>max</th>\n",
              "      <td>94.850000</td>\n",
              "      <td>30.00000</td>\n",
              "      <td>30.000000</td>\n",
              "      <td>24.000000</td>\n",
              "    </tr>\n",
              "  </tbody>\n",
              "</table>\n",
              "</div>\n",
              "      <button class=\"colab-df-convert\" onclick=\"convertToInteractive('df-742d8828-4ea2-406e-b2c2-cc7d5b1680f3')\"\n",
              "              title=\"Convert this dataframe to an interactive table.\"\n",
              "              style=\"display:none;\">\n",
              "        \n",
              "  <svg xmlns=\"http://www.w3.org/2000/svg\" height=\"24px\"viewBox=\"0 0 24 24\"\n",
              "       width=\"24px\">\n",
              "    <path d=\"M0 0h24v24H0V0z\" fill=\"none\"/>\n",
              "    <path d=\"M18.56 5.44l.94 2.06.94-2.06 2.06-.94-2.06-.94-.94-2.06-.94 2.06-2.06.94zm-11 1L8.5 8.5l.94-2.06 2.06-.94-2.06-.94L8.5 2.5l-.94 2.06-2.06.94zm10 10l.94 2.06.94-2.06 2.06-.94-2.06-.94-.94-2.06-.94 2.06-2.06.94z\"/><path d=\"M17.41 7.96l-1.37-1.37c-.4-.4-.92-.59-1.43-.59-.52 0-1.04.2-1.43.59L10.3 9.45l-7.72 7.72c-.78.78-.78 2.05 0 2.83L4 21.41c.39.39.9.59 1.41.59.51 0 1.02-.2 1.41-.59l7.78-7.78 2.81-2.81c.8-.78.8-2.07 0-2.86zM5.41 20L4 18.59l7.72-7.72 1.47 1.35L5.41 20z\"/>\n",
              "  </svg>\n",
              "      </button>\n",
              "      \n",
              "  <style>\n",
              "    .colab-df-container {\n",
              "      display:flex;\n",
              "      flex-wrap:wrap;\n",
              "      gap: 12px;\n",
              "    }\n",
              "\n",
              "    .colab-df-convert {\n",
              "      background-color: #E8F0FE;\n",
              "      border: none;\n",
              "      border-radius: 50%;\n",
              "      cursor: pointer;\n",
              "      display: none;\n",
              "      fill: #1967D2;\n",
              "      height: 32px;\n",
              "      padding: 0 0 0 0;\n",
              "      width: 32px;\n",
              "    }\n",
              "\n",
              "    .colab-df-convert:hover {\n",
              "      background-color: #E2EBFA;\n",
              "      box-shadow: 0px 1px 2px rgba(60, 64, 67, 0.3), 0px 1px 3px 1px rgba(60, 64, 67, 0.15);\n",
              "      fill: #174EA6;\n",
              "    }\n",
              "\n",
              "    [theme=dark] .colab-df-convert {\n",
              "      background-color: #3B4455;\n",
              "      fill: #D2E3FC;\n",
              "    }\n",
              "\n",
              "    [theme=dark] .colab-df-convert:hover {\n",
              "      background-color: #434B5C;\n",
              "      box-shadow: 0px 1px 3px 1px rgba(0, 0, 0, 0.15);\n",
              "      filter: drop-shadow(0px 1px 2px rgba(0, 0, 0, 0.3));\n",
              "      fill: #FFFFFF;\n",
              "    }\n",
              "  </style>\n",
              "\n",
              "      <script>\n",
              "        const buttonEl =\n",
              "          document.querySelector('#df-742d8828-4ea2-406e-b2c2-cc7d5b1680f3 button.colab-df-convert');\n",
              "        buttonEl.style.display =\n",
              "          google.colab.kernel.accessAllowed ? 'block' : 'none';\n",
              "\n",
              "        async function convertToInteractive(key) {\n",
              "          const element = document.querySelector('#df-742d8828-4ea2-406e-b2c2-cc7d5b1680f3');\n",
              "          const dataTable =\n",
              "            await google.colab.kernel.invokeFunction('convertToInteractive',\n",
              "                                                     [key], {});\n",
              "          if (!dataTable) return;\n",
              "\n",
              "          const docLinkHtml = 'Like what you see? Visit the ' +\n",
              "            '<a target=\"_blank\" href=https://colab.research.google.com/notebooks/data_table.ipynb>data table notebook</a>'\n",
              "            + ' to learn more about interactive tables.';\n",
              "          element.innerHTML = '';\n",
              "          dataTable['output_type'] = 'display_data';\n",
              "          await google.colab.output.renderOutput(dataTable, element);\n",
              "          const docLink = document.createElement('div');\n",
              "          docLink.innerHTML = docLinkHtml;\n",
              "          element.appendChild(docLink);\n",
              "        }\n",
              "      </script>\n",
              "    </div>\n",
              "  </div>\n",
              "  "
            ]
          },
          "metadata": {},
          "execution_count": 6
        }
      ]
    },
    {
      "cell_type": "markdown",
      "source": [
        "The above figure shows common statistical characteristics of the numerical variables in the dataset.\n",
        "- std: This row shows the standard deviation, which measures how dispersed the values are.\n",
        "- 25%, 50%, 75% (1st quartile, median, third quartile): Showing the corresponding percentiles, which indicates the values below which a given percentage of observations fall in a group of observations."
      ],
      "metadata": {
        "id": "yGPG7gI2sMwo"
      }
    },
    {
      "cell_type": "code",
      "source": [
        "# Histogram plot of each numerical variable in the dataset\n",
        "heart_disease.hist(bins=50, figsize=(15,10))\n",
        "plt.show()"
      ],
      "metadata": {
        "id": "vLcc1uIfYQOc",
        "colab": {
          "base_uri": "https://localhost:8080/",
          "height": 608
        },
        "outputId": "140d4c30-5f0c-4f9f-c438-3d77148720ae"
      },
      "execution_count": null,
      "outputs": [
        {
          "output_type": "display_data",
          "data": {
            "text/plain": [
              "<Figure size 1080x720 with 4 Axes>"
            ],
            "image/png": "[encoded data removed]"
          },
          "metadata": {
            "needs_background": "light"
          }
        }
      ]
    },
    {
      "cell_type": "code",
      "source": [
        "# Pairplot of all numerical columns \n",
        "sns.pairplot(heart_disease, hue= 'HeartDisease');"
      ],
      "metadata": {
        "id": "JZdZg1QzDlBs",
        "colab": {
          "base_uri": "https://localhost:8080/",
          "height": 1000
        },
        "outputId": "f2a78be8-a7c6-43b0-c6b7-0e6aa1624929"
      },
      "execution_count": null,
      "outputs": [
        {
          "output_type": "error",
          "ename": "KeyboardInterrupt",
          "evalue": "ignored",
          "traceback": [
            "\u001b[0;31m---------------------------------------------------------------------------\u001b[0m",
            "\u001b[0;31mKeyboardInterrupt\u001b[0m                         Traceback (most recent call last)",
            "\u001b[0;32m<ipython-input-8-59913ce1903b>\u001b[0m in \u001b[0;36m<module>\u001b[0;34m()\u001b[0m\n\u001b[1;32m      1\u001b[0m \u001b[0;31m# Pairplot of all numerical columns\u001b[0m\u001b[0;34m\u001b[0m\u001b[0;34m\u001b[0m\u001b[0;34m\u001b[0m\u001b[0m\n\u001b[0;32m----> 2\u001b[0;31m \u001b[0msns\u001b[0m\u001b[0;34m.\u001b[0m\u001b[0mpairplot\u001b[0m\u001b[0;34m(\u001b[0m\u001b[0mheart_disease\u001b[0m\u001b[0;34m,\u001b[0m \u001b[0mhue\u001b[0m\u001b[0;34m=\u001b[0m \u001b[0;34m'HeartDisease'\u001b[0m\u001b[0;34m)\u001b[0m\u001b[0;34m;\u001b[0m\u001b[0;34m\u001b[0m\u001b[0;34m\u001b[0m\u001b[0m\n\u001b[0m",
            "\u001b[0;32m/usr/local/lib/python3.7/dist-packages/seaborn/_decorators.py\u001b[0m in \u001b[0;36minner_f\u001b[0;34m(*args, **kwargs)\u001b[0m\n\u001b[1;32m     44\u001b[0m             )\n\u001b[1;32m     45\u001b[0m         \u001b[0mkwargs\u001b[0m\u001b[0;34m.\u001b[0m\u001b[0mupdate\u001b[0m\u001b[0;34m(\u001b[0m\u001b[0;34m{\u001b[0m\u001b[0mk\u001b[0m\u001b[0;34m:\u001b[0m \u001b[0marg\u001b[0m \u001b[0;32mfor\u001b[0m \u001b[0mk\u001b[0m\u001b[0;34m,\u001b[0m \u001b[0marg\u001b[0m \u001b[0;32min\u001b[0m \u001b[0mzip\u001b[0m\u001b[0;34m(\u001b[0m\u001b[0msig\u001b[0m\u001b[0;34m.\u001b[0m\u001b[0mparameters\u001b[0m\u001b[0;34m,\u001b[0m \u001b[0margs\u001b[0m\u001b[0;34m)\u001b[0m\u001b[0;34m}\u001b[0m\u001b[0;34m)\u001b[0m\u001b[0;34m\u001b[0m\u001b[0;34m\u001b[0m\u001b[0m\n\u001b[0;32m---> 46\u001b[0;31m         \u001b[0;32mreturn\u001b[0m \u001b[0mf\u001b[0m\u001b[0;34m(\u001b[0m\u001b[0;34m**\u001b[0m\u001b[0mkwargs\u001b[0m\u001b[0;34m)\u001b[0m\u001b[0;34m\u001b[0m\u001b[0;34m\u001b[0m\u001b[0m\n\u001b[0m\u001b[1;32m     47\u001b[0m     \u001b[0;32mreturn\u001b[0m \u001b[0minner_f\u001b[0m\u001b[0;34m\u001b[0m\u001b[0;34m\u001b[0m\u001b[0m\n\u001b[1;32m     48\u001b[0m \u001b[0;34m\u001b[0m\u001b[0m\n",
            "\u001b[0;32m/usr/local/lib/python3.7/dist-packages/seaborn/axisgrid.py\u001b[0m in \u001b[0;36mpairplot\u001b[0;34m(data, hue, hue_order, palette, vars, x_vars, y_vars, kind, diag_kind, markers, height, aspect, corner, dropna, plot_kws, diag_kws, grid_kws, size)\u001b[0m\n\u001b[1;32m   2138\u001b[0m     \u001b[0;32mif\u001b[0m \u001b[0mkind\u001b[0m \u001b[0;34m==\u001b[0m \u001b[0;34m\"scatter\"\u001b[0m\u001b[0;34m:\u001b[0m\u001b[0;34m\u001b[0m\u001b[0;34m\u001b[0m\u001b[0m\n\u001b[1;32m   2139\u001b[0m         \u001b[0;32mfrom\u001b[0m \u001b[0;34m.\u001b[0m\u001b[0mrelational\u001b[0m \u001b[0;32mimport\u001b[0m \u001b[0mscatterplot\u001b[0m  \u001b[0;31m# Avoid circular import\u001b[0m\u001b[0;34m\u001b[0m\u001b[0;34m\u001b[0m\u001b[0m\n\u001b[0;32m-> 2140\u001b[0;31m         \u001b[0mplotter\u001b[0m\u001b[0;34m(\u001b[0m\u001b[0mscatterplot\u001b[0m\u001b[0;34m,\u001b[0m \u001b[0;34m**\u001b[0m\u001b[0mplot_kws\u001b[0m\u001b[0;34m)\u001b[0m\u001b[0;34m\u001b[0m\u001b[0;34m\u001b[0m\u001b[0m\n\u001b[0m\u001b[1;32m   2141\u001b[0m     \u001b[0;32melif\u001b[0m \u001b[0mkind\u001b[0m \u001b[0;34m==\u001b[0m \u001b[0;34m\"reg\"\u001b[0m\u001b[0;34m:\u001b[0m\u001b[0;34m\u001b[0m\u001b[0;34m\u001b[0m\u001b[0m\n\u001b[1;32m   2142\u001b[0m         \u001b[0;32mfrom\u001b[0m \u001b[0;34m.\u001b[0m\u001b[0mregression\u001b[0m \u001b[0;32mimport\u001b[0m \u001b[0mregplot\u001b[0m  \u001b[0;31m# Avoid circular import\u001b[0m\u001b[0;34m\u001b[0m\u001b[0;34m\u001b[0m\u001b[0m\n",
            "\u001b[0;32m/usr/local/lib/python3.7/dist-packages/seaborn/axisgrid.py\u001b[0m in \u001b[0;36mmap_offdiag\u001b[0;34m(self, func, **kwargs)\u001b[0m\n\u001b[1;32m   1385\u001b[0m         \"\"\"\n\u001b[1;32m   1386\u001b[0m         \u001b[0;32mif\u001b[0m \u001b[0mself\u001b[0m\u001b[0;34m.\u001b[0m\u001b[0msquare_grid\u001b[0m\u001b[0;34m:\u001b[0m\u001b[0;34m\u001b[0m\u001b[0;34m\u001b[0m\u001b[0m\n\u001b[0;32m-> 1387\u001b[0;31m             \u001b[0mself\u001b[0m\u001b[0;34m.\u001b[0m\u001b[0mmap_lower\u001b[0m\u001b[0;34m(\u001b[0m\u001b[0mfunc\u001b[0m\u001b[0;34m,\u001b[0m \u001b[0;34m**\u001b[0m\u001b[0mkwargs\u001b[0m\u001b[0;34m)\u001b[0m\u001b[0;34m\u001b[0m\u001b[0;34m\u001b[0m\u001b[0m\n\u001b[0m\u001b[1;32m   1388\u001b[0m             \u001b[0;32mif\u001b[0m \u001b[0;32mnot\u001b[0m \u001b[0mself\u001b[0m\u001b[0;34m.\u001b[0m\u001b[0m_corner\u001b[0m\u001b[0;34m:\u001b[0m\u001b[0;34m\u001b[0m\u001b[0;34m\u001b[0m\u001b[0m\n\u001b[1;32m   1389\u001b[0m                 \u001b[0mself\u001b[0m\u001b[0;34m.\u001b[0m\u001b[0mmap_upper\u001b[0m\u001b[0;34m(\u001b[0m\u001b[0mfunc\u001b[0m\u001b[0;34m,\u001b[0m \u001b[0;34m**\u001b[0m\u001b[0mkwargs\u001b[0m\u001b[0;34m)\u001b[0m\u001b[0;34m\u001b[0m\u001b[0;34m\u001b[0m\u001b[0m\n",
            "\u001b[0;32m/usr/local/lib/python3.7/dist-packages/seaborn/axisgrid.py\u001b[0m in \u001b[0;36mmap_lower\u001b[0;34m(self, func, **kwargs)\u001b[0m\n\u001b[1;32m   1355\u001b[0m         \"\"\"\n\u001b[1;32m   1356\u001b[0m         \u001b[0mindices\u001b[0m \u001b[0;34m=\u001b[0m \u001b[0mzip\u001b[0m\u001b[0;34m(\u001b[0m\u001b[0;34m*\u001b[0m\u001b[0mnp\u001b[0m\u001b[0;34m.\u001b[0m\u001b[0mtril_indices_from\u001b[0m\u001b[0;34m(\u001b[0m\u001b[0mself\u001b[0m\u001b[0;34m.\u001b[0m\u001b[0maxes\u001b[0m\u001b[0;34m,\u001b[0m \u001b[0;34m-\u001b[0m\u001b[0;36m1\u001b[0m\u001b[0;34m)\u001b[0m\u001b[0;34m)\u001b[0m\u001b[0;34m\u001b[0m\u001b[0;34m\u001b[0m\u001b[0m\n\u001b[0;32m-> 1357\u001b[0;31m         \u001b[0mself\u001b[0m\u001b[0;34m.\u001b[0m\u001b[0m_map_bivariate\u001b[0m\u001b[0;34m(\u001b[0m\u001b[0mfunc\u001b[0m\u001b[0;34m,\u001b[0m \u001b[0mindices\u001b[0m\u001b[0;34m,\u001b[0m \u001b[0;34m**\u001b[0m\u001b[0mkwargs\u001b[0m\u001b[0;34m)\u001b[0m\u001b[0;34m\u001b[0m\u001b[0;34m\u001b[0m\u001b[0m\n\u001b[0m\u001b[1;32m   1358\u001b[0m         \u001b[0;32mreturn\u001b[0m \u001b[0mself\u001b[0m\u001b[0;34m\u001b[0m\u001b[0;34m\u001b[0m\u001b[0m\n\u001b[1;32m   1359\u001b[0m \u001b[0;34m\u001b[0m\u001b[0m\n",
            "\u001b[0;32m/usr/local/lib/python3.7/dist-packages/seaborn/axisgrid.py\u001b[0m in \u001b[0;36m_map_bivariate\u001b[0;34m(self, func, indices, **kwargs)\u001b[0m\n\u001b[1;32m   1537\u001b[0m             \u001b[0;32mif\u001b[0m \u001b[0max\u001b[0m \u001b[0;32mis\u001b[0m \u001b[0;32mNone\u001b[0m\u001b[0;34m:\u001b[0m  \u001b[0;31m# i.e. we are in corner mode\u001b[0m\u001b[0;34m\u001b[0m\u001b[0;34m\u001b[0m\u001b[0m\n\u001b[1;32m   1538\u001b[0m                 \u001b[0;32mcontinue\u001b[0m\u001b[0;34m\u001b[0m\u001b[0;34m\u001b[0m\u001b[0m\n\u001b[0;32m-> 1539\u001b[0;31m             \u001b[0mself\u001b[0m\u001b[0;34m.\u001b[0m\u001b[0m_plot_bivariate\u001b[0m\u001b[0;34m(\u001b[0m\u001b[0mx_var\u001b[0m\u001b[0;34m,\u001b[0m \u001b[0my_var\u001b[0m\u001b[0;34m,\u001b[0m \u001b[0max\u001b[0m\u001b[0;34m,\u001b[0m \u001b[0mfunc\u001b[0m\u001b[0;34m,\u001b[0m \u001b[0;34m**\u001b[0m\u001b[0mkws\u001b[0m\u001b[0;34m)\u001b[0m\u001b[0;34m\u001b[0m\u001b[0;34m\u001b[0m\u001b[0m\n\u001b[0m\u001b[1;32m   1540\u001b[0m         \u001b[0mself\u001b[0m\u001b[0;34m.\u001b[0m\u001b[0m_add_axis_labels\u001b[0m\u001b[0;34m(\u001b[0m\u001b[0;34m)\u001b[0m\u001b[0;34m\u001b[0m\u001b[0;34m\u001b[0m\u001b[0m\n\u001b[1;32m   1541\u001b[0m \u001b[0;34m\u001b[0m\u001b[0m\n",
            "\u001b[0;32m/usr/local/lib/python3.7/dist-packages/seaborn/axisgrid.py\u001b[0m in \u001b[0;36m_plot_bivariate\u001b[0;34m(self, x_var, y_var, ax, func, **kwargs)\u001b[0m\n\u001b[1;32m   1577\u001b[0m         \u001b[0mkwargs\u001b[0m\u001b[0;34m.\u001b[0m\u001b[0msetdefault\u001b[0m\u001b[0;34m(\u001b[0m\u001b[0;34m\"hue_order\"\u001b[0m\u001b[0;34m,\u001b[0m \u001b[0mself\u001b[0m\u001b[0;34m.\u001b[0m\u001b[0m_hue_order\u001b[0m\u001b[0;34m)\u001b[0m\u001b[0;34m\u001b[0m\u001b[0;34m\u001b[0m\u001b[0m\n\u001b[1;32m   1578\u001b[0m         \u001b[0mkwargs\u001b[0m\u001b[0;34m.\u001b[0m\u001b[0msetdefault\u001b[0m\u001b[0;34m(\u001b[0m\u001b[0;34m\"palette\"\u001b[0m\u001b[0;34m,\u001b[0m \u001b[0mself\u001b[0m\u001b[0;34m.\u001b[0m\u001b[0m_orig_palette\u001b[0m\u001b[0;34m)\u001b[0m\u001b[0;34m\u001b[0m\u001b[0;34m\u001b[0m\u001b[0m\n\u001b[0;32m-> 1579\u001b[0;31m         \u001b[0mfunc\u001b[0m\u001b[0;34m(\u001b[0m\u001b[0mx\u001b[0m\u001b[0;34m=\u001b[0m\u001b[0mx\u001b[0m\u001b[0;34m,\u001b[0m \u001b[0my\u001b[0m\u001b[0;34m=\u001b[0m\u001b[0my\u001b[0m\u001b[0;34m,\u001b[0m \u001b[0;34m**\u001b[0m\u001b[0mkwargs\u001b[0m\u001b[0;34m)\u001b[0m\u001b[0;34m\u001b[0m\u001b[0;34m\u001b[0m\u001b[0m\n\u001b[0m\u001b[1;32m   1580\u001b[0m \u001b[0;34m\u001b[0m\u001b[0m\n\u001b[1;32m   1581\u001b[0m         \u001b[0mself\u001b[0m\u001b[0;34m.\u001b[0m\u001b[0m_update_legend_data\u001b[0m\u001b[0;34m(\u001b[0m\u001b[0max\u001b[0m\u001b[0;34m)\u001b[0m\u001b[0;34m\u001b[0m\u001b[0;34m\u001b[0m\u001b[0m\n",
            "\u001b[0;32m/usr/local/lib/python3.7/dist-packages/seaborn/_decorators.py\u001b[0m in \u001b[0;36minner_f\u001b[0;34m(*args, **kwargs)\u001b[0m\n\u001b[1;32m     44\u001b[0m             )\n\u001b[1;32m     45\u001b[0m         \u001b[0mkwargs\u001b[0m\u001b[0;34m.\u001b[0m\u001b[0mupdate\u001b[0m\u001b[0;34m(\u001b[0m\u001b[0;34m{\u001b[0m\u001b[0mk\u001b[0m\u001b[0;34m:\u001b[0m \u001b[0marg\u001b[0m \u001b[0;32mfor\u001b[0m \u001b[0mk\u001b[0m\u001b[0;34m,\u001b[0m \u001b[0marg\u001b[0m \u001b[0;32min\u001b[0m \u001b[0mzip\u001b[0m\u001b[0;34m(\u001b[0m\u001b[0msig\u001b[0m\u001b[0;34m.\u001b[0m\u001b[0mparameters\u001b[0m\u001b[0;34m,\u001b[0m \u001b[0margs\u001b[0m\u001b[0;34m)\u001b[0m\u001b[0;34m}\u001b[0m\u001b[0;34m)\u001b[0m\u001b[0;34m\u001b[0m\u001b[0;34m\u001b[0m\u001b[0m\n\u001b[0;32m---> 46\u001b[0;31m         \u001b[0;32mreturn\u001b[0m \u001b[0mf\u001b[0m\u001b[0;34m(\u001b[0m\u001b[0;34m**\u001b[0m\u001b[0mkwargs\u001b[0m\u001b[0;34m)\u001b[0m\u001b[0;34m\u001b[0m\u001b[0;34m\u001b[0m\u001b[0m\n\u001b[0m\u001b[1;32m     47\u001b[0m     \u001b[0;32mreturn\u001b[0m \u001b[0minner_f\u001b[0m\u001b[0;34m\u001b[0m\u001b[0;34m\u001b[0m\u001b[0m\n\u001b[1;32m     48\u001b[0m \u001b[0;34m\u001b[0m\u001b[0m\n",
            "\u001b[0;32m/usr/local/lib/python3.7/dist-packages/seaborn/relational.py\u001b[0m in \u001b[0;36mscatterplot\u001b[0;34m(x, y, hue, style, size, data, palette, hue_order, hue_norm, sizes, size_order, size_norm, markers, style_order, x_bins, y_bins, units, estimator, ci, n_boot, alpha, x_jitter, y_jitter, legend, ax, **kwargs)\u001b[0m\n\u001b[1;32m    825\u001b[0m     \u001b[0mp\u001b[0m\u001b[0;34m.\u001b[0m\u001b[0m_attach\u001b[0m\u001b[0;34m(\u001b[0m\u001b[0max\u001b[0m\u001b[0;34m)\u001b[0m\u001b[0;34m\u001b[0m\u001b[0;34m\u001b[0m\u001b[0m\n\u001b[1;32m    826\u001b[0m \u001b[0;34m\u001b[0m\u001b[0m\n\u001b[0;32m--> 827\u001b[0;31m     \u001b[0mp\u001b[0m\u001b[0;34m.\u001b[0m\u001b[0mplot\u001b[0m\u001b[0;34m(\u001b[0m\u001b[0max\u001b[0m\u001b[0;34m,\u001b[0m \u001b[0mkwargs\u001b[0m\u001b[0;34m)\u001b[0m\u001b[0;34m\u001b[0m\u001b[0;34m\u001b[0m\u001b[0m\n\u001b[0m\u001b[1;32m    828\u001b[0m \u001b[0;34m\u001b[0m\u001b[0m\n\u001b[1;32m    829\u001b[0m     \u001b[0;32mreturn\u001b[0m \u001b[0max\u001b[0m\u001b[0;34m\u001b[0m\u001b[0;34m\u001b[0m\u001b[0m\n",
            "\u001b[0;32m/usr/local/lib/python3.7/dist-packages/seaborn/relational.py\u001b[0m in \u001b[0;36mplot\u001b[0;34m(self, ax, kws)\u001b[0m\n\u001b[1;32m    615\u001b[0m         \u001b[0;31m# --- Determine the visual attributes of the plot\u001b[0m\u001b[0;34m\u001b[0m\u001b[0;34m\u001b[0m\u001b[0;34m\u001b[0m\u001b[0m\n\u001b[1;32m    616\u001b[0m \u001b[0;34m\u001b[0m\u001b[0m\n\u001b[0;32m--> 617\u001b[0;31m         \u001b[0mdata\u001b[0m \u001b[0;34m=\u001b[0m \u001b[0mself\u001b[0m\u001b[0;34m.\u001b[0m\u001b[0mplot_data\u001b[0m\u001b[0;34m[\u001b[0m\u001b[0mlist\u001b[0m\u001b[0;34m(\u001b[0m\u001b[0mself\u001b[0m\u001b[0;34m.\u001b[0m\u001b[0mvariables\u001b[0m\u001b[0;34m)\u001b[0m\u001b[0;34m]\u001b[0m\u001b[0;34m.\u001b[0m\u001b[0mdropna\u001b[0m\u001b[0;34m(\u001b[0m\u001b[0;34m)\u001b[0m\u001b[0;34m\u001b[0m\u001b[0;34m\u001b[0m\u001b[0m\n\u001b[0m\u001b[1;32m    618\u001b[0m         \u001b[0;32mif\u001b[0m \u001b[0;32mnot\u001b[0m \u001b[0mdata\u001b[0m\u001b[0;34m.\u001b[0m\u001b[0msize\u001b[0m\u001b[0;34m:\u001b[0m\u001b[0;34m\u001b[0m\u001b[0;34m\u001b[0m\u001b[0m\n\u001b[1;32m    619\u001b[0m             \u001b[0;32mreturn\u001b[0m\u001b[0;34m\u001b[0m\u001b[0;34m\u001b[0m\u001b[0m\n",
            "\u001b[0;32m/usr/local/lib/python3.7/dist-packages/pandas/util/_decorators.py\u001b[0m in \u001b[0;36mwrapper\u001b[0;34m(*args, **kwargs)\u001b[0m\n\u001b[1;32m    309\u001b[0m                     \u001b[0mstacklevel\u001b[0m\u001b[0;34m=\u001b[0m\u001b[0mstacklevel\u001b[0m\u001b[0;34m,\u001b[0m\u001b[0;34m\u001b[0m\u001b[0;34m\u001b[0m\u001b[0m\n\u001b[1;32m    310\u001b[0m                 )\n\u001b[0;32m--> 311\u001b[0;31m             \u001b[0;32mreturn\u001b[0m \u001b[0mfunc\u001b[0m\u001b[0;34m(\u001b[0m\u001b[0;34m*\u001b[0m\u001b[0margs\u001b[0m\u001b[0;34m,\u001b[0m \u001b[0;34m**\u001b[0m\u001b[0mkwargs\u001b[0m\u001b[0;34m)\u001b[0m\u001b[0;34m\u001b[0m\u001b[0;34m\u001b[0m\u001b[0m\n\u001b[0m\u001b[1;32m    312\u001b[0m \u001b[0;34m\u001b[0m\u001b[0m\n\u001b[1;32m    313\u001b[0m         \u001b[0;32mreturn\u001b[0m \u001b[0mwrapper\u001b[0m\u001b[0;34m\u001b[0m\u001b[0;34m\u001b[0m\u001b[0m\n",
            "\u001b[0;32m/usr/local/lib/python3.7/dist-packages/pandas/core/frame.py\u001b[0m in \u001b[0;36mdropna\u001b[0;34m(self, axis, how, thresh, subset, inplace)\u001b[0m\n\u001b[1;32m   5959\u001b[0m             \u001b[0mmask\u001b[0m \u001b[0;34m=\u001b[0m \u001b[0mcount\u001b[0m \u001b[0;34m>=\u001b[0m \u001b[0mthresh\u001b[0m\u001b[0;34m\u001b[0m\u001b[0;34m\u001b[0m\u001b[0m\n\u001b[1;32m   5960\u001b[0m         \u001b[0;32melif\u001b[0m \u001b[0mhow\u001b[0m \u001b[0;34m==\u001b[0m \u001b[0;34m\"any\"\u001b[0m\u001b[0;34m:\u001b[0m\u001b[0;34m\u001b[0m\u001b[0;34m\u001b[0m\u001b[0m\n\u001b[0;32m-> 5961\u001b[0;31m             \u001b[0mmask\u001b[0m \u001b[0;34m=\u001b[0m \u001b[0mcount\u001b[0m \u001b[0;34m==\u001b[0m \u001b[0mlen\u001b[0m\u001b[0;34m(\u001b[0m\u001b[0magg_obj\u001b[0m\u001b[0;34m.\u001b[0m\u001b[0m_get_axis\u001b[0m\u001b[0;34m(\u001b[0m\u001b[0magg_axis\u001b[0m\u001b[0;34m)\u001b[0m\u001b[0;34m)\u001b[0m\u001b[0;34m\u001b[0m\u001b[0;34m\u001b[0m\u001b[0m\n\u001b[0m\u001b[1;32m   5962\u001b[0m         \u001b[0;32melif\u001b[0m \u001b[0mhow\u001b[0m \u001b[0;34m==\u001b[0m \u001b[0;34m\"all\"\u001b[0m\u001b[0;34m:\u001b[0m\u001b[0;34m\u001b[0m\u001b[0;34m\u001b[0m\u001b[0m\n\u001b[1;32m   5963\u001b[0m             \u001b[0mmask\u001b[0m \u001b[0;34m=\u001b[0m \u001b[0mcount\u001b[0m \u001b[0;34m>\u001b[0m \u001b[0;36m0\u001b[0m\u001b[0;34m\u001b[0m\u001b[0;34m\u001b[0m\u001b[0m\n",
            "\u001b[0;32m/usr/local/lib/python3.7/dist-packages/pandas/core/ops/common.py\u001b[0m in \u001b[0;36mnew_method\u001b[0;34m(self, other)\u001b[0m\n\u001b[1;32m     67\u001b[0m         \u001b[0mother\u001b[0m \u001b[0;34m=\u001b[0m \u001b[0mitem_from_zerodim\u001b[0m\u001b[0;34m(\u001b[0m\u001b[0mother\u001b[0m\u001b[0;34m)\u001b[0m\u001b[0;34m\u001b[0m\u001b[0;34m\u001b[0m\u001b[0m\n\u001b[1;32m     68\u001b[0m \u001b[0;34m\u001b[0m\u001b[0m\n\u001b[0;32m---> 69\u001b[0;31m         \u001b[0;32mreturn\u001b[0m \u001b[0mmethod\u001b[0m\u001b[0;34m(\u001b[0m\u001b[0mself\u001b[0m\u001b[0;34m,\u001b[0m \u001b[0mother\u001b[0m\u001b[0;34m)\u001b[0m\u001b[0;34m\u001b[0m\u001b[0;34m\u001b[0m\u001b[0m\n\u001b[0m\u001b[1;32m     70\u001b[0m \u001b[0;34m\u001b[0m\u001b[0m\n\u001b[1;32m     71\u001b[0m     \u001b[0;32mreturn\u001b[0m \u001b[0mnew_method\u001b[0m\u001b[0;34m\u001b[0m\u001b[0;34m\u001b[0m\u001b[0m\n",
            "\u001b[0;32m/usr/local/lib/python3.7/dist-packages/pandas/core/arraylike.py\u001b[0m in \u001b[0;36m__eq__\u001b[0;34m(self, other)\u001b[0m\n\u001b[1;32m     30\u001b[0m     \u001b[0;34m@\u001b[0m\u001b[0munpack_zerodim_and_defer\u001b[0m\u001b[0;34m(\u001b[0m\u001b[0;34m\"__eq__\"\u001b[0m\u001b[0;34m)\u001b[0m\u001b[0;34m\u001b[0m\u001b[0;34m\u001b[0m\u001b[0m\n\u001b[1;32m     31\u001b[0m     \u001b[0;32mdef\u001b[0m \u001b[0m__eq__\u001b[0m\u001b[0;34m(\u001b[0m\u001b[0mself\u001b[0m\u001b[0;34m,\u001b[0m \u001b[0mother\u001b[0m\u001b[0;34m)\u001b[0m\u001b[0;34m:\u001b[0m\u001b[0;34m\u001b[0m\u001b[0;34m\u001b[0m\u001b[0m\n\u001b[0;32m---> 32\u001b[0;31m         \u001b[0;32mreturn\u001b[0m \u001b[0mself\u001b[0m\u001b[0;34m.\u001b[0m\u001b[0m_cmp_method\u001b[0m\u001b[0;34m(\u001b[0m\u001b[0mother\u001b[0m\u001b[0;34m,\u001b[0m \u001b[0moperator\u001b[0m\u001b[0;34m.\u001b[0m\u001b[0meq\u001b[0m\u001b[0;34m)\u001b[0m\u001b[0;34m\u001b[0m\u001b[0;34m\u001b[0m\u001b[0m\n\u001b[0m\u001b[1;32m     33\u001b[0m \u001b[0;34m\u001b[0m\u001b[0m\n\u001b[1;32m     34\u001b[0m     \u001b[0;34m@\u001b[0m\u001b[0munpack_zerodim_and_defer\u001b[0m\u001b[0;34m(\u001b[0m\u001b[0;34m\"__ne__\"\u001b[0m\u001b[0;34m)\u001b[0m\u001b[0;34m\u001b[0m\u001b[0;34m\u001b[0m\u001b[0m\n",
            "\u001b[0;32m/usr/local/lib/python3.7/dist-packages/pandas/core/series.py\u001b[0m in \u001b[0;36m_cmp_method\u001b[0;34m(self, other, op)\u001b[0m\n\u001b[1;32m   5502\u001b[0m             \u001b[0mres_values\u001b[0m \u001b[0;34m=\u001b[0m \u001b[0mops\u001b[0m\u001b[0;34m.\u001b[0m\u001b[0mcomparison_op\u001b[0m\u001b[0;34m(\u001b[0m\u001b[0mlvalues\u001b[0m\u001b[0;34m,\u001b[0m \u001b[0mrvalues\u001b[0m\u001b[0;34m,\u001b[0m \u001b[0mop\u001b[0m\u001b[0;34m)\u001b[0m\u001b[0;34m\u001b[0m\u001b[0;34m\u001b[0m\u001b[0m\n\u001b[1;32m   5503\u001b[0m \u001b[0;34m\u001b[0m\u001b[0m\n\u001b[0;32m-> 5504\u001b[0;31m         \u001b[0;32mreturn\u001b[0m \u001b[0mself\u001b[0m\u001b[0;34m.\u001b[0m\u001b[0m_construct_result\u001b[0m\u001b[0;34m(\u001b[0m\u001b[0mres_values\u001b[0m\u001b[0;34m,\u001b[0m \u001b[0mname\u001b[0m\u001b[0;34m=\u001b[0m\u001b[0mres_name\u001b[0m\u001b[0;34m)\u001b[0m\u001b[0;34m\u001b[0m\u001b[0;34m\u001b[0m\u001b[0m\n\u001b[0m\u001b[1;32m   5505\u001b[0m \u001b[0;34m\u001b[0m\u001b[0m\n\u001b[1;32m   5506\u001b[0m     \u001b[0;32mdef\u001b[0m \u001b[0m_logical_method\u001b[0m\u001b[0;34m(\u001b[0m\u001b[0mself\u001b[0m\u001b[0;34m,\u001b[0m \u001b[0mother\u001b[0m\u001b[0;34m,\u001b[0m \u001b[0mop\u001b[0m\u001b[0;34m)\u001b[0m\u001b[0;34m:\u001b[0m\u001b[0;34m\u001b[0m\u001b[0;34m\u001b[0m\u001b[0m\n",
            "\u001b[0;32m/usr/local/lib/python3.7/dist-packages/pandas/core/series.py\u001b[0m in \u001b[0;36m_construct_result\u001b[0;34m(self, result, name)\u001b[0m\n\u001b[1;32m   2943\u001b[0m         \u001b[0;31m# We do not pass dtype to ensure that the Series constructor\u001b[0m\u001b[0;34m\u001b[0m\u001b[0;34m\u001b[0m\u001b[0;34m\u001b[0m\u001b[0m\n\u001b[1;32m   2944\u001b[0m         \u001b[0;31m#  does inference in the case where `result` has object-dtype.\u001b[0m\u001b[0;34m\u001b[0m\u001b[0;34m\u001b[0m\u001b[0;34m\u001b[0m\u001b[0m\n\u001b[0;32m-> 2945\u001b[0;31m         \u001b[0mout\u001b[0m \u001b[0;34m=\u001b[0m \u001b[0mself\u001b[0m\u001b[0;34m.\u001b[0m\u001b[0m_constructor\u001b[0m\u001b[0;34m(\u001b[0m\u001b[0mresult\u001b[0m\u001b[0;34m,\u001b[0m \u001b[0mindex\u001b[0m\u001b[0;34m=\u001b[0m\u001b[0mself\u001b[0m\u001b[0;34m.\u001b[0m\u001b[0mindex\u001b[0m\u001b[0;34m)\u001b[0m\u001b[0;34m\u001b[0m\u001b[0;34m\u001b[0m\u001b[0m\n\u001b[0m\u001b[1;32m   2946\u001b[0m         \u001b[0mout\u001b[0m \u001b[0;34m=\u001b[0m \u001b[0mout\u001b[0m\u001b[0;34m.\u001b[0m\u001b[0m__finalize__\u001b[0m\u001b[0;34m(\u001b[0m\u001b[0mself\u001b[0m\u001b[0;34m)\u001b[0m\u001b[0;34m\u001b[0m\u001b[0;34m\u001b[0m\u001b[0m\n\u001b[1;32m   2947\u001b[0m \u001b[0;34m\u001b[0m\u001b[0m\n",
            "\u001b[0;32m/usr/local/lib/python3.7/dist-packages/pandas/core/series.py\u001b[0m in \u001b[0;36m__init__\u001b[0;34m(self, data, index, dtype, name, copy, fastpath)\u001b[0m\n\u001b[1;32m    446\u001b[0m \u001b[0;34m\u001b[0m\u001b[0m\n\u001b[1;32m    447\u001b[0m         \u001b[0mgeneric\u001b[0m\u001b[0;34m.\u001b[0m\u001b[0mNDFrame\u001b[0m\u001b[0;34m.\u001b[0m\u001b[0m__init__\u001b[0m\u001b[0;34m(\u001b[0m\u001b[0mself\u001b[0m\u001b[0;34m,\u001b[0m \u001b[0mdata\u001b[0m\u001b[0;34m)\u001b[0m\u001b[0;34m\u001b[0m\u001b[0;34m\u001b[0m\u001b[0m\n\u001b[0;32m--> 448\u001b[0;31m         \u001b[0mself\u001b[0m\u001b[0;34m.\u001b[0m\u001b[0mname\u001b[0m \u001b[0;34m=\u001b[0m \u001b[0mname\u001b[0m\u001b[0;34m\u001b[0m\u001b[0;34m\u001b[0m\u001b[0m\n\u001b[0m\u001b[1;32m    449\u001b[0m         \u001b[0mself\u001b[0m\u001b[0;34m.\u001b[0m\u001b[0m_set_axis\u001b[0m\u001b[0;34m(\u001b[0m\u001b[0;36m0\u001b[0m\u001b[0;34m,\u001b[0m \u001b[0mindex\u001b[0m\u001b[0;34m,\u001b[0m \u001b[0mfastpath\u001b[0m\u001b[0;34m=\u001b[0m\u001b[0;32mTrue\u001b[0m\u001b[0;34m)\u001b[0m\u001b[0;34m\u001b[0m\u001b[0;34m\u001b[0m\u001b[0m\n\u001b[1;32m    450\u001b[0m \u001b[0;34m\u001b[0m\u001b[0m\n",
            "\u001b[0;32m/usr/local/lib/python3.7/dist-packages/pandas/core/generic.py\u001b[0m in \u001b[0;36m__setattr__\u001b[0;34m(self, name, value)\u001b[0m\n\u001b[1;32m   5507\u001b[0m             \u001b[0mobject\u001b[0m\u001b[0;34m.\u001b[0m\u001b[0m__setattr__\u001b[0m\u001b[0;34m(\u001b[0m\u001b[0mself\u001b[0m\u001b[0;34m,\u001b[0m \u001b[0mname\u001b[0m\u001b[0;34m,\u001b[0m \u001b[0mvalue\u001b[0m\u001b[0;34m)\u001b[0m\u001b[0;34m\u001b[0m\u001b[0;34m\u001b[0m\u001b[0m\n\u001b[1;32m   5508\u001b[0m         \u001b[0;32melif\u001b[0m \u001b[0mname\u001b[0m \u001b[0;32min\u001b[0m \u001b[0mself\u001b[0m\u001b[0;34m.\u001b[0m\u001b[0m_metadata\u001b[0m\u001b[0;34m:\u001b[0m\u001b[0;34m\u001b[0m\u001b[0;34m\u001b[0m\u001b[0m\n\u001b[0;32m-> 5509\u001b[0;31m             \u001b[0mobject\u001b[0m\u001b[0;34m.\u001b[0m\u001b[0m__setattr__\u001b[0m\u001b[0;34m(\u001b[0m\u001b[0mself\u001b[0m\u001b[0;34m,\u001b[0m \u001b[0mname\u001b[0m\u001b[0;34m,\u001b[0m \u001b[0mvalue\u001b[0m\u001b[0;34m)\u001b[0m\u001b[0;34m\u001b[0m\u001b[0;34m\u001b[0m\u001b[0m\n\u001b[0m\u001b[1;32m   5510\u001b[0m         \u001b[0;32melse\u001b[0m\u001b[0;34m:\u001b[0m\u001b[0;34m\u001b[0m\u001b[0;34m\u001b[0m\u001b[0m\n\u001b[1;32m   5511\u001b[0m             \u001b[0;32mtry\u001b[0m\u001b[0;34m:\u001b[0m\u001b[0;34m\u001b[0m\u001b[0;34m\u001b[0m\u001b[0m\n",
            "\u001b[0;32m/usr/local/lib/python3.7/dist-packages/pandas/core/series.py\u001b[0m in \u001b[0;36mname\u001b[0;34m(self, value)\u001b[0m\n\u001b[1;32m    627\u001b[0m     \u001b[0;34m@\u001b[0m\u001b[0mname\u001b[0m\u001b[0;34m.\u001b[0m\u001b[0msetter\u001b[0m\u001b[0;34m\u001b[0m\u001b[0;34m\u001b[0m\u001b[0m\n\u001b[1;32m    628\u001b[0m     \u001b[0;32mdef\u001b[0m \u001b[0mname\u001b[0m\u001b[0;34m(\u001b[0m\u001b[0mself\u001b[0m\u001b[0;34m,\u001b[0m \u001b[0mvalue\u001b[0m\u001b[0;34m:\u001b[0m \u001b[0mHashable\u001b[0m\u001b[0;34m)\u001b[0m \u001b[0;34m->\u001b[0m \u001b[0;32mNone\u001b[0m\u001b[0;34m:\u001b[0m\u001b[0;34m\u001b[0m\u001b[0;34m\u001b[0m\u001b[0m\n\u001b[0;32m--> 629\u001b[0;31m         \u001b[0mvalidate_all_hashable\u001b[0m\u001b[0;34m(\u001b[0m\u001b[0mvalue\u001b[0m\u001b[0;34m,\u001b[0m \u001b[0merror_name\u001b[0m\u001b[0;34m=\u001b[0m\u001b[0;34mf\"{type(self).__name__}.name\"\u001b[0m\u001b[0;34m)\u001b[0m\u001b[0;34m\u001b[0m\u001b[0;34m\u001b[0m\u001b[0m\n\u001b[0m\u001b[1;32m    630\u001b[0m         \u001b[0mobject\u001b[0m\u001b[0;34m.\u001b[0m\u001b[0m__setattr__\u001b[0m\u001b[0;34m(\u001b[0m\u001b[0mself\u001b[0m\u001b[0;34m,\u001b[0m \u001b[0;34m\"_name\"\u001b[0m\u001b[0;34m,\u001b[0m \u001b[0mvalue\u001b[0m\u001b[0;34m)\u001b[0m\u001b[0;34m\u001b[0m\u001b[0;34m\u001b[0m\u001b[0m\n\u001b[1;32m    631\u001b[0m \u001b[0;34m\u001b[0m\u001b[0m\n",
            "\u001b[0;32m/usr/local/lib/python3.7/dist-packages/pandas/core/dtypes/common.py\u001b[0m in \u001b[0;36mvalidate_all_hashable\u001b[0;34m(error_name, *args)\u001b[0m\n\u001b[1;32m   1735\u001b[0m     \u001b[0;32mNone\u001b[0m\u001b[0;34m\u001b[0m\u001b[0;34m\u001b[0m\u001b[0m\n\u001b[1;32m   1736\u001b[0m     \"\"\"\n\u001b[0;32m-> 1737\u001b[0;31m     \u001b[0;32mif\u001b[0m \u001b[0;32mnot\u001b[0m \u001b[0mall\u001b[0m\u001b[0;34m(\u001b[0m\u001b[0mis_hashable\u001b[0m\u001b[0;34m(\u001b[0m\u001b[0marg\u001b[0m\u001b[0;34m)\u001b[0m \u001b[0;32mfor\u001b[0m \u001b[0marg\u001b[0m \u001b[0;32min\u001b[0m \u001b[0margs\u001b[0m\u001b[0;34m)\u001b[0m\u001b[0;34m:\u001b[0m\u001b[0;34m\u001b[0m\u001b[0;34m\u001b[0m\u001b[0m\n\u001b[0m\u001b[1;32m   1738\u001b[0m         \u001b[0;32mif\u001b[0m \u001b[0merror_name\u001b[0m\u001b[0;34m:\u001b[0m\u001b[0;34m\u001b[0m\u001b[0;34m\u001b[0m\u001b[0m\n\u001b[1;32m   1739\u001b[0m             \u001b[0;32mraise\u001b[0m \u001b[0mTypeError\u001b[0m\u001b[0;34m(\u001b[0m\u001b[0;34mf\"{error_name} must be a hashable type\"\u001b[0m\u001b[0;34m)\u001b[0m\u001b[0;34m\u001b[0m\u001b[0;34m\u001b[0m\u001b[0m\n",
            "\u001b[0;31mKeyboardInterrupt\u001b[0m: "
          ]
        },
        {
          "output_type": "stream",
          "name": "stdout",
          "text": [
            "Error in callback <function install_repl_displayhook.<locals>.post_execute at 0x7f6064b78c20> (for post_execute):\n"
          ]
        },
        {
          "output_type": "error",
          "ename": "KeyboardInterrupt",
          "evalue": "ignored",
          "traceback": [
            "\u001b[0;31m---------------------------------------------------------------------------\u001b[0m",
            "\u001b[0;31mKeyboardInterrupt\u001b[0m                         Traceback (most recent call last)",
            "\u001b[0;32m/usr/local/lib/python3.7/dist-packages/matplotlib/pyplot.py\u001b[0m in \u001b[0;36mpost_execute\u001b[0;34m()\u001b[0m\n\u001b[1;32m    107\u001b[0m             \u001b[0;32mdef\u001b[0m \u001b[0mpost_execute\u001b[0m\u001b[0;34m(\u001b[0m\u001b[0;34m)\u001b[0m\u001b[0;34m:\u001b[0m\u001b[0;34m\u001b[0m\u001b[0;34m\u001b[0m\u001b[0m\n\u001b[1;32m    108\u001b[0m                 \u001b[0;32mif\u001b[0m \u001b[0mmatplotlib\u001b[0m\u001b[0;34m.\u001b[0m\u001b[0mis_interactive\u001b[0m\u001b[0;34m(\u001b[0m\u001b[0;34m)\u001b[0m\u001b[0;34m:\u001b[0m\u001b[0;34m\u001b[0m\u001b[0;34m\u001b[0m\u001b[0m\n\u001b[0;32m--> 109\u001b[0;31m                     \u001b[0mdraw_all\u001b[0m\u001b[0;34m(\u001b[0m\u001b[0;34m)\u001b[0m\u001b[0;34m\u001b[0m\u001b[0;34m\u001b[0m\u001b[0m\n\u001b[0m\u001b[1;32m    110\u001b[0m \u001b[0;34m\u001b[0m\u001b[0m\n\u001b[1;32m    111\u001b[0m             \u001b[0;31m# IPython >= 2\u001b[0m\u001b[0;34m\u001b[0m\u001b[0;34m\u001b[0m\u001b[0;34m\u001b[0m\u001b[0m\n",
            "\u001b[0;32m/usr/local/lib/python3.7/dist-packages/matplotlib/_pylab_helpers.py\u001b[0m in \u001b[0;36mdraw_all\u001b[0;34m(cls, force)\u001b[0m\n\u001b[1;32m    125\u001b[0m         \u001b[0;32mfor\u001b[0m \u001b[0mf_mgr\u001b[0m \u001b[0;32min\u001b[0m \u001b[0mcls\u001b[0m\u001b[0;34m.\u001b[0m\u001b[0mget_all_fig_managers\u001b[0m\u001b[0;34m(\u001b[0m\u001b[0;34m)\u001b[0m\u001b[0;34m:\u001b[0m\u001b[0;34m\u001b[0m\u001b[0;34m\u001b[0m\u001b[0m\n\u001b[1;32m    126\u001b[0m             \u001b[0;32mif\u001b[0m \u001b[0mforce\u001b[0m \u001b[0;32mor\u001b[0m \u001b[0mf_mgr\u001b[0m\u001b[0;34m.\u001b[0m\u001b[0mcanvas\u001b[0m\u001b[0;34m.\u001b[0m\u001b[0mfigure\u001b[0m\u001b[0;34m.\u001b[0m\u001b[0mstale\u001b[0m\u001b[0;34m:\u001b[0m\u001b[0;34m\u001b[0m\u001b[0;34m\u001b[0m\u001b[0m\n\u001b[0;32m--> 127\u001b[0;31m                 \u001b[0mf_mgr\u001b[0m\u001b[0;34m.\u001b[0m\u001b[0mcanvas\u001b[0m\u001b[0;34m.\u001b[0m\u001b[0mdraw_idle\u001b[0m\u001b[0;34m(\u001b[0m\u001b[0;34m)\u001b[0m\u001b[0;34m\u001b[0m\u001b[0;34m\u001b[0m\u001b[0m\n\u001b[0m\u001b[1;32m    128\u001b[0m \u001b[0;34m\u001b[0m\u001b[0m\n\u001b[1;32m    129\u001b[0m \u001b[0matexit\u001b[0m\u001b[0;34m.\u001b[0m\u001b[0mregister\u001b[0m\u001b[0;34m(\u001b[0m\u001b[0mGcf\u001b[0m\u001b[0;34m.\u001b[0m\u001b[0mdestroy_all\u001b[0m\u001b[0;34m)\u001b[0m\u001b[0;34m\u001b[0m\u001b[0;34m\u001b[0m\u001b[0m\n",
            "\u001b[0;32m/usr/local/lib/python3.7/dist-packages/matplotlib/backend_bases.py\u001b[0m in \u001b[0;36mdraw_idle\u001b[0;34m(self, *args, **kwargs)\u001b[0m\n\u001b[1;32m   1945\u001b[0m         \u001b[0;32mif\u001b[0m \u001b[0;32mnot\u001b[0m \u001b[0mself\u001b[0m\u001b[0;34m.\u001b[0m\u001b[0m_is_idle_drawing\u001b[0m\u001b[0;34m:\u001b[0m\u001b[0;34m\u001b[0m\u001b[0;34m\u001b[0m\u001b[0m\n\u001b[1;32m   1946\u001b[0m             \u001b[0;32mwith\u001b[0m \u001b[0mself\u001b[0m\u001b[0;34m.\u001b[0m\u001b[0m_idle_draw_cntx\u001b[0m\u001b[0;34m(\u001b[0m\u001b[0;34m)\u001b[0m\u001b[0;34m:\u001b[0m\u001b[0;34m\u001b[0m\u001b[0;34m\u001b[0m\u001b[0m\n\u001b[0;32m-> 1947\u001b[0;31m                 \u001b[0mself\u001b[0m\u001b[0;34m.\u001b[0m\u001b[0mdraw\u001b[0m\u001b[0;34m(\u001b[0m\u001b[0;34m*\u001b[0m\u001b[0margs\u001b[0m\u001b[0;34m,\u001b[0m \u001b[0;34m**\u001b[0m\u001b[0mkwargs\u001b[0m\u001b[0;34m)\u001b[0m\u001b[0;34m\u001b[0m\u001b[0;34m\u001b[0m\u001b[0m\n\u001b[0m\u001b[1;32m   1948\u001b[0m \u001b[0;34m\u001b[0m\u001b[0m\n\u001b[1;32m   1949\u001b[0m     \u001b[0;34m@\u001b[0m\u001b[0mcbook\u001b[0m\u001b[0;34m.\u001b[0m\u001b[0mdeprecated\u001b[0m\u001b[0;34m(\u001b[0m\u001b[0;34m\"3.2\"\u001b[0m\u001b[0;34m)\u001b[0m\u001b[0;34m\u001b[0m\u001b[0;34m\u001b[0m\u001b[0m\n",
            "\u001b[0;32m/usr/local/lib/python3.7/dist-packages/matplotlib/backends/backend_agg.py\u001b[0m in \u001b[0;36mdraw\u001b[0;34m(self)\u001b[0m\n\u001b[1;32m    391\u001b[0m              (self.toolbar._wait_cursor_for_draw_cm() if self.toolbar\n\u001b[1;32m    392\u001b[0m               else nullcontext()):\n\u001b[0;32m--> 393\u001b[0;31m             \u001b[0mself\u001b[0m\u001b[0;34m.\u001b[0m\u001b[0mfigure\u001b[0m\u001b[0;34m.\u001b[0m\u001b[0mdraw\u001b[0m\u001b[0;34m(\u001b[0m\u001b[0mself\u001b[0m\u001b[0;34m.\u001b[0m\u001b[0mrenderer\u001b[0m\u001b[0;34m)\u001b[0m\u001b[0;34m\u001b[0m\u001b[0;34m\u001b[0m\u001b[0m\n\u001b[0m\u001b[1;32m    394\u001b[0m             \u001b[0;31m# A GUI class may be need to update a window using this draw, so\u001b[0m\u001b[0;34m\u001b[0m\u001b[0;34m\u001b[0m\u001b[0;34m\u001b[0m\u001b[0m\n\u001b[1;32m    395\u001b[0m             \u001b[0;31m# don't forget to call the superclass.\u001b[0m\u001b[0;34m\u001b[0m\u001b[0;34m\u001b[0m\u001b[0;34m\u001b[0m\u001b[0m\n",
            "\u001b[0;32m/usr/local/lib/python3.7/dist-packages/matplotlib/artist.py\u001b[0m in \u001b[0;36mdraw_wrapper\u001b[0;34m(artist, renderer, *args, **kwargs)\u001b[0m\n\u001b[1;32m     36\u001b[0m                 \u001b[0mrenderer\u001b[0m\u001b[0;34m.\u001b[0m\u001b[0mstart_filter\u001b[0m\u001b[0;34m(\u001b[0m\u001b[0;34m)\u001b[0m\u001b[0;34m\u001b[0m\u001b[0;34m\u001b[0m\u001b[0m\n\u001b[1;32m     37\u001b[0m \u001b[0;34m\u001b[0m\u001b[0m\n\u001b[0;32m---> 38\u001b[0;31m             \u001b[0;32mreturn\u001b[0m \u001b[0mdraw\u001b[0m\u001b[0;34m(\u001b[0m\u001b[0martist\u001b[0m\u001b[0;34m,\u001b[0m \u001b[0mrenderer\u001b[0m\u001b[0;34m,\u001b[0m \u001b[0;34m*\u001b[0m\u001b[0margs\u001b[0m\u001b[0;34m,\u001b[0m \u001b[0;34m**\u001b[0m\u001b[0mkwargs\u001b[0m\u001b[0;34m)\u001b[0m\u001b[0;34m\u001b[0m\u001b[0;34m\u001b[0m\u001b[0m\n\u001b[0m\u001b[1;32m     39\u001b[0m         \u001b[0;32mfinally\u001b[0m\u001b[0;34m:\u001b[0m\u001b[0;34m\u001b[0m\u001b[0;34m\u001b[0m\u001b[0m\n\u001b[1;32m     40\u001b[0m             \u001b[0;32mif\u001b[0m \u001b[0martist\u001b[0m\u001b[0;34m.\u001b[0m\u001b[0mget_agg_filter\u001b[0m\u001b[0;34m(\u001b[0m\u001b[0;34m)\u001b[0m \u001b[0;32mis\u001b[0m \u001b[0;32mnot\u001b[0m \u001b[0;32mNone\u001b[0m\u001b[0;34m:\u001b[0m\u001b[0;34m\u001b[0m\u001b[0;34m\u001b[0m\u001b[0m\n",
            "\u001b[0;32m/usr/local/lib/python3.7/dist-packages/matplotlib/figure.py\u001b[0m in \u001b[0;36mdraw\u001b[0;34m(self, renderer)\u001b[0m\n\u001b[1;32m   1734\u001b[0m             \u001b[0mself\u001b[0m\u001b[0;34m.\u001b[0m\u001b[0mpatch\u001b[0m\u001b[0;34m.\u001b[0m\u001b[0mdraw\u001b[0m\u001b[0;34m(\u001b[0m\u001b[0mrenderer\u001b[0m\u001b[0;34m)\u001b[0m\u001b[0;34m\u001b[0m\u001b[0;34m\u001b[0m\u001b[0m\n\u001b[1;32m   1735\u001b[0m             mimage._draw_list_compositing_images(\n\u001b[0;32m-> 1736\u001b[0;31m                 renderer, self, artists, self.suppressComposite)\n\u001b[0m\u001b[1;32m   1737\u001b[0m \u001b[0;34m\u001b[0m\u001b[0m\n\u001b[1;32m   1738\u001b[0m             \u001b[0mrenderer\u001b[0m\u001b[0;34m.\u001b[0m\u001b[0mclose_group\u001b[0m\u001b[0;34m(\u001b[0m\u001b[0;34m'figure'\u001b[0m\u001b[0;34m)\u001b[0m\u001b[0;34m\u001b[0m\u001b[0;34m\u001b[0m\u001b[0m\n",
            "\u001b[0;32m/usr/local/lib/python3.7/dist-packages/matplotlib/image.py\u001b[0m in \u001b[0;36m_draw_list_compositing_images\u001b[0;34m(renderer, parent, artists, suppress_composite)\u001b[0m\n\u001b[1;32m    135\u001b[0m     \u001b[0;32mif\u001b[0m \u001b[0mnot_composite\u001b[0m \u001b[0;32mor\u001b[0m \u001b[0;32mnot\u001b[0m \u001b[0mhas_images\u001b[0m\u001b[0;34m:\u001b[0m\u001b[0;34m\u001b[0m\u001b[0;34m\u001b[0m\u001b[0m\n\u001b[1;32m    136\u001b[0m         \u001b[0;32mfor\u001b[0m \u001b[0ma\u001b[0m \u001b[0;32min\u001b[0m \u001b[0martists\u001b[0m\u001b[0;34m:\u001b[0m\u001b[0;34m\u001b[0m\u001b[0;34m\u001b[0m\u001b[0m\n\u001b[0;32m--> 137\u001b[0;31m             \u001b[0ma\u001b[0m\u001b[0;34m.\u001b[0m\u001b[0mdraw\u001b[0m\u001b[0;34m(\u001b[0m\u001b[0mrenderer\u001b[0m\u001b[0;34m)\u001b[0m\u001b[0;34m\u001b[0m\u001b[0;34m\u001b[0m\u001b[0m\n\u001b[0m\u001b[1;32m    138\u001b[0m     \u001b[0;32melse\u001b[0m\u001b[0;34m:\u001b[0m\u001b[0;34m\u001b[0m\u001b[0;34m\u001b[0m\u001b[0m\n\u001b[1;32m    139\u001b[0m         \u001b[0;31m# Composite any adjacent images together\u001b[0m\u001b[0;34m\u001b[0m\u001b[0;34m\u001b[0m\u001b[0;34m\u001b[0m\u001b[0m\n",
            "\u001b[0;32m/usr/local/lib/python3.7/dist-packages/matplotlib/artist.py\u001b[0m in \u001b[0;36mdraw_wrapper\u001b[0;34m(artist, renderer, *args, **kwargs)\u001b[0m\n\u001b[1;32m     36\u001b[0m                 \u001b[0mrenderer\u001b[0m\u001b[0;34m.\u001b[0m\u001b[0mstart_filter\u001b[0m\u001b[0;34m(\u001b[0m\u001b[0;34m)\u001b[0m\u001b[0;34m\u001b[0m\u001b[0;34m\u001b[0m\u001b[0m\n\u001b[1;32m     37\u001b[0m \u001b[0;34m\u001b[0m\u001b[0m\n\u001b[0;32m---> 38\u001b[0;31m             \u001b[0;32mreturn\u001b[0m \u001b[0mdraw\u001b[0m\u001b[0;34m(\u001b[0m\u001b[0martist\u001b[0m\u001b[0;34m,\u001b[0m \u001b[0mrenderer\u001b[0m\u001b[0;34m,\u001b[0m \u001b[0;34m*\u001b[0m\u001b[0margs\u001b[0m\u001b[0;34m,\u001b[0m \u001b[0;34m**\u001b[0m\u001b[0mkwargs\u001b[0m\u001b[0;34m)\u001b[0m\u001b[0;34m\u001b[0m\u001b[0;34m\u001b[0m\u001b[0m\n\u001b[0m\u001b[1;32m     39\u001b[0m         \u001b[0;32mfinally\u001b[0m\u001b[0;34m:\u001b[0m\u001b[0;34m\u001b[0m\u001b[0;34m\u001b[0m\u001b[0m\n\u001b[1;32m     40\u001b[0m             \u001b[0;32mif\u001b[0m \u001b[0martist\u001b[0m\u001b[0;34m.\u001b[0m\u001b[0mget_agg_filter\u001b[0m\u001b[0;34m(\u001b[0m\u001b[0;34m)\u001b[0m \u001b[0;32mis\u001b[0m \u001b[0;32mnot\u001b[0m \u001b[0;32mNone\u001b[0m\u001b[0;34m:\u001b[0m\u001b[0;34m\u001b[0m\u001b[0;34m\u001b[0m\u001b[0m\n",
            "\u001b[0;32m/usr/local/lib/python3.7/dist-packages/matplotlib/axes/_base.py\u001b[0m in \u001b[0;36mdraw\u001b[0;34m(self, renderer, inframe)\u001b[0m\n\u001b[1;32m   2628\u001b[0m             \u001b[0mrenderer\u001b[0m\u001b[0;34m.\u001b[0m\u001b[0mstop_rasterizing\u001b[0m\u001b[0;34m(\u001b[0m\u001b[0;34m)\u001b[0m\u001b[0;34m\u001b[0m\u001b[0;34m\u001b[0m\u001b[0m\n\u001b[1;32m   2629\u001b[0m \u001b[0;34m\u001b[0m\u001b[0m\n\u001b[0;32m-> 2630\u001b[0;31m         \u001b[0mmimage\u001b[0m\u001b[0;34m.\u001b[0m\u001b[0m_draw_list_compositing_images\u001b[0m\u001b[0;34m(\u001b[0m\u001b[0mrenderer\u001b[0m\u001b[0;34m,\u001b[0m \u001b[0mself\u001b[0m\u001b[0;34m,\u001b[0m \u001b[0martists\u001b[0m\u001b[0;34m)\u001b[0m\u001b[0;34m\u001b[0m\u001b[0;34m\u001b[0m\u001b[0m\n\u001b[0m\u001b[1;32m   2631\u001b[0m \u001b[0;34m\u001b[0m\u001b[0m\n\u001b[1;32m   2632\u001b[0m         \u001b[0mrenderer\u001b[0m\u001b[0;34m.\u001b[0m\u001b[0mclose_group\u001b[0m\u001b[0;34m(\u001b[0m\u001b[0;34m'axes'\u001b[0m\u001b[0;34m)\u001b[0m\u001b[0;34m\u001b[0m\u001b[0;34m\u001b[0m\u001b[0m\n",
            "\u001b[0;32m/usr/local/lib/python3.7/dist-packages/matplotlib/image.py\u001b[0m in \u001b[0;36m_draw_list_compositing_images\u001b[0;34m(renderer, parent, artists, suppress_composite)\u001b[0m\n\u001b[1;32m    135\u001b[0m     \u001b[0;32mif\u001b[0m \u001b[0mnot_composite\u001b[0m \u001b[0;32mor\u001b[0m \u001b[0;32mnot\u001b[0m \u001b[0mhas_images\u001b[0m\u001b[0;34m:\u001b[0m\u001b[0;34m\u001b[0m\u001b[0;34m\u001b[0m\u001b[0m\n\u001b[1;32m    136\u001b[0m         \u001b[0;32mfor\u001b[0m \u001b[0ma\u001b[0m \u001b[0;32min\u001b[0m \u001b[0martists\u001b[0m\u001b[0;34m:\u001b[0m\u001b[0;34m\u001b[0m\u001b[0;34m\u001b[0m\u001b[0m\n\u001b[0;32m--> 137\u001b[0;31m             \u001b[0ma\u001b[0m\u001b[0;34m.\u001b[0m\u001b[0mdraw\u001b[0m\u001b[0;34m(\u001b[0m\u001b[0mrenderer\u001b[0m\u001b[0;34m)\u001b[0m\u001b[0;34m\u001b[0m\u001b[0;34m\u001b[0m\u001b[0m\n\u001b[0m\u001b[1;32m    138\u001b[0m     \u001b[0;32melse\u001b[0m\u001b[0;34m:\u001b[0m\u001b[0;34m\u001b[0m\u001b[0;34m\u001b[0m\u001b[0m\n\u001b[1;32m    139\u001b[0m         \u001b[0;31m# Composite any adjacent images together\u001b[0m\u001b[0;34m\u001b[0m\u001b[0;34m\u001b[0m\u001b[0;34m\u001b[0m\u001b[0m\n",
            "\u001b[0;32m/usr/local/lib/python3.7/dist-packages/matplotlib/artist.py\u001b[0m in \u001b[0;36mdraw_wrapper\u001b[0;34m(artist, renderer, *args, **kwargs)\u001b[0m\n\u001b[1;32m     36\u001b[0m                 \u001b[0mrenderer\u001b[0m\u001b[0;34m.\u001b[0m\u001b[0mstart_filter\u001b[0m\u001b[0;34m(\u001b[0m\u001b[0;34m)\u001b[0m\u001b[0;34m\u001b[0m\u001b[0;34m\u001b[0m\u001b[0m\n\u001b[1;32m     37\u001b[0m \u001b[0;34m\u001b[0m\u001b[0m\n\u001b[0;32m---> 38\u001b[0;31m             \u001b[0;32mreturn\u001b[0m \u001b[0mdraw\u001b[0m\u001b[0;34m(\u001b[0m\u001b[0martist\u001b[0m\u001b[0;34m,\u001b[0m \u001b[0mrenderer\u001b[0m\u001b[0;34m,\u001b[0m \u001b[0;34m*\u001b[0m\u001b[0margs\u001b[0m\u001b[0;34m,\u001b[0m \u001b[0;34m**\u001b[0m\u001b[0mkwargs\u001b[0m\u001b[0;34m)\u001b[0m\u001b[0;34m\u001b[0m\u001b[0;34m\u001b[0m\u001b[0m\n\u001b[0m\u001b[1;32m     39\u001b[0m         \u001b[0;32mfinally\u001b[0m\u001b[0;34m:\u001b[0m\u001b[0;34m\u001b[0m\u001b[0;34m\u001b[0m\u001b[0m\n\u001b[1;32m     40\u001b[0m             \u001b[0;32mif\u001b[0m \u001b[0martist\u001b[0m\u001b[0;34m.\u001b[0m\u001b[0mget_agg_filter\u001b[0m\u001b[0;34m(\u001b[0m\u001b[0;34m)\u001b[0m \u001b[0;32mis\u001b[0m \u001b[0;32mnot\u001b[0m \u001b[0;32mNone\u001b[0m\u001b[0;34m:\u001b[0m\u001b[0;34m\u001b[0m\u001b[0;34m\u001b[0m\u001b[0m\n",
            "\u001b[0;32m/usr/local/lib/python3.7/dist-packages/matplotlib/collections.py\u001b[0m in \u001b[0;36mdraw\u001b[0;34m(self, renderer)\u001b[0m\n\u001b[1;32m    892\u001b[0m     \u001b[0;32mdef\u001b[0m \u001b[0mdraw\u001b[0m\u001b[0;34m(\u001b[0m\u001b[0mself\u001b[0m\u001b[0;34m,\u001b[0m \u001b[0mrenderer\u001b[0m\u001b[0;34m)\u001b[0m\u001b[0;34m:\u001b[0m\u001b[0;34m\u001b[0m\u001b[0;34m\u001b[0m\u001b[0m\n\u001b[1;32m    893\u001b[0m         \u001b[0mself\u001b[0m\u001b[0;34m.\u001b[0m\u001b[0mset_sizes\u001b[0m\u001b[0;34m(\u001b[0m\u001b[0mself\u001b[0m\u001b[0;34m.\u001b[0m\u001b[0m_sizes\u001b[0m\u001b[0;34m,\u001b[0m \u001b[0mself\u001b[0m\u001b[0;34m.\u001b[0m\u001b[0mfigure\u001b[0m\u001b[0;34m.\u001b[0m\u001b[0mdpi\u001b[0m\u001b[0;34m)\u001b[0m\u001b[0;34m\u001b[0m\u001b[0;34m\u001b[0m\u001b[0m\n\u001b[0;32m--> 894\u001b[0;31m         \u001b[0mCollection\u001b[0m\u001b[0;34m.\u001b[0m\u001b[0mdraw\u001b[0m\u001b[0;34m(\u001b[0m\u001b[0mself\u001b[0m\u001b[0;34m,\u001b[0m \u001b[0mrenderer\u001b[0m\u001b[0;34m)\u001b[0m\u001b[0;34m\u001b[0m\u001b[0;34m\u001b[0m\u001b[0m\n\u001b[0m\u001b[1;32m    895\u001b[0m \u001b[0;34m\u001b[0m\u001b[0m\n\u001b[1;32m    896\u001b[0m \u001b[0;34m\u001b[0m\u001b[0m\n",
            "\u001b[0;32m/usr/local/lib/python3.7/dist-packages/matplotlib/artist.py\u001b[0m in \u001b[0;36mdraw_wrapper\u001b[0;34m(artist, renderer, *args, **kwargs)\u001b[0m\n\u001b[1;32m     36\u001b[0m                 \u001b[0mrenderer\u001b[0m\u001b[0;34m.\u001b[0m\u001b[0mstart_filter\u001b[0m\u001b[0;34m(\u001b[0m\u001b[0;34m)\u001b[0m\u001b[0;34m\u001b[0m\u001b[0;34m\u001b[0m\u001b[0m\n\u001b[1;32m     37\u001b[0m \u001b[0;34m\u001b[0m\u001b[0m\n\u001b[0;32m---> 38\u001b[0;31m             \u001b[0;32mreturn\u001b[0m \u001b[0mdraw\u001b[0m\u001b[0;34m(\u001b[0m\u001b[0martist\u001b[0m\u001b[0;34m,\u001b[0m \u001b[0mrenderer\u001b[0m\u001b[0;34m,\u001b[0m \u001b[0;34m*\u001b[0m\u001b[0margs\u001b[0m\u001b[0;34m,\u001b[0m \u001b[0;34m**\u001b[0m\u001b[0mkwargs\u001b[0m\u001b[0;34m)\u001b[0m\u001b[0;34m\u001b[0m\u001b[0;34m\u001b[0m\u001b[0m\n\u001b[0m\u001b[1;32m     39\u001b[0m         \u001b[0;32mfinally\u001b[0m\u001b[0;34m:\u001b[0m\u001b[0;34m\u001b[0m\u001b[0;34m\u001b[0m\u001b[0m\n\u001b[1;32m     40\u001b[0m             \u001b[0;32mif\u001b[0m \u001b[0martist\u001b[0m\u001b[0;34m.\u001b[0m\u001b[0mget_agg_filter\u001b[0m\u001b[0;34m(\u001b[0m\u001b[0;34m)\u001b[0m \u001b[0;32mis\u001b[0m \u001b[0;32mnot\u001b[0m \u001b[0;32mNone\u001b[0m\u001b[0;34m:\u001b[0m\u001b[0;34m\u001b[0m\u001b[0;34m\u001b[0m\u001b[0m\n",
            "\u001b[0;32m/usr/local/lib/python3.7/dist-packages/matplotlib/collections.py\u001b[0m in \u001b[0;36mdraw\u001b[0;34m(self, renderer)\u001b[0m\n\u001b[1;32m    367\u001b[0m                 \u001b[0mself\u001b[0m\u001b[0;34m.\u001b[0m\u001b[0m_linewidths\u001b[0m\u001b[0;34m,\u001b[0m \u001b[0mself\u001b[0m\u001b[0;34m.\u001b[0m\u001b[0m_linestyles\u001b[0m\u001b[0;34m,\u001b[0m\u001b[0;34m\u001b[0m\u001b[0;34m\u001b[0m\u001b[0m\n\u001b[1;32m    368\u001b[0m                 \u001b[0mself\u001b[0m\u001b[0;34m.\u001b[0m\u001b[0m_antialiaseds\u001b[0m\u001b[0;34m,\u001b[0m \u001b[0mself\u001b[0m\u001b[0;34m.\u001b[0m\u001b[0m_urls\u001b[0m\u001b[0;34m,\u001b[0m\u001b[0;34m\u001b[0m\u001b[0;34m\u001b[0m\u001b[0m\n\u001b[0;32m--> 369\u001b[0;31m                 self._offset_position)\n\u001b[0m\u001b[1;32m    370\u001b[0m \u001b[0;34m\u001b[0m\u001b[0m\n\u001b[1;32m    371\u001b[0m         \u001b[0mgc\u001b[0m\u001b[0;34m.\u001b[0m\u001b[0mrestore\u001b[0m\u001b[0;34m(\u001b[0m\u001b[0;34m)\u001b[0m\u001b[0;34m\u001b[0m\u001b[0;34m\u001b[0m\u001b[0m\n",
            "\u001b[0;32m/usr/local/lib/python3.7/dist-packages/matplotlib/path.py\u001b[0m in \u001b[0;36mvertices\u001b[0;34m(self)\u001b[0m\n\u001b[1;32m    195\u001b[0m         )\n\u001b[1;32m    196\u001b[0m \u001b[0;34m\u001b[0m\u001b[0m\n\u001b[0;32m--> 197\u001b[0;31m     \u001b[0;34m@\u001b[0m\u001b[0mproperty\u001b[0m\u001b[0;34m\u001b[0m\u001b[0;34m\u001b[0m\u001b[0m\n\u001b[0m\u001b[1;32m    198\u001b[0m     \u001b[0;32mdef\u001b[0m \u001b[0mvertices\u001b[0m\u001b[0;34m(\u001b[0m\u001b[0mself\u001b[0m\u001b[0;34m)\u001b[0m\u001b[0;34m:\u001b[0m\u001b[0;34m\u001b[0m\u001b[0;34m\u001b[0m\u001b[0m\n\u001b[1;32m    199\u001b[0m         \"\"\"\n",
            "\u001b[0;31mKeyboardInterrupt\u001b[0m: "
          ]
        },
        {
          "output_type": "stream",
          "name": "stdout",
          "text": [
            "Error in callback <function flush_figures at 0x7f6064b82290> (for post_execute):\n"
          ]
        },
        {
          "output_type": "error",
          "ename": "KeyboardInterrupt",
          "evalue": "ignored",
          "traceback": [
            "\u001b[0;31m---------------------------------------------------------------------------\u001b[0m",
            "\u001b[0;31mKeyboardInterrupt\u001b[0m                         Traceback (most recent call last)",
            "\u001b[0;32m/usr/local/lib/python3.7/dist-packages/ipykernel/pylab/backend_inline.py\u001b[0m in \u001b[0;36mflush_figures\u001b[0;34m()\u001b[0m\n\u001b[1;32m    115\u001b[0m         \u001b[0;31m# ignore the tracking, just draw and close all figures\u001b[0m\u001b[0;34m\u001b[0m\u001b[0;34m\u001b[0m\u001b[0;34m\u001b[0m\u001b[0m\n\u001b[1;32m    116\u001b[0m         \u001b[0;32mtry\u001b[0m\u001b[0;34m:\u001b[0m\u001b[0;34m\u001b[0m\u001b[0;34m\u001b[0m\u001b[0m\n\u001b[0;32m--> 117\u001b[0;31m             \u001b[0;32mreturn\u001b[0m \u001b[0mshow\u001b[0m\u001b[0;34m(\u001b[0m\u001b[0;32mTrue\u001b[0m\u001b[0;34m)\u001b[0m\u001b[0;34m\u001b[0m\u001b[0;34m\u001b[0m\u001b[0m\n\u001b[0m\u001b[1;32m    118\u001b[0m         \u001b[0;32mexcept\u001b[0m \u001b[0mException\u001b[0m \u001b[0;32mas\u001b[0m \u001b[0me\u001b[0m\u001b[0;34m:\u001b[0m\u001b[0;34m\u001b[0m\u001b[0;34m\u001b[0m\u001b[0m\n\u001b[1;32m    119\u001b[0m             \u001b[0;31m# safely show traceback if in IPython, else raise\u001b[0m\u001b[0;34m\u001b[0m\u001b[0;34m\u001b[0m\u001b[0;34m\u001b[0m\u001b[0m\n",
            "\u001b[0;32m/usr/local/lib/python3.7/dist-packages/ipykernel/pylab/backend_inline.py\u001b[0m in \u001b[0;36mshow\u001b[0;34m(close, block)\u001b[0m\n\u001b[1;32m     37\u001b[0m             display(\n\u001b[1;32m     38\u001b[0m                 \u001b[0mfigure_manager\u001b[0m\u001b[0;34m.\u001b[0m\u001b[0mcanvas\u001b[0m\u001b[0;34m.\u001b[0m\u001b[0mfigure\u001b[0m\u001b[0;34m,\u001b[0m\u001b[0;34m\u001b[0m\u001b[0;34m\u001b[0m\u001b[0m\n\u001b[0;32m---> 39\u001b[0;31m                 \u001b[0mmetadata\u001b[0m\u001b[0;34m=\u001b[0m\u001b[0m_fetch_figure_metadata\u001b[0m\u001b[0;34m(\u001b[0m\u001b[0mfigure_manager\u001b[0m\u001b[0;34m.\u001b[0m\u001b[0mcanvas\u001b[0m\u001b[0;34m.\u001b[0m\u001b[0mfigure\u001b[0m\u001b[0;34m)\u001b[0m\u001b[0;34m\u001b[0m\u001b[0;34m\u001b[0m\u001b[0m\n\u001b[0m\u001b[1;32m     40\u001b[0m             )\n\u001b[1;32m     41\u001b[0m     \u001b[0;32mfinally\u001b[0m\u001b[0;34m:\u001b[0m\u001b[0;34m\u001b[0m\u001b[0;34m\u001b[0m\u001b[0m\n",
            "\u001b[0;32m/usr/local/lib/python3.7/dist-packages/IPython/core/display.py\u001b[0m in \u001b[0;36mdisplay\u001b[0;34m(*objs, **kwargs)\u001b[0m\n\u001b[1;32m    304\u001b[0m             \u001b[0mpublish_display_data\u001b[0m\u001b[0;34m(\u001b[0m\u001b[0mdata\u001b[0m\u001b[0;34m=\u001b[0m\u001b[0mobj\u001b[0m\u001b[0;34m,\u001b[0m \u001b[0mmetadata\u001b[0m\u001b[0;34m=\u001b[0m\u001b[0mmetadata\u001b[0m\u001b[0;34m,\u001b[0m \u001b[0;34m**\u001b[0m\u001b[0mkwargs\u001b[0m\u001b[0;34m)\u001b[0m\u001b[0;34m\u001b[0m\u001b[0;34m\u001b[0m\u001b[0m\n\u001b[1;32m    305\u001b[0m         \u001b[0;32melse\u001b[0m\u001b[0;34m:\u001b[0m\u001b[0;34m\u001b[0m\u001b[0;34m\u001b[0m\u001b[0m\n\u001b[0;32m--> 306\u001b[0;31m             \u001b[0mformat_dict\u001b[0m\u001b[0;34m,\u001b[0m \u001b[0mmd_dict\u001b[0m \u001b[0;34m=\u001b[0m \u001b[0mformat\u001b[0m\u001b[0;34m(\u001b[0m\u001b[0mobj\u001b[0m\u001b[0;34m,\u001b[0m \u001b[0minclude\u001b[0m\u001b[0;34m=\u001b[0m\u001b[0minclude\u001b[0m\u001b[0;34m,\u001b[0m \u001b[0mexclude\u001b[0m\u001b[0;34m=\u001b[0m\u001b[0mexclude\u001b[0m\u001b[0;34m)\u001b[0m\u001b[0;34m\u001b[0m\u001b[0;34m\u001b[0m\u001b[0m\n\u001b[0m\u001b[1;32m    307\u001b[0m             \u001b[0;32mif\u001b[0m \u001b[0;32mnot\u001b[0m \u001b[0mformat_dict\u001b[0m\u001b[0;34m:\u001b[0m\u001b[0;34m\u001b[0m\u001b[0;34m\u001b[0m\u001b[0m\n\u001b[1;32m    308\u001b[0m                 \u001b[0;31m# nothing to display (e.g. _ipython_display_ took over)\u001b[0m\u001b[0;34m\u001b[0m\u001b[0;34m\u001b[0m\u001b[0;34m\u001b[0m\u001b[0m\n",
            "\u001b[0;32m/usr/local/lib/python3.7/dist-packages/IPython/core/formatters.py\u001b[0m in \u001b[0;36mformat\u001b[0;34m(self, obj, include, exclude)\u001b[0m\n\u001b[1;32m    171\u001b[0m             \u001b[0mmd\u001b[0m \u001b[0;34m=\u001b[0m \u001b[0;32mNone\u001b[0m\u001b[0;34m\u001b[0m\u001b[0;34m\u001b[0m\u001b[0m\n\u001b[1;32m    172\u001b[0m             \u001b[0;32mtry\u001b[0m\u001b[0;34m:\u001b[0m\u001b[0;34m\u001b[0m\u001b[0;34m\u001b[0m\u001b[0m\n\u001b[0;32m--> 173\u001b[0;31m                 \u001b[0mdata\u001b[0m \u001b[0;34m=\u001b[0m \u001b[0mformatter\u001b[0m\u001b[0;34m(\u001b[0m\u001b[0mobj\u001b[0m\u001b[0;34m)\u001b[0m\u001b[0;34m\u001b[0m\u001b[0;34m\u001b[0m\u001b[0m\n\u001b[0m\u001b[1;32m    174\u001b[0m             \u001b[0;32mexcept\u001b[0m\u001b[0;34m:\u001b[0m\u001b[0;34m\u001b[0m\u001b[0;34m\u001b[0m\u001b[0m\n\u001b[1;32m    175\u001b[0m                 \u001b[0;31m# FIXME: log the exception\u001b[0m\u001b[0;34m\u001b[0m\u001b[0;34m\u001b[0m\u001b[0;34m\u001b[0m\u001b[0m\n",
            "\u001b[0;32m<decorator-gen-2>\u001b[0m in \u001b[0;36m__call__\u001b[0;34m(self, obj)\u001b[0m\n",
            "\u001b[0;32m/usr/local/lib/python3.7/dist-packages/IPython/core/formatters.py\u001b[0m in \u001b[0;36mcatch_format_error\u001b[0;34m(method, self, *args, **kwargs)\u001b[0m\n\u001b[1;32m    215\u001b[0m     \u001b[0;34m\"\"\"show traceback on failed format call\"\"\"\u001b[0m\u001b[0;34m\u001b[0m\u001b[0;34m\u001b[0m\u001b[0m\n\u001b[1;32m    216\u001b[0m     \u001b[0;32mtry\u001b[0m\u001b[0;34m:\u001b[0m\u001b[0;34m\u001b[0m\u001b[0;34m\u001b[0m\u001b[0m\n\u001b[0;32m--> 217\u001b[0;31m         \u001b[0mr\u001b[0m \u001b[0;34m=\u001b[0m \u001b[0mmethod\u001b[0m\u001b[0;34m(\u001b[0m\u001b[0mself\u001b[0m\u001b[0;34m,\u001b[0m \u001b[0;34m*\u001b[0m\u001b[0margs\u001b[0m\u001b[0;34m,\u001b[0m \u001b[0;34m**\u001b[0m\u001b[0mkwargs\u001b[0m\u001b[0;34m)\u001b[0m\u001b[0;34m\u001b[0m\u001b[0;34m\u001b[0m\u001b[0m\n\u001b[0m\u001b[1;32m    218\u001b[0m     \u001b[0;32mexcept\u001b[0m \u001b[0mNotImplementedError\u001b[0m\u001b[0;34m:\u001b[0m\u001b[0;34m\u001b[0m\u001b[0;34m\u001b[0m\u001b[0m\n\u001b[1;32m    219\u001b[0m         \u001b[0;31m# don't warn on NotImplementedErrors\u001b[0m\u001b[0;34m\u001b[0m\u001b[0;34m\u001b[0m\u001b[0;34m\u001b[0m\u001b[0m\n",
            "\u001b[0;32m/usr/local/lib/python3.7/dist-packages/IPython/core/formatters.py\u001b[0m in \u001b[0;36m__call__\u001b[0;34m(self, obj)\u001b[0m\n\u001b[1;32m    332\u001b[0m                 \u001b[0;32mpass\u001b[0m\u001b[0;34m\u001b[0m\u001b[0;34m\u001b[0m\u001b[0m\n\u001b[1;32m    333\u001b[0m             \u001b[0;32melse\u001b[0m\u001b[0;34m:\u001b[0m\u001b[0;34m\u001b[0m\u001b[0;34m\u001b[0m\u001b[0m\n\u001b[0;32m--> 334\u001b[0;31m                 \u001b[0;32mreturn\u001b[0m \u001b[0mprinter\u001b[0m\u001b[0;34m(\u001b[0m\u001b[0mobj\u001b[0m\u001b[0;34m)\u001b[0m\u001b[0;34m\u001b[0m\u001b[0;34m\u001b[0m\u001b[0m\n\u001b[0m\u001b[1;32m    335\u001b[0m             \u001b[0;31m# Finally look for special method names\u001b[0m\u001b[0;34m\u001b[0m\u001b[0;34m\u001b[0m\u001b[0;34m\u001b[0m\u001b[0m\n\u001b[1;32m    336\u001b[0m             \u001b[0mmethod\u001b[0m \u001b[0;34m=\u001b[0m \u001b[0mget_real_method\u001b[0m\u001b[0;34m(\u001b[0m\u001b[0mobj\u001b[0m\u001b[0;34m,\u001b[0m \u001b[0mself\u001b[0m\u001b[0;34m.\u001b[0m\u001b[0mprint_method\u001b[0m\u001b[0;34m)\u001b[0m\u001b[0;34m\u001b[0m\u001b[0;34m\u001b[0m\u001b[0m\n",
            "\u001b[0;32m/usr/local/lib/python3.7/dist-packages/IPython/core/pylabtools.py\u001b[0m in \u001b[0;36m<lambda>\u001b[0;34m(fig)\u001b[0m\n\u001b[1;32m    239\u001b[0m \u001b[0;34m\u001b[0m\u001b[0m\n\u001b[1;32m    240\u001b[0m     \u001b[0;32mif\u001b[0m \u001b[0;34m'png'\u001b[0m \u001b[0;32min\u001b[0m \u001b[0mformats\u001b[0m\u001b[0;34m:\u001b[0m\u001b[0;34m\u001b[0m\u001b[0;34m\u001b[0m\u001b[0m\n\u001b[0;32m--> 241\u001b[0;31m         \u001b[0mpng_formatter\u001b[0m\u001b[0;34m.\u001b[0m\u001b[0mfor_type\u001b[0m\u001b[0;34m(\u001b[0m\u001b[0mFigure\u001b[0m\u001b[0;34m,\u001b[0m \u001b[0;32mlambda\u001b[0m \u001b[0mfig\u001b[0m\u001b[0;34m:\u001b[0m \u001b[0mprint_figure\u001b[0m\u001b[0;34m(\u001b[0m\u001b[0mfig\u001b[0m\u001b[0;34m,\u001b[0m \u001b[0;34m'png'\u001b[0m\u001b[0;34m,\u001b[0m \u001b[0;34m**\u001b[0m\u001b[0mkwargs\u001b[0m\u001b[0;34m)\u001b[0m\u001b[0;34m)\u001b[0m\u001b[0;34m\u001b[0m\u001b[0;34m\u001b[0m\u001b[0m\n\u001b[0m\u001b[1;32m    242\u001b[0m     \u001b[0;32mif\u001b[0m \u001b[0;34m'retina'\u001b[0m \u001b[0;32min\u001b[0m \u001b[0mformats\u001b[0m \u001b[0;32mor\u001b[0m \u001b[0;34m'png2x'\u001b[0m \u001b[0;32min\u001b[0m \u001b[0mformats\u001b[0m\u001b[0;34m:\u001b[0m\u001b[0;34m\u001b[0m\u001b[0;34m\u001b[0m\u001b[0m\n\u001b[1;32m    243\u001b[0m         \u001b[0mpng_formatter\u001b[0m\u001b[0;34m.\u001b[0m\u001b[0mfor_type\u001b[0m\u001b[0;34m(\u001b[0m\u001b[0mFigure\u001b[0m\u001b[0;34m,\u001b[0m \u001b[0;32mlambda\u001b[0m \u001b[0mfig\u001b[0m\u001b[0;34m:\u001b[0m \u001b[0mretina_figure\u001b[0m\u001b[0;34m(\u001b[0m\u001b[0mfig\u001b[0m\u001b[0;34m,\u001b[0m \u001b[0;34m**\u001b[0m\u001b[0mkwargs\u001b[0m\u001b[0;34m)\u001b[0m\u001b[0;34m)\u001b[0m\u001b[0;34m\u001b[0m\u001b[0;34m\u001b[0m\u001b[0m\n",
            "\u001b[0;32m/usr/local/lib/python3.7/dist-packages/IPython/core/pylabtools.py\u001b[0m in \u001b[0;36mprint_figure\u001b[0;34m(fig, fmt, bbox_inches, **kwargs)\u001b[0m\n\u001b[1;32m    123\u001b[0m \u001b[0;34m\u001b[0m\u001b[0m\n\u001b[1;32m    124\u001b[0m     \u001b[0mbytes_io\u001b[0m \u001b[0;34m=\u001b[0m \u001b[0mBytesIO\u001b[0m\u001b[0;34m(\u001b[0m\u001b[0;34m)\u001b[0m\u001b[0;34m\u001b[0m\u001b[0;34m\u001b[0m\u001b[0m\n\u001b[0;32m--> 125\u001b[0;31m     \u001b[0mfig\u001b[0m\u001b[0;34m.\u001b[0m\u001b[0mcanvas\u001b[0m\u001b[0;34m.\u001b[0m\u001b[0mprint_figure\u001b[0m\u001b[0;34m(\u001b[0m\u001b[0mbytes_io\u001b[0m\u001b[0;34m,\u001b[0m \u001b[0;34m**\u001b[0m\u001b[0mkw\u001b[0m\u001b[0;34m)\u001b[0m\u001b[0;34m\u001b[0m\u001b[0;34m\u001b[0m\u001b[0m\n\u001b[0m\u001b[1;32m    126\u001b[0m     \u001b[0mdata\u001b[0m \u001b[0;34m=\u001b[0m \u001b[0mbytes_io\u001b[0m\u001b[0;34m.\u001b[0m\u001b[0mgetvalue\u001b[0m\u001b[0;34m(\u001b[0m\u001b[0;34m)\u001b[0m\u001b[0;34m\u001b[0m\u001b[0;34m\u001b[0m\u001b[0m\n\u001b[1;32m    127\u001b[0m     \u001b[0;32mif\u001b[0m \u001b[0mfmt\u001b[0m \u001b[0;34m==\u001b[0m \u001b[0;34m'svg'\u001b[0m\u001b[0;34m:\u001b[0m\u001b[0;34m\u001b[0m\u001b[0;34m\u001b[0m\u001b[0m\n",
            "\u001b[0;32m/usr/local/lib/python3.7/dist-packages/matplotlib/backend_bases.py\u001b[0m in \u001b[0;36mprint_figure\u001b[0;34m(self, filename, dpi, facecolor, edgecolor, orientation, format, bbox_inches, **kwargs)\u001b[0m\n\u001b[1;32m   2124\u001b[0m                     \u001b[0morientation\u001b[0m\u001b[0;34m=\u001b[0m\u001b[0morientation\u001b[0m\u001b[0;34m,\u001b[0m\u001b[0;34m\u001b[0m\u001b[0;34m\u001b[0m\u001b[0m\n\u001b[1;32m   2125\u001b[0m                     \u001b[0mbbox_inches_restore\u001b[0m\u001b[0;34m=\u001b[0m\u001b[0m_bbox_inches_restore\u001b[0m\u001b[0;34m,\u001b[0m\u001b[0;34m\u001b[0m\u001b[0;34m\u001b[0m\u001b[0m\n\u001b[0;32m-> 2126\u001b[0;31m                     **kwargs)\n\u001b[0m\u001b[1;32m   2127\u001b[0m             \u001b[0;32mfinally\u001b[0m\u001b[0;34m:\u001b[0m\u001b[0;34m\u001b[0m\u001b[0;34m\u001b[0m\u001b[0m\n\u001b[1;32m   2128\u001b[0m                 \u001b[0;32mif\u001b[0m \u001b[0mbbox_inches\u001b[0m \u001b[0;32mand\u001b[0m \u001b[0mrestore_bbox\u001b[0m\u001b[0;34m:\u001b[0m\u001b[0;34m\u001b[0m\u001b[0;34m\u001b[0m\u001b[0m\n",
            "\u001b[0;32m/usr/local/lib/python3.7/dist-packages/matplotlib/backends/backend_agg.py\u001b[0m in \u001b[0;36mprint_png\u001b[0;34m(self, filename_or_obj, metadata, pil_kwargs, *args, **kwargs)\u001b[0m\n\u001b[1;32m    512\u001b[0m         }\n\u001b[1;32m    513\u001b[0m \u001b[0;34m\u001b[0m\u001b[0m\n\u001b[0;32m--> 514\u001b[0;31m         \u001b[0mFigureCanvasAgg\u001b[0m\u001b[0;34m.\u001b[0m\u001b[0mdraw\u001b[0m\u001b[0;34m(\u001b[0m\u001b[0mself\u001b[0m\u001b[0;34m)\u001b[0m\u001b[0;34m\u001b[0m\u001b[0;34m\u001b[0m\u001b[0m\n\u001b[0m\u001b[1;32m    515\u001b[0m         \u001b[0;32mif\u001b[0m \u001b[0mpil_kwargs\u001b[0m \u001b[0;32mis\u001b[0m \u001b[0;32mnot\u001b[0m \u001b[0;32mNone\u001b[0m\u001b[0;34m:\u001b[0m\u001b[0;34m\u001b[0m\u001b[0;34m\u001b[0m\u001b[0m\n\u001b[1;32m    516\u001b[0m             \u001b[0;32mfrom\u001b[0m \u001b[0mPIL\u001b[0m \u001b[0;32mimport\u001b[0m \u001b[0mImage\u001b[0m\u001b[0;34m\u001b[0m\u001b[0;34m\u001b[0m\u001b[0m\n",
            "\u001b[0;32m/usr/local/lib/python3.7/dist-packages/matplotlib/backends/backend_agg.py\u001b[0m in \u001b[0;36mdraw\u001b[0;34m(self)\u001b[0m\n\u001b[1;32m    391\u001b[0m              (self.toolbar._wait_cursor_for_draw_cm() if self.toolbar\n\u001b[1;32m    392\u001b[0m               else nullcontext()):\n\u001b[0;32m--> 393\u001b[0;31m             \u001b[0mself\u001b[0m\u001b[0;34m.\u001b[0m\u001b[0mfigure\u001b[0m\u001b[0;34m.\u001b[0m\u001b[0mdraw\u001b[0m\u001b[0;34m(\u001b[0m\u001b[0mself\u001b[0m\u001b[0;34m.\u001b[0m\u001b[0mrenderer\u001b[0m\u001b[0;34m)\u001b[0m\u001b[0;34m\u001b[0m\u001b[0;34m\u001b[0m\u001b[0m\n\u001b[0m\u001b[1;32m    394\u001b[0m             \u001b[0;31m# A GUI class may be need to update a window using this draw, so\u001b[0m\u001b[0;34m\u001b[0m\u001b[0;34m\u001b[0m\u001b[0;34m\u001b[0m\u001b[0m\n\u001b[1;32m    395\u001b[0m             \u001b[0;31m# don't forget to call the superclass.\u001b[0m\u001b[0;34m\u001b[0m\u001b[0;34m\u001b[0m\u001b[0;34m\u001b[0m\u001b[0m\n",
            "\u001b[0;32m/usr/local/lib/python3.7/dist-packages/matplotlib/artist.py\u001b[0m in \u001b[0;36mdraw_wrapper\u001b[0;34m(artist, renderer, *args, **kwargs)\u001b[0m\n\u001b[1;32m     36\u001b[0m                 \u001b[0mrenderer\u001b[0m\u001b[0;34m.\u001b[0m\u001b[0mstart_filter\u001b[0m\u001b[0;34m(\u001b[0m\u001b[0;34m)\u001b[0m\u001b[0;34m\u001b[0m\u001b[0;34m\u001b[0m\u001b[0m\n\u001b[1;32m     37\u001b[0m \u001b[0;34m\u001b[0m\u001b[0m\n\u001b[0;32m---> 38\u001b[0;31m             \u001b[0;32mreturn\u001b[0m \u001b[0mdraw\u001b[0m\u001b[0;34m(\u001b[0m\u001b[0martist\u001b[0m\u001b[0;34m,\u001b[0m \u001b[0mrenderer\u001b[0m\u001b[0;34m,\u001b[0m \u001b[0;34m*\u001b[0m\u001b[0margs\u001b[0m\u001b[0;34m,\u001b[0m \u001b[0;34m**\u001b[0m\u001b[0mkwargs\u001b[0m\u001b[0;34m)\u001b[0m\u001b[0;34m\u001b[0m\u001b[0;34m\u001b[0m\u001b[0m\n\u001b[0m\u001b[1;32m     39\u001b[0m         \u001b[0;32mfinally\u001b[0m\u001b[0;34m:\u001b[0m\u001b[0;34m\u001b[0m\u001b[0;34m\u001b[0m\u001b[0m\n\u001b[1;32m     40\u001b[0m             \u001b[0;32mif\u001b[0m \u001b[0martist\u001b[0m\u001b[0;34m.\u001b[0m\u001b[0mget_agg_filter\u001b[0m\u001b[0;34m(\u001b[0m\u001b[0;34m)\u001b[0m \u001b[0;32mis\u001b[0m \u001b[0;32mnot\u001b[0m \u001b[0;32mNone\u001b[0m\u001b[0;34m:\u001b[0m\u001b[0;34m\u001b[0m\u001b[0;34m\u001b[0m\u001b[0m\n",
            "\u001b[0;32m/usr/local/lib/python3.7/dist-packages/matplotlib/figure.py\u001b[0m in \u001b[0;36mdraw\u001b[0;34m(self, renderer)\u001b[0m\n\u001b[1;32m   1734\u001b[0m             \u001b[0mself\u001b[0m\u001b[0;34m.\u001b[0m\u001b[0mpatch\u001b[0m\u001b[0;34m.\u001b[0m\u001b[0mdraw\u001b[0m\u001b[0;34m(\u001b[0m\u001b[0mrenderer\u001b[0m\u001b[0;34m)\u001b[0m\u001b[0;34m\u001b[0m\u001b[0;34m\u001b[0m\u001b[0m\n\u001b[1;32m   1735\u001b[0m             mimage._draw_list_compositing_images(\n\u001b[0;32m-> 1736\u001b[0;31m                 renderer, self, artists, self.suppressComposite)\n\u001b[0m\u001b[1;32m   1737\u001b[0m \u001b[0;34m\u001b[0m\u001b[0m\n\u001b[1;32m   1738\u001b[0m             \u001b[0mrenderer\u001b[0m\u001b[0;34m.\u001b[0m\u001b[0mclose_group\u001b[0m\u001b[0;34m(\u001b[0m\u001b[0;34m'figure'\u001b[0m\u001b[0;34m)\u001b[0m\u001b[0;34m\u001b[0m\u001b[0;34m\u001b[0m\u001b[0m\n",
            "\u001b[0;32m/usr/local/lib/python3.7/dist-packages/matplotlib/image.py\u001b[0m in \u001b[0;36m_draw_list_compositing_images\u001b[0;34m(renderer, parent, artists, suppress_composite)\u001b[0m\n\u001b[1;32m    135\u001b[0m     \u001b[0;32mif\u001b[0m \u001b[0mnot_composite\u001b[0m \u001b[0;32mor\u001b[0m \u001b[0;32mnot\u001b[0m \u001b[0mhas_images\u001b[0m\u001b[0;34m:\u001b[0m\u001b[0;34m\u001b[0m\u001b[0;34m\u001b[0m\u001b[0m\n\u001b[1;32m    136\u001b[0m         \u001b[0;32mfor\u001b[0m \u001b[0ma\u001b[0m \u001b[0;32min\u001b[0m \u001b[0martists\u001b[0m\u001b[0;34m:\u001b[0m\u001b[0;34m\u001b[0m\u001b[0;34m\u001b[0m\u001b[0m\n\u001b[0;32m--> 137\u001b[0;31m             \u001b[0ma\u001b[0m\u001b[0;34m.\u001b[0m\u001b[0mdraw\u001b[0m\u001b[0;34m(\u001b[0m\u001b[0mrenderer\u001b[0m\u001b[0;34m)\u001b[0m\u001b[0;34m\u001b[0m\u001b[0;34m\u001b[0m\u001b[0m\n\u001b[0m\u001b[1;32m    138\u001b[0m     \u001b[0;32melse\u001b[0m\u001b[0;34m:\u001b[0m\u001b[0;34m\u001b[0m\u001b[0;34m\u001b[0m\u001b[0m\n\u001b[1;32m    139\u001b[0m         \u001b[0;31m# Composite any adjacent images together\u001b[0m\u001b[0;34m\u001b[0m\u001b[0;34m\u001b[0m\u001b[0;34m\u001b[0m\u001b[0m\n",
            "\u001b[0;32m/usr/local/lib/python3.7/dist-packages/matplotlib/artist.py\u001b[0m in \u001b[0;36mdraw_wrapper\u001b[0;34m(artist, renderer, *args, **kwargs)\u001b[0m\n\u001b[1;32m     36\u001b[0m                 \u001b[0mrenderer\u001b[0m\u001b[0;34m.\u001b[0m\u001b[0mstart_filter\u001b[0m\u001b[0;34m(\u001b[0m\u001b[0;34m)\u001b[0m\u001b[0;34m\u001b[0m\u001b[0;34m\u001b[0m\u001b[0m\n\u001b[1;32m     37\u001b[0m \u001b[0;34m\u001b[0m\u001b[0m\n\u001b[0;32m---> 38\u001b[0;31m             \u001b[0;32mreturn\u001b[0m \u001b[0mdraw\u001b[0m\u001b[0;34m(\u001b[0m\u001b[0martist\u001b[0m\u001b[0;34m,\u001b[0m \u001b[0mrenderer\u001b[0m\u001b[0;34m,\u001b[0m \u001b[0;34m*\u001b[0m\u001b[0margs\u001b[0m\u001b[0;34m,\u001b[0m \u001b[0;34m**\u001b[0m\u001b[0mkwargs\u001b[0m\u001b[0;34m)\u001b[0m\u001b[0;34m\u001b[0m\u001b[0;34m\u001b[0m\u001b[0m\n\u001b[0m\u001b[1;32m     39\u001b[0m         \u001b[0;32mfinally\u001b[0m\u001b[0;34m:\u001b[0m\u001b[0;34m\u001b[0m\u001b[0;34m\u001b[0m\u001b[0m\n\u001b[1;32m     40\u001b[0m             \u001b[0;32mif\u001b[0m \u001b[0martist\u001b[0m\u001b[0;34m.\u001b[0m\u001b[0mget_agg_filter\u001b[0m\u001b[0;34m(\u001b[0m\u001b[0;34m)\u001b[0m \u001b[0;32mis\u001b[0m \u001b[0;32mnot\u001b[0m \u001b[0;32mNone\u001b[0m\u001b[0;34m:\u001b[0m\u001b[0;34m\u001b[0m\u001b[0;34m\u001b[0m\u001b[0m\n",
            "\u001b[0;32m/usr/local/lib/python3.7/dist-packages/matplotlib/axes/_base.py\u001b[0m in \u001b[0;36mdraw\u001b[0;34m(self, renderer, inframe)\u001b[0m\n\u001b[1;32m   2628\u001b[0m             \u001b[0mrenderer\u001b[0m\u001b[0;34m.\u001b[0m\u001b[0mstop_rasterizing\u001b[0m\u001b[0;34m(\u001b[0m\u001b[0;34m)\u001b[0m\u001b[0;34m\u001b[0m\u001b[0;34m\u001b[0m\u001b[0m\n\u001b[1;32m   2629\u001b[0m \u001b[0;34m\u001b[0m\u001b[0m\n\u001b[0;32m-> 2630\u001b[0;31m         \u001b[0mmimage\u001b[0m\u001b[0;34m.\u001b[0m\u001b[0m_draw_list_compositing_images\u001b[0m\u001b[0;34m(\u001b[0m\u001b[0mrenderer\u001b[0m\u001b[0;34m,\u001b[0m \u001b[0mself\u001b[0m\u001b[0;34m,\u001b[0m \u001b[0martists\u001b[0m\u001b[0;34m)\u001b[0m\u001b[0;34m\u001b[0m\u001b[0;34m\u001b[0m\u001b[0m\n\u001b[0m\u001b[1;32m   2631\u001b[0m \u001b[0;34m\u001b[0m\u001b[0m\n\u001b[1;32m   2632\u001b[0m         \u001b[0mrenderer\u001b[0m\u001b[0;34m.\u001b[0m\u001b[0mclose_group\u001b[0m\u001b[0;34m(\u001b[0m\u001b[0;34m'axes'\u001b[0m\u001b[0;34m)\u001b[0m\u001b[0;34m\u001b[0m\u001b[0;34m\u001b[0m\u001b[0m\n",
            "\u001b[0;32m/usr/local/lib/python3.7/dist-packages/matplotlib/image.py\u001b[0m in \u001b[0;36m_draw_list_compositing_images\u001b[0;34m(renderer, parent, artists, suppress_composite)\u001b[0m\n\u001b[1;32m    135\u001b[0m     \u001b[0;32mif\u001b[0m \u001b[0mnot_composite\u001b[0m \u001b[0;32mor\u001b[0m \u001b[0;32mnot\u001b[0m \u001b[0mhas_images\u001b[0m\u001b[0;34m:\u001b[0m\u001b[0;34m\u001b[0m\u001b[0;34m\u001b[0m\u001b[0m\n\u001b[1;32m    136\u001b[0m         \u001b[0;32mfor\u001b[0m \u001b[0ma\u001b[0m \u001b[0;32min\u001b[0m \u001b[0martists\u001b[0m\u001b[0;34m:\u001b[0m\u001b[0;34m\u001b[0m\u001b[0;34m\u001b[0m\u001b[0m\n\u001b[0;32m--> 137\u001b[0;31m             \u001b[0ma\u001b[0m\u001b[0;34m.\u001b[0m\u001b[0mdraw\u001b[0m\u001b[0;34m(\u001b[0m\u001b[0mrenderer\u001b[0m\u001b[0;34m)\u001b[0m\u001b[0;34m\u001b[0m\u001b[0;34m\u001b[0m\u001b[0m\n\u001b[0m\u001b[1;32m    138\u001b[0m     \u001b[0;32melse\u001b[0m\u001b[0;34m:\u001b[0m\u001b[0;34m\u001b[0m\u001b[0;34m\u001b[0m\u001b[0m\n\u001b[1;32m    139\u001b[0m         \u001b[0;31m# Composite any adjacent images together\u001b[0m\u001b[0;34m\u001b[0m\u001b[0;34m\u001b[0m\u001b[0;34m\u001b[0m\u001b[0m\n",
            "\u001b[0;32m/usr/local/lib/python3.7/dist-packages/matplotlib/artist.py\u001b[0m in \u001b[0;36mdraw_wrapper\u001b[0;34m(artist, renderer, *args, **kwargs)\u001b[0m\n\u001b[1;32m     36\u001b[0m                 \u001b[0mrenderer\u001b[0m\u001b[0;34m.\u001b[0m\u001b[0mstart_filter\u001b[0m\u001b[0;34m(\u001b[0m\u001b[0;34m)\u001b[0m\u001b[0;34m\u001b[0m\u001b[0;34m\u001b[0m\u001b[0m\n\u001b[1;32m     37\u001b[0m \u001b[0;34m\u001b[0m\u001b[0m\n\u001b[0;32m---> 38\u001b[0;31m             \u001b[0;32mreturn\u001b[0m \u001b[0mdraw\u001b[0m\u001b[0;34m(\u001b[0m\u001b[0martist\u001b[0m\u001b[0;34m,\u001b[0m \u001b[0mrenderer\u001b[0m\u001b[0;34m,\u001b[0m \u001b[0;34m*\u001b[0m\u001b[0margs\u001b[0m\u001b[0;34m,\u001b[0m \u001b[0;34m**\u001b[0m\u001b[0mkwargs\u001b[0m\u001b[0;34m)\u001b[0m\u001b[0;34m\u001b[0m\u001b[0;34m\u001b[0m\u001b[0m\n\u001b[0m\u001b[1;32m     39\u001b[0m         \u001b[0;32mfinally\u001b[0m\u001b[0;34m:\u001b[0m\u001b[0;34m\u001b[0m\u001b[0;34m\u001b[0m\u001b[0m\n\u001b[1;32m     40\u001b[0m             \u001b[0;32mif\u001b[0m \u001b[0martist\u001b[0m\u001b[0;34m.\u001b[0m\u001b[0mget_agg_filter\u001b[0m\u001b[0;34m(\u001b[0m\u001b[0;34m)\u001b[0m \u001b[0;32mis\u001b[0m \u001b[0;32mnot\u001b[0m \u001b[0;32mNone\u001b[0m\u001b[0;34m:\u001b[0m\u001b[0;34m\u001b[0m\u001b[0;34m\u001b[0m\u001b[0m\n",
            "\u001b[0;32m/usr/local/lib/python3.7/dist-packages/matplotlib/collections.py\u001b[0m in \u001b[0;36mdraw\u001b[0;34m(self, renderer)\u001b[0m\n\u001b[1;32m    892\u001b[0m     \u001b[0;32mdef\u001b[0m \u001b[0mdraw\u001b[0m\u001b[0;34m(\u001b[0m\u001b[0mself\u001b[0m\u001b[0;34m,\u001b[0m \u001b[0mrenderer\u001b[0m\u001b[0;34m)\u001b[0m\u001b[0;34m:\u001b[0m\u001b[0;34m\u001b[0m\u001b[0;34m\u001b[0m\u001b[0m\n\u001b[1;32m    893\u001b[0m         \u001b[0mself\u001b[0m\u001b[0;34m.\u001b[0m\u001b[0mset_sizes\u001b[0m\u001b[0;34m(\u001b[0m\u001b[0mself\u001b[0m\u001b[0;34m.\u001b[0m\u001b[0m_sizes\u001b[0m\u001b[0;34m,\u001b[0m \u001b[0mself\u001b[0m\u001b[0;34m.\u001b[0m\u001b[0mfigure\u001b[0m\u001b[0;34m.\u001b[0m\u001b[0mdpi\u001b[0m\u001b[0;34m)\u001b[0m\u001b[0;34m\u001b[0m\u001b[0;34m\u001b[0m\u001b[0m\n\u001b[0;32m--> 894\u001b[0;31m         \u001b[0mCollection\u001b[0m\u001b[0;34m.\u001b[0m\u001b[0mdraw\u001b[0m\u001b[0;34m(\u001b[0m\u001b[0mself\u001b[0m\u001b[0;34m,\u001b[0m \u001b[0mrenderer\u001b[0m\u001b[0;34m)\u001b[0m\u001b[0;34m\u001b[0m\u001b[0;34m\u001b[0m\u001b[0m\n\u001b[0m\u001b[1;32m    895\u001b[0m \u001b[0;34m\u001b[0m\u001b[0m\n\u001b[1;32m    896\u001b[0m \u001b[0;34m\u001b[0m\u001b[0m\n",
            "\u001b[0;32m/usr/local/lib/python3.7/dist-packages/matplotlib/artist.py\u001b[0m in \u001b[0;36mdraw_wrapper\u001b[0;34m(artist, renderer, *args, **kwargs)\u001b[0m\n\u001b[1;32m     36\u001b[0m                 \u001b[0mrenderer\u001b[0m\u001b[0;34m.\u001b[0m\u001b[0mstart_filter\u001b[0m\u001b[0;34m(\u001b[0m\u001b[0;34m)\u001b[0m\u001b[0;34m\u001b[0m\u001b[0;34m\u001b[0m\u001b[0m\n\u001b[1;32m     37\u001b[0m \u001b[0;34m\u001b[0m\u001b[0m\n\u001b[0;32m---> 38\u001b[0;31m             \u001b[0;32mreturn\u001b[0m \u001b[0mdraw\u001b[0m\u001b[0;34m(\u001b[0m\u001b[0martist\u001b[0m\u001b[0;34m,\u001b[0m \u001b[0mrenderer\u001b[0m\u001b[0;34m,\u001b[0m \u001b[0;34m*\u001b[0m\u001b[0margs\u001b[0m\u001b[0;34m,\u001b[0m \u001b[0;34m**\u001b[0m\u001b[0mkwargs\u001b[0m\u001b[0;34m)\u001b[0m\u001b[0;34m\u001b[0m\u001b[0;34m\u001b[0m\u001b[0m\n\u001b[0m\u001b[1;32m     39\u001b[0m         \u001b[0;32mfinally\u001b[0m\u001b[0;34m:\u001b[0m\u001b[0;34m\u001b[0m\u001b[0;34m\u001b[0m\u001b[0m\n\u001b[1;32m     40\u001b[0m             \u001b[0;32mif\u001b[0m \u001b[0martist\u001b[0m\u001b[0;34m.\u001b[0m\u001b[0mget_agg_filter\u001b[0m\u001b[0;34m(\u001b[0m\u001b[0;34m)\u001b[0m \u001b[0;32mis\u001b[0m \u001b[0;32mnot\u001b[0m \u001b[0;32mNone\u001b[0m\u001b[0;34m:\u001b[0m\u001b[0;34m\u001b[0m\u001b[0;34m\u001b[0m\u001b[0m\n",
            "\u001b[0;32m/usr/local/lib/python3.7/dist-packages/matplotlib/collections.py\u001b[0m in \u001b[0;36mdraw\u001b[0;34m(self, renderer)\u001b[0m\n\u001b[1;32m    367\u001b[0m                 \u001b[0mself\u001b[0m\u001b[0;34m.\u001b[0m\u001b[0m_linewidths\u001b[0m\u001b[0;34m,\u001b[0m \u001b[0mself\u001b[0m\u001b[0;34m.\u001b[0m\u001b[0m_linestyles\u001b[0m\u001b[0;34m,\u001b[0m\u001b[0;34m\u001b[0m\u001b[0;34m\u001b[0m\u001b[0m\n\u001b[1;32m    368\u001b[0m                 \u001b[0mself\u001b[0m\u001b[0;34m.\u001b[0m\u001b[0m_antialiaseds\u001b[0m\u001b[0;34m,\u001b[0m \u001b[0mself\u001b[0m\u001b[0;34m.\u001b[0m\u001b[0m_urls\u001b[0m\u001b[0;34m,\u001b[0m\u001b[0;34m\u001b[0m\u001b[0;34m\u001b[0m\u001b[0m\n\u001b[0;32m--> 369\u001b[0;31m                 self._offset_position)\n\u001b[0m\u001b[1;32m    370\u001b[0m \u001b[0;34m\u001b[0m\u001b[0m\n\u001b[1;32m    371\u001b[0m         \u001b[0mgc\u001b[0m\u001b[0;34m.\u001b[0m\u001b[0mrestore\u001b[0m\u001b[0;34m(\u001b[0m\u001b[0;34m)\u001b[0m\u001b[0;34m\u001b[0m\u001b[0;34m\u001b[0m\u001b[0m\n",
            "\u001b[0;32m/usr/local/lib/python3.7/dist-packages/matplotlib/path.py\u001b[0m in \u001b[0;36mvertices\u001b[0;34m(self)\u001b[0m\n\u001b[1;32m    195\u001b[0m         )\n\u001b[1;32m    196\u001b[0m \u001b[0;34m\u001b[0m\u001b[0m\n\u001b[0;32m--> 197\u001b[0;31m     \u001b[0;34m@\u001b[0m\u001b[0mproperty\u001b[0m\u001b[0;34m\u001b[0m\u001b[0;34m\u001b[0m\u001b[0m\n\u001b[0m\u001b[1;32m    198\u001b[0m     \u001b[0;32mdef\u001b[0m \u001b[0mvertices\u001b[0m\u001b[0;34m(\u001b[0m\u001b[0mself\u001b[0m\u001b[0;34m)\u001b[0m\u001b[0;34m:\u001b[0m\u001b[0;34m\u001b[0m\u001b[0;34m\u001b[0m\u001b[0m\n\u001b[1;32m    199\u001b[0m         \"\"\"\n",
            "\u001b[0;31mKeyboardInterrupt\u001b[0m: "
          ]
        }
      ]
    },
    {
      "cell_type": "markdown",
      "source": [
        "The above plots show the distribution of the numeric variables in the dataset. All values are continuous and appear as is, but most have different units. \"PhysicalHealth\" and \"MentalHealth\" are expressed in terms of days, while \"SleepTime\" is expressed in terms of hours. The variables have different scales, with \"BMI\" appearing skewed to the left, \"PhysicalHealth\" and \"MentalHealth\" appearing skewed to the left with a few outliers, and \"SleepTime\" distributed normally between about 0 - 12 days. A strong relationship can also be observed in the distribution of \"PhysicalHealth\" and \"MentalHealth.\""
      ],
      "metadata": {
        "id": "RlHs-Nubsslu"
      }
    },
    {
      "cell_type": "code",
      "source": [
        "# Plot each categorical columns against the heart disease column(label)\n",
        "from sklearn.preprocessing import LabelEncoder\n",
        "heart_disease_excopy = heart_disease.copy()\n",
        "lab_encd = LabelEncoder()\n",
        "lab_encd.fit(heart_disease_excopy['HeartDisease'])\n",
        "heart_disease_excopy['HeartDisease'] = lab_encd.transform(heart_disease_excopy['HeartDisease'])\n",
        "cat = [col for col in heart_disease_excopy.columns if heart_disease_excopy[col].dtypes == 'object']\n",
        "for i in cat:\n",
        "    sns.catplot(y = 'HeartDisease',x = i,hue = 'Sex',data = heart_disease_excopy,kind = 'point')"
      ],
      "metadata": {
        "id": "gq4dw5xN1kc-"
      },
      "execution_count": null,
      "outputs": []
    },
    {
      "cell_type": "markdown",
      "source": [
        "The above charts suggest the following:\n",
        "- There is more male suffering from heart disease than female\n",
        "- Smokers are more liable to suffer from heart disease than non-smokers\n",
        "- Respondents diagnosed with stroke and difficulty walking are more liable to have heart disease the not\n",
        "- High alcohol intake can also be a good indicator of heart disease\n",
        "- Diabetes and general health are good indicators of heart disease in both male and female"
      ],
      "metadata": {
        "id": "izZcd1n-KuLN"
      }
    },
    {
      "cell_type": "code",
      "source": [
        "# Understanding the relationship between BMI and Heart Disease\n",
        "sns.set(style=\"darkgrid\")\n",
        "sns.set(rc={'figure.figsize':(16,8)})\n",
        " \n",
        "# creating a figure composed of 3 matplotlib.Axes objects\n",
        "f, (ax_box1, ax_box2, ax_hist) = plt.subplots(3, sharex=True, gridspec_kw={\"height_ratios\": (.15, .15, .85)})\n",
        "colours = ['#4285f4', '#ea4335', '#fbbc05', '#34a853']\n",
        "# assigning a graph to each ax\n",
        "sns.boxplot(x=heart_disease[heart_disease['HeartDisease']=='Yes'][\"BMI\"], ax=ax_box1, color=\"#ea4335\")\n",
        "sns.histplot(heart_disease[heart_disease['HeartDisease']=='Yes'], x=\"BMI\", ax=ax_hist, kde=True, color=\"#ea4335\")\n",
        "\n",
        "sns.boxplot(x=heart_disease[heart_disease['HeartDisease']=='No'][\"BMI\"], ax=ax_box2, color='#4285f4')\n",
        "sns.histplot(heart_disease[heart_disease['HeartDisease']=='No'], x=\"BMI\", ax=ax_hist, kde=True, color='#4285f4')\n",
        " \n",
        "# Remove x axis name for the boxplots\n",
        "ax_box1.set(xlabel='')\n",
        "ax_box2.set(xlabel='')\n",
        "\n",
        "plt.legend(title='', loc=2, labels=['Heart Disease', 'No HeartDisease'],bbox_to_anchor=(1.02, 1), borderaxespad=0.)\n",
        "plt.show()"
      ],
      "metadata": {
        "id": "AUYHpJlPmjEl"
      },
      "execution_count": null,
      "outputs": []
    },
    {
      "cell_type": "markdown",
      "source": [
        "The above chart suggests that respondents with Heart Disease have a higher BMI than people with no Heart Disease."
      ],
      "metadata": {
        "id": "KLc73OKvoJR3"
      }
    },
    {
      "cell_type": "code",
      "source": [
        "# Plot Heart Disease of respondents against any column by adding it to list\n",
        "cat_cols = ['AgeCategory', 'KidneyDisease', 'SkinCancer']\n",
        "\n",
        "for i in range(0, len(cat_cols)):\n",
        "    crosstb = pd.crosstab(heart_disease[cat_cols[i]], heart_disease.HeartDisease)\n",
        "    crosstb['without_hd_percent'] = crosstb['No'] / (crosstb['No'] + crosstb['Yes'])\n",
        "    crosstb['with_hd_percent'] = crosstb['Yes'] / (crosstb['No'] + crosstb['Yes'])\n",
        "    \n",
        "    crosstb = crosstb.drop(['Yes', 'No'], axis = 1)\n",
        "    \n",
        "    crosstb.plot(kind='barh', color=[\"#4285f4\", \"#CB3579\"])\n",
        "    sns.despine()\n",
        "    labels = [\"without hd\",\"with hd\"]\n",
        "    plt.gcf().set_size_inches(12, 4)\n",
        "    plt.xticks(rotation = 45)\n",
        "    plt.legend(labels=labels)\n",
        "    plt.title(\"Percentage of respondents with/without Heart Disease by \" + cat_cols[i], fontweight='bold')\n",
        "    plt.show()"
      ],
      "metadata": {
        "id": "z5JpdQXRx2gA"
      },
      "execution_count": null,
      "outputs": []
    },
    {
      "cell_type": "markdown",
      "source": [
        "The above charts suggest the following:\n",
        "- There is a strong relationship between age and heart disease. The older, the more susceptible an individual is to heart diseases.\n",
        "- Mostly, older respondents are found to have heart disease, skin cancer & kidney disease"
      ],
      "metadata": {
        "id": "D_x_YqK0Oh-6"
      }
    },
    {
      "cell_type": "code",
      "source": [
        "# Plot the number of male and female the are Non-HD vs HD\n",
        "fig, ax = plt.subplots(figsize = (10,6))\n",
        "\n",
        "ax.hist(heart_disease[heart_disease[\"HeartDisease\"]=='No'][\"Sex\"], bins=3, alpha=0.8, color=\"#4285f4\", label=\"No HeartDisease\")\n",
        "ax.hist(heart_disease[heart_disease[\"HeartDisease\"]=='Yes'][\"Sex\"], bins=3, alpha=1, color=\"#ea4335\", label=\"HeartDisease\")\n",
        "\n",
        "ax.set_xlabel(\"Sex\")\n",
        "ax.set_ylabel(\"Frequency\")\n",
        "\n",
        "ax.legend(bbox_to_anchor=(1.02, 1), loc=2, borderaxespad=0.)\n",
        "\n",
        "female_with_heart_disease = len(heart_disease[(heart_disease['HeartDisease']=='Yes') & (heart_disease['Sex']=='Female')])\n",
        "num_female = len(heart_disease[heart_disease['Sex']=='Female'])\n",
        "male_with_heart_disease = len(heart_disease[(heart_disease['HeartDisease']=='Yes') & (heart_disease['Sex']=='Male')])\n",
        "num_male = len(heart_disease[heart_disease['Sex']=='Male'])\n",
        "print('Percentage of Male to have Heart disease:', round((male_with_heart_disease/num_male) * 100))\n",
        "print('Percentage of Female to have Heart disease:', round((female_with_heart_disease/num_female) * 100))"
      ],
      "metadata": {
        "id": "LDVDYmHMqt-u"
      },
      "execution_count": null,
      "outputs": []
    },
    {
      "cell_type": "markdown",
      "source": [
        "The above chart suggests that although more female respondents were involved in the survey, males are more likely to have heart disease."
      ],
      "metadata": {
        "id": "E9lkAnGitCy_"
      }
    },
    {
      "cell_type": "code",
      "source": [
        "# Plot the different races against Non-HD vs HD\n",
        "fig, ax = plt.subplots(figsize = (14,6))\n",
        "\n",
        "ax.hist(heart_disease[heart_disease[\"HeartDisease\"]=='No'][\"Race\"], bins=15, alpha=0.8, color=\"#4285f4\", label=\"No HeartDisease\")\n",
        "ax.hist(heart_disease[heart_disease[\"HeartDisease\"]=='Yes'][\"Race\"], bins=15, alpha=1, color=\"#ea4335\", label=\"HeartDisease\")\n",
        "\n",
        "ax.set_xlabel(\"Race\")\n",
        "ax.set_ylabel(\"Frequency\")\n",
        "\n",
        "ax.legend(bbox_to_anchor=(1.02, 1), loc=2, borderaxespad=0.)"
      ],
      "metadata": {
        "id": "xHbr1pfEui-7"
      },
      "execution_count": null,
      "outputs": []
    },
    {
      "cell_type": "markdown",
      "source": [
        "The above chart shows that according to the percentage of races represented by the data, White people are more likely to be diagnosed with heart disease. "
      ],
      "metadata": {
        "id": "pNyuPXFWu5BU"
      }
    },
    {
      "cell_type": "markdown",
      "source": [
        "### **DATA PREPROCESSING**"
      ],
      "metadata": {
        "id": "-fwntyeVs8i5"
      }
    },
    {
      "cell_type": "markdown",
      "source": [
        "**Handling Text and Categorical Attributes:** Most machine learning algorithms prefer numerical to alphabetical values. Therefore, the categories will be converted from text to numbers."
      ],
      "metadata": {
        "id": "-v15dkZ7O5oX"
      }
    },
    {
      "cell_type": "code",
      "source": [
        "# A copy of the data was created before manipulation\n",
        "heart_disease_copy = heart_disease.copy()\n",
        "heart_disease_copy"
      ],
      "metadata": {
        "id": "ZVsxJSXsYXXi",
        "colab": {
          "base_uri": "https://localhost:8080/",
          "height": 488
        },
        "outputId": "faaafe4e-acf4-4328-89ba-cb7b5e28a8e7"
      },
      "execution_count": 4,
      "outputs": [
        {
          "output_type": "execute_result",
          "data": {
            "text/plain": [
              "       HeartDisease    BMI Smoking AlcoholDrinking Stroke  PhysicalHealth  \\\n",
              "0                No  16.60     Yes              No     No               3   \n",
              "1                No  20.34      No              No    Yes               0   \n",
              "2                No  26.58     Yes              No     No              20   \n",
              "3                No  24.21      No              No     No               0   \n",
              "4                No  23.71      No              No     No              28   \n",
              "...             ...    ...     ...             ...    ...             ...   \n",
              "319790          Yes  27.41     Yes              No     No               7   \n",
              "319791           No  29.84     Yes              No     No               0   \n",
              "319792           No  24.24      No              No     No               0   \n",
              "319793           No  32.81      No              No     No               0   \n",
              "319794           No  46.56      No              No     No               0   \n",
              "\n",
              "        MentalHealth DiffWalking     Sex  AgeCategory      Race Diabetic  \\\n",
              "0                 30          No  Female        55-59     White      Yes   \n",
              "1                  0          No  Female  80 or older     White       No   \n",
              "2                 30          No    Male        65-69     White      Yes   \n",
              "3                  0          No  Female        75-79     White       No   \n",
              "4                  0         Yes  Female        40-44     White       No   \n",
              "...              ...         ...     ...          ...       ...      ...   \n",
              "319790             0         Yes    Male        60-64  Hispanic      Yes   \n",
              "319791             0          No    Male        35-39  Hispanic       No   \n",
              "319792             0          No  Female        45-49  Hispanic       No   \n",
              "319793             0          No  Female        25-29  Hispanic       No   \n",
              "319794             0          No  Female  80 or older  Hispanic       No   \n",
              "\n",
              "       PhysicalActivity  GenHealth  SleepTime Asthma KidneyDisease SkinCancer  \n",
              "0                   Yes  Very good          5    Yes            No        Yes  \n",
              "1                   Yes  Very good          7     No            No         No  \n",
              "2                   Yes       Fair          8    Yes            No         No  \n",
              "3                    No       Good          6     No            No        Yes  \n",
              "4                   Yes  Very good          8     No            No         No  \n",
              "...                 ...        ...        ...    ...           ...        ...  \n",
              "319790               No       Fair          6    Yes            No         No  \n",
              "319791              Yes  Very good          5    Yes            No         No  \n",
              "319792              Yes       Good          6     No            No         No  \n",
              "319793               No       Good         12     No            No         No  \n",
              "319794              Yes       Good          8     No            No         No  \n",
              "\n",
              "[319795 rows x 18 columns]"
            ],
            "text/html": [
              "\n",
              "  <div id=\"df-61e96856-c5ca-4a32-a1fa-9067c29cec0a\">\n",
              "    <div class=\"colab-df-container\">\n",
              "      <div>\n",
              "<style scoped>\n",
              "    .dataframe tbody tr th:only-of-type {\n",
              "        vertical-align: middle;\n",
              "    }\n",
              "\n",
              "    .dataframe tbody tr th {\n",
              "        vertical-align: top;\n",
              "    }\n",
              "\n",
              "    .dataframe thead th {\n",
              "        text-align: right;\n",
              "    }\n",
              "</style>\n",
              "<table border=\"1\" class=\"dataframe\">\n",
              "  <thead>\n",
              "    <tr style=\"text-align: right;\">\n",
              "      <th></th>\n",
              "      <th>HeartDisease</th>\n",
              "      <th>BMI</th>\n",
              "      <th>Smoking</th>\n",
              "      <th>AlcoholDrinking</th>\n",
              "      <th>Stroke</th>\n",
              "      <th>PhysicalHealth</th>\n",
              "      <th>MentalHealth</th>\n",
              "      <th>DiffWalking</th>\n",
              "      <th>Sex</th>\n",
              "      <th>AgeCategory</th>\n",
              "      <th>Race</th>\n",
              "      <th>Diabetic</th>\n",
              "      <th>PhysicalActivity</th>\n",
              "      <th>GenHealth</th>\n",
              "      <th>SleepTime</th>\n",
              "      <th>Asthma</th>\n",
              "      <th>KidneyDisease</th>\n",
              "      <th>SkinCancer</th>\n",
              "    </tr>\n",
              "  </thead>\n",
              "  <tbody>\n",
              "    <tr>\n",
              "      <th>0</th>\n",
              "      <td>No</td>\n",
              "      <td>16.60</td>\n",
              "      <td>Yes</td>\n",
              "      <td>No</td>\n",
              "      <td>No</td>\n",
              "      <td>3</td>\n",
              "      <td>30</td>\n",
              "      <td>No</td>\n",
              "      <td>Female</td>\n",
              "      <td>55-59</td>\n",
              "      <td>White</td>\n",
              "      <td>Yes</td>\n",
              "      <td>Yes</td>\n",
              "      <td>Very good</td>\n",
              "      <td>5</td>\n",
              "      <td>Yes</td>\n",
              "      <td>No</td>\n",
              "      <td>Yes</td>\n",
              "    </tr>\n",
              "    <tr>\n",
              "      <th>1</th>\n",
              "      <td>No</td>\n",
              "      <td>20.34</td>\n",
              "      <td>No</td>\n",
              "      <td>No</td>\n",
              "      <td>Yes</td>\n",
              "      <td>0</td>\n",
              "      <td>0</td>\n",
              "      <td>No</td>\n",
              "      <td>Female</td>\n",
              "      <td>80 or older</td>\n",
              "      <td>White</td>\n",
              "      <td>No</td>\n",
              "      <td>Yes</td>\n",
              "      <td>Very good</td>\n",
              "      <td>7</td>\n",
              "      <td>No</td>\n",
              "      <td>No</td>\n",
              "      <td>No</td>\n",
              "    </tr>\n",
              "    <tr>\n",
              "      <th>2</th>\n",
              "      <td>No</td>\n",
              "      <td>26.58</td>\n",
              "      <td>Yes</td>\n",
              "      <td>No</td>\n",
              "      <td>No</td>\n",
              "      <td>20</td>\n",
              "      <td>30</td>\n",
              "      <td>No</td>\n",
              "      <td>Male</td>\n",
              "      <td>65-69</td>\n",
              "      <td>White</td>\n",
              "      <td>Yes</td>\n",
              "      <td>Yes</td>\n",
              "      <td>Fair</td>\n",
              "      <td>8</td>\n",
              "      <td>Yes</td>\n",
              "      <td>No</td>\n",
              "      <td>No</td>\n",
              "    </tr>\n",
              "    <tr>\n",
              "      <th>3</th>\n",
              "      <td>No</td>\n",
              "      <td>24.21</td>\n",
              "      <td>No</td>\n",
              "      <td>No</td>\n",
              "      <td>No</td>\n",
              "      <td>0</td>\n",
              "      <td>0</td>\n",
              "      <td>No</td>\n",
              "      <td>Female</td>\n",
              "      <td>75-79</td>\n",
              "      <td>White</td>\n",
              "      <td>No</td>\n",
              "      <td>No</td>\n",
              "      <td>Good</td>\n",
              "      <td>6</td>\n",
              "      <td>No</td>\n",
              "      <td>No</td>\n",
              "      <td>Yes</td>\n",
              "    </tr>\n",
              "    <tr>\n",
              "      <th>4</th>\n",
              "      <td>No</td>\n",
              "      <td>23.71</td>\n",
              "      <td>No</td>\n",
              "      <td>No</td>\n",
              "      <td>No</td>\n",
              "      <td>28</td>\n",
              "      <td>0</td>\n",
              "      <td>Yes</td>\n",
              "      <td>Female</td>\n",
              "      <td>40-44</td>\n",
              "      <td>White</td>\n",
              "      <td>No</td>\n",
              "      <td>Yes</td>\n",
              "      <td>Very good</td>\n",
              "      <td>8</td>\n",
              "      <td>No</td>\n",
              "      <td>No</td>\n",
              "      <td>No</td>\n",
              "    </tr>\n",
              "    <tr>\n",
              "      <th>...</th>\n",
              "      <td>...</td>\n",
              "      <td>...</td>\n",
              "      <td>...</td>\n",
              "      <td>...</td>\n",
              "      <td>...</td>\n",
              "      <td>...</td>\n",
              "      <td>...</td>\n",
              "      <td>...</td>\n",
              "      <td>...</td>\n",
              "      <td>...</td>\n",
              "      <td>...</td>\n",
              "      <td>...</td>\n",
              "      <td>...</td>\n",
              "      <td>...</td>\n",
              "      <td>...</td>\n",
              "      <td>...</td>\n",
              "      <td>...</td>\n",
              "      <td>...</td>\n",
              "    </tr>\n",
              "    <tr>\n",
              "      <th>319790</th>\n",
              "      <td>Yes</td>\n",
              "      <td>27.41</td>\n",
              "      <td>Yes</td>\n",
              "      <td>No</td>\n",
              "      <td>No</td>\n",
              "      <td>7</td>\n",
              "      <td>0</td>\n",
              "      <td>Yes</td>\n",
              "      <td>Male</td>\n",
              "      <td>60-64</td>\n",
              "      <td>Hispanic</td>\n",
              "      <td>Yes</td>\n",
              "      <td>No</td>\n",
              "      <td>Fair</td>\n",
              "      <td>6</td>\n",
              "      <td>Yes</td>\n",
              "      <td>No</td>\n",
              "      <td>No</td>\n",
              "    </tr>\n",
              "    <tr>\n",
              "      <th>319791</th>\n",
              "      <td>No</td>\n",
              "      <td>29.84</td>\n",
              "      <td>Yes</td>\n",
              "      <td>No</td>\n",
              "      <td>No</td>\n",
              "      <td>0</td>\n",
              "      <td>0</td>\n",
              "      <td>No</td>\n",
              "      <td>Male</td>\n",
              "      <td>35-39</td>\n",
              "      <td>Hispanic</td>\n",
              "      <td>No</td>\n",
              "      <td>Yes</td>\n",
              "      <td>Very good</td>\n",
              "      <td>5</td>\n",
              "      <td>Yes</td>\n",
              "      <td>No</td>\n",
              "      <td>No</td>\n",
              "    </tr>\n",
              "    <tr>\n",
              "      <th>319792</th>\n",
              "      <td>No</td>\n",
              "      <td>24.24</td>\n",
              "      <td>No</td>\n",
              "      <td>No</td>\n",
              "      <td>No</td>\n",
              "      <td>0</td>\n",
              "      <td>0</td>\n",
              "      <td>No</td>\n",
              "      <td>Female</td>\n",
              "      <td>45-49</td>\n",
              "      <td>Hispanic</td>\n",
              "      <td>No</td>\n",
              "      <td>Yes</td>\n",
              "      <td>Good</td>\n",
              "      <td>6</td>\n",
              "      <td>No</td>\n",
              "      <td>No</td>\n",
              "      <td>No</td>\n",
              "    </tr>\n",
              "    <tr>\n",
              "      <th>319793</th>\n",
              "      <td>No</td>\n",
              "      <td>32.81</td>\n",
              "      <td>No</td>\n",
              "      <td>No</td>\n",
              "      <td>No</td>\n",
              "      <td>0</td>\n",
              "      <td>0</td>\n",
              "      <td>No</td>\n",
              "      <td>Female</td>\n",
              "      <td>25-29</td>\n",
              "      <td>Hispanic</td>\n",
              "      <td>No</td>\n",
              "      <td>No</td>\n",
              "      <td>Good</td>\n",
              "      <td>12</td>\n",
              "      <td>No</td>\n",
              "      <td>No</td>\n",
              "      <td>No</td>\n",
              "    </tr>\n",
              "    <tr>\n",
              "      <th>319794</th>\n",
              "      <td>No</td>\n",
              "      <td>46.56</td>\n",
              "      <td>No</td>\n",
              "      <td>No</td>\n",
              "      <td>No</td>\n",
              "      <td>0</td>\n",
              "      <td>0</td>\n",
              "      <td>No</td>\n",
              "      <td>Female</td>\n",
              "      <td>80 or older</td>\n",
              "      <td>Hispanic</td>\n",
              "      <td>No</td>\n",
              "      <td>Yes</td>\n",
              "      <td>Good</td>\n",
              "      <td>8</td>\n",
              "      <td>No</td>\n",
              "      <td>No</td>\n",
              "      <td>No</td>\n",
              "    </tr>\n",
              "  </tbody>\n",
              "</table>\n",
              "<p>319795 rows × 18 columns</p>\n",
              "</div>\n",
              "      <button class=\"colab-df-convert\" onclick=\"convertToInteractive('df-61e96856-c5ca-4a32-a1fa-9067c29cec0a')\"\n",
              "              title=\"Convert this dataframe to an interactive table.\"\n",
              "              style=\"display:none;\">\n",
              "        \n",
              "  <svg xmlns=\"http://www.w3.org/2000/svg\" height=\"24px\"viewBox=\"0 0 24 24\"\n",
              "       width=\"24px\">\n",
              "    <path d=\"M0 0h24v24H0V0z\" fill=\"none\"/>\n",
              "    <path d=\"M18.56 5.44l.94 2.06.94-2.06 2.06-.94-2.06-.94-.94-2.06-.94 2.06-2.06.94zm-11 1L8.5 8.5l.94-2.06 2.06-.94-2.06-.94L8.5 2.5l-.94 2.06-2.06.94zm10 10l.94 2.06.94-2.06 2.06-.94-2.06-.94-.94-2.06-.94 2.06-2.06.94z\"/><path d=\"M17.41 7.96l-1.37-1.37c-.4-.4-.92-.59-1.43-.59-.52 0-1.04.2-1.43.59L10.3 9.45l-7.72 7.72c-.78.78-.78 2.05 0 2.83L4 21.41c.39.39.9.59 1.41.59.51 0 1.02-.2 1.41-.59l7.78-7.78 2.81-2.81c.8-.78.8-2.07 0-2.86zM5.41 20L4 18.59l7.72-7.72 1.47 1.35L5.41 20z\"/>\n",
              "  </svg>\n",
              "      </button>\n",
              "      \n",
              "  <style>\n",
              "    .colab-df-container {\n",
              "      display:flex;\n",
              "      flex-wrap:wrap;\n",
              "      gap: 12px;\n",
              "    }\n",
              "\n",
              "    .colab-df-convert {\n",
              "      background-color: #E8F0FE;\n",
              "      border: none;\n",
              "      border-radius: 50%;\n",
              "      cursor: pointer;\n",
              "      display: none;\n",
              "      fill: #1967D2;\n",
              "      height: 32px;\n",
              "      padding: 0 0 0 0;\n",
              "      width: 32px;\n",
              "    }\n",
              "\n",
              "    .colab-df-convert:hover {\n",
              "      background-color: #E2EBFA;\n",
              "      box-shadow: 0px 1px 2px rgba(60, 64, 67, 0.3), 0px 1px 3px 1px rgba(60, 64, 67, 0.15);\n",
              "      fill: #174EA6;\n",
              "    }\n",
              "\n",
              "    [theme=dark] .colab-df-convert {\n",
              "      background-color: #3B4455;\n",
              "      fill: #D2E3FC;\n",
              "    }\n",
              "\n",
              "    [theme=dark] .colab-df-convert:hover {\n",
              "      background-color: #434B5C;\n",
              "      box-shadow: 0px 1px 3px 1px rgba(0, 0, 0, 0.15);\n",
              "      filter: drop-shadow(0px 1px 2px rgba(0, 0, 0, 0.3));\n",
              "      fill: #FFFFFF;\n",
              "    }\n",
              "  </style>\n",
              "\n",
              "      <script>\n",
              "        const buttonEl =\n",
              "          document.querySelector('#df-61e96856-c5ca-4a32-a1fa-9067c29cec0a button.colab-df-convert');\n",
              "        buttonEl.style.display =\n",
              "          google.colab.kernel.accessAllowed ? 'block' : 'none';\n",
              "\n",
              "        async function convertToInteractive(key) {\n",
              "          const element = document.querySelector('#df-61e96856-c5ca-4a32-a1fa-9067c29cec0a');\n",
              "          const dataTable =\n",
              "            await google.colab.kernel.invokeFunction('convertToInteractive',\n",
              "                                                     [key], {});\n",
              "          if (!dataTable) return;\n",
              "\n",
              "          const docLinkHtml = 'Like what you see? Visit the ' +\n",
              "            '<a target=\"_blank\" href=https://colab.research.google.com/notebooks/data_table.ipynb>data table notebook</a>'\n",
              "            + ' to learn more about interactive tables.';\n",
              "          element.innerHTML = '';\n",
              "          dataTable['output_type'] = 'display_data';\n",
              "          await google.colab.output.renderOutput(dataTable, element);\n",
              "          const docLink = document.createElement('div');\n",
              "          docLink.innerHTML = docLinkHtml;\n",
              "          element.appendChild(docLink);\n",
              "        }\n",
              "      </script>\n",
              "    </div>\n",
              "  </div>\n",
              "  "
            ]
          },
          "metadata": {},
          "execution_count": 4
        }
      ]
    },
    {
      "cell_type": "code",
      "source": [
        "# Oversampling of samples with heart diseases to balance data\n",
        "heart_disease_copy\n",
        "class_0 = heart_disease_copy[heart_disease_copy['HeartDisease'] == 'No']\n",
        "class_1 = heart_disease_copy[heart_disease_copy['HeartDisease'] == 'Yes']\n",
        "\n",
        "class_1 = class_1.sample(len(class_0),replace=True)\n",
        "heart_disease_copy = pd.concat([class_0, class_1], axis=0)\n",
        "heart_disease_copy"
      ],
      "metadata": {
        "colab": {
          "base_uri": "https://localhost:8080/",
          "height": 488
        },
        "id": "2gl7GRv55nPQ",
        "outputId": "977dbed3-6755-4c65-c501-bdde7324af18"
      },
      "execution_count": 5,
      "outputs": [
        {
          "output_type": "execute_result",
          "data": {
            "text/plain": [
              "       HeartDisease    BMI Smoking AlcoholDrinking Stroke  PhysicalHealth  \\\n",
              "0                No  16.60     Yes              No     No               3   \n",
              "1                No  20.34      No              No    Yes               0   \n",
              "2                No  26.58     Yes              No     No              20   \n",
              "3                No  24.21      No              No     No               0   \n",
              "4                No  23.71      No              No     No              28   \n",
              "...             ...    ...     ...             ...    ...             ...   \n",
              "47996           Yes  22.92      No              No     No               0   \n",
              "83453           Yes  26.00      No              No     No               0   \n",
              "29718           Yes  12.48      No              No     No               0   \n",
              "109698          Yes  25.10     Yes              No    Yes              30   \n",
              "16072           Yes  24.96     Yes              No     No               0   \n",
              "\n",
              "        MentalHealth DiffWalking     Sex  AgeCategory   Race Diabetic  \\\n",
              "0                 30          No  Female        55-59  White      Yes   \n",
              "1                  0          No  Female  80 or older  White       No   \n",
              "2                 30          No    Male        65-69  White      Yes   \n",
              "3                  0          No  Female        75-79  White       No   \n",
              "4                  0         Yes  Female        40-44  White       No   \n",
              "...              ...         ...     ...          ...    ...      ...   \n",
              "47996              0          No    Male  80 or older  White       No   \n",
              "83453              0          No    Male        75-79  White      Yes   \n",
              "29718              0          No  Female        65-69  White       No   \n",
              "109698            30         Yes    Male        50-54  White      Yes   \n",
              "16072              0          No    Male  80 or older  White       No   \n",
              "\n",
              "       PhysicalActivity  GenHealth  SleepTime Asthma KidneyDisease SkinCancer  \n",
              "0                   Yes  Very good          5    Yes            No        Yes  \n",
              "1                   Yes  Very good          7     No            No         No  \n",
              "2                   Yes       Fair          8    Yes            No         No  \n",
              "3                    No       Good          6     No            No        Yes  \n",
              "4                   Yes  Very good          8     No            No         No  \n",
              "...                 ...        ...        ...    ...           ...        ...  \n",
              "47996               Yes       Good          6     No            No         No  \n",
              "83453               Yes  Excellent          8     No            No         No  \n",
              "29718                No       Good         11    Yes            No         No  \n",
              "109698              Yes       Poor         12     No            No         No  \n",
              "16072               Yes       Good          6     No            No        Yes  \n",
              "\n",
              "[584844 rows x 18 columns]"
            ],
            "text/html": [
              "\n",
              "  <div id=\"df-245aef40-fffc-480d-be7e-af9261d6d009\">\n",
              "    <div class=\"colab-df-container\">\n",
              "      <div>\n",
              "<style scoped>\n",
              "    .dataframe tbody tr th:only-of-type {\n",
              "        vertical-align: middle;\n",
              "    }\n",
              "\n",
              "    .dataframe tbody tr th {\n",
              "        vertical-align: top;\n",
              "    }\n",
              "\n",
              "    .dataframe thead th {\n",
              "        text-align: right;\n",
              "    }\n",
              "</style>\n",
              "<table border=\"1\" class=\"dataframe\">\n",
              "  <thead>\n",
              "    <tr style=\"text-align: right;\">\n",
              "      <th></th>\n",
              "      <th>HeartDisease</th>\n",
              "      <th>BMI</th>\n",
              "      <th>Smoking</th>\n",
              "      <th>AlcoholDrinking</th>\n",
              "      <th>Stroke</th>\n",
              "      <th>PhysicalHealth</th>\n",
              "      <th>MentalHealth</th>\n",
              "      <th>DiffWalking</th>\n",
              "      <th>Sex</th>\n",
              "      <th>AgeCategory</th>\n",
              "      <th>Race</th>\n",
              "      <th>Diabetic</th>\n",
              "      <th>PhysicalActivity</th>\n",
              "      <th>GenHealth</th>\n",
              "      <th>SleepTime</th>\n",
              "      <th>Asthma</th>\n",
              "      <th>KidneyDisease</th>\n",
              "      <th>SkinCancer</th>\n",
              "    </tr>\n",
              "  </thead>\n",
              "  <tbody>\n",
              "    <tr>\n",
              "      <th>0</th>\n",
              "      <td>No</td>\n",
              "      <td>16.60</td>\n",
              "      <td>Yes</td>\n",
              "      <td>No</td>\n",
              "      <td>No</td>\n",
              "      <td>3</td>\n",
              "      <td>30</td>\n",
              "      <td>No</td>\n",
              "      <td>Female</td>\n",
              "      <td>55-59</td>\n",
              "      <td>White</td>\n",
              "      <td>Yes</td>\n",
              "      <td>Yes</td>\n",
              "      <td>Very good</td>\n",
              "      <td>5</td>\n",
              "      <td>Yes</td>\n",
              "      <td>No</td>\n",
              "      <td>Yes</td>\n",
              "    </tr>\n",
              "    <tr>\n",
              "      <th>1</th>\n",
              "      <td>No</td>\n",
              "      <td>20.34</td>\n",
              "      <td>No</td>\n",
              "      <td>No</td>\n",
              "      <td>Yes</td>\n",
              "      <td>0</td>\n",
              "      <td>0</td>\n",
              "      <td>No</td>\n",
              "      <td>Female</td>\n",
              "      <td>80 or older</td>\n",
              "      <td>White</td>\n",
              "      <td>No</td>\n",
              "      <td>Yes</td>\n",
              "      <td>Very good</td>\n",
              "      <td>7</td>\n",
              "      <td>No</td>\n",
              "      <td>No</td>\n",
              "      <td>No</td>\n",
              "    </tr>\n",
              "    <tr>\n",
              "      <th>2</th>\n",
              "      <td>No</td>\n",
              "      <td>26.58</td>\n",
              "      <td>Yes</td>\n",
              "      <td>No</td>\n",
              "      <td>No</td>\n",
              "      <td>20</td>\n",
              "      <td>30</td>\n",
              "      <td>No</td>\n",
              "      <td>Male</td>\n",
              "      <td>65-69</td>\n",
              "      <td>White</td>\n",
              "      <td>Yes</td>\n",
              "      <td>Yes</td>\n",
              "      <td>Fair</td>\n",
              "      <td>8</td>\n",
              "      <td>Yes</td>\n",
              "      <td>No</td>\n",
              "      <td>No</td>\n",
              "    </tr>\n",
              "    <tr>\n",
              "      <th>3</th>\n",
              "      <td>No</td>\n",
              "      <td>24.21</td>\n",
              "      <td>No</td>\n",
              "      <td>No</td>\n",
              "      <td>No</td>\n",
              "      <td>0</td>\n",
              "      <td>0</td>\n",
              "      <td>No</td>\n",
              "      <td>Female</td>\n",
              "      <td>75-79</td>\n",
              "      <td>White</td>\n",
              "      <td>No</td>\n",
              "      <td>No</td>\n",
              "      <td>Good</td>\n",
              "      <td>6</td>\n",
              "      <td>No</td>\n",
              "      <td>No</td>\n",
              "      <td>Yes</td>\n",
              "    </tr>\n",
              "    <tr>\n",
              "      <th>4</th>\n",
              "      <td>No</td>\n",
              "      <td>23.71</td>\n",
              "      <td>No</td>\n",
              "      <td>No</td>\n",
              "      <td>No</td>\n",
              "      <td>28</td>\n",
              "      <td>0</td>\n",
              "      <td>Yes</td>\n",
              "      <td>Female</td>\n",
              "      <td>40-44</td>\n",
              "      <td>White</td>\n",
              "      <td>No</td>\n",
              "      <td>Yes</td>\n",
              "      <td>Very good</td>\n",
              "      <td>8</td>\n",
              "      <td>No</td>\n",
              "      <td>No</td>\n",
              "      <td>No</td>\n",
              "    </tr>\n",
              "    <tr>\n",
              "      <th>...</th>\n",
              "      <td>...</td>\n",
              "      <td>...</td>\n",
              "      <td>...</td>\n",
              "      <td>...</td>\n",
              "      <td>...</td>\n",
              "      <td>...</td>\n",
              "      <td>...</td>\n",
              "      <td>...</td>\n",
              "      <td>...</td>\n",
              "      <td>...</td>\n",
              "      <td>...</td>\n",
              "      <td>...</td>\n",
              "      <td>...</td>\n",
              "      <td>...</td>\n",
              "      <td>...</td>\n",
              "      <td>...</td>\n",
              "      <td>...</td>\n",
              "      <td>...</td>\n",
              "    </tr>\n",
              "    <tr>\n",
              "      <th>47996</th>\n",
              "      <td>Yes</td>\n",
              "      <td>22.92</td>\n",
              "      <td>No</td>\n",
              "      <td>No</td>\n",
              "      <td>No</td>\n",
              "      <td>0</td>\n",
              "      <td>0</td>\n",
              "      <td>No</td>\n",
              "      <td>Male</td>\n",
              "      <td>80 or older</td>\n",
              "      <td>White</td>\n",
              "      <td>No</td>\n",
              "      <td>Yes</td>\n",
              "      <td>Good</td>\n",
              "      <td>6</td>\n",
              "      <td>No</td>\n",
              "      <td>No</td>\n",
              "      <td>No</td>\n",
              "    </tr>\n",
              "    <tr>\n",
              "      <th>83453</th>\n",
              "      <td>Yes</td>\n",
              "      <td>26.00</td>\n",
              "      <td>No</td>\n",
              "      <td>No</td>\n",
              "      <td>No</td>\n",
              "      <td>0</td>\n",
              "      <td>0</td>\n",
              "      <td>No</td>\n",
              "      <td>Male</td>\n",
              "      <td>75-79</td>\n",
              "      <td>White</td>\n",
              "      <td>Yes</td>\n",
              "      <td>Yes</td>\n",
              "      <td>Excellent</td>\n",
              "      <td>8</td>\n",
              "      <td>No</td>\n",
              "      <td>No</td>\n",
              "      <td>No</td>\n",
              "    </tr>\n",
              "    <tr>\n",
              "      <th>29718</th>\n",
              "      <td>Yes</td>\n",
              "      <td>12.48</td>\n",
              "      <td>No</td>\n",
              "      <td>No</td>\n",
              "      <td>No</td>\n",
              "      <td>0</td>\n",
              "      <td>0</td>\n",
              "      <td>No</td>\n",
              "      <td>Female</td>\n",
              "      <td>65-69</td>\n",
              "      <td>White</td>\n",
              "      <td>No</td>\n",
              "      <td>No</td>\n",
              "      <td>Good</td>\n",
              "      <td>11</td>\n",
              "      <td>Yes</td>\n",
              "      <td>No</td>\n",
              "      <td>No</td>\n",
              "    </tr>\n",
              "    <tr>\n",
              "      <th>109698</th>\n",
              "      <td>Yes</td>\n",
              "      <td>25.10</td>\n",
              "      <td>Yes</td>\n",
              "      <td>No</td>\n",
              "      <td>Yes</td>\n",
              "      <td>30</td>\n",
              "      <td>30</td>\n",
              "      <td>Yes</td>\n",
              "      <td>Male</td>\n",
              "      <td>50-54</td>\n",
              "      <td>White</td>\n",
              "      <td>Yes</td>\n",
              "      <td>Yes</td>\n",
              "      <td>Poor</td>\n",
              "      <td>12</td>\n",
              "      <td>No</td>\n",
              "      <td>No</td>\n",
              "      <td>No</td>\n",
              "    </tr>\n",
              "    <tr>\n",
              "      <th>16072</th>\n",
              "      <td>Yes</td>\n",
              "      <td>24.96</td>\n",
              "      <td>Yes</td>\n",
              "      <td>No</td>\n",
              "      <td>No</td>\n",
              "      <td>0</td>\n",
              "      <td>0</td>\n",
              "      <td>No</td>\n",
              "      <td>Male</td>\n",
              "      <td>80 or older</td>\n",
              "      <td>White</td>\n",
              "      <td>No</td>\n",
              "      <td>Yes</td>\n",
              "      <td>Good</td>\n",
              "      <td>6</td>\n",
              "      <td>No</td>\n",
              "      <td>No</td>\n",
              "      <td>Yes</td>\n",
              "    </tr>\n",
              "  </tbody>\n",
              "</table>\n",
              "<p>584844 rows × 18 columns</p>\n",
              "</div>\n",
              "      <button class=\"colab-df-convert\" onclick=\"convertToInteractive('df-245aef40-fffc-480d-be7e-af9261d6d009')\"\n",
              "              title=\"Convert this dataframe to an interactive table.\"\n",
              "              style=\"display:none;\">\n",
              "        \n",
              "  <svg xmlns=\"http://www.w3.org/2000/svg\" height=\"24px\"viewBox=\"0 0 24 24\"\n",
              "       width=\"24px\">\n",
              "    <path d=\"M0 0h24v24H0V0z\" fill=\"none\"/>\n",
              "    <path d=\"M18.56 5.44l.94 2.06.94-2.06 2.06-.94-2.06-.94-.94-2.06-.94 2.06-2.06.94zm-11 1L8.5 8.5l.94-2.06 2.06-.94-2.06-.94L8.5 2.5l-.94 2.06-2.06.94zm10 10l.94 2.06.94-2.06 2.06-.94-2.06-.94-.94-2.06-.94 2.06-2.06.94z\"/><path d=\"M17.41 7.96l-1.37-1.37c-.4-.4-.92-.59-1.43-.59-.52 0-1.04.2-1.43.59L10.3 9.45l-7.72 7.72c-.78.78-.78 2.05 0 2.83L4 21.41c.39.39.9.59 1.41.59.51 0 1.02-.2 1.41-.59l7.78-7.78 2.81-2.81c.8-.78.8-2.07 0-2.86zM5.41 20L4 18.59l7.72-7.72 1.47 1.35L5.41 20z\"/>\n",
              "  </svg>\n",
              "      </button>\n",
              "      \n",
              "  <style>\n",
              "    .colab-df-container {\n",
              "      display:flex;\n",
              "      flex-wrap:wrap;\n",
              "      gap: 12px;\n",
              "    }\n",
              "\n",
              "    .colab-df-convert {\n",
              "      background-color: #E8F0FE;\n",
              "      border: none;\n",
              "      border-radius: 50%;\n",
              "      cursor: pointer;\n",
              "      display: none;\n",
              "      fill: #1967D2;\n",
              "      height: 32px;\n",
              "      padding: 0 0 0 0;\n",
              "      width: 32px;\n",
              "    }\n",
              "\n",
              "    .colab-df-convert:hover {\n",
              "      background-color: #E2EBFA;\n",
              "      box-shadow: 0px 1px 2px rgba(60, 64, 67, 0.3), 0px 1px 3px 1px rgba(60, 64, 67, 0.15);\n",
              "      fill: #174EA6;\n",
              "    }\n",
              "\n",
              "    [theme=dark] .colab-df-convert {\n",
              "      background-color: #3B4455;\n",
              "      fill: #D2E3FC;\n",
              "    }\n",
              "\n",
              "    [theme=dark] .colab-df-convert:hover {\n",
              "      background-color: #434B5C;\n",
              "      box-shadow: 0px 1px 3px 1px rgba(0, 0, 0, 0.15);\n",
              "      filter: drop-shadow(0px 1px 2px rgba(0, 0, 0, 0.3));\n",
              "      fill: #FFFFFF;\n",
              "    }\n",
              "  </style>\n",
              "\n",
              "      <script>\n",
              "        const buttonEl =\n",
              "          document.querySelector('#df-245aef40-fffc-480d-be7e-af9261d6d009 button.colab-df-convert');\n",
              "        buttonEl.style.display =\n",
              "          google.colab.kernel.accessAllowed ? 'block' : 'none';\n",
              "\n",
              "        async function convertToInteractive(key) {\n",
              "          const element = document.querySelector('#df-245aef40-fffc-480d-be7e-af9261d6d009');\n",
              "          const dataTable =\n",
              "            await google.colab.kernel.invokeFunction('convertToInteractive',\n",
              "                                                     [key], {});\n",
              "          if (!dataTable) return;\n",
              "\n",
              "          const docLinkHtml = 'Like what you see? Visit the ' +\n",
              "            '<a target=\"_blank\" href=https://colab.research.google.com/notebooks/data_table.ipynb>data table notebook</a>'\n",
              "            + ' to learn more about interactive tables.';\n",
              "          element.innerHTML = '';\n",
              "          dataTable['output_type'] = 'display_data';\n",
              "          await google.colab.output.renderOutput(dataTable, element);\n",
              "          const docLink = document.createElement('div');\n",
              "          docLink.innerHTML = docLinkHtml;\n",
              "          element.appendChild(docLink);\n",
              "        }\n",
              "      </script>\n",
              "    </div>\n",
              "  </div>\n",
              "  "
            ]
          },
          "metadata": {},
          "execution_count": 5
        }
      ]
    },
    {
      "cell_type": "markdown",
      "source": [
        "The mean age for each age category replaces age values."
      ],
      "metadata": {
        "id": "a4e-x_WJ3wNq"
      }
    },
    {
      "cell_type": "code",
      "source": [
        "# Calculate median age to represent each age category, making them continuous feature\n",
        "encode_AgeCategory = {'55-59':57, '80 or older':80, '65-69':67,\n",
        "                      '75-79':77,'40-44':42,'70-74':72,'60-64':62,\n",
        "                      '50-54':52,'45-49':47,'18-24':21,'35-39':37,\n",
        "                      '30-34':32,'25-29':27}\n",
        "heart_disease_copy['AgeCategory'] = heart_disease_copy['AgeCategory'].apply(lambda x: encode_AgeCategory[x])\n",
        "heart_disease_copy['AgeCategory'] = heart_disease_copy['AgeCategory'].astype('float')"
      ],
      "metadata": {
        "id": "SFicqmKGu70e"
      },
      "execution_count": 6,
      "outputs": []
    },
    {
      "cell_type": "markdown",
      "source": [
        "Binary values were then used to represent a respondents response to having heart disease or not."
      ],
      "metadata": {
        "id": "iHkA38UL4DeI"
      }
    },
    {
      "cell_type": "code",
      "source": [
        "# Dictionary for binary values to the HeartDisease column\n",
        "cleanup_nums = {\"HeartDisease\":     {\"No\": 0, \"Yes\": 1}}"
      ],
      "metadata": {
        "id": "Eh5yONbxYejn"
      },
      "execution_count": 7,
      "outputs": []
    },
    {
      "cell_type": "code",
      "source": [
        "# Convert the column values to numbers using replace\n",
        "heart_disease_copy = heart_disease_copy.replace(cleanup_nums)\n",
        "heart_disease_copy"
      ],
      "metadata": {
        "id": "Oh5up7EyYgdR",
        "colab": {
          "base_uri": "https://localhost:8080/",
          "height": 488
        },
        "outputId": "69354260-18e6-4c1a-bf9d-b115b36a63b2"
      },
      "execution_count": 8,
      "outputs": [
        {
          "output_type": "execute_result",
          "data": {
            "text/plain": [
              "        HeartDisease    BMI Smoking AlcoholDrinking Stroke  PhysicalHealth  \\\n",
              "0                  0  16.60     Yes              No     No               3   \n",
              "1                  0  20.34      No              No    Yes               0   \n",
              "2                  0  26.58     Yes              No     No              20   \n",
              "3                  0  24.21      No              No     No               0   \n",
              "4                  0  23.71      No              No     No              28   \n",
              "...              ...    ...     ...             ...    ...             ...   \n",
              "47996              1  22.92      No              No     No               0   \n",
              "83453              1  26.00      No              No     No               0   \n",
              "29718              1  12.48      No              No     No               0   \n",
              "109698             1  25.10     Yes              No    Yes              30   \n",
              "16072              1  24.96     Yes              No     No               0   \n",
              "\n",
              "        MentalHealth DiffWalking     Sex  AgeCategory   Race Diabetic  \\\n",
              "0                 30          No  Female         57.0  White      Yes   \n",
              "1                  0          No  Female         80.0  White       No   \n",
              "2                 30          No    Male         67.0  White      Yes   \n",
              "3                  0          No  Female         77.0  White       No   \n",
              "4                  0         Yes  Female         42.0  White       No   \n",
              "...              ...         ...     ...          ...    ...      ...   \n",
              "47996              0          No    Male         80.0  White       No   \n",
              "83453              0          No    Male         77.0  White      Yes   \n",
              "29718              0          No  Female         67.0  White       No   \n",
              "109698            30         Yes    Male         52.0  White      Yes   \n",
              "16072              0          No    Male         80.0  White       No   \n",
              "\n",
              "       PhysicalActivity  GenHealth  SleepTime Asthma KidneyDisease SkinCancer  \n",
              "0                   Yes  Very good          5    Yes            No        Yes  \n",
              "1                   Yes  Very good          7     No            No         No  \n",
              "2                   Yes       Fair          8    Yes            No         No  \n",
              "3                    No       Good          6     No            No        Yes  \n",
              "4                   Yes  Very good          8     No            No         No  \n",
              "...                 ...        ...        ...    ...           ...        ...  \n",
              "47996               Yes       Good          6     No            No         No  \n",
              "83453               Yes  Excellent          8     No            No         No  \n",
              "29718                No       Good         11    Yes            No         No  \n",
              "109698              Yes       Poor         12     No            No         No  \n",
              "16072               Yes       Good          6     No            No        Yes  \n",
              "\n",
              "[584844 rows x 18 columns]"
            ],
            "text/html": [
              "\n",
              "  <div id=\"df-64fde24c-a8fe-4d74-b103-2ee3dec52723\">\n",
              "    <div class=\"colab-df-container\">\n",
              "      <div>\n",
              "<style scoped>\n",
              "    .dataframe tbody tr th:only-of-type {\n",
              "        vertical-align: middle;\n",
              "    }\n",
              "\n",
              "    .dataframe tbody tr th {\n",
              "        vertical-align: top;\n",
              "    }\n",
              "\n",
              "    .dataframe thead th {\n",
              "        text-align: right;\n",
              "    }\n",
              "</style>\n",
              "<table border=\"1\" class=\"dataframe\">\n",
              "  <thead>\n",
              "    <tr style=\"text-align: right;\">\n",
              "      <th></th>\n",
              "      <th>HeartDisease</th>\n",
              "      <th>BMI</th>\n",
              "      <th>Smoking</th>\n",
              "      <th>AlcoholDrinking</th>\n",
              "      <th>Stroke</th>\n",
              "      <th>PhysicalHealth</th>\n",
              "      <th>MentalHealth</th>\n",
              "      <th>DiffWalking</th>\n",
              "      <th>Sex</th>\n",
              "      <th>AgeCategory</th>\n",
              "      <th>Race</th>\n",
              "      <th>Diabetic</th>\n",
              "      <th>PhysicalActivity</th>\n",
              "      <th>GenHealth</th>\n",
              "      <th>SleepTime</th>\n",
              "      <th>Asthma</th>\n",
              "      <th>KidneyDisease</th>\n",
              "      <th>SkinCancer</th>\n",
              "    </tr>\n",
              "  </thead>\n",
              "  <tbody>\n",
              "    <tr>\n",
              "      <th>0</th>\n",
              "      <td>0</td>\n",
              "      <td>16.60</td>\n",
              "      <td>Yes</td>\n",
              "      <td>No</td>\n",
              "      <td>No</td>\n",
              "      <td>3</td>\n",
              "      <td>30</td>\n",
              "      <td>No</td>\n",
              "      <td>Female</td>\n",
              "      <td>57.0</td>\n",
              "      <td>White</td>\n",
              "      <td>Yes</td>\n",
              "      <td>Yes</td>\n",
              "      <td>Very good</td>\n",
              "      <td>5</td>\n",
              "      <td>Yes</td>\n",
              "      <td>No</td>\n",
              "      <td>Yes</td>\n",
              "    </tr>\n",
              "    <tr>\n",
              "      <th>1</th>\n",
              "      <td>0</td>\n",
              "      <td>20.34</td>\n",
              "      <td>No</td>\n",
              "      <td>No</td>\n",
              "      <td>Yes</td>\n",
              "      <td>0</td>\n",
              "      <td>0</td>\n",
              "      <td>No</td>\n",
              "      <td>Female</td>\n",
              "      <td>80.0</td>\n",
              "      <td>White</td>\n",
              "      <td>No</td>\n",
              "      <td>Yes</td>\n",
              "      <td>Very good</td>\n",
              "      <td>7</td>\n",
              "      <td>No</td>\n",
              "      <td>No</td>\n",
              "      <td>No</td>\n",
              "    </tr>\n",
              "    <tr>\n",
              "      <th>2</th>\n",
              "      <td>0</td>\n",
              "      <td>26.58</td>\n",
              "      <td>Yes</td>\n",
              "      <td>No</td>\n",
              "      <td>No</td>\n",
              "      <td>20</td>\n",
              "      <td>30</td>\n",
              "      <td>No</td>\n",
              "      <td>Male</td>\n",
              "      <td>67.0</td>\n",
              "      <td>White</td>\n",
              "      <td>Yes</td>\n",
              "      <td>Yes</td>\n",
              "      <td>Fair</td>\n",
              "      <td>8</td>\n",
              "      <td>Yes</td>\n",
              "      <td>No</td>\n",
              "      <td>No</td>\n",
              "    </tr>\n",
              "    <tr>\n",
              "      <th>3</th>\n",
              "      <td>0</td>\n",
              "      <td>24.21</td>\n",
              "      <td>No</td>\n",
              "      <td>No</td>\n",
              "      <td>No</td>\n",
              "      <td>0</td>\n",
              "      <td>0</td>\n",
              "      <td>No</td>\n",
              "      <td>Female</td>\n",
              "      <td>77.0</td>\n",
              "      <td>White</td>\n",
              "      <td>No</td>\n",
              "      <td>No</td>\n",
              "      <td>Good</td>\n",
              "      <td>6</td>\n",
              "      <td>No</td>\n",
              "      <td>No</td>\n",
              "      <td>Yes</td>\n",
              "    </tr>\n",
              "    <tr>\n",
              "      <th>4</th>\n",
              "      <td>0</td>\n",
              "      <td>23.71</td>\n",
              "      <td>No</td>\n",
              "      <td>No</td>\n",
              "      <td>No</td>\n",
              "      <td>28</td>\n",
              "      <td>0</td>\n",
              "      <td>Yes</td>\n",
              "      <td>Female</td>\n",
              "      <td>42.0</td>\n",
              "      <td>White</td>\n",
              "      <td>No</td>\n",
              "      <td>Yes</td>\n",
              "      <td>Very good</td>\n",
              "      <td>8</td>\n",
              "      <td>No</td>\n",
              "      <td>No</td>\n",
              "      <td>No</td>\n",
              "    </tr>\n",
              "    <tr>\n",
              "      <th>...</th>\n",
              "      <td>...</td>\n",
              "      <td>...</td>\n",
              "      <td>...</td>\n",
              "      <td>...</td>\n",
              "      <td>...</td>\n",
              "      <td>...</td>\n",
              "      <td>...</td>\n",
              "      <td>...</td>\n",
              "      <td>...</td>\n",
              "      <td>...</td>\n",
              "      <td>...</td>\n",
              "      <td>...</td>\n",
              "      <td>...</td>\n",
              "      <td>...</td>\n",
              "      <td>...</td>\n",
              "      <td>...</td>\n",
              "      <td>...</td>\n",
              "      <td>...</td>\n",
              "    </tr>\n",
              "    <tr>\n",
              "      <th>47996</th>\n",
              "      <td>1</td>\n",
              "      <td>22.92</td>\n",
              "      <td>No</td>\n",
              "      <td>No</td>\n",
              "      <td>No</td>\n",
              "      <td>0</td>\n",
              "      <td>0</td>\n",
              "      <td>No</td>\n",
              "      <td>Male</td>\n",
              "      <td>80.0</td>\n",
              "      <td>White</td>\n",
              "      <td>No</td>\n",
              "      <td>Yes</td>\n",
              "      <td>Good</td>\n",
              "      <td>6</td>\n",
              "      <td>No</td>\n",
              "      <td>No</td>\n",
              "      <td>No</td>\n",
              "    </tr>\n",
              "    <tr>\n",
              "      <th>83453</th>\n",
              "      <td>1</td>\n",
              "      <td>26.00</td>\n",
              "      <td>No</td>\n",
              "      <td>No</td>\n",
              "      <td>No</td>\n",
              "      <td>0</td>\n",
              "      <td>0</td>\n",
              "      <td>No</td>\n",
              "      <td>Male</td>\n",
              "      <td>77.0</td>\n",
              "      <td>White</td>\n",
              "      <td>Yes</td>\n",
              "      <td>Yes</td>\n",
              "      <td>Excellent</td>\n",
              "      <td>8</td>\n",
              "      <td>No</td>\n",
              "      <td>No</td>\n",
              "      <td>No</td>\n",
              "    </tr>\n",
              "    <tr>\n",
              "      <th>29718</th>\n",
              "      <td>1</td>\n",
              "      <td>12.48</td>\n",
              "      <td>No</td>\n",
              "      <td>No</td>\n",
              "      <td>No</td>\n",
              "      <td>0</td>\n",
              "      <td>0</td>\n",
              "      <td>No</td>\n",
              "      <td>Female</td>\n",
              "      <td>67.0</td>\n",
              "      <td>White</td>\n",
              "      <td>No</td>\n",
              "      <td>No</td>\n",
              "      <td>Good</td>\n",
              "      <td>11</td>\n",
              "      <td>Yes</td>\n",
              "      <td>No</td>\n",
              "      <td>No</td>\n",
              "    </tr>\n",
              "    <tr>\n",
              "      <th>109698</th>\n",
              "      <td>1</td>\n",
              "      <td>25.10</td>\n",
              "      <td>Yes</td>\n",
              "      <td>No</td>\n",
              "      <td>Yes</td>\n",
              "      <td>30</td>\n",
              "      <td>30</td>\n",
              "      <td>Yes</td>\n",
              "      <td>Male</td>\n",
              "      <td>52.0</td>\n",
              "      <td>White</td>\n",
              "      <td>Yes</td>\n",
              "      <td>Yes</td>\n",
              "      <td>Poor</td>\n",
              "      <td>12</td>\n",
              "      <td>No</td>\n",
              "      <td>No</td>\n",
              "      <td>No</td>\n",
              "    </tr>\n",
              "    <tr>\n",
              "      <th>16072</th>\n",
              "      <td>1</td>\n",
              "      <td>24.96</td>\n",
              "      <td>Yes</td>\n",
              "      <td>No</td>\n",
              "      <td>No</td>\n",
              "      <td>0</td>\n",
              "      <td>0</td>\n",
              "      <td>No</td>\n",
              "      <td>Male</td>\n",
              "      <td>80.0</td>\n",
              "      <td>White</td>\n",
              "      <td>No</td>\n",
              "      <td>Yes</td>\n",
              "      <td>Good</td>\n",
              "      <td>6</td>\n",
              "      <td>No</td>\n",
              "      <td>No</td>\n",
              "      <td>Yes</td>\n",
              "    </tr>\n",
              "  </tbody>\n",
              "</table>\n",
              "<p>584844 rows × 18 columns</p>\n",
              "</div>\n",
              "      <button class=\"colab-df-convert\" onclick=\"convertToInteractive('df-64fde24c-a8fe-4d74-b103-2ee3dec52723')\"\n",
              "              title=\"Convert this dataframe to an interactive table.\"\n",
              "              style=\"display:none;\">\n",
              "        \n",
              "  <svg xmlns=\"http://www.w3.org/2000/svg\" height=\"24px\"viewBox=\"0 0 24 24\"\n",
              "       width=\"24px\">\n",
              "    <path d=\"M0 0h24v24H0V0z\" fill=\"none\"/>\n",
              "    <path d=\"M18.56 5.44l.94 2.06.94-2.06 2.06-.94-2.06-.94-.94-2.06-.94 2.06-2.06.94zm-11 1L8.5 8.5l.94-2.06 2.06-.94-2.06-.94L8.5 2.5l-.94 2.06-2.06.94zm10 10l.94 2.06.94-2.06 2.06-.94-2.06-.94-.94-2.06-.94 2.06-2.06.94z\"/><path d=\"M17.41 7.96l-1.37-1.37c-.4-.4-.92-.59-1.43-.59-.52 0-1.04.2-1.43.59L10.3 9.45l-7.72 7.72c-.78.78-.78 2.05 0 2.83L4 21.41c.39.39.9.59 1.41.59.51 0 1.02-.2 1.41-.59l7.78-7.78 2.81-2.81c.8-.78.8-2.07 0-2.86zM5.41 20L4 18.59l7.72-7.72 1.47 1.35L5.41 20z\"/>\n",
              "  </svg>\n",
              "      </button>\n",
              "      \n",
              "  <style>\n",
              "    .colab-df-container {\n",
              "      display:flex;\n",
              "      flex-wrap:wrap;\n",
              "      gap: 12px;\n",
              "    }\n",
              "\n",
              "    .colab-df-convert {\n",
              "      background-color: #E8F0FE;\n",
              "      border: none;\n",
              "      border-radius: 50%;\n",
              "      cursor: pointer;\n",
              "      display: none;\n",
              "      fill: #1967D2;\n",
              "      height: 32px;\n",
              "      padding: 0 0 0 0;\n",
              "      width: 32px;\n",
              "    }\n",
              "\n",
              "    .colab-df-convert:hover {\n",
              "      background-color: #E2EBFA;\n",
              "      box-shadow: 0px 1px 2px rgba(60, 64, 67, 0.3), 0px 1px 3px 1px rgba(60, 64, 67, 0.15);\n",
              "      fill: #174EA6;\n",
              "    }\n",
              "\n",
              "    [theme=dark] .colab-df-convert {\n",
              "      background-color: #3B4455;\n",
              "      fill: #D2E3FC;\n",
              "    }\n",
              "\n",
              "    [theme=dark] .colab-df-convert:hover {\n",
              "      background-color: #434B5C;\n",
              "      box-shadow: 0px 1px 3px 1px rgba(0, 0, 0, 0.15);\n",
              "      filter: drop-shadow(0px 1px 2px rgba(0, 0, 0, 0.3));\n",
              "      fill: #FFFFFF;\n",
              "    }\n",
              "  </style>\n",
              "\n",
              "      <script>\n",
              "        const buttonEl =\n",
              "          document.querySelector('#df-64fde24c-a8fe-4d74-b103-2ee3dec52723 button.colab-df-convert');\n",
              "        buttonEl.style.display =\n",
              "          google.colab.kernel.accessAllowed ? 'block' : 'none';\n",
              "\n",
              "        async function convertToInteractive(key) {\n",
              "          const element = document.querySelector('#df-64fde24c-a8fe-4d74-b103-2ee3dec52723');\n",
              "          const dataTable =\n",
              "            await google.colab.kernel.invokeFunction('convertToInteractive',\n",
              "                                                     [key], {});\n",
              "          if (!dataTable) return;\n",
              "\n",
              "          const docLinkHtml = 'Like what you see? Visit the ' +\n",
              "            '<a target=\"_blank\" href=https://colab.research.google.com/notebooks/data_table.ipynb>data table notebook</a>'\n",
              "            + ' to learn more about interactive tables.';\n",
              "          element.innerHTML = '';\n",
              "          dataTable['output_type'] = 'display_data';\n",
              "          await google.colab.output.renderOutput(dataTable, element);\n",
              "          const docLink = document.createElement('div');\n",
              "          docLink.innerHTML = docLinkHtml;\n",
              "          element.appendChild(docLink);\n",
              "        }\n",
              "      </script>\n",
              "    </div>\n",
              "  </div>\n",
              "  "
            ]
          },
          "metadata": {},
          "execution_count": 8
        }
      ]
    },
    {
      "cell_type": "markdown",
      "source": [
        "The label is saved to a variable and dropped from the dataset"
      ],
      "metadata": {
        "id": "cUUwVcvj4mo0"
      }
    },
    {
      "cell_type": "code",
      "source": [
        "# Get dataset label\n",
        "hp_label = np.array(heart_disease_copy['HeartDisease'])\n",
        "hp_label"
      ],
      "metadata": {
        "id": "p-zZI45LYi_t",
        "colab": {
          "base_uri": "https://localhost:8080/"
        },
        "outputId": "7c9fae91-1305-4199-df86-818d5b60727d"
      },
      "execution_count": 9,
      "outputs": [
        {
          "output_type": "execute_result",
          "data": {
            "text/plain": [
              "array([0, 0, 0, ..., 1, 1, 1])"
            ]
          },
          "metadata": {},
          "execution_count": 9
        }
      ]
    },
    {
      "cell_type": "code",
      "source": [
        "# Create a temporary copy to use for the confusion matrix\n",
        "temp_heart_disease_copy = heart_disease_copy.copy()"
      ],
      "metadata": {
        "id": "tIPqHVGXYl5_"
      },
      "execution_count": 10,
      "outputs": []
    },
    {
      "cell_type": "code",
      "source": [
        "# Drop the label column\n",
        "heart_disease_copy.drop(['HeartDisease'], axis = 1, inplace=True)\n",
        "heart_disease_copy"
      ],
      "metadata": {
        "id": "Cq_dzt7LYpR0",
        "colab": {
          "base_uri": "https://localhost:8080/",
          "height": 488
        },
        "outputId": "7b951b25-3caf-4303-e410-3238b78641c5"
      },
      "execution_count": 11,
      "outputs": [
        {
          "output_type": "execute_result",
          "data": {
            "text/plain": [
              "          BMI Smoking AlcoholDrinking Stroke  PhysicalHealth  MentalHealth  \\\n",
              "0       16.60     Yes              No     No               3            30   \n",
              "1       20.34      No              No    Yes               0             0   \n",
              "2       26.58     Yes              No     No              20            30   \n",
              "3       24.21      No              No     No               0             0   \n",
              "4       23.71      No              No     No              28             0   \n",
              "...       ...     ...             ...    ...             ...           ...   \n",
              "47996   22.92      No              No     No               0             0   \n",
              "83453   26.00      No              No     No               0             0   \n",
              "29718   12.48      No              No     No               0             0   \n",
              "109698  25.10     Yes              No    Yes              30            30   \n",
              "16072   24.96     Yes              No     No               0             0   \n",
              "\n",
              "       DiffWalking     Sex  AgeCategory   Race Diabetic PhysicalActivity  \\\n",
              "0               No  Female         57.0  White      Yes              Yes   \n",
              "1               No  Female         80.0  White       No              Yes   \n",
              "2               No    Male         67.0  White      Yes              Yes   \n",
              "3               No  Female         77.0  White       No               No   \n",
              "4              Yes  Female         42.0  White       No              Yes   \n",
              "...            ...     ...          ...    ...      ...              ...   \n",
              "47996           No    Male         80.0  White       No              Yes   \n",
              "83453           No    Male         77.0  White      Yes              Yes   \n",
              "29718           No  Female         67.0  White       No               No   \n",
              "109698         Yes    Male         52.0  White      Yes              Yes   \n",
              "16072           No    Male         80.0  White       No              Yes   \n",
              "\n",
              "        GenHealth  SleepTime Asthma KidneyDisease SkinCancer  \n",
              "0       Very good          5    Yes            No        Yes  \n",
              "1       Very good          7     No            No         No  \n",
              "2            Fair          8    Yes            No         No  \n",
              "3            Good          6     No            No        Yes  \n",
              "4       Very good          8     No            No         No  \n",
              "...           ...        ...    ...           ...        ...  \n",
              "47996        Good          6     No            No         No  \n",
              "83453   Excellent          8     No            No         No  \n",
              "29718        Good         11    Yes            No         No  \n",
              "109698       Poor         12     No            No         No  \n",
              "16072        Good          6     No            No        Yes  \n",
              "\n",
              "[584844 rows x 17 columns]"
            ],
            "text/html": [
              "\n",
              "  <div id=\"df-78d16139-2770-4e41-93b4-b0405aa3831c\">\n",
              "    <div class=\"colab-df-container\">\n",
              "      <div>\n",
              "<style scoped>\n",
              "    .dataframe tbody tr th:only-of-type {\n",
              "        vertical-align: middle;\n",
              "    }\n",
              "\n",
              "    .dataframe tbody tr th {\n",
              "        vertical-align: top;\n",
              "    }\n",
              "\n",
              "    .dataframe thead th {\n",
              "        text-align: right;\n",
              "    }\n",
              "</style>\n",
              "<table border=\"1\" class=\"dataframe\">\n",
              "  <thead>\n",
              "    <tr style=\"text-align: right;\">\n",
              "      <th></th>\n",
              "      <th>BMI</th>\n",
              "      <th>Smoking</th>\n",
              "      <th>AlcoholDrinking</th>\n",
              "      <th>Stroke</th>\n",
              "      <th>PhysicalHealth</th>\n",
              "      <th>MentalHealth</th>\n",
              "      <th>DiffWalking</th>\n",
              "      <th>Sex</th>\n",
              "      <th>AgeCategory</th>\n",
              "      <th>Race</th>\n",
              "      <th>Diabetic</th>\n",
              "      <th>PhysicalActivity</th>\n",
              "      <th>GenHealth</th>\n",
              "      <th>SleepTime</th>\n",
              "      <th>Asthma</th>\n",
              "      <th>KidneyDisease</th>\n",
              "      <th>SkinCancer</th>\n",
              "    </tr>\n",
              "  </thead>\n",
              "  <tbody>\n",
              "    <tr>\n",
              "      <th>0</th>\n",
              "      <td>16.60</td>\n",
              "      <td>Yes</td>\n",
              "      <td>No</td>\n",
              "      <td>No</td>\n",
              "      <td>3</td>\n",
              "      <td>30</td>\n",
              "      <td>No</td>\n",
              "      <td>Female</td>\n",
              "      <td>57.0</td>\n",
              "      <td>White</td>\n",
              "      <td>Yes</td>\n",
              "      <td>Yes</td>\n",
              "      <td>Very good</td>\n",
              "      <td>5</td>\n",
              "      <td>Yes</td>\n",
              "      <td>No</td>\n",
              "      <td>Yes</td>\n",
              "    </tr>\n",
              "    <tr>\n",
              "      <th>1</th>\n",
              "      <td>20.34</td>\n",
              "      <td>No</td>\n",
              "      <td>No</td>\n",
              "      <td>Yes</td>\n",
              "      <td>0</td>\n",
              "      <td>0</td>\n",
              "      <td>No</td>\n",
              "      <td>Female</td>\n",
              "      <td>80.0</td>\n",
              "      <td>White</td>\n",
              "      <td>No</td>\n",
              "      <td>Yes</td>\n",
              "      <td>Very good</td>\n",
              "      <td>7</td>\n",
              "      <td>No</td>\n",
              "      <td>No</td>\n",
              "      <td>No</td>\n",
              "    </tr>\n",
              "    <tr>\n",
              "      <th>2</th>\n",
              "      <td>26.58</td>\n",
              "      <td>Yes</td>\n",
              "      <td>No</td>\n",
              "      <td>No</td>\n",
              "      <td>20</td>\n",
              "      <td>30</td>\n",
              "      <td>No</td>\n",
              "      <td>Male</td>\n",
              "      <td>67.0</td>\n",
              "      <td>White</td>\n",
              "      <td>Yes</td>\n",
              "      <td>Yes</td>\n",
              "      <td>Fair</td>\n",
              "      <td>8</td>\n",
              "      <td>Yes</td>\n",
              "      <td>No</td>\n",
              "      <td>No</td>\n",
              "    </tr>\n",
              "    <tr>\n",
              "      <th>3</th>\n",
              "      <td>24.21</td>\n",
              "      <td>No</td>\n",
              "      <td>No</td>\n",
              "      <td>No</td>\n",
              "      <td>0</td>\n",
              "      <td>0</td>\n",
              "      <td>No</td>\n",
              "      <td>Female</td>\n",
              "      <td>77.0</td>\n",
              "      <td>White</td>\n",
              "      <td>No</td>\n",
              "      <td>No</td>\n",
              "      <td>Good</td>\n",
              "      <td>6</td>\n",
              "      <td>No</td>\n",
              "      <td>No</td>\n",
              "      <td>Yes</td>\n",
              "    </tr>\n",
              "    <tr>\n",
              "      <th>4</th>\n",
              "      <td>23.71</td>\n",
              "      <td>No</td>\n",
              "      <td>No</td>\n",
              "      <td>No</td>\n",
              "      <td>28</td>\n",
              "      <td>0</td>\n",
              "      <td>Yes</td>\n",
              "      <td>Female</td>\n",
              "      <td>42.0</td>\n",
              "      <td>White</td>\n",
              "      <td>No</td>\n",
              "      <td>Yes</td>\n",
              "      <td>Very good</td>\n",
              "      <td>8</td>\n",
              "      <td>No</td>\n",
              "      <td>No</td>\n",
              "      <td>No</td>\n",
              "    </tr>\n",
              "    <tr>\n",
              "      <th>...</th>\n",
              "      <td>...</td>\n",
              "      <td>...</td>\n",
              "      <td>...</td>\n",
              "      <td>...</td>\n",
              "      <td>...</td>\n",
              "      <td>...</td>\n",
              "      <td>...</td>\n",
              "      <td>...</td>\n",
              "      <td>...</td>\n",
              "      <td>...</td>\n",
              "      <td>...</td>\n",
              "      <td>...</td>\n",
              "      <td>...</td>\n",
              "      <td>...</td>\n",
              "      <td>...</td>\n",
              "      <td>...</td>\n",
              "      <td>...</td>\n",
              "    </tr>\n",
              "    <tr>\n",
              "      <th>47996</th>\n",
              "      <td>22.92</td>\n",
              "      <td>No</td>\n",
              "      <td>No</td>\n",
              "      <td>No</td>\n",
              "      <td>0</td>\n",
              "      <td>0</td>\n",
              "      <td>No</td>\n",
              "      <td>Male</td>\n",
              "      <td>80.0</td>\n",
              "      <td>White</td>\n",
              "      <td>No</td>\n",
              "      <td>Yes</td>\n",
              "      <td>Good</td>\n",
              "      <td>6</td>\n",
              "      <td>No</td>\n",
              "      <td>No</td>\n",
              "      <td>No</td>\n",
              "    </tr>\n",
              "    <tr>\n",
              "      <th>83453</th>\n",
              "      <td>26.00</td>\n",
              "      <td>No</td>\n",
              "      <td>No</td>\n",
              "      <td>No</td>\n",
              "      <td>0</td>\n",
              "      <td>0</td>\n",
              "      <td>No</td>\n",
              "      <td>Male</td>\n",
              "      <td>77.0</td>\n",
              "      <td>White</td>\n",
              "      <td>Yes</td>\n",
              "      <td>Yes</td>\n",
              "      <td>Excellent</td>\n",
              "      <td>8</td>\n",
              "      <td>No</td>\n",
              "      <td>No</td>\n",
              "      <td>No</td>\n",
              "    </tr>\n",
              "    <tr>\n",
              "      <th>29718</th>\n",
              "      <td>12.48</td>\n",
              "      <td>No</td>\n",
              "      <td>No</td>\n",
              "      <td>No</td>\n",
              "      <td>0</td>\n",
              "      <td>0</td>\n",
              "      <td>No</td>\n",
              "      <td>Female</td>\n",
              "      <td>67.0</td>\n",
              "      <td>White</td>\n",
              "      <td>No</td>\n",
              "      <td>No</td>\n",
              "      <td>Good</td>\n",
              "      <td>11</td>\n",
              "      <td>Yes</td>\n",
              "      <td>No</td>\n",
              "      <td>No</td>\n",
              "    </tr>\n",
              "    <tr>\n",
              "      <th>109698</th>\n",
              "      <td>25.10</td>\n",
              "      <td>Yes</td>\n",
              "      <td>No</td>\n",
              "      <td>Yes</td>\n",
              "      <td>30</td>\n",
              "      <td>30</td>\n",
              "      <td>Yes</td>\n",
              "      <td>Male</td>\n",
              "      <td>52.0</td>\n",
              "      <td>White</td>\n",
              "      <td>Yes</td>\n",
              "      <td>Yes</td>\n",
              "      <td>Poor</td>\n",
              "      <td>12</td>\n",
              "      <td>No</td>\n",
              "      <td>No</td>\n",
              "      <td>No</td>\n",
              "    </tr>\n",
              "    <tr>\n",
              "      <th>16072</th>\n",
              "      <td>24.96</td>\n",
              "      <td>Yes</td>\n",
              "      <td>No</td>\n",
              "      <td>No</td>\n",
              "      <td>0</td>\n",
              "      <td>0</td>\n",
              "      <td>No</td>\n",
              "      <td>Male</td>\n",
              "      <td>80.0</td>\n",
              "      <td>White</td>\n",
              "      <td>No</td>\n",
              "      <td>Yes</td>\n",
              "      <td>Good</td>\n",
              "      <td>6</td>\n",
              "      <td>No</td>\n",
              "      <td>No</td>\n",
              "      <td>Yes</td>\n",
              "    </tr>\n",
              "  </tbody>\n",
              "</table>\n",
              "<p>584844 rows × 17 columns</p>\n",
              "</div>\n",
              "      <button class=\"colab-df-convert\" onclick=\"convertToInteractive('df-78d16139-2770-4e41-93b4-b0405aa3831c')\"\n",
              "              title=\"Convert this dataframe to an interactive table.\"\n",
              "              style=\"display:none;\">\n",
              "        \n",
              "  <svg xmlns=\"http://www.w3.org/2000/svg\" height=\"24px\"viewBox=\"0 0 24 24\"\n",
              "       width=\"24px\">\n",
              "    <path d=\"M0 0h24v24H0V0z\" fill=\"none\"/>\n",
              "    <path d=\"M18.56 5.44l.94 2.06.94-2.06 2.06-.94-2.06-.94-.94-2.06-.94 2.06-2.06.94zm-11 1L8.5 8.5l.94-2.06 2.06-.94-2.06-.94L8.5 2.5l-.94 2.06-2.06.94zm10 10l.94 2.06.94-2.06 2.06-.94-2.06-.94-.94-2.06-.94 2.06-2.06.94z\"/><path d=\"M17.41 7.96l-1.37-1.37c-.4-.4-.92-.59-1.43-.59-.52 0-1.04.2-1.43.59L10.3 9.45l-7.72 7.72c-.78.78-.78 2.05 0 2.83L4 21.41c.39.39.9.59 1.41.59.51 0 1.02-.2 1.41-.59l7.78-7.78 2.81-2.81c.8-.78.8-2.07 0-2.86zM5.41 20L4 18.59l7.72-7.72 1.47 1.35L5.41 20z\"/>\n",
              "  </svg>\n",
              "      </button>\n",
              "      \n",
              "  <style>\n",
              "    .colab-df-container {\n",
              "      display:flex;\n",
              "      flex-wrap:wrap;\n",
              "      gap: 12px;\n",
              "    }\n",
              "\n",
              "    .colab-df-convert {\n",
              "      background-color: #E8F0FE;\n",
              "      border: none;\n",
              "      border-radius: 50%;\n",
              "      cursor: pointer;\n",
              "      display: none;\n",
              "      fill: #1967D2;\n",
              "      height: 32px;\n",
              "      padding: 0 0 0 0;\n",
              "      width: 32px;\n",
              "    }\n",
              "\n",
              "    .colab-df-convert:hover {\n",
              "      background-color: #E2EBFA;\n",
              "      box-shadow: 0px 1px 2px rgba(60, 64, 67, 0.3), 0px 1px 3px 1px rgba(60, 64, 67, 0.15);\n",
              "      fill: #174EA6;\n",
              "    }\n",
              "\n",
              "    [theme=dark] .colab-df-convert {\n",
              "      background-color: #3B4455;\n",
              "      fill: #D2E3FC;\n",
              "    }\n",
              "\n",
              "    [theme=dark] .colab-df-convert:hover {\n",
              "      background-color: #434B5C;\n",
              "      box-shadow: 0px 1px 3px 1px rgba(0, 0, 0, 0.15);\n",
              "      filter: drop-shadow(0px 1px 2px rgba(0, 0, 0, 0.3));\n",
              "      fill: #FFFFFF;\n",
              "    }\n",
              "  </style>\n",
              "\n",
              "      <script>\n",
              "        const buttonEl =\n",
              "          document.querySelector('#df-78d16139-2770-4e41-93b4-b0405aa3831c button.colab-df-convert');\n",
              "        buttonEl.style.display =\n",
              "          google.colab.kernel.accessAllowed ? 'block' : 'none';\n",
              "\n",
              "        async function convertToInteractive(key) {\n",
              "          const element = document.querySelector('#df-78d16139-2770-4e41-93b4-b0405aa3831c');\n",
              "          const dataTable =\n",
              "            await google.colab.kernel.invokeFunction('convertToInteractive',\n",
              "                                                     [key], {});\n",
              "          if (!dataTable) return;\n",
              "\n",
              "          const docLinkHtml = 'Like what you see? Visit the ' +\n",
              "            '<a target=\"_blank\" href=https://colab.research.google.com/notebooks/data_table.ipynb>data table notebook</a>'\n",
              "            + ' to learn more about interactive tables.';\n",
              "          element.innerHTML = '';\n",
              "          dataTable['output_type'] = 'display_data';\n",
              "          await google.colab.output.renderOutput(dataTable, element);\n",
              "          const docLink = document.createElement('div');\n",
              "          docLink.innerHTML = docLinkHtml;\n",
              "          element.appendChild(docLink);\n",
              "        }\n",
              "      </script>\n",
              "    </div>\n",
              "  </div>\n",
              "  "
            ]
          },
          "metadata": {},
          "execution_count": 11
        }
      ]
    },
    {
      "cell_type": "markdown",
      "source": [
        "Using numbers to represent the categorical values will lead to misrepresentation by machine learning (ML) algorithms. An example is the 'Race' variable, where ML algorithms may interpret \"American Indian/Alaskan Native\" (4) as being four times a race as \"White\" (1). Hence, the use of One-hot Encoding to ensure values are not weighted incorrectly."
      ],
      "metadata": {
        "id": "fiLG5Srg49gG"
      }
    },
    {
      "cell_type": "code",
      "source": [
        "# Dummy variable for categorical variables using one-hot-coding\n",
        "heart_disease_copy = pd.get_dummies(heart_disease_copy,columns=[\"Smoking\", \"AlcoholDrinking\", \"Stroke\", \"DiffWalking\", \"AgeCategory\", \"Diabetic\", \"PhysicalActivity\", \"GenHealth\", \"KidneyDisease\", 'MentalHealth', 'Asthma', 'SleepTime', 'Race', 'Sex', 'SkinCancer']) \n",
        "\n",
        "varb = np.array(heart_disease_copy.columns)\n",
        "heart_disease_copy = np.array(heart_disease_copy)\n",
        "heart_disease_copy = pd.DataFrame(heart_disease_copy, columns=varb)\n",
        "heart_disease_copy"
      ],
      "metadata": {
        "id": "bINzGlHdYwmS",
        "colab": {
          "base_uri": "https://localhost:8080/",
          "height": 522
        },
        "outputId": "c832e79f-be0e-473c-c54f-c9086a2bcfde"
      },
      "execution_count": 12,
      "outputs": [
        {
          "output_type": "execute_result",
          "data": {
            "text/plain": [
              "          BMI  PhysicalHealth  Smoking_No  Smoking_Yes  AlcoholDrinking_No  \\\n",
              "0       16.60             3.0         0.0          1.0                 1.0   \n",
              "1       20.34             0.0         1.0          0.0                 1.0   \n",
              "2       26.58            20.0         0.0          1.0                 1.0   \n",
              "3       24.21             0.0         1.0          0.0                 1.0   \n",
              "4       23.71            28.0         1.0          0.0                 1.0   \n",
              "...       ...             ...         ...          ...                 ...   \n",
              "584839  22.92             0.0         1.0          0.0                 1.0   \n",
              "584840  26.00             0.0         1.0          0.0                 1.0   \n",
              "584841  12.48             0.0         1.0          0.0                 1.0   \n",
              "584842  25.10            30.0         0.0          1.0                 1.0   \n",
              "584843  24.96             0.0         0.0          1.0                 1.0   \n",
              "\n",
              "        AlcoholDrinking_Yes  Stroke_No  Stroke_Yes  DiffWalking_No  \\\n",
              "0                       0.0        1.0         0.0             1.0   \n",
              "1                       0.0        0.0         1.0             1.0   \n",
              "2                       0.0        1.0         0.0             1.0   \n",
              "3                       0.0        1.0         0.0             1.0   \n",
              "4                       0.0        1.0         0.0             0.0   \n",
              "...                     ...        ...         ...             ...   \n",
              "584839                  0.0        1.0         0.0             1.0   \n",
              "584840                  0.0        1.0         0.0             1.0   \n",
              "584841                  0.0        1.0         0.0             1.0   \n",
              "584842                  0.0        0.0         1.0             0.0   \n",
              "584843                  0.0        1.0         0.0             1.0   \n",
              "\n",
              "        DiffWalking_Yes  ...  Race_American Indian/Alaskan Native  Race_Asian  \\\n",
              "0                   0.0  ...                                  0.0         0.0   \n",
              "1                   0.0  ...                                  0.0         0.0   \n",
              "2                   0.0  ...                                  0.0         0.0   \n",
              "3                   0.0  ...                                  0.0         0.0   \n",
              "4                   1.0  ...                                  0.0         0.0   \n",
              "...                 ...  ...                                  ...         ...   \n",
              "584839              0.0  ...                                  0.0         0.0   \n",
              "584840              0.0  ...                                  0.0         0.0   \n",
              "584841              0.0  ...                                  0.0         0.0   \n",
              "584842              1.0  ...                                  0.0         0.0   \n",
              "584843              0.0  ...                                  0.0         0.0   \n",
              "\n",
              "        Race_Black  Race_Hispanic  Race_Other  Race_White  Sex_Female  \\\n",
              "0              0.0            0.0         0.0         1.0         1.0   \n",
              "1              0.0            0.0         0.0         1.0         1.0   \n",
              "2              0.0            0.0         0.0         1.0         0.0   \n",
              "3              0.0            0.0         0.0         1.0         1.0   \n",
              "4              0.0            0.0         0.0         1.0         1.0   \n",
              "...            ...            ...         ...         ...         ...   \n",
              "584839         0.0            0.0         0.0         1.0         0.0   \n",
              "584840         0.0            0.0         0.0         1.0         0.0   \n",
              "584841         0.0            0.0         0.0         1.0         1.0   \n",
              "584842         0.0            0.0         0.0         1.0         0.0   \n",
              "584843         0.0            0.0         0.0         1.0         0.0   \n",
              "\n",
              "        Sex_Male  SkinCancer_No  SkinCancer_Yes  \n",
              "0            0.0            0.0             1.0  \n",
              "1            0.0            1.0             0.0  \n",
              "2            1.0            1.0             0.0  \n",
              "3            0.0            0.0             1.0  \n",
              "4            0.0            1.0             0.0  \n",
              "...          ...            ...             ...  \n",
              "584839       1.0            1.0             0.0  \n",
              "584840       1.0            1.0             0.0  \n",
              "584841       0.0            1.0             0.0  \n",
              "584842       1.0            1.0             0.0  \n",
              "584843       1.0            0.0             1.0  \n",
              "\n",
              "[584844 rows x 103 columns]"
            ],
            "text/html": [
              "\n",
              "  <div id=\"df-f22b772c-3f60-49b3-923e-3a04c19e2d5b\">\n",
              "    <div class=\"colab-df-container\">\n",
              "      <div>\n",
              "<style scoped>\n",
              "    .dataframe tbody tr th:only-of-type {\n",
              "        vertical-align: middle;\n",
              "    }\n",
              "\n",
              "    .dataframe tbody tr th {\n",
              "        vertical-align: top;\n",
              "    }\n",
              "\n",
              "    .dataframe thead th {\n",
              "        text-align: right;\n",
              "    }\n",
              "</style>\n",
              "<table border=\"1\" class=\"dataframe\">\n",
              "  <thead>\n",
              "    <tr style=\"text-align: right;\">\n",
              "      <th></th>\n",
              "      <th>BMI</th>\n",
              "      <th>PhysicalHealth</th>\n",
              "      <th>Smoking_No</th>\n",
              "      <th>Smoking_Yes</th>\n",
              "      <th>AlcoholDrinking_No</th>\n",
              "      <th>AlcoholDrinking_Yes</th>\n",
              "      <th>Stroke_No</th>\n",
              "      <th>Stroke_Yes</th>\n",
              "      <th>DiffWalking_No</th>\n",
              "      <th>DiffWalking_Yes</th>\n",
              "      <th>...</th>\n",
              "      <th>Race_American Indian/Alaskan Native</th>\n",
              "      <th>Race_Asian</th>\n",
              "      <th>Race_Black</th>\n",
              "      <th>Race_Hispanic</th>\n",
              "      <th>Race_Other</th>\n",
              "      <th>Race_White</th>\n",
              "      <th>Sex_Female</th>\n",
              "      <th>Sex_Male</th>\n",
              "      <th>SkinCancer_No</th>\n",
              "      <th>SkinCancer_Yes</th>\n",
              "    </tr>\n",
              "  </thead>\n",
              "  <tbody>\n",
              "    <tr>\n",
              "      <th>0</th>\n",
              "      <td>16.60</td>\n",
              "      <td>3.0</td>\n",
              "      <td>0.0</td>\n",
              "      <td>1.0</td>\n",
              "      <td>1.0</td>\n",
              "      <td>0.0</td>\n",
              "      <td>1.0</td>\n",
              "      <td>0.0</td>\n",
              "      <td>1.0</td>\n",
              "      <td>0.0</td>\n",
              "      <td>...</td>\n",
              "      <td>0.0</td>\n",
              "      <td>0.0</td>\n",
              "      <td>0.0</td>\n",
              "      <td>0.0</td>\n",
              "      <td>0.0</td>\n",
              "      <td>1.0</td>\n",
              "      <td>1.0</td>\n",
              "      <td>0.0</td>\n",
              "      <td>0.0</td>\n",
              "      <td>1.0</td>\n",
              "    </tr>\n",
              "    <tr>\n",
              "      <th>1</th>\n",
              "      <td>20.34</td>\n",
              "      <td>0.0</td>\n",
              "      <td>1.0</td>\n",
              "      <td>0.0</td>\n",
              "      <td>1.0</td>\n",
              "      <td>0.0</td>\n",
              "      <td>0.0</td>\n",
              "      <td>1.0</td>\n",
              "      <td>1.0</td>\n",
              "      <td>0.0</td>\n",
              "      <td>...</td>\n",
              "      <td>0.0</td>\n",
              "      <td>0.0</td>\n",
              "      <td>0.0</td>\n",
              "      <td>0.0</td>\n",
              "      <td>0.0</td>\n",
              "      <td>1.0</td>\n",
              "      <td>1.0</td>\n",
              "      <td>0.0</td>\n",
              "      <td>1.0</td>\n",
              "      <td>0.0</td>\n",
              "    </tr>\n",
              "    <tr>\n",
              "      <th>2</th>\n",
              "      <td>26.58</td>\n",
              "      <td>20.0</td>\n",
              "      <td>0.0</td>\n",
              "      <td>1.0</td>\n",
              "      <td>1.0</td>\n",
              "      <td>0.0</td>\n",
              "      <td>1.0</td>\n",
              "      <td>0.0</td>\n",
              "      <td>1.0</td>\n",
              "      <td>0.0</td>\n",
              "      <td>...</td>\n",
              "      <td>0.0</td>\n",
              "      <td>0.0</td>\n",
              "      <td>0.0</td>\n",
              "      <td>0.0</td>\n",
              "      <td>0.0</td>\n",
              "      <td>1.0</td>\n",
              "      <td>0.0</td>\n",
              "      <td>1.0</td>\n",
              "      <td>1.0</td>\n",
              "      <td>0.0</td>\n",
              "    </tr>\n",
              "    <tr>\n",
              "      <th>3</th>\n",
              "      <td>24.21</td>\n",
              "      <td>0.0</td>\n",
              "      <td>1.0</td>\n",
              "      <td>0.0</td>\n",
              "      <td>1.0</td>\n",
              "      <td>0.0</td>\n",
              "      <td>1.0</td>\n",
              "      <td>0.0</td>\n",
              "      <td>1.0</td>\n",
              "      <td>0.0</td>\n",
              "      <td>...</td>\n",
              "      <td>0.0</td>\n",
              "      <td>0.0</td>\n",
              "      <td>0.0</td>\n",
              "      <td>0.0</td>\n",
              "      <td>0.0</td>\n",
              "      <td>1.0</td>\n",
              "      <td>1.0</td>\n",
              "      <td>0.0</td>\n",
              "      <td>0.0</td>\n",
              "      <td>1.0</td>\n",
              "    </tr>\n",
              "    <tr>\n",
              "      <th>4</th>\n",
              "      <td>23.71</td>\n",
              "      <td>28.0</td>\n",
              "      <td>1.0</td>\n",
              "      <td>0.0</td>\n",
              "      <td>1.0</td>\n",
              "      <td>0.0</td>\n",
              "      <td>1.0</td>\n",
              "      <td>0.0</td>\n",
              "      <td>0.0</td>\n",
              "      <td>1.0</td>\n",
              "      <td>...</td>\n",
              "      <td>0.0</td>\n",
              "      <td>0.0</td>\n",
              "      <td>0.0</td>\n",
              "      <td>0.0</td>\n",
              "      <td>0.0</td>\n",
              "      <td>1.0</td>\n",
              "      <td>1.0</td>\n",
              "      <td>0.0</td>\n",
              "      <td>1.0</td>\n",
              "      <td>0.0</td>\n",
              "    </tr>\n",
              "    <tr>\n",
              "      <th>...</th>\n",
              "      <td>...</td>\n",
              "      <td>...</td>\n",
              "      <td>...</td>\n",
              "      <td>...</td>\n",
              "      <td>...</td>\n",
              "      <td>...</td>\n",
              "      <td>...</td>\n",
              "      <td>...</td>\n",
              "      <td>...</td>\n",
              "      <td>...</td>\n",
              "      <td>...</td>\n",
              "      <td>...</td>\n",
              "      <td>...</td>\n",
              "      <td>...</td>\n",
              "      <td>...</td>\n",
              "      <td>...</td>\n",
              "      <td>...</td>\n",
              "      <td>...</td>\n",
              "      <td>...</td>\n",
              "      <td>...</td>\n",
              "      <td>...</td>\n",
              "    </tr>\n",
              "    <tr>\n",
              "      <th>584839</th>\n",
              "      <td>22.92</td>\n",
              "      <td>0.0</td>\n",
              "      <td>1.0</td>\n",
              "      <td>0.0</td>\n",
              "      <td>1.0</td>\n",
              "      <td>0.0</td>\n",
              "      <td>1.0</td>\n",
              "      <td>0.0</td>\n",
              "      <td>1.0</td>\n",
              "      <td>0.0</td>\n",
              "      <td>...</td>\n",
              "      <td>0.0</td>\n",
              "      <td>0.0</td>\n",
              "      <td>0.0</td>\n",
              "      <td>0.0</td>\n",
              "      <td>0.0</td>\n",
              "      <td>1.0</td>\n",
              "      <td>0.0</td>\n",
              "      <td>1.0</td>\n",
              "      <td>1.0</td>\n",
              "      <td>0.0</td>\n",
              "    </tr>\n",
              "    <tr>\n",
              "      <th>584840</th>\n",
              "      <td>26.00</td>\n",
              "      <td>0.0</td>\n",
              "      <td>1.0</td>\n",
              "      <td>0.0</td>\n",
              "      <td>1.0</td>\n",
              "      <td>0.0</td>\n",
              "      <td>1.0</td>\n",
              "      <td>0.0</td>\n",
              "      <td>1.0</td>\n",
              "      <td>0.0</td>\n",
              "      <td>...</td>\n",
              "      <td>0.0</td>\n",
              "      <td>0.0</td>\n",
              "      <td>0.0</td>\n",
              "      <td>0.0</td>\n",
              "      <td>0.0</td>\n",
              "      <td>1.0</td>\n",
              "      <td>0.0</td>\n",
              "      <td>1.0</td>\n",
              "      <td>1.0</td>\n",
              "      <td>0.0</td>\n",
              "    </tr>\n",
              "    <tr>\n",
              "      <th>584841</th>\n",
              "      <td>12.48</td>\n",
              "      <td>0.0</td>\n",
              "      <td>1.0</td>\n",
              "      <td>0.0</td>\n",
              "      <td>1.0</td>\n",
              "      <td>0.0</td>\n",
              "      <td>1.0</td>\n",
              "      <td>0.0</td>\n",
              "      <td>1.0</td>\n",
              "      <td>0.0</td>\n",
              "      <td>...</td>\n",
              "      <td>0.0</td>\n",
              "      <td>0.0</td>\n",
              "      <td>0.0</td>\n",
              "      <td>0.0</td>\n",
              "      <td>0.0</td>\n",
              "      <td>1.0</td>\n",
              "      <td>1.0</td>\n",
              "      <td>0.0</td>\n",
              "      <td>1.0</td>\n",
              "      <td>0.0</td>\n",
              "    </tr>\n",
              "    <tr>\n",
              "      <th>584842</th>\n",
              "      <td>25.10</td>\n",
              "      <td>30.0</td>\n",
              "      <td>0.0</td>\n",
              "      <td>1.0</td>\n",
              "      <td>1.0</td>\n",
              "      <td>0.0</td>\n",
              "      <td>0.0</td>\n",
              "      <td>1.0</td>\n",
              "      <td>0.0</td>\n",
              "      <td>1.0</td>\n",
              "      <td>...</td>\n",
              "      <td>0.0</td>\n",
              "      <td>0.0</td>\n",
              "      <td>0.0</td>\n",
              "      <td>0.0</td>\n",
              "      <td>0.0</td>\n",
              "      <td>1.0</td>\n",
              "      <td>0.0</td>\n",
              "      <td>1.0</td>\n",
              "      <td>1.0</td>\n",
              "      <td>0.0</td>\n",
              "    </tr>\n",
              "    <tr>\n",
              "      <th>584843</th>\n",
              "      <td>24.96</td>\n",
              "      <td>0.0</td>\n",
              "      <td>0.0</td>\n",
              "      <td>1.0</td>\n",
              "      <td>1.0</td>\n",
              "      <td>0.0</td>\n",
              "      <td>1.0</td>\n",
              "      <td>0.0</td>\n",
              "      <td>1.0</td>\n",
              "      <td>0.0</td>\n",
              "      <td>...</td>\n",
              "      <td>0.0</td>\n",
              "      <td>0.0</td>\n",
              "      <td>0.0</td>\n",
              "      <td>0.0</td>\n",
              "      <td>0.0</td>\n",
              "      <td>1.0</td>\n",
              "      <td>0.0</td>\n",
              "      <td>1.0</td>\n",
              "      <td>0.0</td>\n",
              "      <td>1.0</td>\n",
              "    </tr>\n",
              "  </tbody>\n",
              "</table>\n",
              "<p>584844 rows × 103 columns</p>\n",
              "</div>\n",
              "      <button class=\"colab-df-convert\" onclick=\"convertToInteractive('df-f22b772c-3f60-49b3-923e-3a04c19e2d5b')\"\n",
              "              title=\"Convert this dataframe to an interactive table.\"\n",
              "              style=\"display:none;\">\n",
              "        \n",
              "  <svg xmlns=\"http://www.w3.org/2000/svg\" height=\"24px\"viewBox=\"0 0 24 24\"\n",
              "       width=\"24px\">\n",
              "    <path d=\"M0 0h24v24H0V0z\" fill=\"none\"/>\n",
              "    <path d=\"M18.56 5.44l.94 2.06.94-2.06 2.06-.94-2.06-.94-.94-2.06-.94 2.06-2.06.94zm-11 1L8.5 8.5l.94-2.06 2.06-.94-2.06-.94L8.5 2.5l-.94 2.06-2.06.94zm10 10l.94 2.06.94-2.06 2.06-.94-2.06-.94-.94-2.06-.94 2.06-2.06.94z\"/><path d=\"M17.41 7.96l-1.37-1.37c-.4-.4-.92-.59-1.43-.59-.52 0-1.04.2-1.43.59L10.3 9.45l-7.72 7.72c-.78.78-.78 2.05 0 2.83L4 21.41c.39.39.9.59 1.41.59.51 0 1.02-.2 1.41-.59l7.78-7.78 2.81-2.81c.8-.78.8-2.07 0-2.86zM5.41 20L4 18.59l7.72-7.72 1.47 1.35L5.41 20z\"/>\n",
              "  </svg>\n",
              "      </button>\n",
              "      \n",
              "  <style>\n",
              "    .colab-df-container {\n",
              "      display:flex;\n",
              "      flex-wrap:wrap;\n",
              "      gap: 12px;\n",
              "    }\n",
              "\n",
              "    .colab-df-convert {\n",
              "      background-color: #E8F0FE;\n",
              "      border: none;\n",
              "      border-radius: 50%;\n",
              "      cursor: pointer;\n",
              "      display: none;\n",
              "      fill: #1967D2;\n",
              "      height: 32px;\n",
              "      padding: 0 0 0 0;\n",
              "      width: 32px;\n",
              "    }\n",
              "\n",
              "    .colab-df-convert:hover {\n",
              "      background-color: #E2EBFA;\n",
              "      box-shadow: 0px 1px 2px rgba(60, 64, 67, 0.3), 0px 1px 3px 1px rgba(60, 64, 67, 0.15);\n",
              "      fill: #174EA6;\n",
              "    }\n",
              "\n",
              "    [theme=dark] .colab-df-convert {\n",
              "      background-color: #3B4455;\n",
              "      fill: #D2E3FC;\n",
              "    }\n",
              "\n",
              "    [theme=dark] .colab-df-convert:hover {\n",
              "      background-color: #434B5C;\n",
              "      box-shadow: 0px 1px 3px 1px rgba(0, 0, 0, 0.15);\n",
              "      filter: drop-shadow(0px 1px 2px rgba(0, 0, 0, 0.3));\n",
              "      fill: #FFFFFF;\n",
              "    }\n",
              "  </style>\n",
              "\n",
              "      <script>\n",
              "        const buttonEl =\n",
              "          document.querySelector('#df-f22b772c-3f60-49b3-923e-3a04c19e2d5b button.colab-df-convert');\n",
              "        buttonEl.style.display =\n",
              "          google.colab.kernel.accessAllowed ? 'block' : 'none';\n",
              "\n",
              "        async function convertToInteractive(key) {\n",
              "          const element = document.querySelector('#df-f22b772c-3f60-49b3-923e-3a04c19e2d5b');\n",
              "          const dataTable =\n",
              "            await google.colab.kernel.invokeFunction('convertToInteractive',\n",
              "                                                     [key], {});\n",
              "          if (!dataTable) return;\n",
              "\n",
              "          const docLinkHtml = 'Like what you see? Visit the ' +\n",
              "            '<a target=\"_blank\" href=https://colab.research.google.com/notebooks/data_table.ipynb>data table notebook</a>'\n",
              "            + ' to learn more about interactive tables.';\n",
              "          element.innerHTML = '';\n",
              "          dataTable['output_type'] = 'display_data';\n",
              "          await google.colab.output.renderOutput(dataTable, element);\n",
              "          const docLink = document.createElement('div');\n",
              "          docLink.innerHTML = docLinkHtml;\n",
              "          element.appendChild(docLink);\n",
              "        }\n",
              "      </script>\n",
              "    </div>\n",
              "  </div>\n",
              "  "
            ]
          },
          "metadata": {},
          "execution_count": 12
        }
      ]
    },
    {
      "cell_type": "markdown",
      "source": [
        "Below is a correlation plot to visualize the correlation between the variables."
      ],
      "metadata": {
        "id": "-ZZbqHWw7NIK"
      }
    },
    {
      "cell_type": "markdown",
      "source": [
        "The above plot shows that \"PhysicalActivity\" and \"DiffWalking\" have the highest correlation value of 0.4, which is a small coefficient considering the size of the dataset. Generally, the features in the dataset do not have high correlation values."
      ],
      "metadata": {
        "id": "DGXHQycG7qgl"
      }
    },
    {
      "cell_type": "markdown",
      "source": [
        "The data is normalized, so the values appear similar across all records and fields. This increases the cohesion of entry types leading to cleansing, lead generation, segmentation, and higher quality data."
      ],
      "metadata": {
        "id": "QFLRPBEK9J7R"
      }
    },
    {
      "cell_type": "markdown",
      "source": [
        "The data is finally converted to a NumPy array in preparation for feeding the data to a machine learning model."
      ],
      "metadata": {
        "id": "ILoa8oa_-MiH"
      }
    },
    {
      "cell_type": "code",
      "source": [
        "# Convert data from pandas DataFrame to numpy array\n",
        "heart_disease_copy = np.array(heart_disease_copy)"
      ],
      "metadata": {
        "id": "m0u_Og46lqxK"
      },
      "execution_count": 13,
      "outputs": []
    },
    {
      "cell_type": "code",
      "source": [
        "# Print column names to verify and check number of samples with and without Heart Disease\n",
        "print(heart_disease_copy.shape)\n",
        "print(varb)\n",
        "print(len(hp_label[hp_label==0]))\n",
        "print(len(hp_label[hp_label==1]))\n",
        "heart_disease_copy"
      ],
      "metadata": {
        "id": "koPvjWTdY06r",
        "colab": {
          "base_uri": "https://localhost:8080/"
        },
        "outputId": "bc481881-e483-42fa-90ab-7ea7c9daae9a"
      },
      "execution_count": 14,
      "outputs": [
        {
          "output_type": "stream",
          "name": "stdout",
          "text": [
            "(584844, 103)\n",
            "['BMI' 'PhysicalHealth' 'Smoking_No' 'Smoking_Yes' 'AlcoholDrinking_No'\n",
            " 'AlcoholDrinking_Yes' 'Stroke_No' 'Stroke_Yes' 'DiffWalking_No'\n",
            " 'DiffWalking_Yes' 'AgeCategory_21.0' 'AgeCategory_27.0'\n",
            " 'AgeCategory_32.0' 'AgeCategory_37.0' 'AgeCategory_42.0'\n",
            " 'AgeCategory_47.0' 'AgeCategory_52.0' 'AgeCategory_57.0'\n",
            " 'AgeCategory_62.0' 'AgeCategory_67.0' 'AgeCategory_72.0'\n",
            " 'AgeCategory_77.0' 'AgeCategory_80.0' 'Diabetic_No'\n",
            " 'Diabetic_No, borderline diabetes' 'Diabetic_Yes'\n",
            " 'Diabetic_Yes (during pregnancy)' 'PhysicalActivity_No'\n",
            " 'PhysicalActivity_Yes' 'GenHealth_Excellent' 'GenHealth_Fair'\n",
            " 'GenHealth_Good' 'GenHealth_Poor' 'GenHealth_Very good'\n",
            " 'KidneyDisease_No' 'KidneyDisease_Yes' 'MentalHealth_0' 'MentalHealth_1'\n",
            " 'MentalHealth_2' 'MentalHealth_3' 'MentalHealth_4' 'MentalHealth_5'\n",
            " 'MentalHealth_6' 'MentalHealth_7' 'MentalHealth_8' 'MentalHealth_9'\n",
            " 'MentalHealth_10' 'MentalHealth_11' 'MentalHealth_12' 'MentalHealth_13'\n",
            " 'MentalHealth_14' 'MentalHealth_15' 'MentalHealth_16' 'MentalHealth_17'\n",
            " 'MentalHealth_18' 'MentalHealth_19' 'MentalHealth_20' 'MentalHealth_21'\n",
            " 'MentalHealth_22' 'MentalHealth_23' 'MentalHealth_24' 'MentalHealth_25'\n",
            " 'MentalHealth_26' 'MentalHealth_27' 'MentalHealth_28' 'MentalHealth_29'\n",
            " 'MentalHealth_30' 'Asthma_No' 'Asthma_Yes' 'SleepTime_1' 'SleepTime_2'\n",
            " 'SleepTime_3' 'SleepTime_4' 'SleepTime_5' 'SleepTime_6' 'SleepTime_7'\n",
            " 'SleepTime_8' 'SleepTime_9' 'SleepTime_10' 'SleepTime_11' 'SleepTime_12'\n",
            " 'SleepTime_13' 'SleepTime_14' 'SleepTime_15' 'SleepTime_16'\n",
            " 'SleepTime_17' 'SleepTime_18' 'SleepTime_19' 'SleepTime_20'\n",
            " 'SleepTime_21' 'SleepTime_22' 'SleepTime_23' 'SleepTime_24'\n",
            " 'Race_American Indian/Alaskan Native' 'Race_Asian' 'Race_Black'\n",
            " 'Race_Hispanic' 'Race_Other' 'Race_White' 'Sex_Female' 'Sex_Male'\n",
            " 'SkinCancer_No' 'SkinCancer_Yes']\n",
            "292422\n",
            "292422\n"
          ]
        },
        {
          "output_type": "execute_result",
          "data": {
            "text/plain": [
              "array([[16.6 ,  3.  ,  0.  , ...,  0.  ,  0.  ,  1.  ],\n",
              "       [20.34,  0.  ,  1.  , ...,  0.  ,  1.  ,  0.  ],\n",
              "       [26.58, 20.  ,  0.  , ...,  1.  ,  1.  ,  0.  ],\n",
              "       ...,\n",
              "       [12.48,  0.  ,  1.  , ...,  0.  ,  1.  ,  0.  ],\n",
              "       [25.1 , 30.  ,  0.  , ...,  1.  ,  1.  ,  0.  ],\n",
              "       [24.96,  0.  ,  0.  , ...,  1.  ,  0.  ,  1.  ]])"
            ]
          },
          "metadata": {},
          "execution_count": 14
        }
      ]
    },
    {
      "cell_type": "markdown",
      "source": [
        "## **PROJECT ARCHITECTURE**"
      ],
      "metadata": {
        "id": "_0ilSLezi732"
      }
    },
    {
      "cell_type": "markdown",
      "source": [
        "**LASSO & Majority Voting (Feature Nomination) --> Data Reduction & Normalization --> Convolutional Neural Network (CNN)**"
      ],
      "metadata": {
        "id": "udESAoUUMSgX"
      }
    },
    {
      "cell_type": "markdown",
      "source": [
        "### **FEATURE NOMINATION USING LEAST ABSOLUTE SHRINKAGE AND SELECTOR OPERATOR (LASSO)**"
      ],
      "metadata": {
        "id": "E06aaZGVJf8z"
      }
    },
    {
      "cell_type": "markdown",
      "source": [
        "The goal of the LASSO technique is variable selection and regularization. It is a technique that shrinks data values in a dataset toward a central point, thereby aiding variable selection and parameter elimination. In this process, a penalty equal to the absolute value of the magnitude of coefficients is applied to the data, thereby shrinking some coefficients to zero and eliminating them from the model.\n",
        "\n",
        "A limitation of using LASSO is its tendency to arrive at misleading results in cases of data imbalance, thereby causing incorrect selection of essential variables if LASSO is performed on the entire dataset. The dataset is randomly sampled, and LASSO is iterated a hundred times (100) to mitigate this limitation. Majority voting is then used to identify variables that are non-zero in most of the iterations."
      ],
      "metadata": {
        "id": "9YUZOLuMkC2n"
      }
    },
    {
      "cell_type": "code",
      "source": [
        "# Data condensation using LASSO penalty\n",
        "from sklearn.linear_model import Lasso, LogisticRegression\n",
        "\n",
        "# Majority voting\n",
        "featureVote = np.zeros(heart_disease_copy.shape[1])\n",
        "print(featureVote.shape)\n",
        "\n",
        "iteR = 100\n",
        "\n",
        "for num in range(iteR):\n",
        "    label0_indx = np.where(hp_label==0)[0]   # no heart disease\n",
        "    label1_indx = np.where(hp_label==1)[0]   # heart disease \n",
        "    numTrainData0 = 1300\n",
        "    numTrainData1 = 1300\n",
        "    np.random.shuffle(label0_indx)\n",
        "    np.random.shuffle(label1_indx)\n",
        "    \n",
        "    label0_indx_train = label0_indx[0:numTrainData0-1]\n",
        "    label1_indx_train = label1_indx[0:numTrainData1-1]\n",
        "    label0_indx_test  = label0_indx[numTrainData0-1:]\n",
        "    label1_indx_test  = label1_indx[numTrainData1-1:]\n",
        "    \n",
        "    testIndx  = np.append(label0_indx_test,label1_indx_test)\n",
        "    trainIndx = np.append(label0_indx_train,label1_indx_train)    \n",
        "    trainData  =  heart_disease_copy[trainIndx]\n",
        "    trainLabel =  hp_label[trainIndx]\n",
        "    testData   =  heart_disease_copy[testIndx]\n",
        "    testLabel  =  hp_label[testIndx]    \n",
        "    \n",
        "    # Data standardization\n",
        "    scaler = preprocessing.StandardScaler().fit(trainData)\n",
        "    trainData_scaled = scaler.transform(trainData)\n",
        "    testData_scaled  = scaler.transform(testData)\n",
        "    \n",
        "    # Elastic net and Lasso from scikit\n",
        "    regr = Lasso(random_state=0, alpha=0.006, tol=0.000001, max_iter=100000)\n",
        "    regr.fit(trainData_scaled,trainLabel)\n",
        "    cof = np.abs(regr.coef_)    \n",
        "    colIndx = np.where(cof != 0)[0]\n",
        "    for col in colIndx:\n",
        "        featureVote[col]+=1\n"
      ],
      "metadata": {
        "colab": {
          "base_uri": "https://localhost:8080/"
        },
        "id": "-saIXuBlY3fv",
        "outputId": "e3e4293d-9528-4618-e694-f34584caf732"
      },
      "execution_count": 15,
      "outputs": [
        {
          "output_type": "stream",
          "name": "stdout",
          "text": [
            "(103,)\n"
          ]
        }
      ]
    },
    {
      "cell_type": "markdown",
      "source": [
        "Below is the result of the majority voting."
      ],
      "metadata": {
        "id": "yG7V1nEfpvHd"
      }
    },
    {
      "cell_type": "code",
      "source": [
        "# Print result of majority voting\n",
        "print(featureVote)\n",
        "print(iter)"
      ],
      "metadata": {
        "colab": {
          "base_uri": "https://localhost:8080/"
        },
        "id": "8oETT4wMY-3a",
        "outputId": "fd8dfdb1-80d5-4b3f-ed52-69d0778c012e"
      },
      "execution_count": 16,
      "outputs": [
        {
          "output_type": "stream",
          "name": "stdout",
          "text": [
            "[ 67.  82. 100.  57.  77.  55. 100.  64.  98.  58. 100. 100. 100. 100.\n",
            " 100.  99.  83.  11.  75.  98. 100. 100. 100.  80.   6.  91.  41.  49.\n",
            "  25. 100. 100.   0. 100. 100. 100.  75.  18.  43.  43.  51.  48.  48.\n",
            "  42.  44.  35.  46.  46.  36.  39.  22.  42.  39.  24.  27.  37.  10.\n",
            "  39.  45.  23.  22.  17.  49.  14.  19.  47.  46.  62.  94.  67.  40.\n",
            "  56.  62.  75.  50.  30.  71.  37.  56.  45.  46.  40.  27.  55.  39.\n",
            "  48.  11.  30.   0.  17.   1.   6.   0.  19.  50.  65.  40.  44.  37.\n",
            "  45. 100.  43.  78.  59.]\n",
            "<built-in function iter>\n"
          ]
        }
      ]
    },
    {
      "cell_type": "markdown",
      "source": [
        "Below is the feature nomination process via LASSO"
      ],
      "metadata": {
        "id": "xTcNkMXIv-4F"
      }
    },
    {
      "cell_type": "code",
      "source": [
        "# Feature nomination via Lasso (from feature 1 to 30) including dummy variables\n",
        "thresH = 0\n",
        "featureIndx = np.where(featureVote[0:30]>=thresH)[0]\n",
        "featureIndx = np.append(featureIndx, np.arange(30,heart_disease_copy.shape[1]))\n",
        "print(varb[featureIndx])"
      ],
      "metadata": {
        "colab": {
          "base_uri": "https://localhost:8080/"
        },
        "id": "WLx4bdq2ZC1D",
        "outputId": "394671f9-dda9-49c1-d70a-f4ecc9ec8501"
      },
      "execution_count": 17,
      "outputs": [
        {
          "output_type": "stream",
          "name": "stdout",
          "text": [
            "['BMI' 'PhysicalHealth' 'Smoking_No' 'Smoking_Yes' 'AlcoholDrinking_No'\n",
            " 'AlcoholDrinking_Yes' 'Stroke_No' 'Stroke_Yes' 'DiffWalking_No'\n",
            " 'DiffWalking_Yes' 'AgeCategory_21.0' 'AgeCategory_27.0'\n",
            " 'AgeCategory_32.0' 'AgeCategory_37.0' 'AgeCategory_42.0'\n",
            " 'AgeCategory_47.0' 'AgeCategory_52.0' 'AgeCategory_57.0'\n",
            " 'AgeCategory_62.0' 'AgeCategory_67.0' 'AgeCategory_72.0'\n",
            " 'AgeCategory_77.0' 'AgeCategory_80.0' 'Diabetic_No'\n",
            " 'Diabetic_No, borderline diabetes' 'Diabetic_Yes'\n",
            " 'Diabetic_Yes (during pregnancy)' 'PhysicalActivity_No'\n",
            " 'PhysicalActivity_Yes' 'GenHealth_Excellent' 'GenHealth_Fair'\n",
            " 'GenHealth_Good' 'GenHealth_Poor' 'GenHealth_Very good'\n",
            " 'KidneyDisease_No' 'KidneyDisease_Yes' 'MentalHealth_0' 'MentalHealth_1'\n",
            " 'MentalHealth_2' 'MentalHealth_3' 'MentalHealth_4' 'MentalHealth_5'\n",
            " 'MentalHealth_6' 'MentalHealth_7' 'MentalHealth_8' 'MentalHealth_9'\n",
            " 'MentalHealth_10' 'MentalHealth_11' 'MentalHealth_12' 'MentalHealth_13'\n",
            " 'MentalHealth_14' 'MentalHealth_15' 'MentalHealth_16' 'MentalHealth_17'\n",
            " 'MentalHealth_18' 'MentalHealth_19' 'MentalHealth_20' 'MentalHealth_21'\n",
            " 'MentalHealth_22' 'MentalHealth_23' 'MentalHealth_24' 'MentalHealth_25'\n",
            " 'MentalHealth_26' 'MentalHealth_27' 'MentalHealth_28' 'MentalHealth_29'\n",
            " 'MentalHealth_30' 'Asthma_No' 'Asthma_Yes' 'SleepTime_1' 'SleepTime_2'\n",
            " 'SleepTime_3' 'SleepTime_4' 'SleepTime_5' 'SleepTime_6' 'SleepTime_7'\n",
            " 'SleepTime_8' 'SleepTime_9' 'SleepTime_10' 'SleepTime_11' 'SleepTime_12'\n",
            " 'SleepTime_13' 'SleepTime_14' 'SleepTime_15' 'SleepTime_16'\n",
            " 'SleepTime_17' 'SleepTime_18' 'SleepTime_19' 'SleepTime_20'\n",
            " 'SleepTime_21' 'SleepTime_22' 'SleepTime_23' 'SleepTime_24'\n",
            " 'Race_American Indian/Alaskan Native' 'Race_Asian' 'Race_Black'\n",
            " 'Race_Hispanic' 'Race_Other' 'Race_White' 'Sex_Female' 'Sex_Male'\n",
            " 'SkinCancer_No' 'SkinCancer_Yes']\n"
          ]
        }
      ]
    },
    {
      "cell_type": "code",
      "source": [
        "featureIndx.shape"
      ],
      "metadata": {
        "colab": {
          "base_uri": "https://localhost:8080/"
        },
        "id": "xSxFke-RZIbY",
        "outputId": "6ba45b50-27e9-4c27-9f06-571114a9975d"
      },
      "execution_count": 18,
      "outputs": [
        {
          "output_type": "execute_result",
          "data": {
            "text/plain": [
              "(103,)"
            ]
          },
          "metadata": {},
          "execution_count": 18
        }
      ]
    },
    {
      "cell_type": "code",
      "source": [
        "tInx = np.arange(heart_disease_copy.shape[1])\n",
        "rrInx = tInx[~np.isin(tInx,featureIndx)]\n",
        "print(varb[rrInx])"
      ],
      "metadata": {
        "colab": {
          "base_uri": "https://localhost:8080/"
        },
        "id": "Y8uKFW7HZNBJ",
        "outputId": "4964bf32-1b24-41df-dc05-d67a39e10c78"
      },
      "execution_count": 19,
      "outputs": [
        {
          "output_type": "stream",
          "name": "stdout",
          "text": [
            "[]\n"
          ]
        }
      ]
    },
    {
      "cell_type": "markdown",
      "source": [
        "### **DATASET REDUCTION & NORMALIZATION**"
      ],
      "metadata": {
        "id": "_nYcP3xawvkM"
      }
    },
    {
      "cell_type": "markdown",
      "source": [
        "Due to class imbalance in the data and its drawbacks, a subsample of the data (about 10.1: 1 of Non-HD: HD) consisting of 4200: 400  responses is used to represent the dataset's distribution better. The data is then normalized using StandardScaler from ScikitLearn."
      ],
      "metadata": {
        "id": "X9SFLTOiygfZ"
      }
    },
    {
      "cell_type": "markdown",
      "source": [
        "***Note: Re-run every time you change the number of training data***"
      ],
      "metadata": {
        "id": "Y7KYbcqhxRIX"
      }
    },
    {
      "cell_type": "code",
      "source": [
        "# Data reduction process\n",
        "reduced_data = heart_disease_copy[:,featureIndx]\n",
        "\n",
        "label0_indx = np.where(hp_label==0)[0]   # no heart disease\n",
        "label1_indx = np.where(hp_label==1)[0]   # heart disease\n",
        "numTrainData0 = 14000\n",
        "numTrainData1 = 14000\n",
        "np.random.shuffle(label0_indx)\n",
        "np.random.shuffle(label1_indx)\n",
        "\n",
        "label0_indx_train = label0_indx[0:numTrainData0]\n",
        "label1_indx_train = label1_indx[0:numTrainData1]\n",
        "label0_indx_test  = label0_indx[numTrainData0:]\n",
        "label1_indx_test  = label1_indx[numTrainData1:]\n",
        "\n",
        "testIndx  = np.append(label0_indx_test,label1_indx_test)\n",
        "trainIndx = np.append(label0_indx_train,label1_indx_train)    \n",
        "x_train  =  reduced_data[trainIndx]\n",
        "y_train  =  hp_label[trainIndx]\n",
        "x_test   =  reduced_data[testIndx]\n",
        "y_test   =  hp_label[testIndx] "
      ],
      "metadata": {
        "id": "Il0y5IlEZQNx"
      },
      "execution_count": 20,
      "outputs": []
    },
    {
      "cell_type": "code",
      "source": [
        "# Normalizing the data\n",
        "scaler = preprocessing.StandardScaler().fit(x_train)\n",
        "x_train = scaler.transform(x_train)\n",
        "x_test  = scaler.transform(x_test)\n",
        "\n",
        "x_train_org = copy.deepcopy(x_train)\n",
        "x_test_org  = copy.deepcopy(x_test)\n",
        "y_train_org     = copy.deepcopy(y_train)\n",
        "y_test_org      = copy.deepcopy(y_test)"
      ],
      "metadata": {
        "id": "V0dCTW_HZZ2o"
      },
      "execution_count": 21,
      "outputs": []
    },
    {
      "cell_type": "markdown",
      "source": [
        "#### **t-Distributed Stochastic Neighbor Embedding (t-SNE)**"
      ],
      "metadata": {
        "id": "7rSDgYf76h6O"
      }
    },
    {
      "cell_type": "markdown",
      "source": [
        "The augmented data is visualized using t-SNE. t-SNE is a statistical method for visualizing high-dimensional data in a low-dimensional space by giving each datapoint a location in a two or three-dimensional map. It is also called non-linear dimensionality reduction because it allows the separation of linearly non-separable data. This makes t-SNE very useful when dealing with CNN feature maps."
      ],
      "metadata": {
        "id": "fb7Q-USP20YI"
      }
    },
    {
      "cell_type": "code",
      "source": [
        "# Imports to perform t-SNE visualization\n",
        "import imblearn\n",
        "from collections import Counter\n",
        "from sklearn.manifold import TSNE\n",
        "import seaborn as sns"
      ],
      "metadata": {
        "id": "IBaD6sEoZbPQ"
      },
      "execution_count": null,
      "outputs": []
    },
    {
      "cell_type": "code",
      "source": [
        "# t-SNE\n",
        "X_embedded = TSNE(n_components=3, n_iter = 300, verbose=1).fit_transform(x_train)"
      ],
      "metadata": {
        "colab": {
          "base_uri": "https://localhost:8080/",
          "height": 991
        },
        "id": "rntc9Kf5ZfTj",
        "outputId": "bd056b1a-1071-43e6-c6dc-1fcf2ccf965b"
      },
      "execution_count": null,
      "outputs": [
        {
          "output_type": "stream",
          "name": "stderr",
          "text": [
            "/usr/local/lib/python3.7/dist-packages/sklearn/manifold/_t_sne.py:783: FutureWarning: The default initialization in TSNE will change from 'random' to 'pca' in 1.2.\n",
            "  FutureWarning,\n",
            "/usr/local/lib/python3.7/dist-packages/sklearn/manifold/_t_sne.py:793: FutureWarning: The default learning rate in TSNE will change from 200.0 to 'auto' in 1.2.\n",
            "  FutureWarning,\n"
          ]
        },
        {
          "output_type": "stream",
          "name": "stdout",
          "text": [
            "[t-SNE] Computing 91 nearest neighbors...\n",
            "[t-SNE] Indexed 28000 samples in 0.004s...\n",
            "[t-SNE] Computed neighbors for 28000 samples in 21.318s...\n",
            "[t-SNE] Computed conditional probabilities for sample 1000 / 28000\n",
            "[t-SNE] Computed conditional probabilities for sample 2000 / 28000\n",
            "[t-SNE] Computed conditional probabilities for sample 3000 / 28000\n",
            "[t-SNE] Computed conditional probabilities for sample 4000 / 28000\n",
            "[t-SNE] Computed conditional probabilities for sample 5000 / 28000\n",
            "[t-SNE] Computed conditional probabilities for sample 6000 / 28000\n",
            "[t-SNE] Computed conditional probabilities for sample 7000 / 28000\n",
            "[t-SNE] Computed conditional probabilities for sample 8000 / 28000\n",
            "[t-SNE] Computed conditional probabilities for sample 9000 / 28000\n",
            "[t-SNE] Computed conditional probabilities for sample 10000 / 28000\n",
            "[t-SNE] Computed conditional probabilities for sample 11000 / 28000\n",
            "[t-SNE] Computed conditional probabilities for sample 12000 / 28000\n",
            "[t-SNE] Computed conditional probabilities for sample 13000 / 28000\n",
            "[t-SNE] Computed conditional probabilities for sample 14000 / 28000\n",
            "[t-SNE] Computed conditional probabilities for sample 15000 / 28000\n",
            "[t-SNE] Computed conditional probabilities for sample 16000 / 28000\n",
            "[t-SNE] Computed conditional probabilities for sample 17000 / 28000\n",
            "[t-SNE] Computed conditional probabilities for sample 18000 / 28000\n",
            "[t-SNE] Computed conditional probabilities for sample 19000 / 28000\n",
            "[t-SNE] Computed conditional probabilities for sample 20000 / 28000\n",
            "[t-SNE] Computed conditional probabilities for sample 21000 / 28000\n",
            "[t-SNE] Computed conditional probabilities for sample 22000 / 28000\n",
            "[t-SNE] Computed conditional probabilities for sample 23000 / 28000\n",
            "[t-SNE] Computed conditional probabilities for sample 24000 / 28000\n",
            "[t-SNE] Computed conditional probabilities for sample 25000 / 28000\n",
            "[t-SNE] Computed conditional probabilities for sample 26000 / 28000\n",
            "[t-SNE] Computed conditional probabilities for sample 27000 / 28000\n",
            "[t-SNE] Computed conditional probabilities for sample 28000 / 28000\n",
            "[t-SNE] Mean sigma: 2.303879\n"
          ]
        },
        {
          "output_type": "error",
          "ename": "KeyboardInterrupt",
          "evalue": "ignored",
          "traceback": [
            "\u001b[0;31m---------------------------------------------------------------------------\u001b[0m",
            "\u001b[0;31mKeyboardInterrupt\u001b[0m                         Traceback (most recent call last)",
            "\u001b[0;32m<ipython-input-28-01237fdf3b25>\u001b[0m in \u001b[0;36m<module>\u001b[0;34m()\u001b[0m\n\u001b[1;32m      1\u001b[0m \u001b[0;31m# t-SNE\u001b[0m\u001b[0;34m\u001b[0m\u001b[0;34m\u001b[0m\u001b[0;34m\u001b[0m\u001b[0m\n\u001b[0;32m----> 2\u001b[0;31m \u001b[0mX_embedded\u001b[0m \u001b[0;34m=\u001b[0m \u001b[0mTSNE\u001b[0m\u001b[0;34m(\u001b[0m\u001b[0mn_components\u001b[0m\u001b[0;34m=\u001b[0m\u001b[0;36m3\u001b[0m\u001b[0;34m,\u001b[0m \u001b[0mn_iter\u001b[0m \u001b[0;34m=\u001b[0m \u001b[0;36m300\u001b[0m\u001b[0;34m,\u001b[0m \u001b[0mverbose\u001b[0m\u001b[0;34m=\u001b[0m\u001b[0;36m1\u001b[0m\u001b[0;34m)\u001b[0m\u001b[0;34m.\u001b[0m\u001b[0mfit_transform\u001b[0m\u001b[0;34m(\u001b[0m\u001b[0mx_train\u001b[0m\u001b[0;34m)\u001b[0m\u001b[0;34m\u001b[0m\u001b[0;34m\u001b[0m\u001b[0m\n\u001b[0m",
            "\u001b[0;32m/usr/local/lib/python3.7/dist-packages/sklearn/manifold/_t_sne.py\u001b[0m in \u001b[0;36mfit_transform\u001b[0;34m(self, X, y)\u001b[0m\n\u001b[1;32m   1106\u001b[0m             \u001b[0mEmbedding\u001b[0m \u001b[0mof\u001b[0m \u001b[0mthe\u001b[0m \u001b[0mtraining\u001b[0m \u001b[0mdata\u001b[0m \u001b[0;32min\u001b[0m \u001b[0mlow\u001b[0m\u001b[0;34m-\u001b[0m\u001b[0mdimensional\u001b[0m \u001b[0mspace\u001b[0m\u001b[0;34m.\u001b[0m\u001b[0;34m\u001b[0m\u001b[0;34m\u001b[0m\u001b[0m\n\u001b[1;32m   1107\u001b[0m         \"\"\"\n\u001b[0;32m-> 1108\u001b[0;31m         \u001b[0membedding\u001b[0m \u001b[0;34m=\u001b[0m \u001b[0mself\u001b[0m\u001b[0;34m.\u001b[0m\u001b[0m_fit\u001b[0m\u001b[0;34m(\u001b[0m\u001b[0mX\u001b[0m\u001b[0;34m)\u001b[0m\u001b[0;34m\u001b[0m\u001b[0;34m\u001b[0m\u001b[0m\n\u001b[0m\u001b[1;32m   1109\u001b[0m         \u001b[0mself\u001b[0m\u001b[0;34m.\u001b[0m\u001b[0membedding_\u001b[0m \u001b[0;34m=\u001b[0m \u001b[0membedding\u001b[0m\u001b[0;34m\u001b[0m\u001b[0;34m\u001b[0m\u001b[0m\n\u001b[1;32m   1110\u001b[0m         \u001b[0;32mreturn\u001b[0m \u001b[0mself\u001b[0m\u001b[0;34m.\u001b[0m\u001b[0membedding_\u001b[0m\u001b[0;34m\u001b[0m\u001b[0;34m\u001b[0m\u001b[0m\n",
            "\u001b[0;32m/usr/local/lib/python3.7/dist-packages/sklearn/manifold/_t_sne.py\u001b[0m in \u001b[0;36m_fit\u001b[0;34m(self, X, skip_num_points)\u001b[0m\n\u001b[1;32m   1008\u001b[0m             \u001b[0mX_embedded\u001b[0m\u001b[0;34m=\u001b[0m\u001b[0mX_embedded\u001b[0m\u001b[0;34m,\u001b[0m\u001b[0;34m\u001b[0m\u001b[0;34m\u001b[0m\u001b[0m\n\u001b[1;32m   1009\u001b[0m             \u001b[0mneighbors\u001b[0m\u001b[0;34m=\u001b[0m\u001b[0mneighbors_nn\u001b[0m\u001b[0;34m,\u001b[0m\u001b[0;34m\u001b[0m\u001b[0;34m\u001b[0m\u001b[0m\n\u001b[0;32m-> 1010\u001b[0;31m             \u001b[0mskip_num_points\u001b[0m\u001b[0;34m=\u001b[0m\u001b[0mskip_num_points\u001b[0m\u001b[0;34m,\u001b[0m\u001b[0;34m\u001b[0m\u001b[0;34m\u001b[0m\u001b[0m\n\u001b[0m\u001b[1;32m   1011\u001b[0m         )\n\u001b[1;32m   1012\u001b[0m \u001b[0;34m\u001b[0m\u001b[0m\n",
            "\u001b[0;32m/usr/local/lib/python3.7/dist-packages/sklearn/manifold/_t_sne.py\u001b[0m in \u001b[0;36m_tsne\u001b[0;34m(self, P, degrees_of_freedom, n_samples, X_embedded, neighbors, skip_num_points)\u001b[0m\n\u001b[1;32m   1054\u001b[0m         \u001b[0;31m# higher learning rate controlled via the early exaggeration parameter\u001b[0m\u001b[0;34m\u001b[0m\u001b[0;34m\u001b[0m\u001b[0;34m\u001b[0m\u001b[0m\n\u001b[1;32m   1055\u001b[0m         \u001b[0mP\u001b[0m \u001b[0;34m*=\u001b[0m \u001b[0mself\u001b[0m\u001b[0;34m.\u001b[0m\u001b[0mearly_exaggeration\u001b[0m\u001b[0;34m\u001b[0m\u001b[0;34m\u001b[0m\u001b[0m\n\u001b[0;32m-> 1056\u001b[0;31m         \u001b[0mparams\u001b[0m\u001b[0;34m,\u001b[0m \u001b[0mkl_divergence\u001b[0m\u001b[0;34m,\u001b[0m \u001b[0mit\u001b[0m \u001b[0;34m=\u001b[0m \u001b[0m_gradient_descent\u001b[0m\u001b[0;34m(\u001b[0m\u001b[0mobj_func\u001b[0m\u001b[0;34m,\u001b[0m \u001b[0mparams\u001b[0m\u001b[0;34m,\u001b[0m \u001b[0;34m**\u001b[0m\u001b[0mopt_args\u001b[0m\u001b[0;34m)\u001b[0m\u001b[0;34m\u001b[0m\u001b[0;34m\u001b[0m\u001b[0m\n\u001b[0m\u001b[1;32m   1057\u001b[0m         \u001b[0;32mif\u001b[0m \u001b[0mself\u001b[0m\u001b[0;34m.\u001b[0m\u001b[0mverbose\u001b[0m\u001b[0;34m:\u001b[0m\u001b[0;34m\u001b[0m\u001b[0;34m\u001b[0m\u001b[0m\n\u001b[1;32m   1058\u001b[0m             print(\n",
            "\u001b[0;32m/usr/local/lib/python3.7/dist-packages/sklearn/manifold/_t_sne.py\u001b[0m in \u001b[0;36m_gradient_descent\u001b[0;34m(objective, p0, it, n_iter, n_iter_check, n_iter_without_progress, momentum, learning_rate, min_gain, min_grad_norm, verbose, args, kwargs)\u001b[0m\n\u001b[1;32m    396\u001b[0m         \u001b[0mkwargs\u001b[0m\u001b[0;34m[\u001b[0m\u001b[0;34m\"compute_error\"\u001b[0m\u001b[0;34m]\u001b[0m \u001b[0;34m=\u001b[0m \u001b[0mcheck_convergence\u001b[0m \u001b[0;32mor\u001b[0m \u001b[0mi\u001b[0m \u001b[0;34m==\u001b[0m \u001b[0mn_iter\u001b[0m \u001b[0;34m-\u001b[0m \u001b[0;36m1\u001b[0m\u001b[0;34m\u001b[0m\u001b[0;34m\u001b[0m\u001b[0m\n\u001b[1;32m    397\u001b[0m \u001b[0;34m\u001b[0m\u001b[0m\n\u001b[0;32m--> 398\u001b[0;31m         \u001b[0merror\u001b[0m\u001b[0;34m,\u001b[0m \u001b[0mgrad\u001b[0m \u001b[0;34m=\u001b[0m \u001b[0mobjective\u001b[0m\u001b[0;34m(\u001b[0m\u001b[0mp\u001b[0m\u001b[0;34m,\u001b[0m \u001b[0;34m*\u001b[0m\u001b[0margs\u001b[0m\u001b[0;34m,\u001b[0m \u001b[0;34m**\u001b[0m\u001b[0mkwargs\u001b[0m\u001b[0;34m)\u001b[0m\u001b[0;34m\u001b[0m\u001b[0;34m\u001b[0m\u001b[0m\n\u001b[0m\u001b[1;32m    399\u001b[0m         \u001b[0mgrad_norm\u001b[0m \u001b[0;34m=\u001b[0m \u001b[0mlinalg\u001b[0m\u001b[0;34m.\u001b[0m\u001b[0mnorm\u001b[0m\u001b[0;34m(\u001b[0m\u001b[0mgrad\u001b[0m\u001b[0;34m)\u001b[0m\u001b[0;34m\u001b[0m\u001b[0;34m\u001b[0m\u001b[0m\n\u001b[1;32m    400\u001b[0m \u001b[0;34m\u001b[0m\u001b[0m\n",
            "\u001b[0;32m/usr/local/lib/python3.7/dist-packages/sklearn/manifold/_t_sne.py\u001b[0m in \u001b[0;36m_kl_divergence_bh\u001b[0;34m(params, P, degrees_of_freedom, n_samples, n_components, angle, skip_num_points, verbose, compute_error, num_threads)\u001b[0m\n\u001b[1;32m    288\u001b[0m         \u001b[0mdof\u001b[0m\u001b[0;34m=\u001b[0m\u001b[0mdegrees_of_freedom\u001b[0m\u001b[0;34m,\u001b[0m\u001b[0;34m\u001b[0m\u001b[0;34m\u001b[0m\u001b[0m\n\u001b[1;32m    289\u001b[0m         \u001b[0mcompute_error\u001b[0m\u001b[0;34m=\u001b[0m\u001b[0mcompute_error\u001b[0m\u001b[0;34m,\u001b[0m\u001b[0;34m\u001b[0m\u001b[0;34m\u001b[0m\u001b[0m\n\u001b[0;32m--> 290\u001b[0;31m         \u001b[0mnum_threads\u001b[0m\u001b[0;34m=\u001b[0m\u001b[0mnum_threads\u001b[0m\u001b[0;34m,\u001b[0m\u001b[0;34m\u001b[0m\u001b[0;34m\u001b[0m\u001b[0m\n\u001b[0m\u001b[1;32m    291\u001b[0m     )\n\u001b[1;32m    292\u001b[0m     \u001b[0mc\u001b[0m \u001b[0;34m=\u001b[0m \u001b[0;36m2.0\u001b[0m \u001b[0;34m*\u001b[0m \u001b[0;34m(\u001b[0m\u001b[0mdegrees_of_freedom\u001b[0m \u001b[0;34m+\u001b[0m \u001b[0;36m1.0\u001b[0m\u001b[0;34m)\u001b[0m \u001b[0;34m/\u001b[0m \u001b[0mdegrees_of_freedom\u001b[0m\u001b[0;34m\u001b[0m\u001b[0;34m\u001b[0m\u001b[0m\n",
            "\u001b[0;31mKeyboardInterrupt\u001b[0m: "
          ]
        }
      ]
    },
    {
      "cell_type": "code",
      "source": [
        "# 3-Dimensional plot of the datapoints computed using t-SNE\n",
        "from mpl_toolkits.mplot3d import Axes3D\n",
        "\n",
        "cin = sns.color_palette(\"Set1\")[1]\n",
        "edge_color = []\n",
        "fig = plt.figure()\n",
        "ax = fig.add_subplot(111, projection='3d')\n",
        "ax.set_facecolor('w')\n",
        "ax.scatter(X_embedded[:,0],X_embedded[:,1],X_embedded[:,2],color=[sns.color_palette(\"Set1\")[x] for x in y_train],\\\n",
        "           edgecolors='k',label='No Heart Disease')\n",
        "ax.scatter(0,0,0,color=cin,edgecolors='k',label='Heart Disease')\n",
        "ax.azim = 20\n",
        "ax.elev = 20\n",
        "ax.set_xlabel(\"t-SNE Dim 1\", size=\"x-large\")\n",
        "ax.set_ylabel(\"t-SNE Dim 2\", size=\"x-large\")\n",
        "ax.set_zlabel(\"t-SNE Dim 3\", size=\"x-large\")\n",
        "plt.title(\"Random subsampling 3:1\",size=\"xx-large\")\n",
        "ax.legend(loc='upper left')\n",
        "fig.set_size_inches(7.5,7.5)\n",
        "fig.savefig('tSNE_RUS.png', dpi=100)"
      ],
      "metadata": {
        "id": "LGG1_CQoZlnF"
      },
      "execution_count": null,
      "outputs": []
    },
    {
      "cell_type": "markdown",
      "source": [
        "#### **Train-Test Data Split**"
      ],
      "metadata": {
        "id": "N0_M7h15e2-q"
      }
    },
    {
      "cell_type": "code",
      "source": [
        "# x train and test data\n",
        "x_train = x_train.reshape(x_train.shape[0],x_train.shape[1],1)\n",
        "x_test = x_test.reshape(x_test.shape[0],x_test.shape[1],1)"
      ],
      "metadata": {
        "id": "YnoHOcYOZsqW"
      },
      "execution_count": 22,
      "outputs": []
    },
    {
      "cell_type": "code",
      "source": [
        "# One-hot-encoding\n",
        "y_train = keras.utils.to_categorical(y_train,2)\n",
        "y_test  = keras.utils.to_categorical(y_test,2)"
      ],
      "metadata": {
        "id": "9lP7s5DpZvJS"
      },
      "execution_count": 23,
      "outputs": []
    },
    {
      "cell_type": "code",
      "source": [
        "# y train data for other models\n",
        "y_train_org"
      ],
      "metadata": {
        "id": "ZYuHJrt2Zxbs",
        "colab": {
          "base_uri": "https://localhost:8080/"
        },
        "outputId": "31bdd42f-8984-49b9-bae3-544d737ee3b1"
      },
      "execution_count": 24,
      "outputs": [
        {
          "output_type": "execute_result",
          "data": {
            "text/plain": [
              "array([0, 0, 0, ..., 1, 1, 1])"
            ]
          },
          "metadata": {},
          "execution_count": 24
        }
      ]
    },
    {
      "cell_type": "markdown",
      "source": [
        "### **CONVOLUTIONAL NEURAL NETWORK (CNN)**"
      ],
      "metadata": {
        "id": "lV2d1EnoNGGS"
      }
    },
    {
      "cell_type": "markdown",
      "source": [
        "#### **BRIEF OVERVIEW OF CNN**"
      ],
      "metadata": {
        "id": "1SScvL4V8pOo"
      }
    },
    {
      "cell_type": "markdown",
      "source": [
        "***Note: Running the part above is MANDATORY for training any Network below***"
      ],
      "metadata": {
        "id": "NmNMAFHsw3a9"
      }
    },
    {
      "cell_type": "markdown",
      "source": [
        "CNN is a neural network that consists of a set of layers, the most important of which is a convolutional layer. This neural network compresses a fully connected network by reducing the number of connections, decreasing the number of shared weights on the edges, and pooling (downsampling) the data to further reduce the complexity.\n",
        "CNN primarily comprises four types of layers:\n",
        "- Convolutional Layer: This is the layer where the convolution process takes place. Convolution is the simple application of a filter (kernel) to an input, resulting in its activation. Repeated application of the same filter to an input results in a map of activations called a feature map, indicating the locations and strength of a detected feature in an input.\n",
        "- Activation Layer: The activation layer utilizes an activation function that replaces every negative value in the output volume from the convolution layer with zero to prevent the values from summing up to zero. An example of an activation function is Rectified Linear Unit (ReLU).\n",
        "- Pooling Layer: This layer is added between two convolution layers to reduce the data's spatial size. Max pooling and Average pooling are the two types of pooling. Max pooling takes the maximum value of the inputs in the kernel and outputs that value to the next layer, while Average pooling uses the average value of the inputs and outputs the reduced value to the next layer.\n",
        "- Fully Connected Layer: This layer consists of a regular, fully connected neural network. The flattened final feature representation of the previous layers is fed to this layer for classification purposes."
      ],
      "metadata": {
        "id": "TpKjbUloFsnk"
      }
    },
    {
      "cell_type": "markdown",
      "source": [
        "#### **PROJECT CNN ARCHITECTURE**"
      ],
      "metadata": {
        "id": "w5PJn2wfMi_w"
      }
    },
    {
      "cell_type": "markdown",
      "source": [
        "***Input --> Dense --> Convolution Layer (2 filters) --> Convolution Layer (4 filters) --> Dense Layers (2) --> Softmax Layer***\n",
        "\n",
        "The input is a 1D numerical array corresponding to all the factors/variables from LASSO-Majority Voting preprocessing stage.\n",
        "\n",
        "The Dense layer after the input combines all the factors, and each neuron at the output of this dense layer is a weighted combination of all the variables, suggesting a homogenous mix of different variable types.\n",
        "\n",
        "The following two Dense layers can be retrained for transfer learning should new data be obtained.\n",
        "\n",
        "The softmax layer is the activation function in the output layer.\n",
        "\n",
        "See presentation slide 17 for a diagrammatic representation of this architecture."
      ],
      "metadata": {
        "id": "3pLGRi0iMsrT"
      }
    },
    {
      "cell_type": "markdown",
      "source": [
        "#### **CNN MODEL**"
      ],
      "metadata": {
        "id": "BjDZAfh1qvKB"
      }
    },
    {
      "cell_type": "markdown",
      "source": [
        "**Input => Dense(64) => Conv(2) => Dense (128) = Conv(4) => Dense (2)**"
      ],
      "metadata": {
        "id": "E4KmVy4w9Ijx"
      }
    },
    {
      "cell_type": "code",
      "source": [
        "# CNN model\n",
        "inputs = keras.layers.Input(shape=(x_train.shape[1],1))\n",
        "RS0    = keras.layers.Reshape((x_train.shape[1], ))(inputs)\n",
        "FC0    = keras.layers.Dense(64, bias_initializer=keras.initializers.VarianceScaling())(RS0)\n",
        "BN0    = keras.layers.BatchNormalization(axis=-1)(FC0)\n",
        "AC0    = keras.layers.Activation('relu')(BN0)\n",
        "DP0    = keras.layers.Dropout(0.2)(AC0)\n",
        "\n",
        "RS1    = keras.layers.Reshape((64,1))(DP0)\n",
        "FC1    = keras.layers.Conv1D(2,3,strides=1)(RS1)\n",
        "BN1    = keras.layers.BatchNormalization(axis=-1)(FC1)\n",
        "AC1    = keras.layers.Activation('relu')(BN1)\n",
        "Pool1  = keras.layers.AveragePooling1D(pool_size=2)(AC1)\n",
        "\n",
        "FL0 = keras.layers.Flatten()(Pool1)\n",
        "\n",
        "AA1 = keras.layers.Dense(128, bias_initializer=keras.initializers.VarianceScaling())(FL0)\n",
        "BB1 = keras.layers.BatchNormalization(axis=-1)(AA1)\n",
        "CC1 = keras.layers.Activation('relu')(BB1)\n",
        "Pool2 = keras.layers.Dropout(0.2)(CC1)\n",
        "\n",
        "\n",
        "RS2    = keras.layers.Reshape((128,1))(Pool2)\n",
        "FC2    = keras.layers.Conv1D(4,5,strides=1)(RS2)\n",
        "BN2    = keras.layers.BatchNormalization(axis=-1)(FC2)\n",
        "AC2    = keras.layers.Activation('relu')(BN2)\n",
        "Pool3  = keras.layers.AveragePooling1D(pool_size=2)(AC2)\n",
        "\n",
        "\n",
        "\n",
        "FL1    = keras.layers.Flatten()(Pool3)\n",
        "\n",
        "\n",
        "FC4    = keras.layers.Dense(2)(FL1)\n",
        "outputs = keras.layers.Activation('softmax')(FC4)\n",
        "\n",
        "myCNNModel = keras.Model(inputs=inputs,outputs=outputs)\n",
        "myCNNModel.compile(optimizer=keras.optimizers.Adam(),\n",
        "                 loss='categorical_crossentropy',\n",
        "                 metrics=['accuracy'])\n",
        "\n",
        "myCNNModel.summary()"
      ],
      "metadata": {
        "id": "R6wUtnckW-GE",
        "colab": {
          "base_uri": "https://localhost:8080/"
        },
        "outputId": "0dd605b4-d509-4584-fb73-42cc6d5d80ad"
      },
      "execution_count": null,
      "outputs": [
        {
          "output_type": "stream",
          "name": "stdout",
          "text": [
            "Model: \"model\"\n",
            "_________________________________________________________________\n",
            " Layer (type)                Output Shape              Param #   \n",
            "=================================================================\n",
            " input_1 (InputLayer)        [(None, 103, 1)]          0         \n",
            "                                                                 \n",
            " reshape (Reshape)           (None, 103)               0         \n",
            "                                                                 \n",
            " dense (Dense)               (None, 64)                6656      \n",
            "                                                                 \n",
            " batch_normalization (BatchN  (None, 64)               256       \n",
            " ormalization)                                                   \n",
            "                                                                 \n",
            " activation (Activation)     (None, 64)                0         \n",
            "                                                                 \n",
            " dropout (Dropout)           (None, 64)                0         \n",
            "                                                                 \n",
            " reshape_1 (Reshape)         (None, 64, 1)             0         \n",
            "                                                                 \n",
            " conv1d (Conv1D)             (None, 62, 2)             8         \n",
            "                                                                 \n",
            " batch_normalization_1 (Batc  (None, 62, 2)            8         \n",
            " hNormalization)                                                 \n",
            "                                                                 \n",
            " activation_1 (Activation)   (None, 62, 2)             0         \n",
            "                                                                 \n",
            " average_pooling1d (AverageP  (None, 31, 2)            0         \n",
            " ooling1D)                                                       \n",
            "                                                                 \n",
            " flatten (Flatten)           (None, 62)                0         \n",
            "                                                                 \n",
            " dense_1 (Dense)             (None, 128)               8064      \n",
            "                                                                 \n",
            " batch_normalization_2 (Batc  (None, 128)              512       \n",
            " hNormalization)                                                 \n",
            "                                                                 \n",
            " activation_2 (Activation)   (None, 128)               0         \n",
            "                                                                 \n",
            " dropout_1 (Dropout)         (None, 128)               0         \n",
            "                                                                 \n",
            " reshape_2 (Reshape)         (None, 128, 1)            0         \n",
            "                                                                 \n",
            " conv1d_1 (Conv1D)           (None, 124, 4)            24        \n",
            "                                                                 \n",
            " batch_normalization_3 (Batc  (None, 124, 4)           16        \n",
            " hNormalization)                                                 \n",
            "                                                                 \n",
            " activation_3 (Activation)   (None, 124, 4)            0         \n",
            "                                                                 \n",
            " average_pooling1d_1 (Averag  (None, 62, 4)            0         \n",
            " ePooling1D)                                                     \n",
            "                                                                 \n",
            " flatten_1 (Flatten)         (None, 248)               0         \n",
            "                                                                 \n",
            " dense_2 (Dense)             (None, 2)                 498       \n",
            "                                                                 \n",
            " activation_4 (Activation)   (None, 2)                 0         \n",
            "                                                                 \n",
            "=================================================================\n",
            "Total params: 16,042\n",
            "Trainable params: 15,646\n",
            "Non-trainable params: 396\n",
            "_________________________________________________________________\n"
          ]
        }
      ]
    },
    {
      "cell_type": "code",
      "source": [
        "# Assign weight and run CNN model with 10 epochs\n",
        "class_weight = {0: 1, 1: 1}\n",
        "\n",
        "myCNNModel.fit(x_train,y_train,epochs=50,verbose=1, class_weight=class_weight)"
      ],
      "metadata": {
        "id": "gsmlB_XkW-LA",
        "colab": {
          "base_uri": "https://localhost:8080/"
        },
        "outputId": "451f0b2c-3959-4cbd-ba53-00d860346279"
      },
      "execution_count": null,
      "outputs": [
        {
          "output_type": "stream",
          "name": "stdout",
          "text": [
            "Epoch 1/50\n",
            "875/875 [==============================] - 9s 8ms/step - loss: 0.5553 - accuracy: 0.7228\n",
            "Epoch 2/50\n",
            "875/875 [==============================] - 7s 8ms/step - loss: 0.5108 - accuracy: 0.7554\n",
            "Epoch 3/50\n",
            "875/875 [==============================] - 7s 8ms/step - loss: 0.5013 - accuracy: 0.7615\n",
            "Epoch 4/50\n",
            "875/875 [==============================] - 7s 8ms/step - loss: 0.4986 - accuracy: 0.7627\n",
            "Epoch 5/50\n",
            "875/875 [==============================] - 9s 10ms/step - loss: 0.4942 - accuracy: 0.7665\n",
            "Epoch 6/50\n",
            "875/875 [==============================] - 7s 8ms/step - loss: 0.4931 - accuracy: 0.7629\n",
            "Epoch 7/50\n",
            "875/875 [==============================] - 7s 8ms/step - loss: 0.4913 - accuracy: 0.7655\n",
            "Epoch 8/50\n",
            "875/875 [==============================] - 7s 8ms/step - loss: 0.4910 - accuracy: 0.7691\n",
            "Epoch 9/50\n",
            "875/875 [==============================] - 7s 8ms/step - loss: 0.4869 - accuracy: 0.7676\n",
            "Epoch 10/50\n",
            "875/875 [==============================] - 7s 8ms/step - loss: 0.4842 - accuracy: 0.7726\n",
            "Epoch 11/50\n",
            "875/875 [==============================] - 7s 8ms/step - loss: 0.4850 - accuracy: 0.7694\n",
            "Epoch 12/50\n",
            "875/875 [==============================] - 7s 8ms/step - loss: 0.4832 - accuracy: 0.7697\n",
            "Epoch 13/50\n",
            "875/875 [==============================] - 7s 8ms/step - loss: 0.4816 - accuracy: 0.7726\n",
            "Epoch 14/50\n",
            "875/875 [==============================] - 7s 8ms/step - loss: 0.4786 - accuracy: 0.7765\n",
            "Epoch 15/50\n",
            "875/875 [==============================] - 7s 8ms/step - loss: 0.4769 - accuracy: 0.7738\n",
            "Epoch 16/50\n",
            "875/875 [==============================] - 7s 8ms/step - loss: 0.4768 - accuracy: 0.7749\n",
            "Epoch 17/50\n",
            "875/875 [==============================] - 7s 8ms/step - loss: 0.4753 - accuracy: 0.7767\n",
            "Epoch 18/50\n",
            "875/875 [==============================] - 7s 8ms/step - loss: 0.4758 - accuracy: 0.7742\n",
            "Epoch 19/50\n",
            "875/875 [==============================] - 7s 8ms/step - loss: 0.4719 - accuracy: 0.7773\n",
            "Epoch 20/50\n",
            "875/875 [==============================] - 8s 9ms/step - loss: 0.4711 - accuracy: 0.7782\n",
            "Epoch 21/50\n",
            "875/875 [==============================] - 9s 10ms/step - loss: 0.4712 - accuracy: 0.7790\n",
            "Epoch 22/50\n",
            "875/875 [==============================] - 8s 10ms/step - loss: 0.4662 - accuracy: 0.7814\n",
            "Epoch 23/50\n",
            "875/875 [==============================] - 9s 11ms/step - loss: 0.4686 - accuracy: 0.7792\n",
            "Epoch 24/50\n",
            "875/875 [==============================] - 9s 11ms/step - loss: 0.4680 - accuracy: 0.7799\n",
            "Epoch 25/50\n",
            "875/875 [==============================] - 9s 11ms/step - loss: 0.4640 - accuracy: 0.7817\n",
            "Epoch 26/50\n",
            "875/875 [==============================] - 9s 11ms/step - loss: 0.4659 - accuracy: 0.7813\n",
            "Epoch 27/50\n",
            "875/875 [==============================] - 9s 11ms/step - loss: 0.4651 - accuracy: 0.7810\n",
            "Epoch 28/50\n",
            "875/875 [==============================] - 9s 11ms/step - loss: 0.4631 - accuracy: 0.7851\n",
            "Epoch 29/50\n",
            "875/875 [==============================] - 10s 11ms/step - loss: 0.4627 - accuracy: 0.7815\n",
            "Epoch 30/50\n",
            "875/875 [==============================] - 10s 11ms/step - loss: 0.4620 - accuracy: 0.7832\n",
            "Epoch 31/50\n",
            "875/875 [==============================] - 10s 11ms/step - loss: 0.4609 - accuracy: 0.7825\n",
            "Epoch 32/50\n",
            "875/875 [==============================] - 12s 14ms/step - loss: 0.4601 - accuracy: 0.7836\n",
            "Epoch 33/50\n",
            "875/875 [==============================] - 10s 11ms/step - loss: 0.4586 - accuracy: 0.7811\n",
            "Epoch 34/50\n",
            "875/875 [==============================] - 10s 11ms/step - loss: 0.4563 - accuracy: 0.7872\n",
            "Epoch 35/50\n",
            "875/875 [==============================] - 10s 11ms/step - loss: 0.4576 - accuracy: 0.7838\n",
            "Epoch 36/50\n",
            "875/875 [==============================] - 10s 11ms/step - loss: 0.4572 - accuracy: 0.7832\n",
            "Epoch 37/50\n",
            "875/875 [==============================] - 10s 11ms/step - loss: 0.4549 - accuracy: 0.7845\n",
            "Epoch 38/50\n",
            "875/875 [==============================] - 10s 11ms/step - loss: 0.4532 - accuracy: 0.7875\n",
            "Epoch 39/50\n",
            "875/875 [==============================] - 10s 11ms/step - loss: 0.4531 - accuracy: 0.7883\n",
            "Epoch 40/50\n",
            "875/875 [==============================] - 10s 11ms/step - loss: 0.4526 - accuracy: 0.7876\n",
            "Epoch 41/50\n",
            "875/875 [==============================] - 10s 11ms/step - loss: 0.4509 - accuracy: 0.7899\n",
            "Epoch 42/50\n",
            "875/875 [==============================] - 10s 12ms/step - loss: 0.4520 - accuracy: 0.7881\n",
            "Epoch 43/50\n",
            "875/875 [==============================] - 11s 12ms/step - loss: 0.4517 - accuracy: 0.7866\n",
            "Epoch 44/50\n",
            "875/875 [==============================] - 10s 11ms/step - loss: 0.4501 - accuracy: 0.7898\n",
            "Epoch 45/50\n",
            "875/875 [==============================] - 10s 11ms/step - loss: 0.4519 - accuracy: 0.7881\n",
            "Epoch 46/50\n",
            "875/875 [==============================] - 10s 11ms/step - loss: 0.4486 - accuracy: 0.7894\n",
            "Epoch 47/50\n",
            "875/875 [==============================] - 10s 11ms/step - loss: 0.4487 - accuracy: 0.7898\n",
            "Epoch 48/50\n",
            "875/875 [==============================] - 10s 11ms/step - loss: 0.4504 - accuracy: 0.7871\n",
            "Epoch 49/50\n",
            "875/875 [==============================] - 10s 11ms/step - loss: 0.4473 - accuracy: 0.7894\n",
            "Epoch 50/50\n",
            "875/875 [==============================] - 10s 11ms/step - loss: 0.4464 - accuracy: 0.7914\n"
          ]
        },
        {
          "output_type": "execute_result",
          "data": {
            "text/plain": [
              "<keras.callbacks.History at 0x7f5feadf5f90>"
            ]
          },
          "metadata": {},
          "execution_count": 34
        }
      ]
    },
    {
      "cell_type": "code",
      "source": [
        "# Test CNN model\n",
        "test_loss,test_acc = myCNNModel.evaluate(x_test,y_test)\n",
        "print(test_acc)"
      ],
      "metadata": {
        "id": "H8GTZ-yBW-Vz",
        "colab": {
          "base_uri": "https://localhost:8080/"
        },
        "outputId": "c673f6e6-5c4a-4342-b2ba-0b4125dc812c"
      },
      "execution_count": null,
      "outputs": [
        {
          "output_type": "stream",
          "name": "stdout",
          "text": [
            "17402/17402 [==============================] - 72s 4ms/step - loss: 0.5033 - accuracy: 0.7628\n",
            "0.7627719640731812\n"
          ]
        }
      ]
    },
    {
      "cell_type": "code",
      "source": [
        "# Compute confusion matrix and metrics of model performance\n",
        "from sklearn import metrics\n",
        "from sklearn.metrics import classification_report\n",
        "predlabel = myCNNModel.predict(x_test)\n",
        "f = np.argmax(predlabel,axis=1)\n",
        "confMat = metrics.confusion_matrix(np.argmax(y_test,axis=1),f)\n",
        "print(confMat)\n",
        "confMat = classification_report(np.argmax(y_test,axis=1),f, labels=[1, 0])\n",
        "print('CNN Classification report: \\n', confMat)"
      ],
      "metadata": {
        "id": "23UtMvfSW-d0",
        "colab": {
          "base_uri": "https://localhost:8080/"
        },
        "outputId": "adaef341-0796-44ef-c22b-7c4f9445345a"
      },
      "execution_count": null,
      "outputs": [
        {
          "output_type": "stream",
          "name": "stdout",
          "text": [
            "[[202856  75566]\n",
            " [ 56533 221889]]\n",
            "CNN Classification report: \n",
            "               precision    recall  f1-score   support\n",
            "\n",
            "           1       0.75      0.80      0.77    278422\n",
            "           0       0.78      0.73      0.75    278422\n",
            "\n",
            "    accuracy                           0.76    556844\n",
            "   macro avg       0.76      0.76      0.76    556844\n",
            "weighted avg       0.76      0.76      0.76    556844\n",
            "\n"
          ]
        }
      ]
    },
    {
      "cell_type": "markdown",
      "source": [
        "#### **CNN MODEL (TRAINING = 80%, TEST = 20% OF DATA)**"
      ],
      "metadata": {
        "id": "Rj75aNU0sDFU"
      }
    },
    {
      "cell_type": "markdown",
      "source": [
        "**The following section shows the result when 80% of data is used for training**\n",
        "\n",
        "The class weights was changed and the epoch reduced to 1 because it was observed that higher epochs did not result in substantial increase in accuracy."
      ],
      "metadata": {
        "id": "mYPINamm9lqY"
      }
    },
    {
      "cell_type": "code",
      "source": [
        "# With train-test split\n",
        "from sklearn.model_selection import train_test_split\n",
        "X_train, X_test, Y_train, Y_test = train_test_split(reduced_data, hp_label, test_size = 0.2, random_state = 24)"
      ],
      "metadata": {
        "id": "j7ulCPaUazMu"
      },
      "execution_count": 27,
      "outputs": []
    },
    {
      "cell_type": "code",
      "source": [
        "# Standardize train and test data\n",
        "scaler = preprocessing.StandardScaler().fit(X_train)\n",
        "X_train = scaler.transform(X_train)\n",
        "X_test  = scaler.transform(X_test)\n",
        "X_train = X_train.reshape(X_train.shape[0],X_train.shape[1],1)\n",
        "X_test = X_test.reshape(X_test.shape[0],X_test.shape[1],1)"
      ],
      "metadata": {
        "id": "888tm86va0j3"
      },
      "execution_count": 28,
      "outputs": []
    },
    {
      "cell_type": "code",
      "source": [
        "# one-hot-encoding\n",
        "Y_train = keras.utils.to_categorical(Y_train,2)\n",
        "Y_test  = keras.utils.to_categorical(Y_test,2)"
      ],
      "metadata": {
        "id": "wKLVf1lpa136"
      },
      "execution_count": 29,
      "outputs": []
    },
    {
      "cell_type": "code",
      "source": [
        "# CNN (80:20) model\n",
        "inputs = keras.layers.Input(shape=(x_train.shape[1],1))\n",
        "RS0    = keras.layers.Reshape((x_train.shape[1], ))(inputs)\n",
        "FC0    = keras.layers.Dense(64, bias_initializer=keras.initializers.VarianceScaling())(RS0)\n",
        "BN0    = keras.layers.BatchNormalization(axis=-1)(FC0)\n",
        "AC0    = keras.layers.Activation('relu')(BN0)\n",
        "DP0    = keras.layers.Dropout(0.2)(AC0)\n",
        "\n",
        "RS1    = keras.layers.Reshape((64,1))(DP0)\n",
        "FC1    = keras.layers.Conv1D(2,3,strides=1)(RS1)\n",
        "BN1    = keras.layers.BatchNormalization(axis=-1)(FC1)\n",
        "AC1    = keras.layers.Activation('relu')(BN1)\n",
        "Pool1  = keras.layers.AveragePooling1D(pool_size=2)(AC1)\n",
        "\n",
        "FL0 = keras.layers.Flatten()(Pool1)\n",
        "\n",
        "AA1 = keras.layers.Dense(128, bias_initializer=keras.initializers.VarianceScaling())(FL0)\n",
        "BB1 = keras.layers.BatchNormalization(axis=-1)(AA1)\n",
        "CC1 = keras.layers.Activation('relu')(BB1)\n",
        "Pool2 = keras.layers.Dropout(0.2)(CC1)\n",
        "\n",
        "\n",
        "RS2    = keras.layers.Reshape((128,1))(Pool2)\n",
        "FC2    = keras.layers.Conv1D(4,5,strides=1)(RS2)\n",
        "BN2    = keras.layers.BatchNormalization(axis=-1)(FC2)\n",
        "AC2    = keras.layers.Activation('relu')(BN2)\n",
        "Pool3  = keras.layers.AveragePooling1D(pool_size=2)(AC2)\n",
        "\n",
        "\n",
        "\n",
        "FL1    = keras.layers.Flatten()(Pool3)\n",
        "\n",
        "\n",
        "FC4    = keras.layers.Dense(2)(FL1)\n",
        "outputs = keras.layers.Activation('softmax')(FC4)\n",
        "\n",
        "myCNNModelCopy = keras.Model(inputs=inputs,outputs=outputs)\n",
        "myCNNModelCopy.compile(optimizer=keras.optimizers.Adam(),\n",
        "                 loss='categorical_crossentropy',\n",
        "                 metrics=['accuracy'])\n",
        "\n",
        "myCNNModelCopy.summary()"
      ],
      "metadata": {
        "id": "Ebn-jdeFa3zI",
        "colab": {
          "base_uri": "https://localhost:8080/"
        },
        "outputId": "2530bf4e-0485-49df-e0ad-e0fb29e9a52e"
      },
      "execution_count": 30,
      "outputs": [
        {
          "output_type": "stream",
          "name": "stdout",
          "text": [
            "Model: \"model\"\n",
            "_________________________________________________________________\n",
            " Layer (type)                Output Shape              Param #   \n",
            "=================================================================\n",
            " input_1 (InputLayer)        [(None, 103, 1)]          0         \n",
            "                                                                 \n",
            " reshape (Reshape)           (None, 103)               0         \n",
            "                                                                 \n",
            " dense (Dense)               (None, 64)                6656      \n",
            "                                                                 \n",
            " batch_normalization (BatchN  (None, 64)               256       \n",
            " ormalization)                                                   \n",
            "                                                                 \n",
            " activation (Activation)     (None, 64)                0         \n",
            "                                                                 \n",
            " dropout (Dropout)           (None, 64)                0         \n",
            "                                                                 \n",
            " reshape_1 (Reshape)         (None, 64, 1)             0         \n",
            "                                                                 \n",
            " conv1d (Conv1D)             (None, 62, 2)             8         \n",
            "                                                                 \n",
            " batch_normalization_1 (Batc  (None, 62, 2)            8         \n",
            " hNormalization)                                                 \n",
            "                                                                 \n",
            " activation_1 (Activation)   (None, 62, 2)             0         \n",
            "                                                                 \n",
            " average_pooling1d (AverageP  (None, 31, 2)            0         \n",
            " ooling1D)                                                       \n",
            "                                                                 \n",
            " flatten (Flatten)           (None, 62)                0         \n",
            "                                                                 \n",
            " dense_1 (Dense)             (None, 128)               8064      \n",
            "                                                                 \n",
            " batch_normalization_2 (Batc  (None, 128)              512       \n",
            " hNormalization)                                                 \n",
            "                                                                 \n",
            " activation_2 (Activation)   (None, 128)               0         \n",
            "                                                                 \n",
            " dropout_1 (Dropout)         (None, 128)               0         \n",
            "                                                                 \n",
            " reshape_2 (Reshape)         (None, 128, 1)            0         \n",
            "                                                                 \n",
            " conv1d_1 (Conv1D)           (None, 124, 4)            24        \n",
            "                                                                 \n",
            " batch_normalization_3 (Batc  (None, 124, 4)           16        \n",
            " hNormalization)                                                 \n",
            "                                                                 \n",
            " activation_3 (Activation)   (None, 124, 4)            0         \n",
            "                                                                 \n",
            " average_pooling1d_1 (Averag  (None, 62, 4)            0         \n",
            " ePooling1D)                                                     \n",
            "                                                                 \n",
            " flatten_1 (Flatten)         (None, 248)               0         \n",
            "                                                                 \n",
            " dense_2 (Dense)             (None, 2)                 498       \n",
            "                                                                 \n",
            " activation_4 (Activation)   (None, 2)                 0         \n",
            "                                                                 \n",
            "=================================================================\n",
            "Total params: 16,042\n",
            "Trainable params: 15,646\n",
            "Non-trainable params: 396\n",
            "_________________________________________________________________\n"
          ]
        }
      ]
    },
    {
      "cell_type": "code",
      "source": [
        "np.where(Y_train==0)[0].shape\n",
        "np.where(Y_train==1)[0].shape\n"
      ],
      "metadata": {
        "id": "Abdre6Qnb3ML",
        "colab": {
          "base_uri": "https://localhost:8080/"
        },
        "outputId": "88e63ff2-ea9c-4653-e704-f203e0a49a80"
      },
      "execution_count": 31,
      "outputs": [
        {
          "output_type": "execute_result",
          "data": {
            "text/plain": [
              "(467875,)"
            ]
          },
          "metadata": {},
          "execution_count": 31
        }
      ]
    },
    {
      "cell_type": "code",
      "source": [
        "# Class weight, epoch, and batch size is set according to data size\n",
        "class_weight = {0: 1, 1: 1}\n",
        "\n",
        "myCNNModelCopy.fit(X_train,Y_train,epochs=200,batch_size=1200,verbose=1, class_weight=class_weight)"
      ],
      "metadata": {
        "id": "tGRCZ6ZFb8n-",
        "colab": {
          "base_uri": "https://localhost:8080/"
        },
        "outputId": "11eecd4b-5ec6-4d84-8bb2-88148da5c55a"
      },
      "execution_count": null,
      "outputs": [
        {
          "output_type": "stream",
          "name": "stdout",
          "text": [
            "Epoch 1/200\n",
            "390/390 [==============================] - 43s 105ms/step - loss: 0.5233 - accuracy: 0.7425\n",
            "Epoch 2/200\n",
            "390/390 [==============================] - 39s 101ms/step - loss: 0.4920 - accuracy: 0.7650\n",
            "Epoch 3/200\n",
            "390/390 [==============================] - 47s 120ms/step - loss: 0.4871 - accuracy: 0.7677\n",
            "Epoch 4/200\n",
            "390/390 [==============================] - 39s 101ms/step - loss: 0.4836 - accuracy: 0.7696\n",
            "Epoch 5/200\n",
            "390/390 [==============================] - 41s 106ms/step - loss: 0.4811 - accuracy: 0.7710\n",
            "Epoch 6/200\n",
            "390/390 [==============================] - 40s 103ms/step - loss: 0.4786 - accuracy: 0.7723\n",
            "Epoch 7/200\n",
            "390/390 [==============================] - 40s 102ms/step - loss: 0.4768 - accuracy: 0.7736\n",
            "Epoch 8/200\n",
            "390/390 [==============================] - 45s 115ms/step - loss: 0.4749 - accuracy: 0.7742\n",
            "Epoch 9/200\n",
            "390/390 [==============================] - 46s 118ms/step - loss: 0.4727 - accuracy: 0.7750\n",
            "Epoch 10/200\n",
            "390/390 [==============================] - 47s 119ms/step - loss: 0.4722 - accuracy: 0.7760\n",
            "Epoch 11/200\n",
            "390/390 [==============================] - 55s 142ms/step - loss: 0.4710 - accuracy: 0.7763\n",
            "Epoch 12/200\n",
            "390/390 [==============================] - 41s 105ms/step - loss: 0.4703 - accuracy: 0.7765\n",
            "Epoch 13/200\n",
            "390/390 [==============================] - 53s 135ms/step - loss: 0.4690 - accuracy: 0.7773\n",
            "Epoch 14/200\n",
            "390/390 [==============================] - 56s 144ms/step - loss: 0.4685 - accuracy: 0.7770\n",
            "Epoch 15/200\n",
            "390/390 [==============================] - 60s 153ms/step - loss: 0.4672 - accuracy: 0.7780\n",
            "Epoch 16/200\n",
            "390/390 [==============================] - 47s 120ms/step - loss: 0.4671 - accuracy: 0.7780\n",
            "Epoch 17/200\n",
            "390/390 [==============================] - 58s 150ms/step - loss: 0.4661 - accuracy: 0.7788\n",
            "Epoch 18/200\n",
            "390/390 [==============================] - 52s 134ms/step - loss: 0.4655 - accuracy: 0.7788\n",
            "Epoch 19/200\n",
            "390/390 [==============================] - 41s 106ms/step - loss: 0.4651 - accuracy: 0.7788\n",
            "Epoch 20/200\n",
            "390/390 [==============================] - 42s 108ms/step - loss: 0.4647 - accuracy: 0.7793\n",
            "Epoch 21/200\n",
            "390/390 [==============================] - 41s 106ms/step - loss: 0.4643 - accuracy: 0.7795\n",
            "Epoch 22/200\n",
            "390/390 [==============================] - 41s 105ms/step - loss: 0.4639 - accuracy: 0.7797\n",
            "Epoch 23/200\n",
            "390/390 [==============================] - 42s 109ms/step - loss: 0.4633 - accuracy: 0.7795\n",
            "Epoch 24/200\n",
            " 79/390 [=====>........................] - ETA: 32s - loss: 0.4659 - accuracy: 0.7782"
          ]
        }
      ]
    },
    {
      "cell_type": "code",
      "source": [
        "# Test model\n",
        "test_loss,test_acc = myCNNModelCopy.evaluate(X_test,Y_test)\n",
        "print(test_acc)"
      ],
      "metadata": {
        "id": "mFvt1UBOb-7Y"
      },
      "execution_count": null,
      "outputs": []
    },
    {
      "cell_type": "code",
      "source": [
        "# Compute confusion matrix\n",
        "from sklearn import metrics\n",
        "from sklearn.metrics import classification_report\n",
        "predlabel = myCNNModelCopy.predict(X_test)\n",
        "f = np.argmax(predlabel,axis=1)\n",
        "confMat = metrics.confusion_matrix(np.argmax(Y_test,axis=1),f)\n",
        "print(confMat)\n",
        "confMat = classification_report(np.argmax(Y_test,axis=1),f, labels=[1, 0])\n",
        "print('CNN (70:30) Classification report: \\n', confMat)"
      ],
      "metadata": {
        "id": "jCJTPH-qcApp"
      },
      "execution_count": null,
      "outputs": []
    },
    {
      "cell_type": "markdown",
      "source": [
        "## **OTHER MODELS**"
      ],
      "metadata": {
        "id": "TC2AOzodnwwR"
      }
    },
    {
      "cell_type": "markdown",
      "source": [
        "##### **SUPORT VECTOR MACHINE (SVM)**"
      ],
      "metadata": {
        "id": "Eyrj3MQqrPu5"
      }
    },
    {
      "cell_type": "markdown",
      "source": [
        "**This section runs SVM on the data set**"
      ],
      "metadata": {
        "id": "Ao8CTENIDITY"
      }
    },
    {
      "cell_type": "code",
      "source": [
        "# SVM on data set\n",
        "from sklearn.svm import SVC\n",
        "from sklearn import metrics\n",
        "from sklearn.metrics import classification_report\n",
        "\n",
        "svcCAD = SVC(C= 0.05, gamma=1/41, kernel='rbf', class_weight='balanced')\n",
        "svcCAD.fit(x_train_org,y_train_org)\n",
        "predlabel = svcCAD.predict(x_test_org)\n",
        "confMat = metrics.confusion_matrix(y_test_org,predlabel)\n",
        "print(confMat)\n",
        "confMat = classification_report(y_test_org,predlabel, labels=[1, 0])\n",
        "print('SVM Classification report: \\n', confMat)"
      ],
      "metadata": {
        "id": "bJmBWOzsX__T"
      },
      "execution_count": null,
      "outputs": []
    },
    {
      "cell_type": "markdown",
      "source": [
        "##### **RANDOM FOREST AND ADABOOST**"
      ],
      "metadata": {
        "id": "BGK9X-TdrbmP"
      }
    },
    {
      "cell_type": "markdown",
      "source": [
        "**This section runs RandomForest and Adaboost on the data set**"
      ],
      "metadata": {
        "id": "OjJhPHo8DlZ5"
      }
    },
    {
      "cell_type": "code",
      "source": [
        "# Train and test AdaBoost model\n",
        "from sklearn.ensemble import RandomForestClassifier, AdaBoostClassifier\n",
        "class_weight = {0: 1, 1: 3}\n",
        "adaboostCAD = AdaBoostClassifier(n_estimators=1000, random_state=0)\n",
        "adaboostCAD.fit(x_train_org,y_train_org)\n",
        "predlabel = adaboostCAD.predict(x_test_org)\n",
        "confMat = metrics.confusion_matrix(y_test_org,predlabel)\n",
        "print(confMat)\n",
        "confMat = classification_report(y_test_org,predlabel, labels=[1, 0])\n",
        "print('AdaBoost Classification report: \\n', confMat)"
      ],
      "metadata": {
        "id": "_kE_Nf9TYVe2"
      },
      "execution_count": null,
      "outputs": []
    },
    {
      "cell_type": "code",
      "source": [
        "# Train RandomForest model\n",
        "from sklearn.ensemble import RandomForestClassifier\n",
        "from sklearn.model_selection import GridSearchCV\n",
        "\n",
        "parameters = {'n_estimators': (10,30,50,100,130,160,200), 'max_depth': (2, 3)}\n",
        "randomforestCAD = GridSearchCV(RandomForestClassifier(random_state=0, class_weight='balanced_subsample'),\n",
        "                               parameters, cv=5)\n",
        "\n",
        "\n",
        "randomforestCAD.fit(x_train_org,y_train_org)"
      ],
      "metadata": {
        "id": "kzVT1-22YYQE"
      },
      "execution_count": null,
      "outputs": []
    },
    {
      "cell_type": "code",
      "source": [
        "# Print results for RandomForest cross-validation and best estimatores in the dataset\n",
        "print(randomforestCAD.cv_results_)\n",
        "print(randomforestCAD.best_estimator_)"
      ],
      "metadata": {
        "id": "TI_DPDhTYcoi"
      },
      "execution_count": null,
      "outputs": []
    },
    {
      "cell_type": "code",
      "source": [
        "# Test RandomForest model\n",
        "randomforestCADopt = RandomForestClassifier(bootstrap=True, class_weight='balanced_subsample',\n",
        "            criterion='gini', max_depth=2, max_features='auto',\n",
        "            max_leaf_nodes=None, min_impurity_decrease=0.0, min_samples_leaf=1,\n",
        "            min_samples_split=2, min_weight_fraction_leaf=0.0,\n",
        "            n_estimators=50, n_jobs=None, oob_score=False, random_state=0,\n",
        "            verbose=0, warm_start=False)\n",
        "\n",
        "randomforestCADopt.fit(x_train_org,y_train_org)\n",
        "predlabel = randomforestCADopt.predict(x_test_org)\n",
        "confMat = metrics.confusion_matrix(y_test_org,predlabel)\n",
        "print(confMat)\n",
        "confMat = classification_report(y_test_org,predlabel, labels=[1, 0])\n",
        "print('RandomForest Classification report: \\n', confMat)\n",
        "\n"
      ],
      "metadata": {
        "id": "nxu6FHDOYemw"
      },
      "execution_count": null,
      "outputs": []
    },
    {
      "cell_type": "markdown",
      "source": [
        "##### **LOGISTIC REGRESSION**"
      ],
      "metadata": {
        "id": "LNpeuSbOsqwe"
      }
    },
    {
      "cell_type": "markdown",
      "source": [
        "**This sector runs logistic regression on the data set**"
      ],
      "metadata": {
        "id": "R3fuq9WTEliP"
      }
    },
    {
      "cell_type": "code",
      "source": [
        "# Train Logistic Regression Model\n",
        "from sklearn.linear_model import LogisticRegression\n",
        "clf = LogisticRegression(solver = 'lbfgs',max_iter=100000, \n",
        "                           class_weight= {0:1, 1:3.0}, verbose=1, random_state = 2)\n",
        "model = clf.fit(x_train_org,y_train_org)"
      ],
      "metadata": {
        "id": "2CUCt-Bhcln9"
      },
      "execution_count": null,
      "outputs": []
    },
    {
      "cell_type": "code",
      "source": [
        "# Compute confusion matrix\n",
        "predlabel = model.predict(x_test_org)\n",
        "confMat = metrics.confusion_matrix(y_test_org,predlabel)"
      ],
      "metadata": {
        "id": "6l_y2TJhclyC"
      },
      "execution_count": null,
      "outputs": []
    },
    {
      "cell_type": "code",
      "source": [
        "# Print performance scores\n",
        "print(confMat)\n",
        "confMat = classification_report(y_test_org,predlabel, labels=[1, 0])\n",
        "print('Logistic Regression Classification report: \\n', confMat)"
      ],
      "metadata": {
        "id": "At86_0dWcl4C"
      },
      "execution_count": null,
      "outputs": []
    },
    {
      "cell_type": "markdown",
      "source": [
        "## **RESULTS**"
      ],
      "metadata": {
        "id": "2NQC3totkFgG"
      }
    },
    {
      "cell_type": "markdown",
      "source": [
        "**Below are the performance measures used for this project**"
      ],
      "metadata": {
        "id": "K8YAYMimkSz2"
      }
    },
    {
      "cell_type": "markdown",
      "source": [
        "#### **PRECISION**"
      ],
      "metadata": {
        "id": "gvFmcMuSkwMu"
      }
    },
    {
      "cell_type": "markdown",
      "source": [
        "The precision of a model returns the proportion of true positives among all the values predicted as positive. The formula is given as:\n",
        "\n",
        "                        TP/(TP + FP)\n",
        "\n"
      ],
      "metadata": {
        "id": "ifslSIKgJq3T"
      }
    },
    {
      "cell_type": "code",
      "source": [
        "# Plot of precision values for all models\n",
        "plt.plot(all_models_comp[\"Model\"], all_models_comp[\"Precision (%)\"])"
      ],
      "metadata": {
        "id": "B3MAxwd1pacK"
      },
      "execution_count": null,
      "outputs": []
    },
    {
      "cell_type": "markdown",
      "source": [
        "The gragh above shows that SVM had the best precision of all the models, followed by RandomForest. The CNN model and Logistic Regression models are tied at third."
      ],
      "metadata": {
        "id": "xcs0H9H08TYH"
      }
    },
    {
      "cell_type": "markdown",
      "source": [
        "#### **RECALL**"
      ],
      "metadata": {
        "id": "qRLtLRammFtt"
      }
    },
    {
      "cell_type": "markdown",
      "source": [
        "\n",
        "The recall of a model returns the proportion of positive values correctly predicted. The formula is given as:\n",
        "\n",
        "                        TP/(TP + FN)"
      ],
      "metadata": {
        "id": "HEtlWGPYJn2r"
      }
    },
    {
      "cell_type": "code",
      "source": [
        "# Plot of recall values for all models\n",
        "plt.plot(all_models_comp[\"Model\"], all_models_comp[\"Recall (%)\"])"
      ],
      "metadata": {
        "id": "2bktlUzA9GRm"
      },
      "execution_count": null,
      "outputs": []
    },
    {
      "cell_type": "markdown",
      "source": [
        "The gragh above shows that AdaBoost had the best precision of all the models, followed closely by both CNN models. The recall value for RandomForest is the lowest at below 85%."
      ],
      "metadata": {
        "id": "7C4jvVit9Qzq"
      }
    },
    {
      "cell_type": "markdown",
      "source": [
        "#### **F1**"
      ],
      "metadata": {
        "id": "_0ho96dvmRh0"
      }
    },
    {
      "cell_type": "markdown",
      "source": [
        "\n",
        "F1 represents the harmonic mean of precision and recall. It is very good for comparing classifiers. The formula is given as:\n",
        "\n",
        "                       (2 * Precision)/(Precision + Recall)\n",
        "\n"
      ],
      "metadata": {
        "id": "6m77Dp_SJ6fo"
      }
    },
    {
      "cell_type": "code",
      "source": [
        "# Plot of F1 values for all models\n",
        "plt.plot(all_models_comp[\"Model\"], all_models_comp[\"F1 (%)\"])"
      ],
      "metadata": {
        "id": "PgBP1FYT9pJf"
      },
      "execution_count": null,
      "outputs": []
    },
    {
      "cell_type": "markdown",
      "source": [
        "All models did closely well in the F1 scores, except RandomForest which had a F1 score of about 88%."
      ],
      "metadata": {
        "id": "R6WgSWqS94G_"
      }
    },
    {
      "cell_type": "markdown",
      "source": [
        "#### **ACCURACY**"
      ],
      "metadata": {
        "id": "wX6-TAC7m8Kw"
      }
    },
    {
      "cell_type": "markdown",
      "source": [
        "\n",
        "Accuracy returns the proportion of correct predictions. The formula is given as:\n",
        "\n",
        "                       (TP + TN)/(TP + TN + FP + FN)\n",
        "\n"
      ],
      "metadata": {
        "id": "589hUU5iKAzs"
      }
    },
    {
      "cell_type": "code",
      "source": [
        "# Plot of accuracy values for all models\n",
        "plt.plot(all_models_comp[\"Model\"], all_models_comp[\"Test Accuracy (%)\"])"
      ],
      "metadata": {
        "id": "Q8JeD9dE-aFh"
      },
      "execution_count": null,
      "outputs": []
    },
    {
      "cell_type": "markdown",
      "source": [
        "AdaBoost and the CNN models again lead the way when it comes to accuracy. RandomForest shows accuracy of about 80% while the SVM model had the poorest accuracy at below 70%."
      ],
      "metadata": {
        "id": "fzA04AJe-v5S"
      }
    },
    {
      "cell_type": "markdown",
      "source": [
        "## **CONCLUSION**"
      ],
      "metadata": {
        "id": "0Ecs3vFJnhuc"
      }
    },
    {
      "cell_type": "markdown",
      "source": [
        "As the results shows, the simple CNN model implemented in this report performed very well when compared against some of the best machine learning models. Even better, its performance measures were more consistent across multiple performance measures unlike other models that performed selectively well.\n",
        "\n",
        "Multiple combinations of features were dropped in an attempt to improve the model but led to decline in performance measures. Also, a plethora of various class weights was used also but lead to similar decline in performance.\n",
        "\n",
        "Future work on this project may include using a different technique of dimensionality reduction to see if the models perform better. Also, other networks can be utilized to compare against the results of CNN."
      ],
      "metadata": {
        "id": "gJhDwtUHF1FB"
      }
    },
    {
      "cell_type": "markdown",
      "source": [
        "## **REFERENCES**\n",
        "\n"
      ],
      "metadata": {
        "id": "HppYBnvNBh8P"
      }
    },
    {
      "cell_type": "markdown",
      "source": [
        "2020 BRFSS Codebook CDC. https://www.cdc.gov/brfss/annual_data/2020/pdf/codebook20_llcp-v2-508.pdf\n",
        "\n",
        "2020 Survey Questions. https://www.cdc.gov/brfss/questionnaires/pdf-ques/2020-BRFSS-Questionnaire-508.pdf\n",
        "\n",
        "Ahmed, M. A., Yasmeen, A. A., Awadalla, H., Elmadhoun, W. M., Noor, S. K., & Almobarak,\n",
        "A. O. (2017). Prevalence and trends of obesity among adult Sudanese individuals: Population\n",
        "based study. Diabetes & Metabolic Syndrome: Clinical Research & Reviews, 11(2), 963- 967.\n",
        "https://doi.org/10.1016/j.dsx.2017.07.023\n",
        "\n",
        "Behavioral Risk Factor Surveillance System (BRFSS) Overview, 2020. https://www.cdc.gov/brfss/annual_data/2020/pdf/overview-2020-508.pdf\n",
        "\n",
        "Know Your Risk for Heart Disease | cdc.gov. https://www.cdc.gov/heartdisease/risk_factors.htm\n",
        "\n",
        "Dutta, Aniruddha, et al. \"An efficient convolutional neural network for coronary heart disease prediction.\" Expert Systems with Applications 159 (2020): 113408. https://github.com/anik-UCB/CNN-CardioPrediction\n",
        "\n",
        "Remington PL, Smith MY, Williamson DF, Anda RF, Gentry EM, Hogelin GC. Design, characteristics, and usefulness of state-based behavioral risk factor surveillance: 1981-87. Public Health Rep. 1988;103(4):366-375.\n",
        "\n"
      ],
      "metadata": {
        "id": "f-dZ4Kh8FYNj"
      }
    }
  ]
}