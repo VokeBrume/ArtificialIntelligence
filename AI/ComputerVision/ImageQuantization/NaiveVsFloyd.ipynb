{
  "nbformat": 4,
  "nbformat_minor": 0,
  "metadata": {
    "colab": {
      "provenance": [],
      "collapsed_sections": [
        "7wa4c8PJWNQ4",
        "x_3Nl4WWlsV9",
        "5p5mKcVOv8rO"
      ],
      "toc_visible": true,
      "include_colab_link": true
    },
    "kernelspec": {
      "name": "python3",
      "display_name": "Python 3"
    },
    "language_info": {
      "name": "python"
    }
  },
  "cells": [
    {
      "cell_type": "markdown",
      "metadata": {
        "id": "view-in-github",
        "colab_type": "text"
      },
      "source": [
        "<a href=\"https://colab.research.google.com/github/voke-brume/AI-ML/blob/main/AI/ComputerVision/ImageQuantization/NaiveVsFloyd.ipynb\" target=\"_parent\"><img src=\"https://colab.research.google.com/assets/colab-badge.svg\" alt=\"Open In Colab\"/></a>"
      ]
    },
    {
      "cell_type": "markdown",
      "metadata": {
        "id": "COKZ94drn0M_"
      },
      "source": [
        "## **ASSIGNMENT 1**\n",
        "# Instructor: Gianfranco Doretto\n",
        "# Due: September 15, 2022 by the beginning of the lecture\n",
        "# Student Name: Voke Brume\n",
        "\n",
        "The assignment is composed of two sections. The first one is made of simple programmng questions that require you to use Python. The second section requires you to implement and test two image processong algorithms.\n",
        "\n",
        "If you are new to Colab, Python Numpy, and so on, you are strongly encouraged to read [this tutorial](https://cs231n.github.io/python-numpy-tutorial/). "
      ]
    },
    {
      "cell_type": "markdown",
      "metadata": {
        "id": "k1ReeeTuzJ4h"
      },
      "source": [
        "**Submission Instructions**\n",
        "\n",
        "You will need to prepare a folder called\n",
        "\n",
        "```hw1_YOUR-LAST-NAME_YOUR-FIRST-NAME```\n",
        "\n",
        "In that folder you want to put\n",
        "- Your Colab notebook (fill out the Student Name above)\n",
        "- For every question that requires submitting data you create a subfolder called ```question_NUMBER``` and you put there the files with adequate naming. If we do not understand that something is there you will not get credit!\n",
        "\n",
        "You will need to zip the folder and you will need to submit the zip file ```hw1_YOUR-LAST-NAME_YOUR-FIRST-NAME.zip``` to the instructor by sharing the file via Google Drive.\n",
        "\n",
        "In order to [share a file](https://support.google.com/drive/answer/2494822?hl=en&co=GENIE.Platform%3DDesktop) with the instructor please use this email gidoretto@mix.wvu.edu\n",
        "\n",
        "During the evaluation we are going to test your Python notebook with Google Colab. So, the assumption is that you are going to do all the development with Colab. We will run your notebook by running the cells sequentially. They will have to produce the expected result in order for you to get credit."
      ]
    },
    {
      "cell_type": "markdown",
      "metadata": {
        "id": "7wa4c8PJWNQ4"
      },
      "source": [
        "# *Exercise 1*\n",
        "This is a Python Numpy wormup exercise. Complete each of the functions below as descibed by the Input/Returns requirements. Below each function add a code cell, and write in it just a few lines of code to show that your function works.\n",
        "Every function should be implementable with only **one** line of code.\n",
        "\n",
        "For example, this function:\n",
        "```python\n",
        "def f0(X):\n",
        "    \"\"\"\n",
        "    Input:\n",
        "    - X: A numpy array\n",
        "\n",
        "    Returns:\n",
        "    - A matrix Y such that Y[i, j] = X[i, j] * 10 + 100\n",
        "\n",
        "    Hint: Trust that numpy will do the right thing\n",
        "    \"\"\"\n",
        "    return None\n",
        "```\n",
        "Should be completed as\n",
        "```python\n",
        "def f0(X):\n",
        "    \"\"\"\n",
        "    Input:\n",
        "    - X: A numpy array\n",
        "\n",
        "    Returns:\n",
        "    - A matrix Y such that Y[i, j] = X[i, j] * 10 + 100\n",
        "\n",
        "    Hint: Trust that numpy will do the right thing\n",
        "    \"\"\"\n",
        "    return X*10+100\n",
        "```\n",
        "An example of code that tests ```f0``` could be\n",
        "```python\n",
        "x = np.array([[1,2,3], [4,5,6], [7,8,9], [10, 11, 12]])\n",
        "print(x)\n",
        "print(f0(x))\n",
        "```"
      ]
    },
    {
      "cell_type": "code",
      "metadata": {
        "id": "0S7FwOlrnyLI"
      },
      "source": [
        "import numpy as np"
      ],
      "execution_count": null,
      "outputs": []
    },
    {
      "cell_type": "code",
      "metadata": {
        "id": "wkgwKMjRxFZb"
      },
      "source": [
        "def f1(X, Y):\n",
        "    \"\"\"\n",
        "    Inputs:\n",
        "    - X: A numpy array of shape (N, N)\n",
        "    - Y: A numpy array of shape (N, N)\n",
        "\n",
        "    Returns:\n",
        "    A numpy array Z such that Z[i, j] = X[i, j] + 10 * Y[i, j]\n",
        "\n",
        "    Hint: Trust that numpy will do the right thing\n",
        "    \"\"\"\n",
        "    return np.add( X, np.multiply(10, Y) )"
      ],
      "execution_count": null,
      "outputs": []
    },
    {
      "cell_type": "markdown",
      "metadata": {
        "id": "NNpyD-Cf1WTd"
      },
      "source": [
        "Add a code cell below with just enough lines that show that your function works."
      ]
    },
    {
      "cell_type": "code",
      "source": [
        "# Test for f1\n",
        "x = np.array([ [1, 2], [3, 4] ])\n",
        "y = np.array([ [5, 6], [7, 8] ])\n",
        "\n",
        "print( f1(x, y) )"
      ],
      "metadata": {
        "colab": {
          "base_uri": "https://localhost:8080/"
        },
        "id": "7HG_yko-JCuW",
        "outputId": "be32eb09-7514-4544-cc74-18a18c39b983"
      },
      "execution_count": null,
      "outputs": [
        {
          "output_type": "stream",
          "name": "stdout",
          "text": [
            "[[51 62]\n",
            " [73 84]]\n"
          ]
        }
      ]
    },
    {
      "cell_type": "code",
      "metadata": {
        "id": "jTM2nlJl1KBK"
      },
      "source": [
        "def f2(X, Y):\n",
        "    \"\"\"\n",
        "    Inputs:\n",
        "    - X: A numpy array of shape (N, N)\n",
        "    - Y: A numpy array of shape (N, N)\n",
        "\n",
        "    Returns:\n",
        "    A numpy array Z such that Z[i, j] = X[i, j] * Y[i, j] - 10\n",
        "\n",
        "    Hint: By analogy to +, * will do the same thing\n",
        "    \"\"\"\n",
        "    return np.subtract( np.multiply(X, Y), 10 )"
      ],
      "execution_count": null,
      "outputs": []
    },
    {
      "cell_type": "markdown",
      "metadata": {
        "id": "nWTTpyaq1tCc"
      },
      "source": [
        "Add a code cell below with just enough lines that show that your function works."
      ]
    },
    {
      "cell_type": "code",
      "source": [
        "# Test for f2\n",
        "x = np.array([ [1, 2], [3, 4] ])\n",
        "y = np.array([ [5, 6], [7, 8] ])\n",
        "\n",
        "print( f2(x, y) )"
      ],
      "metadata": {
        "colab": {
          "base_uri": "https://localhost:8080/"
        },
        "id": "tE5pGsNCQ3vU",
        "outputId": "4cbc9cb3-95ae-487c-b9b2-4973492558ce"
      },
      "execution_count": null,
      "outputs": [
        {
          "output_type": "stream",
          "name": "stdout",
          "text": [
            "[[-5  2]\n",
            " [11 22]]\n"
          ]
        }
      ]
    },
    {
      "cell_type": "code",
      "metadata": {
        "id": "AXrlJdj73-Z6"
      },
      "source": [
        "def f3(X):\n",
        "    \"\"\"\n",
        "    Inputs:\n",
        "    - X: A numpy array of shape (N, N) of floating point numbers\n",
        "\n",
        "    Returns:\n",
        "    A numpy array with the same data as X, but cast to 32-bit integers\n",
        "\n",
        "    Hint: astype\n",
        "    \"\"\"\n",
        "    return X.astype('int32')"
      ],
      "execution_count": null,
      "outputs": []
    },
    {
      "cell_type": "markdown",
      "metadata": {
        "id": "nwVE5fZC4Gvx"
      },
      "source": [
        "Add a code cell below with just enough lines that show that your function works."
      ]
    },
    {
      "cell_type": "code",
      "source": [
        "# Test for f3\n",
        "x = np.array([ [1.0, 2.0], [3.0, 4.0] ])\n",
        "print(x.dtype, f3(x), f3(x).dtype)"
      ],
      "metadata": {
        "colab": {
          "base_uri": "https://localhost:8080/"
        },
        "id": "gDNBvUXsUS_k",
        "outputId": "c0c827a9-8631-49bd-c64a-547773f0b6f4"
      },
      "execution_count": null,
      "outputs": [
        {
          "output_type": "stream",
          "name": "stdout",
          "text": [
            "float64 [[1 2]\n",
            " [3 4]] int32\n"
          ]
        }
      ]
    },
    {
      "cell_type": "code",
      "metadata": {
        "id": "ImwSvORt8llN"
      },
      "source": [
        "def f4(X):\n",
        "    \"\"\"\n",
        "    Inputs:\n",
        "    - X: A numpy array of shape (N, M)\n",
        "\n",
        "    Returns:\n",
        "    - A numpy array Y of shape (N * M, 1) containing the entries of X in row\n",
        "      order. That is, X[i, j] = Y[i * M + j, 0]\n",
        "\n",
        "    Hint:\n",
        "    1) np.reshape\n",
        "    2) You can specify an unknown dimension as -1\n",
        "    \"\"\"\n",
        "    return np.reshape(X, (-1, 1))\n"
      ],
      "execution_count": null,
      "outputs": []
    },
    {
      "cell_type": "markdown",
      "metadata": {
        "id": "rWLK1EOt8yD0"
      },
      "source": [
        "Add a code cell below with just enough lines that show that your function works."
      ]
    },
    {
      "cell_type": "code",
      "source": [
        "# Test for f4\n",
        "x = np.array([ [1, 2, 3], [4, 5, 6] ])\n",
        "print(f4(x))"
      ],
      "metadata": {
        "colab": {
          "base_uri": "https://localhost:8080/"
        },
        "id": "6fDaVmPRYTk_",
        "outputId": "48559caa-3c0b-45ce-a03a-d252b69baf20"
      },
      "execution_count": null,
      "outputs": [
        {
          "output_type": "stream",
          "name": "stdout",
          "text": [
            "[[1]\n",
            " [2]\n",
            " [3]\n",
            " [4]\n",
            " [5]\n",
            " [6]]\n"
          ]
        }
      ]
    },
    {
      "cell_type": "code",
      "metadata": {
        "id": "KjFlD6BozFON"
      },
      "source": [
        "def f5(X):\n",
        "    \"\"\"\n",
        "    Inputs:\n",
        "    - X: A numpy array of shape (N, M) where each entry is between 0 and 1\n",
        "\n",
        "    Returns:\n",
        "    A numpy array Y where Y[i, j] = True if X[i, j] > 0.5\n",
        "\n",
        "    Hint: Trust python to do the right thing\n",
        "    \"\"\"\n",
        "    return (x > 0.5)"
      ],
      "execution_count": null,
      "outputs": []
    },
    {
      "cell_type": "markdown",
      "metadata": {
        "id": "EUZIivEtzsqr"
      },
      "source": [
        "Add a code cell below with just enough lines that show that your function works.\n"
      ]
    },
    {
      "cell_type": "code",
      "source": [
        "# Test for f5\n",
        "x = np.array([ [0.1, 0.4, 0.6], [0.5, 0.7, 0.8] ])\n",
        "print(f5(x))"
      ],
      "metadata": {
        "colab": {
          "base_uri": "https://localhost:8080/"
        },
        "id": "7vdlZaJFg55Y",
        "outputId": "725725cc-4084-4a89-a40b-8c9ec1b4a9c1"
      },
      "execution_count": null,
      "outputs": [
        {
          "output_type": "stream",
          "name": "stdout",
          "text": [
            "[[False False  True]\n",
            " [False  True  True]]\n"
          ]
        }
      ]
    },
    {
      "cell_type": "code",
      "metadata": {
        "id": "D1294F__zrZ_"
      },
      "source": [
        "def f6(A, v):\n",
        "    \"\"\"\n",
        "    Inputs:\n",
        "    - A: A numpy array of shape (N, F)\n",
        "    - v: A numpy array of shape (F, 1)\n",
        "\n",
        "    Returns:\n",
        "    Numpy array of shape (N, 1) giving the matrix-vector product Av\n",
        "    \"\"\"\n",
        "    return A @ v"
      ],
      "execution_count": null,
      "outputs": []
    },
    {
      "cell_type": "markdown",
      "metadata": {
        "id": "XdFHqQJez13e"
      },
      "source": [
        "Add a code cell below with just enough lines that show that your function works."
      ]
    },
    {
      "cell_type": "code",
      "source": [
        "# Test for f6\n",
        "a = np.array([ [1, 2, 3], [4, 5, 6] ])\n",
        "v = np.array([ [7], [8], [9] ])\n",
        "print(f6(a, v))"
      ],
      "metadata": {
        "colab": {
          "base_uri": "https://localhost:8080/"
        },
        "id": "MwqlfrTdmXq9",
        "outputId": "dbce0bd8-aade-4dfa-bcd5-e03cda863c1f"
      },
      "execution_count": null,
      "outputs": [
        {
          "output_type": "stream",
          "name": "stdout",
          "text": [
            "[[ 50]\n",
            " [122]]\n"
          ]
        }
      ]
    },
    {
      "cell_type": "code",
      "metadata": {
        "id": "loVmip1D1nwu"
      },
      "source": [
        "def f7(v):\n",
        "    \"\"\"\n",
        "    Inputs:\n",
        "    - v: A numpy array of shape (N, 1)\n",
        "\n",
        "    Returns:\n",
        "    The L2 norm of v: norm = (sum_i^N v[i]^2)^(1/2)\n",
        "    You MAY NOT use np.linalg.norm\n",
        "    \"\"\"\n",
        "    return np.sqrt( np.sum( np.square(v) ) )"
      ],
      "execution_count": null,
      "outputs": []
    },
    {
      "cell_type": "markdown",
      "metadata": {
        "id": "CmjOR1PX1xZD"
      },
      "source": [
        "Add a code cell below with just enough lines that show that your function works.\n",
        "\n"
      ]
    },
    {
      "cell_type": "code",
      "source": [
        "# Test for f7\n",
        "v = np.array([ [1], [2], [3], [4], [5] ])\n",
        "print(f7(v))"
      ],
      "metadata": {
        "colab": {
          "base_uri": "https://localhost:8080/"
        },
        "id": "u_k3D6zitDYO",
        "outputId": "e6a586fc-a73d-42ee-c627-348f4b97208b"
      },
      "execution_count": null,
      "outputs": [
        {
          "output_type": "stream",
          "name": "stdout",
          "text": [
            "7.416198487095663\n"
          ]
        }
      ]
    },
    {
      "cell_type": "code",
      "metadata": {
        "id": "UroaZcVN3W26"
      },
      "source": [
        "def f8(X):\n",
        "    \"\"\"\n",
        "    Inputs:\n",
        "    - X: A numpy array of shape (N, M)\n",
        "\n",
        "    Returns:\n",
        "    The sum of all entries in X\n",
        "\n",
        "    Hint: np.sum\n",
        "    \"\"\"\n",
        "    return np.sum(X)"
      ],
      "execution_count": null,
      "outputs": []
    },
    {
      "cell_type": "markdown",
      "metadata": {
        "id": "CUEnUDx138NT"
      },
      "source": [
        "Add a code cell below with just enough lines that show that your function works.\n",
        "\n"
      ]
    },
    {
      "cell_type": "code",
      "source": [
        "# Test for f8\n",
        "x = np.array([ [1, 2, 3], [4, 5, 6] ])\n",
        "print(f8(x))"
      ],
      "metadata": {
        "colab": {
          "base_uri": "https://localhost:8080/"
        },
        "id": "d_DDT3aQun81",
        "outputId": "a96efa29-09c6-4b16-b306-5f50bfc6753f"
      },
      "execution_count": null,
      "outputs": [
        {
          "output_type": "stream",
          "name": "stdout",
          "text": [
            "21\n"
          ]
        }
      ]
    },
    {
      "cell_type": "code",
      "metadata": {
        "id": "MU3utUom4Tkk"
      },
      "source": [
        "def f9(X):\n",
        "    \"\"\"\n",
        "    Inputs:\n",
        "    - X: A numpy array of shape (N, M)\n",
        "\n",
        "    Returns:\n",
        "    A numpy array S of shape (M,) where S[j] is the sum of column j of X\n",
        "\n",
        "    Hint: np.sum has an optional \"axis\" argument\n",
        "    \"\"\"\n",
        "    return np.sum(X, axis=0)"
      ],
      "execution_count": null,
      "outputs": []
    },
    {
      "cell_type": "markdown",
      "metadata": {
        "id": "-S6e0Scg4YZu"
      },
      "source": [
        "Add a code cell below with just enough lines that show that your function works.\n",
        "\n"
      ]
    },
    {
      "cell_type": "code",
      "source": [
        "# Test for f9\n",
        "x = np.array([ [1, 2, 3], [4, 5, 6] ])\n",
        "print(f9(x))"
      ],
      "metadata": {
        "colab": {
          "base_uri": "https://localhost:8080/"
        },
        "id": "bTGN96pUybkH",
        "outputId": "44915785-819d-49dc-b873-d98c164b89ac"
      },
      "execution_count": null,
      "outputs": [
        {
          "output_type": "stream",
          "name": "stdout",
          "text": [
            "[5 7 9]\n"
          ]
        }
      ]
    },
    {
      "cell_type": "code",
      "metadata": {
        "id": "K5aWQCnJ5dec"
      },
      "source": [
        "def f10(X):\n",
        "    \"\"\"\n",
        "    Inputs:\n",
        "    - X: A numpy array of shape (N, M)\n",
        "\n",
        "    Returns:\n",
        "    A numpy array S of shape (N, 1) where S[i] is the L2 norm of row i of X\n",
        "    \"\"\"\n",
        "    return np.reshape(np.sqrt( np.sum(np.square(X), axis=1) ), (-1, 1))"
      ],
      "execution_count": null,
      "outputs": []
    },
    {
      "cell_type": "markdown",
      "metadata": {
        "id": "GPUuwhtj5cw5"
      },
      "source": [
        "Add a code cell below with just enough lines that show that your function works.\n",
        "\n",
        "\n"
      ]
    },
    {
      "cell_type": "code",
      "source": [
        "# Test for f910\n",
        "x = np.array([ [1, 2, 3, 4, 5], [6, 7, 8, 9, 10] ])\n",
        "print(f10(x))"
      ],
      "metadata": {
        "colab": {
          "base_uri": "https://localhost:8080/"
        },
        "outputId": "2eb050fd-7829-4c78-de25-80a738f97d36",
        "id": "EwRA2eGMy6i5"
      },
      "execution_count": null,
      "outputs": [
        {
          "output_type": "stream",
          "name": "stdout",
          "text": [
            "[[ 7.41619849]\n",
            " [18.16590212]]\n"
          ]
        }
      ]
    },
    {
      "cell_type": "markdown",
      "metadata": {
        "id": "x_3Nl4WWlsV9"
      },
      "source": [
        "# *Exercise 2*\n",
        "This is a Python Numpy exercise. Complete each of the functions below as descibed by the Input/Returns requirements. Below each function add a code cell, and write in it just a few lines of code to show that your function works.\n",
        "These functions may require you to write more than one line of code. The instructions will indicate what is the expected number of lines. You might be able to write fewer lines, but you should not exceed the maximum number of lines indicated. __You are not allowed to use the ```for``` loop construct__.\n"
      ]
    },
    {
      "cell_type": "code",
      "metadata": {
        "id": "Yjt6eKiPtX_P"
      },
      "source": [
        "import numpy as np\n",
        "import copy"
      ],
      "execution_count": null,
      "outputs": []
    },
    {
      "cell_type": "code",
      "metadata": {
        "id": "h_h3ZNmnlrpA"
      },
      "source": [
        "def g1(L):\n",
        "    \"\"\"\n",
        "    Inputs:\n",
        "    - L: A list of M numpy arrays, each of shape (1, N)\n",
        "\n",
        "    Returns:\n",
        "    A numpy array of shape (M, N) giving all inputs stacked together\n",
        "\n",
        "    Lines of code: 1\n",
        "\n",
        "    Hint: vstack/hstack/dstack, no for loop\n",
        "    \"\"\"\n",
        "    return np.vstack(L)"
      ],
      "execution_count": null,
      "outputs": []
    },
    {
      "cell_type": "markdown",
      "metadata": {
        "id": "ebcCCxAWoGyv"
      },
      "source": [
        "Add a code cell below with just enough lines that show that your function works.\n"
      ]
    },
    {
      "cell_type": "code",
      "source": [
        "# Test for g1\n",
        "l = []\n",
        "l.append( np.array([1, 2, 3]) )\n",
        "l.append( np.array([4, 5, 6]) )\n",
        "print( l, type(l) )\n",
        "print( g1(l), type( g1(l) ) )"
      ],
      "metadata": {
        "colab": {
          "base_uri": "https://localhost:8080/"
        },
        "id": "xJe3YFV7P_ys",
        "outputId": "0bfbc13e-f317-471a-ce2f-6c99fabb8a3b"
      },
      "execution_count": null,
      "outputs": [
        {
          "output_type": "stream",
          "name": "stdout",
          "text": [
            "[array([1, 2, 3]), array([4, 5, 6])] <class 'list'>\n",
            "[[1 2 3]\n",
            " [4 5 6]] <class 'numpy.ndarray'>\n"
          ]
        }
      ]
    },
    {
      "cell_type": "code",
      "metadata": {
        "id": "jxVaPPvinbGU"
      },
      "source": [
        "def g2(X):\n",
        "    \"\"\"\n",
        "    Inputs:\n",
        "    - X: A numpy array of any shape\n",
        "\n",
        "    Returns:\n",
        "    A copy of X, but with all negative entires set to 0\n",
        "\n",
        "    Lines of code: 2-3\n",
        "\n",
        "    Hint:\n",
        "    1) If S is a boolean array with the same shape as X, then X[S] gives an\n",
        "       array containing all elements of X corresponding to true values of S\n",
        "    2) X[S] = v assigns the value v to all entires of X corresponding to\n",
        "       true values of S.\n",
        "    \"\"\"\n",
        "    copy_of_X = copy.deepcopy(X)\n",
        "    return np.where(copy_of_X < 0, 0, copy_of_X )"
      ],
      "execution_count": null,
      "outputs": []
    },
    {
      "cell_type": "markdown",
      "metadata": {
        "id": "eGXcgZaLoFlb"
      },
      "source": [
        "Add a code cell below with just enough lines that show that your function works.\n"
      ]
    },
    {
      "cell_type": "code",
      "source": [
        "# Test for g2\n",
        "x = np.array([ [1, -2, 3], [-4, 5, -6] ])\n",
        "print(g2(x))"
      ],
      "metadata": {
        "colab": {
          "base_uri": "https://localhost:8080/"
        },
        "id": "VQ7lLFJYa2Up",
        "outputId": "c6eb5c71-0c35-46dc-83c3-f5c141ab584b"
      },
      "execution_count": null,
      "outputs": [
        {
          "output_type": "stream",
          "name": "stdout",
          "text": [
            "[[1 0 3]\n",
            " [0 5 0]]\n"
          ]
        }
      ]
    },
    {
      "cell_type": "code",
      "metadata": {
        "id": "enrR-n6fn-Sr"
      },
      "source": [
        "def g3(X):\n",
        "    \"\"\"\n",
        "    Inputs:\n",
        "    - X: A numpy array of shape (N, N)\n",
        "\n",
        "    Returns:\n",
        "    A numpy array of shape (4, 4) giving the upper left 4x4 submatrix of X\n",
        "    minus the bottom right 4x4 submatrix of X.\n",
        "\n",
        "    Lines of code: 1-2\n",
        "\n",
        "    Hint:\n",
        "    1) X[y0:y1, x0:x1] gives the submatrix\n",
        "       from rows y0 to (but not including!) y1\n",
        "       from columns x0 (but not including!) x1\n",
        "    \"\"\"\n",
        "    return np.subtract( X[:4, :4], X[-4:, -4:] )"
      ],
      "execution_count": null,
      "outputs": []
    },
    {
      "cell_type": "markdown",
      "metadata": {
        "id": "8AIsHw0woF1F"
      },
      "source": [
        "Add a code cell below with just enough lines that show that your function works.\n"
      ]
    },
    {
      "cell_type": "code",
      "source": [
        "# Test for g3\n",
        "x = np.reshape(np.arange(1, 129), (8, -1))\n",
        "print(x)\n",
        "print(g3(x))"
      ],
      "metadata": {
        "colab": {
          "base_uri": "https://localhost:8080/"
        },
        "id": "l57oUjb7hQ2B",
        "outputId": "726828cd-7da9-4dc3-a81b-2fdc3b603e5a"
      },
      "execution_count": null,
      "outputs": [
        {
          "output_type": "stream",
          "name": "stdout",
          "text": [
            "[[  1   2   3   4   5   6   7   8   9  10  11  12  13  14  15  16]\n",
            " [ 17  18  19  20  21  22  23  24  25  26  27  28  29  30  31  32]\n",
            " [ 33  34  35  36  37  38  39  40  41  42  43  44  45  46  47  48]\n",
            " [ 49  50  51  52  53  54  55  56  57  58  59  60  61  62  63  64]\n",
            " [ 65  66  67  68  69  70  71  72  73  74  75  76  77  78  79  80]\n",
            " [ 81  82  83  84  85  86  87  88  89  90  91  92  93  94  95  96]\n",
            " [ 97  98  99 100 101 102 103 104 105 106 107 108 109 110 111 112]\n",
            " [113 114 115 116 117 118 119 120 121 122 123 124 125 126 127 128]]\n",
            "[[-76 -76 -76 -76]\n",
            " [-76 -76 -76 -76]\n",
            " [-76 -76 -76 -76]\n",
            " [-76 -76 -76 -76]]\n"
          ]
        }
      ]
    },
    {
      "cell_type": "code",
      "metadata": {
        "id": "WVtHny43nhvY"
      },
      "source": [
        "def g4(X):\n",
        "    \"\"\"\n",
        "    Inputs:\n",
        "    - X: A numpy array of shape (N, M)\n",
        "\n",
        "    Returns:\n",
        "    A numpy array Y of the same shape as X, where Y[i] is a vector that points\n",
        "    the same direction as X[i] but has unit norm.\n",
        "\n",
        "    Lines of code: 1-3\n",
        "\n",
        "    Hints:\n",
        "    1) The vector v / ||v||| is the unit vector pointing in the same direction\n",
        "       as v (as long as v != 0)\n",
        "    2) Divide X by a vector of normalization factors, of shape (N, 1)\n",
        "    3) Elementwise operations between an array of shape (N, M) and an array of\n",
        "       shape (N, 1) work -- try it! This is called \"broadcasting\"\n",
        "    4) Elementwise operations between an array of shape (N, M) and an array of\n",
        "       shape (N,) won't work -- try reshaping\n",
        "    \"\"\"\n",
        "    return X / np.reshape( np.sqrt(np.sum(np.square(X), axis=1)), (len(np.sqrt(np.sum(np.square(X), axis=1))), 1) ) "
      ],
      "execution_count": null,
      "outputs": []
    },
    {
      "cell_type": "markdown",
      "metadata": {
        "id": "OioFBnhKoGIL"
      },
      "source": [
        "Add a code cell below with just enough lines that show that your function works.\n"
      ]
    },
    {
      "cell_type": "code",
      "source": [
        "# Test for g4\n",
        "x = np.array([ [1, 2, 3, 4, 5], [6, 7, 8, 9, 10] ])\n",
        "print(g4(x), g4(x).shape)"
      ],
      "metadata": {
        "colab": {
          "base_uri": "https://localhost:8080/"
        },
        "id": "3yGrSF_jygxm",
        "outputId": "7fa531a6-bc4e-4c9d-e597-31ee753e9197"
      },
      "execution_count": null,
      "outputs": [
        {
          "output_type": "stream",
          "name": "stdout",
          "text": [
            "[[0.13483997 0.26967994 0.40451992 0.53935989 0.67419986]\n",
            " [0.33028913 0.38533732 0.44038551 0.49543369 0.55048188]] (2, 5)\n"
          ]
        }
      ]
    },
    {
      "cell_type": "code",
      "metadata": {
        "id": "9bH6dDyBnl9A"
      },
      "source": [
        "def g5(q, k, v):\n",
        "    \"\"\"\n",
        "    Inputs:\n",
        "    - q: A numpy array of shape (1, K) (queries)\n",
        "    - k: A numpy array of shape (N, K) (keys)\n",
        "    - v: A numpy array of shape (N, 1) (values)\n",
        "\n",
        "    Returns:\n",
        "    sum_i exp(-||q-k_i||^2) * v[i]\n",
        "\n",
        "    Lines of code: 1-3\n",
        "\n",
        "    Hints:\n",
        "    1) You can perform elementwise operations on arrays of shape (N, K) and\n",
        "       (1, K) with broadcasting\n",
        "    2) Recall that np.sum has useful \"axis\" and \"keepdims\" options\n",
        "    3) np.exp and friends apply elementwise to arrays\n",
        "    \"\"\"\n",
        "    return np.sum(np.exp(-1*np.sqrt(np.sum((q-k)**2, axis=1))**2)*v, axis=1)"
      ],
      "execution_count": null,
      "outputs": []
    },
    {
      "cell_type": "markdown",
      "metadata": {
        "id": "66IBCGPSoGXS"
      },
      "source": [
        "Add a code cell below with just enough lines that show that your function works.\n"
      ]
    },
    {
      "cell_type": "code",
      "source": [
        "# Test for g5\n",
        "q = np.array([5, 2, 7])\n",
        "k = np.array([ [3, 17, 4], [13, 6, 24] ])\n",
        "v = np.array([ [23], [37] ])\n",
        "print(g5(q, k, v))"
      ],
      "metadata": {
        "colab": {
          "base_uri": "https://localhost:8080/"
        },
        "id": "j9PXe5bAqndi",
        "outputId": "cb2695ee-1eb5-4925-8d3d-33d85e3f395f"
      },
      "execution_count": null,
      "outputs": [
        {
          "output_type": "stream",
          "name": "stdout",
          "text": [
            "[9.99174043e-103 1.60736694e-102]\n"
          ]
        }
      ]
    },
    {
      "cell_type": "code",
      "metadata": {
        "id": "2l5KpHnNnpm0"
      },
      "source": [
        "def g6(X):\n",
        "    \"\"\"\n",
        "    Inputs:\n",
        "    - X: A numpy array of shape (N, M)\n",
        "\n",
        "    Returns:\n",
        "    A numpy array D of shape (N, N) where D[i, j] gives the Euclidean distance\n",
        "    between X[i] and X[j], using the identity\n",
        "    ||x - y||^2 = ||x||^2 + ||y||^2 - 2x^T y\n",
        "\n",
        "    Line of code: 2-3\n",
        "\n",
        "    Hints:\n",
        "    1) What happens when you add two arrays of shape (1, N) and (N, 1)?\n",
        "    2) Think about the definition of matrix multiplication\n",
        "    3) Transpose is your friend\n",
        "    4) Note the square! Use a square root at the end\n",
        "    5) On some machines, ||x||^2 + ||x||^2 - 2x^Tx may be slightly negative,\n",
        "       causing the square root to crash. Just take max(0, value) before the\n",
        "       square root. Seems to occur on Macs.\n",
        "    \"\"\"\n",
        "\n",
        "    x_diff = X[:, np.newaxis, :] - X[np.newaxis, :, :]\n",
        "    return (x_diff * x_diff).sum(axis=2)"
      ],
      "execution_count": null,
      "outputs": []
    },
    {
      "cell_type": "code",
      "source": [
        "# Test for g6\n",
        "x = np.array([[1,2,3], [4,5,6], [7,8,9], [10, 11, 12]])\n",
        "print(g6(x))"
      ],
      "metadata": {
        "colab": {
          "base_uri": "https://localhost:8080/"
        },
        "id": "pyaXqepuAKiK",
        "outputId": "5d48fb9f-c5af-41ff-d2c6-ee6c7fe1f0f9"
      },
      "execution_count": null,
      "outputs": [
        {
          "output_type": "stream",
          "name": "stdout",
          "text": [
            "[[  0  27 108 243]\n",
            " [ 27   0  27 108]\n",
            " [108  27   0  27]\n",
            " [243 108  27   0]]\n"
          ]
        }
      ]
    },
    {
      "cell_type": "markdown",
      "metadata": {
        "id": "aLF4bD5JoGm8"
      },
      "source": [
        "Add a code cell below with just enough lines that show that your function works.\n"
      ]
    },
    {
      "cell_type": "code",
      "metadata": {
        "id": "bygJmmZBnudx"
      },
      "source": [
        "def g7(q, V):\n",
        "    \"\"\"\n",
        "    Inputs:\n",
        "    - q: A numpy array of shape (1, M) (query)\n",
        "    - V: A numpy array of shape (N, M) (values)\n",
        "\n",
        "    Return:\n",
        "    The index i that maximizes the dot product q . V[i]\n",
        "\n",
        "    Lines of code: 1\n",
        "\n",
        "    Hint: np.argmax\n",
        "    \"\"\"\n",
        "    return np.argmax(V.dot(q))\n"
      ],
      "execution_count": null,
      "outputs": []
    },
    {
      "cell_type": "markdown",
      "metadata": {
        "id": "MZx5A6KeoG8k"
      },
      "source": [
        "Add a code cell below with just enough lines that show that your function works.\n"
      ]
    },
    {
      "cell_type": "code",
      "source": [
        "# Test for g7\n",
        "v = np.array([[1, 2, 3], [3, 2, 1]])\n",
        "q = np.array([6, 5, 4])\n",
        "print(g7(q, v))"
      ],
      "metadata": {
        "colab": {
          "base_uri": "https://localhost:8080/"
        },
        "id": "m3Rywc5oFRyc",
        "outputId": "c94d3756-eebc-4719-dc5e-965d13bef8d5"
      },
      "execution_count": null,
      "outputs": [
        {
          "output_type": "stream",
          "name": "stdout",
          "text": [
            "1\n"
          ]
        }
      ]
    },
    {
      "cell_type": "code",
      "metadata": {
        "id": "VlmmianUnwGw"
      },
      "source": [
        "def g8(X, Y):\n",
        "    \"\"\"\n",
        "    Inputs:\n",
        "    - X: A numpy array of shape (N, 3)\n",
        "    - Y: A numpy array of shape (N, 3)\n",
        "\n",
        "    Returns:\n",
        "    A numpy array C of shape (N, 3) such C[i] is the cross product between X[i]\n",
        "    and Y[i]\n",
        "\n",
        "    Lines of code: 1\n",
        "\n",
        "    Hint: np.cross\n",
        "    \"\"\"\n",
        "    return np.cross(X, Y)"
      ],
      "execution_count": null,
      "outputs": []
    },
    {
      "cell_type": "markdown",
      "metadata": {
        "id": "uoz6SzJ9oHFt"
      },
      "source": [
        "Add a code cell below with just enough lines that show that your function works.\n"
      ]
    },
    {
      "cell_type": "code",
      "source": [
        "# Test for g8\n",
        "x = np.array([ [1, 2, 3], [4, 5, 6] ])\n",
        "y = np.array([ [7, 8, 9], [10, 11, 12] ])\n",
        "print(g8(x, y))"
      ],
      "metadata": {
        "colab": {
          "base_uri": "https://localhost:8080/"
        },
        "id": "vbJJeguFKTzY",
        "outputId": "b25e78ab-df95-4846-b251-5d9c5caa6b99"
      },
      "execution_count": null,
      "outputs": [
        {
          "output_type": "stream",
          "name": "stdout",
          "text": [
            "[[-6 12 -6]\n",
            " [-6 12 -6]]\n"
          ]
        }
      ]
    },
    {
      "cell_type": "code",
      "metadata": {
        "id": "p1YEKknynyN6"
      },
      "source": [
        "def g9(X):\n",
        "    \"\"\"\n",
        "    Inputs:\n",
        "    - X: A numpy array of shape (N, M)\n",
        "\n",
        "    Returns:\n",
        "    A numpy array Y of shape (N, M + 1) such that\n",
        "        Y[i, :F] = X[i]\n",
        "        Y[i, F] = 1\n",
        "\n",
        "    Lines of code: 1\n",
        "\n",
        "    Hint: np.hstack, np.ones\n",
        "    \"\"\"\n",
        "    return np.hstack( ( X, np.ones((X.shape[0], 1)) ) )"
      ],
      "execution_count": null,
      "outputs": []
    },
    {
      "cell_type": "markdown",
      "metadata": {
        "id": "kzp05saOoHP6"
      },
      "source": [
        "Add a code cell below with just enough lines that show that your function works.\n"
      ]
    },
    {
      "cell_type": "code",
      "source": [
        "# Test for g9\n",
        "x = np.array([ [1, 2, 3], [4, 5, 6], [7, 8, 9] ])\n",
        "print(g9(x))"
      ],
      "metadata": {
        "colab": {
          "base_uri": "https://localhost:8080/"
        },
        "id": "YEO3sl6zVV2I",
        "outputId": "45bef55c-362c-44a3-d573-85e2ce7eba14"
      },
      "execution_count": null,
      "outputs": [
        {
          "output_type": "stream",
          "name": "stdout",
          "text": [
            "[[1. 2. 3. 1.]\n",
            " [4. 5. 6. 1.]\n",
            " [7. 8. 9. 1.]]\n"
          ]
        }
      ]
    },
    {
      "cell_type": "code",
      "metadata": {
        "id": "_cQF6dczn0vn"
      },
      "source": [
        "def g10(N, s, x, y):\n",
        "    \"\"\"\n",
        "    Inputs:\n",
        "    - N: An integer\n",
        "    - s: A floating-point number\n",
        "    - x: A floating-point number\n",
        "    - y: A floating-point number\n",
        "\n",
        "    Returns:\n",
        "    A numpy array I of shape (N, N) such that\n",
        "    I[i, j] = exp(-||(j, i) - (x, y)||^2 / s^2)\n",
        "\n",
        "    Lines of code: 2-3\n",
        "\n",
        "    Hint: Be careful with types -- float and int aren't the same!\n",
        "    \"\"\"\n",
        "    return None"
      ],
      "execution_count": null,
      "outputs": []
    },
    {
      "cell_type": "markdown",
      "metadata": {
        "id": "RtX5UkUboFLK"
      },
      "source": [
        "Add a code cell below with just enough lines that show that your function works.\n"
      ]
    },
    {
      "cell_type": "markdown",
      "metadata": {
        "id": "5p5mKcVOv8rO"
      },
      "source": [
        "# *Exercise 3*\n",
        "\n",
        "In this exercise you are going to experiment with image quantization. \n",
        "\n",
        "You have been given two folders with images. The folder ```images``` contains a gallery of 10 images. The folder ```images_200``` contains the same images but resized with the biggest dimension to not exceed 200 pixels. Initially, you will operate on the folder with the smaller images because the algorithms you will implement will be relatively slow, and will take a lot of time if made them to work on the images with original size. Also, you will convert the images to grayscale.\n",
        "\n",
        "Later in the exercise, you will implement a resizing function that will allow you to operate at the desired resolution, and you will also extend the algorithms to handle colors.\n",
        "\n",
        "The idea of image quantization is that the 256 levels used to represent each color channel or the intensity (if the image is grayscale), have to be mapped according to a uniform palette, obtained by setting the number of bits per color channel that you use. To encode the original 256 levels, 8 bits are necessary. To encode in 2 levels only 1 bit is necessary.\n",
        "\n",
        "In this exercise you will be concerned to mainly generate quantization results based on 1 bit and on 2 bits.\n",
        "\n",
        "In principle, encoding an image with less bits per pixel allows to represent it more efficiently, and it enables its display in mediums that have a limited palette. One example is the [GIF](https://en.wikipedia.org/wiki/GIF) image format, which allows a palette of only 256 colors, as opposed to the full range of colors of a 24-bits image.  "
      ]
    },
    {
      "cell_type": "code",
      "source": [
        "from google.colab import drive\n",
        "drive.mount('/content/drive')"
      ],
      "metadata": {
        "colab": {
          "base_uri": "https://localhost:8080/"
        },
        "id": "7aXSou5Yj8Hb",
        "outputId": "61e230a7-1e82-44d5-8cda-ccb4c6d5139a"
      },
      "execution_count": null,
      "outputs": [
        {
          "output_type": "stream",
          "name": "stdout",
          "text": [
            "Drive already mounted at /content/drive; to attempt to forcibly remount, call drive.mount(\"/content/drive\", force_remount=True).\n"
          ]
        }
      ]
    },
    {
      "cell_type": "code",
      "metadata": {
        "id": "Hmy8D7DOzvri"
      },
      "source": [
        "import os\n",
        "import sys\n",
        "import cv2\n",
        "import numpy as np\n",
        "\n",
        "def coverPalette(N):\n",
        "    # Return the palette we're using\n",
        "    return np.linspace(1, 0, 2 ** N)\n",
        "\n",
        "def reconstructImage(IQ, palette):\n",
        "    \"\"\"\n",
        "    Given a quantized image IQ and their value, return a floating point image\n",
        "    \"\"\"\n",
        "    # opencv is full of these assertions.\n",
        "    # If you're looking here you may have an error.\n",
        "    # Check to see what the assertion says\n",
        "    assert(np.issubdtype(IQ.dtype, np.integer))\n",
        "    return palette[IQ]\n",
        "\n",
        "def upscaleNN(I, target_size):\n",
        "    \"\"\"\n",
        "    NN upsample I until it hits a target size but without going over 4096\n",
        "    \"\"\"\n",
        "    h, w = I.shape[:2]\n",
        "    scale = 1\n",
        "    while True:\n",
        "        if min(h * scale, w * scale) >= target_size:\n",
        "            break\n",
        "        if max(h * (scale + 1), w * (scale + 1)) > 4096:\n",
        "            break\n",
        "        scale += 1\n",
        "    # usually you should call a library but providing the call here defeats\n",
        "    # the purpose :)\n",
        "    shape = (scale, scale) if I.ndim == 2 else (scale, scale, 1)\n",
        "    return np.kron(I, np.ones(shape))\n"
      ],
      "execution_count": null,
      "outputs": []
    },
    {
      "cell_type": "markdown",
      "metadata": {
        "id": "Qcdf69pKrb8h"
      },
      "source": [
        "The code cell below is where you are supposed to write almost all the code. You need to complete the two quantization algorithms ```quantizeNaive``` and ```quantizeFloyd```, and a utility function ```quantize``` to be used by the algorithms.\n",
        "\n",
        "Every quantization algorithm has the following Input/Output specification:\n",
        "- **Input:** (a) a $H\\times\u0002W$ floating point image with brightness ranging from 0 to 1, and (b) a palette consisting of all the $K$ allowed brightness settings (which are floats in the range 0 to 1).\n",
        "- **Output:** each algorithm produces a $H\\times W$ ```uint8``` image with brightness ranging from $0$ to\n",
        "$K-1$. This is the quantized image. We can use the quantized image and the palette to compute a reconstructed image, and this is done by the  function ```reconstructImage```.\n",
        "\n"
      ]
    },
    {
      "cell_type": "markdown",
      "metadata": {
        "id": "xh9z2FHB2pWa"
      },
      "source": [
        "**Naive Quantization**\n",
        "\n",
        "Begin by implementing ```quantize(v,palette)```. This should return the index of the nearest value in the palette to the single value ```v```. Do not use a ```for``` loop. You can look at functions like ```np.argmin```. If you find another way that is more clever, feel free to propose it.\n",
        "\n",
        "Implement ```quantizeNaive(IF,palette)```. This approach aims at approximating the image by quantizing each pixel with the closest value in the palette. Therefore, ```quantizeNaive(IF,palette)``` takes a floating point image of size $H\\times W$ and a palette of values, and creates a new ```uint8``` image  and uses ```quantize()``` to find the index of the nearest pixel. It returns the $H\\times W$ ```uint8``` image of the palette indices.\n",
        "\n",
        "**Question 1.** When you run the quantization on the full set of images in ```images_200```, in one sentence say why might your code take a very long time.\n",
        "\n",
        "**Question 2.** For 1 and then for 2 bits per pixel, embed (show) in the cell below three results of inputs and outputs. Also, make sure you save the same images in the appropriate folder because you will need to submit them.\n",
        "\n",
        "**How to embed images in Colab:** From your Google Drive navigate to the file, and by right-clicking on it select Get Link. Now change the option from \"Restricted\" to \"Anyone with the link\" and copy the link. You will get a link like this\n",
        "\n",
        "```https://drive.google.com/file/d/1Ljc932JoNfmChw_CvDBbogfyht8wakIZ/view?usp=sharing```\n",
        "\n",
        "You want to get the ID of the file:\n",
        "\n",
        "```1YZPSVXP8s6FpkpuCSJdBymhRhfDiac58```\n",
        "\n",
        "and put it in front of \n",
        "\n",
        "```https://drive.google.com/uc?id=```\n",
        "\n",
        "to obtain the final link\n",
        "\n",
        "```https://drive.google.com/uc?id=1Ljc932JoNfmChw_CvDBbogfyht8wakIZ```\n",
        "\n",
        "Now you can embed the image by using ```![](link)```\n",
        "This is how it is done here:\n",
        "\n",
        "![](https://drive.google.com/uc?id=1Ljc932JoNfmChw_CvDBbogfyht8wakIZ)\n",
        "\n"
      ]
    },
    {
      "cell_type": "markdown",
      "metadata": {
        "id": "jU-i-5ghNHyc"
      },
      "source": [
        "**Answer to Question 1:**\n",
        "The code may take a very long time because the naive quantizazer implemented is a brute force method that requires too much computation by computing the smallest representative in the palette for each pixel in the original image, thereby making it a linear process.\n",
        "\n",
        "\n",
        "\n",
        "**Answer to Question 2:**\n",
        "\n",
        "Grayscale Quantize Naive 1-Bit Images\n",
        "\n",
        "![](https://drive.google.com/uc?id=1-RDcK4k14gxtnTEJVpHeNu4SGOM6JCb8) \n",
        "![](https://drive.google.com/uc?id=1-GGJs4GcunL6EIxl1UnEUgffz5aeZv7X)\n",
        "![](https://drive.google.com/uc?id=1-ZVZIpBxrZtVTaDVqO_Dl-4WDI6wUNhH) \n",
        "![](https://drive.google.com/uc?id=1-YgElFji8ULxRbAGJOyh8P1ujtSBAFJ2)\n",
        "![](https://drive.google.com/uc?id=100xRQcyvkQkzunDi3Uki3U2eXL025L6x) \n",
        "![](https://drive.google.com/uc?id=1-vjHArF0v80lEIpel5aNCcZLdY1nf9NZ)\n",
        "\n",
        "[View all results for quantizeNaive 1-bit](https://drive.google.com/uc?id=10MCyd2tio3eYBx6c6xjCNQD09Dw5nLvP)\n",
        "\n",
        "\n",
        "Grayscale Quantize Naive 2-Bit Images\n",
        "\n",
        "![](https://drive.google.com/uc?id=1-RDcK4k14gxtnTEJVpHeNu4SGOM6JCb8) \n",
        "![](https://drive.google.com/uc?id=10Pp2y6uLxSjBKQ4kbaOXXNaARBpSDfVF)\n",
        "![](https://drive.google.com/uc?id=1-ZVZIpBxrZtVTaDVqO_Dl-4WDI6wUNhH) \n",
        "![](https://drive.google.com/uc?id=10a4lYUYHQmiPmykT7pyfMYPCpt-ELgaG)\n",
        "![](https://drive.google.com/uc?id=100xRQcyvkQkzunDi3Uki3U2eXL025L6x) \n",
        "![](https://drive.google.com/uc?id=10weB1xGWlnl1YrlxS-UJgc69V8i2Q3e8)\n",
        "\n",
        "[View all results for quantizeNaive 2-bit](https://drive.google.com/uc?id=11WwCgCH9xsdOfuzzJUXtV5txuYKTnOx_)\n"
      ]
    },
    {
      "cell_type": "markdown",
      "metadata": {
        "id": "BUEXj98BPYN-"
      },
      "source": [
        "**Floyd Quantization**\n",
        "\n",
        "To improve upon the naive quantization, you will implement the [Floyd–Steinberg dithering](https://en.wikipedia.org/wiki/Floyd–Steinberg_dithering) algorithm in the function ```quantizeFloyd```.\n",
        "The pseudocode from Wikipedia is summarized below:\n",
        "```python\n",
        "output = new HxW that indexes into the palette\n",
        "for y in range(H): for x in range(W):\n",
        "  oldValue = pixel[x][y]\n",
        "  colorIndex = quantize(oldValue,palette)\n",
        "  output[x][y] = colorIndex\n",
        "  newValue = palette[colorIndex]\n",
        "  error = oldValue-newValue\n",
        "  pixel[x+1][y] += error*7/16\n",
        "  pixel[x-1][y+1] += error*3/16\n",
        "  pixel[x][y+1] += error*5/16\n",
        "  pixel[x+1][y+1] += error*1/16\n",
        "return Output\n",
        "```\n",
        "In your implementation you want to pay attention to a few important things. For instance, depending on the libraries you are using, the way in which a pixel is indexed changes, because they will make different assumptions about whether x or y come first. As you implement the algorithm there will be edge cases, and you might need to define what behavior to follow. Finally, be careful about how data is passed to the function. In order to produce the output, you will need to change the values of ```IF```. You may need to make an internal copy of it (```IF.copy()```), if necessary, since you do not want to change the data you were given as input.\n",
        "\n",
        "**Question 3.** Explain briefly why the Floyd quantization does a better job than the naive version.\n",
        "\n",
        "**Question 4.** For 1 and then for 2 bits per pixel, embed (show) in the cell below three results of inputs and outputs. Also, make sure you save the same images because you will need to submit them.\n"
      ]
    },
    {
      "cell_type": "markdown",
      "metadata": {
        "id": "t44s1D_IfWWw"
      },
      "source": [
        "**Answer to Question 3:**\n",
        "Floyd quantization does a better job than the naive version because it uses a more elaborate diffusion matrix to distribute the quantization error to all directly neighboring unvisited pixels. Furthermore, the numbers used prevents a lot of patterns from forming, unlike the naive quantization technique.\n",
        "\n",
        "**Answer to Question 4:**\n",
        "\n",
        "Grayscale Quantize Floyd 1-Bit Images\n",
        "\n",
        "![](https://drive.google.com/uc?id=1-RDcK4k14gxtnTEJVpHeNu4SGOM6JCb8) \n",
        "![](https://drive.google.com/uc?id=124GAlWUsLj8Bu9ynpzrfoMsEhE3P4BP4)\n",
        "![](https://drive.google.com/uc?id=1-ZVZIpBxrZtVTaDVqO_Dl-4WDI6wUNhH) \n",
        "![](https://drive.google.com/uc?id=12C6PB4uIxvejzLBVGZuAnyxopWQ26wCx)\n",
        "![](https://drive.google.com/uc?id=100xRQcyvkQkzunDi3Uki3U2eXL025L6x) \n",
        "![](https://drive.google.com/uc?id=12J9kx29S-b0DzhBRP74lif5L-51ZlDeD)\n",
        "\n",
        "[View all results for quantizeNaive 1-bit](https://drive.google.com/uc?id=12jY2sRhxxqgwvkA6c6RPsQ_j9NDwpKVz)\n",
        "\n",
        "\n",
        "Grayscale Quantize Floyd 2-Bit Images\n",
        "\n",
        "![](https://drive.google.com/uc?id=1-RDcK4k14gxtnTEJVpHeNu4SGOM6JCb8) \n",
        "![](https://drive.google.com/uc?id=13b5pMqkxozAfxGED5SgB213XgbtujFci)\n",
        "![](https://drive.google.com/uc?id=1-ZVZIpBxrZtVTaDVqO_Dl-4WDI6wUNhH) \n",
        "![](https://drive.google.com/uc?id=13i5LltlzMYfwguHK0jeKSbwcqvzwAh_y)\n",
        "![](https://drive.google.com/uc?id=100xRQcyvkQkzunDi3Uki3U2eXL025L6x) \n",
        "![](https://drive.google.com/uc?id=12mGL6uxEL2ISLiO4mKpGIg_XcpVEXHom)\n",
        "\n",
        "[View all results for quantizeNaive 2-bit](https://drive.google.com/uc?id=13wKK5UahaQFOCQk7UhC_OHLToov7R7lB)"
      ]
    },
    {
      "cell_type": "code",
      "metadata": {
        "id": "zJ9ZeJ1nPUb0"
      },
      "source": [
        "def quantize(v, palette):\n",
        "    \"\"\"\n",
        "    Given a scalar v and array of values palette,\n",
        "    return the index of the closest value\n",
        "    \"\"\"\n",
        "    if np.isscalar(v): return np.abs(palette - v).argmin()\n",
        "    output = np.zeros( (v.shape[0]), dtype = int )\n",
        "    for i in range (len(v)): output[i] = np.abs(palette - v[i]).argmin()\n",
        "    return output\n",
        "\n",
        "def quantizeNaive(IF, palette):\n",
        "    \"\"\"Given a floating-point image return quantized version (Naive)\"\"\"\n",
        "    newImage = np.zeros(IF.shape, dtype = 'uint8')\n",
        "    for i in range (IF.shape[0]):\n",
        "      for j in range (IF.shape[1]):\n",
        "        newImage[i][j] = quantize(IF[i][j], palette)\n",
        "    return newImage\n",
        "\n",
        "def quantizeFloyd(IF, palette):\n",
        "    \"\"\"\n",
        "    Given a floating-point image return quantized version (Floyd-Steinberg)\n",
        "    \"\"\"\n",
        "    output = np.zeros(IF.shape, dtype = 'uint8')\n",
        "    h = IF.shape[0]\n",
        "    w = IF.shape[1]\n",
        "    for x in range (h):\n",
        "      for y in range (w):\n",
        "        old_value = IF[x][y].copy()\n",
        "        color_index = quantize(old_value, palette)\n",
        "        output[x][y] = color_index\n",
        "        if np.isscalar(color_index): new_value = palette[color_index]\n",
        "        else: new_value = [palette[i] for i in color_index]\n",
        "        error = old_value - new_value\n",
        "        if x + 1 < h: IF[x+1][y] += error*7/16\n",
        "        if (x - 1 >= 0) and (y + 1 < w): IF[x-1][y+1] += error*3/16\n",
        "        if y + 1 < w: IF[x][y+1] += error*5/16\n",
        "        if (y + 1 < w) and (x + 1 < h): IF[x+1][y+1] += error*1/16  \n",
        "    return output"
      ],
      "execution_count": null,
      "outputs": []
    },
    {
      "cell_type": "code",
      "source": [
        "v = np.array([5, 6])\n",
        "print(v.shape)\n",
        "print(type(len(v.shape)))"
      ],
      "metadata": {
        "colab": {
          "base_uri": "https://localhost:8080/"
        },
        "id": "DC44qvtOdj2w",
        "outputId": "f0d54777-2ae0-4594-aa0a-79ca4eb4d49d"
      },
      "execution_count": null,
      "outputs": [
        {
          "output_type": "stream",
          "name": "stdout",
          "text": [
            "(2,)\n",
            "<class 'int'>\n"
          ]
        }
      ]
    },
    {
      "cell_type": "markdown",
      "metadata": {
        "id": "U7olqD8Ain9Q"
      },
      "source": [
        "**Image Resizing**\n",
        "\n",
        "You were given two image folders: ```images```, and ```images_200```. The first folder contains the original images at higher resolution, and the second the same images but with the largest size not bigger than 200 pixels.\n",
        "\n",
        "You need to implement the function ```resizeImage```. This will allow you to run the algorithms on images with the size you prefer. You can take advantage of the OpenCV function ```cv2.resize```."
      ]
    },
    {
      "cell_type": "code",
      "metadata": {
        "id": "lLJPVod_ikgR"
      },
      "source": [
        "def resizeImage(I, maxDim):\n",
        "    \"\"\"Given an image, make sure it's no bigger than maxDim on either side\"\"\"\n",
        "    new_image = I\n",
        "    h = new_image.shape[0]\n",
        "    w = new_image.shape[1]\n",
        "    while h > maxDim or w > maxDim:\n",
        "        new_image = cv2.resize(new_image, (0, 0), fx=0.50, fy=0.50)\n",
        "        h = new_image.shape[0]\n",
        "        w = new_image.shape[1]\n",
        "    return new_image"
      ],
      "execution_count": null,
      "outputs": []
    },
    {
      "cell_type": "code",
      "source": [
        "h = 20\n",
        "w = 15\n",
        "while h > 18 or w > 18:\n",
        "  h -= 1\n",
        "  w -= 1\n",
        "  print(h, w)\n",
        "print('done')"
      ],
      "metadata": {
        "id": "fisYYckRbrsi",
        "colab": {
          "base_uri": "https://localhost:8080/"
        },
        "outputId": "30768c2b-366e-4cb0-f693-7c6b27b884a4"
      },
      "execution_count": null,
      "outputs": [
        {
          "output_type": "stream",
          "name": "stdout",
          "text": [
            "19 14\n",
            "18 13\n",
            "done\n"
          ]
        }
      ]
    },
    {
      "cell_type": "markdown",
      "metadata": {
        "id": "ZKBurFmWnpsK"
      },
      "source": [
        "**Color Images**\n",
        "\n",
        "So far your quantozation algorithms have handled grayscale images, now you need to augment them to handle color.\n",
        "\n",
        "You will need to augment ```quantize(v,palette)``` to handle both a scalar ```v``` and a vector ```v```. In general we can see ```v``` as an n-dimensional vector which will return an n-dimensional vector of palette indices. You can use a for loop, but remember that: (a) broadcasting can take a M-dimensional vector and N-dimensional vector and produce a MxN dimensional matrix; and (b) many functions have an axis\n",
        "argument.\n",
        "\n",
        "You will also need to make sure that your version of ```quantizeFloyd(IF,palette)``` can handle images with multiple\n",
        "channels. Remember that an operation such as ```v = IF[i,j]``` does not copy the value of the color channels, what you get is a reference. So, if you change the data at that reference, this might lead to bugs. You need to make sure you copy the data if necessary.\n",
        "\n",
        "**Question 5.** For 1 and then for 2 bits per pixel, enbed (show) in the cell below three results of inputs and outputs. Also, make sure you save the same images because you will need to submit them.\n",
        "\n",
        "**Question 6.** Pick a resolution of your choice, the number of bits of your choiche, and a couple of images of your choice. Generate their dithered versions and embed the inputs and outputs here, and submit them.\n"
      ]
    },
    {
      "cell_type": "markdown",
      "metadata": {
        "id": "a2ER5l4vya-I"
      },
      "source": [
        "**Answer to Question 5:**\n",
        "\n",
        "Color Quantize Naive 1-Bit Images\n",
        "\n",
        "![](https://drive.google.com/uc?id=15HOuemkstbEvrgmBq_iF-pzjhHGtBo18) \n",
        "![](https://drive.google.com/uc?id=15GbE6dfmQ9yRR3iUDslJmFmkO62Xjoin)\n",
        "![](https://drive.google.com/uc?id=15LU5dKhxxZdPNef31kZDQeI7IHW_DDCV) \n",
        "![](https://drive.google.com/uc?id=15J9c2YNE_iYN1MQ6VSzkVF-sezhGN2PW)\n",
        "![](https://drive.google.com/uc?id=15VgHDULm5mcaVCtsCkiLxRIDwU_sNh1l) \n",
        "![](https://drive.google.com/uc?id=15SAS2vn53OjGmVRdRXxO-x8UjXQuA8VL)\n",
        "\n",
        "[View all results for quantizeNaive 1-bit](https://drive.google.com/uc?id=16-iR7v534ax0W-fo_7hd1umdlVAiDerE)\n",
        "\n",
        "\n",
        "Color Quantize Naive 2-Bit Images\n",
        "\n",
        "![](https://drive.google.com/uc?id=15HOuemkstbEvrgmBq_iF-pzjhHGtBo18) \n",
        "![](https://drive.google.com/uc?id=162lshzXN5cnujKJDNl59VOXZ7kYHWLUI)\n",
        "![](https://drive.google.com/uc?id=15LU5dKhxxZdPNef31kZDQeI7IHW_DDCV) \n",
        "![](https://drive.google.com/uc?id=16GfzZ96k0YSpWwoLLcCvrVRa4ZO88nVE)\n",
        "![](https://drive.google.com/uc?id=15VgHDULm5mcaVCtsCkiLxRIDwU_sNh1l) \n",
        "![](https://drive.google.com/uc?id=16m9GkK32kj2eA9YvHXQKQZCzdvzjZSiS)\n",
        "\n",
        "[View all results for quantizeNaive 2-bit](https://drive.google.com/uc?id=18l0GTvS_9cDIhjEfa8QC2gIBunCpy5mt)\n",
        "\n",
        "\n",
        "Color Quantize Floyd 1-Bit Images\n",
        "\n",
        "![](https://drive.google.com/uc?id=15HOuemkstbEvrgmBq_iF-pzjhHGtBo18) \n",
        "![](https://drive.google.com/uc?id=1AptQpuV-BEenCpUl-H_Hg0bp4JgkoaTd)\n",
        "![](https://drive.google.com/uc?id=15LU5dKhxxZdPNef31kZDQeI7IHW_DDCV) \n",
        "![](https://drive.google.com/uc?id=1Ah7d0JiGpbkRJBSRvs1xfK_r0X7y1LCw)\n",
        "![](https://drive.google.com/uc?id=15VgHDULm5mcaVCtsCkiLxRIDwU_sNh1l) \n",
        "![](https://drive.google.com/uc?id=1ATb2NiZ2Ho4G8Niic-XdUmgOFbyQVtn6)\n",
        "\n",
        "[View all results for quantizeNaive 1-bit](https://drive.google.com/uc?id=1Aou3G1aqs1RoH51oTFl20mahppHD5uBI)\n",
        "\n",
        "\n",
        "Color Quantize Floyd 2-Bit Images\n",
        "\n",
        "![](https://drive.google.com/uc?id=15HOuemkstbEvrgmBq_iF-pzjhHGtBo18) \n",
        "![](https://drive.google.com/uc?id=1C05Fsvq3m8eAhPzWnASWZhMp2azS0URk)\n",
        "![](https://drive.google.com/uc?id=15LU5dKhxxZdPNef31kZDQeI7IHW_DDCV) \n",
        "![](https://drive.google.com/uc?id=1BnYvjbVereF13whU0lK8HlUZ7Bi5Ab7q)\n",
        "![](https://drive.google.com/uc?id=15VgHDULm5mcaVCtsCkiLxRIDwU_sNh1l) \n",
        "![](https://drive.google.com/uc?id=1BRjapR-cfG1eg-AXHjl56wKxM9rOG_rG)\n",
        "\n",
        "[View all results for quantizeNaive 2-bit](https://drive.google.com/uc?id=1BwqHoSV8gCTgIQbbLpOG7H9H5lXqjGyG)\n",
        "\n",
        "**Answer to Question 6:**\n",
        "\n",
        "Color Quantize Floyd 2-Bit My Images\n",
        "\n",
        "![](https://drive.google.com/uc?id=1Dt23LhJc-N8PDPFAkxT_el2Kl7F6_R99) \n",
        "![](https://drive.google.com/uc?id=1Dsbb2DMwFCblA9oI3pghx8XxYXO5nJ6z)\n",
        "![](https://drive.google.com/uc?id=1DrC710FQhEW0MI3DCUntkJ_9wzUZd-ln) \n",
        "![](https://drive.google.com/uc?id=1DqqNR0rrWcAzuGIGWuS9MBV8L890Gau9)\n",
        "![](https://drive.google.com/uc?id=1E41WZXG7mc5xkPXHd-YlErwFOYWf7rKa) \n",
        "![](https://drive.google.com/uc?id=1DzAr_MexIt6weOYoqiG8Ipapx7G23sNc)\n",
        "![](https://drive.google.com/uc?id=1DxSTLmZ3iVfW4ZAblUI8Z9wD1dXCwdIv) \n",
        "![](https://drive.google.com/uc?id=1Duei7wBQxjgnpj8dMZrK_pyqMsDo9m1y)\n",
        "![](https://drive.google.com/uc?id=1E9KZIvp0uJNg4q2X2MhYVsM0LG327hv3) \n",
        "![](https://drive.google.com/uc?id=1E8Z6MCOpnyp1d86iUerhXdZWUszaK5X9)\n",
        "\n",
        "https://drive.google.com/file/d/1E8Z6MCOpnyp1d86iUerhXdZWUszaK5X9/view?usp=sharing"
      ]
    },
    {
      "cell_type": "code",
      "metadata": {
        "id": "UD0MZjR0-VqD",
        "colab": {
          "base_uri": "https://localhost:8080/"
        },
        "outputId": "1f7661da-adbf-42a4-fd0c-7772942b1ba1"
      },
      "source": [
        "# Mount your MIX Google Drive\n",
        "from google.colab import drive\n",
        "drive_mount = \"/content/drive\"\n",
        "drive.mount(drive_mount)"
      ],
      "execution_count": null,
      "outputs": [
        {
          "output_type": "stream",
          "name": "stdout",
          "text": [
            "Drive already mounted at /content/drive; to attempt to forcibly remount, call drive.mount(\"/content/drive\", force_remount=True).\n"
          ]
        }
      ]
    },
    {
      "cell_type": "code",
      "metadata": {
        "id": "S101jT9R01gm",
        "colab": {
          "base_uri": "https://localhost:8080/"
        },
        "outputId": "f353c6f5-488f-48ef-a5ac-2ecb91824cb8"
      },
      "source": [
        "# Set the source folder where you have the images\n",
        "##########################################\n",
        "# Initially you want to work with the smaller images in images_200\n",
        "images_path = \"/Othercomputers/myPCWindows/schoolStuff [D]/CS678/assignment1/assignment1/images_200\"\n",
        "#images_path = \"/Othercomputers/myPCWindows/schoolStuff [D]/CS678/assignment1/assignment1/myImages\" # path for my images\n",
        "source = drive_mount+images_path\n",
        "print(source)\n",
        "# Load the images and make sure they are ordered\n",
        "images = [fn for fn in os.listdir(source) if fn.endswith(\".jpg\") or fn.endswith(\".JPG\")]\n",
        "images.sort()\n",
        "print(images)"
      ],
      "execution_count": null,
      "outputs": [
        {
          "output_type": "stream",
          "name": "stdout",
          "text": [
            "/content/drive/Othercomputers/myPCWindows/schoolStuff [D]/CS678/assignment1/assignment1/images_200\n",
            "['FHHZ0912.JPG', 'GCLJ7495.JPG', 'IMG_1429.jpg', 'IMG_1740.jpg', 'IMG_1911.jpg', 'IMG_2551.jpg', 'IMG_4644.jpg', 'TCBB4971.JPG', 'VKSG0659.JPG', 'WGQY4638.JPG']\n"
          ]
        }
      ]
    },
    {
      "cell_type": "code",
      "metadata": {
        "colab": {
          "base_uri": "https://localhost:8080/"
        },
        "id": "Ic4gaIuRLYP1",
        "outputId": "ced7c5cd-6da1-4c47-fbe4-58adbd7c0eea"
      },
      "source": [
        "# Set the target folder where results will be saved\n",
        "###################################################\n",
        "target_path = \"/Othercomputers/myPCWindows/schoolStuff [D]/CS678/assignment1/assignment1/quantized_images\"\n",
        "target = drive_mount+target_path\n",
        "if not os.path.exists(target):\n",
        "  os.mkdir(target)\n",
        "print(target)"
      ],
      "execution_count": null,
      "outputs": [
        {
          "output_type": "stream",
          "name": "stdout",
          "text": [
            "/content/drive/Othercomputers/myPCWindows/schoolStuff [D]/CS678/assignment1/assignment1/quantized_images\n"
          ]
        }
      ]
    },
    {
      "cell_type": "code",
      "metadata": {
        "id": "TQgoDd0VFM6O",
        "colab": {
          "base_uri": "https://localhost:8080/"
        },
        "outputId": "3e046c71-7cbc-4e81-a3a2-dd7be0f9a0c6"
      },
      "source": [
        "# Pick the algorithm\n",
        "####################\n",
        "# You can pick among [quantizeNaive\", \"quantizeFloyd\" ]\n",
        "algo_name = \"quantizeNaive\"\n",
        "if algo_name not in globals():\n",
        "  print(\"I don't recognize that algorithm\")\n",
        "  sys.exit(1)\n",
        "else:\n",
        "  quantize_algo = globals()[algo_name]\n",
        "  print(quantize_algo)\n",
        "\n",
        "# Pick the number of bits used for representing color\n",
        "#####################################################\n",
        "# This will define the palette\n",
        "# The questions require to use 1 and 2 bits per pixel, but you can \n",
        "# experiment with other values\n",
        "palette = coverPalette(2)\n",
        "print(palette)\n",
        "\n",
        "# Pick if the image should be converted to grayscale (True/False)\n",
        "#################################################################\n",
        "# Initially you want to convert the images to grayscale\n",
        "grayscale = False\n",
        "\n",
        "\n",
        "# Set a target output size different than the input, otherwise set it to 0\n",
        "##########################################################################\n",
        "# This can upscale the image. This function could be used to generate images\n",
        "# that compensate for the number of pixels a display assigns to the\n",
        "# visualization of one image pixel. \n",
        "# If you see the images with a browser with a zoom set to 100% you do not\n",
        "# need this functionality. Just generate the view.html file below for\n",
        "# the visualization of results\n",
        "target_size = 0\n",
        "\n",
        "# You can resize the input to a new resolution, otherwise set it to 0\n",
        "#####################################################################\n",
        "# To use this funcitonality you need to have implemented resizeImage\n",
        "source_size = 300"
      ],
      "execution_count": null,
      "outputs": [
        {
          "output_type": "stream",
          "name": "stdout",
          "text": [
            "<function quantizeNaive at 0x7f4fc60688c0>\n",
            "[1.         0.66666667 0.33333333 0.        ]\n"
          ]
        }
      ]
    },
    {
      "cell_type": "code",
      "metadata": {
        "id": "enY8u4ffMprT",
        "colab": {
          "base_uri": "https://localhost:8080/"
        },
        "outputId": "ca14957c-6836-4153-ef25-11e9b7d40049"
      },
      "source": [
        "# This is the main loop that quantizes the images\n",
        "\n",
        "# Keep track of heights; we'll need it since we show some small images and\n",
        "# will otherwise be at the mercy of the webbrowser resize\n",
        "heights = {}\n",
        "\n",
        "# for i,value in enumerate(array):\n",
        "#    --is shorthand for--\n",
        "# for i in range(len(array)):\n",
        "#    value = array[i]\n",
        "for imageI, image in enumerate(images):\n",
        "  print(\"%d/%d\" % (imageI, len(images)))\n",
        "\n",
        "  # Load the image; using opencv we'll usually have to provide uint8\n",
        "  I = cv2.imread(os.path.join(source, image))\n",
        "  if source_size > 0:\n",
        "    I = resizeImage(I, source_size)\n",
        "\n",
        "  # Convert to [0, 1]\n",
        "  I = I.astype(np.float) / 255\n",
        "  if grayscale:\n",
        "    I = np.mean(I, axis=2)\n",
        "    print(I.shape)\n",
        "\n",
        "  # Call the algorithm and reconstruct the image using the palette\n",
        "  IQ = quantize_algo(I, palette)\n",
        "  R = reconstructImage(IQ, palette)\n",
        "  \n",
        "  # Store the height before we upsample\n",
        "  # Sometimes it's hard to see the pixels and high-dpi screens screw up\n",
        "  # Back in my day we were happy if our monitors' width had three digits\n",
        "  heights[image] = I.shape[0]\n",
        "  if target_size > 0:\n",
        "    I, R = upscaleNN(I, target_size), upscaleNN(R, target_size)\n",
        "\n",
        "  # As a sanity check, we'll write back whatever image we get (including\n",
        "  # whether we grayscaled it)\n",
        "  # Beware that you shouldn't tamper with images that you get passed!\n",
        "  # Note the *255!\n",
        "  I_path = os.path.join(target, image + \"_orig.png\")\n",
        "  cv2.imwrite(I_path, (I * 255).astype(np.uint8))\n",
        "  R_path = f\"{image}_{algo_name}.png\"\n",
        "  R_path = os.path.join(target, R_path)\n",
        "  cv2.imwrite(R_path, (R * 255).astype(np.uint8))\n"
      ],
      "execution_count": null,
      "outputs": [
        {
          "output_type": "stream",
          "name": "stdout",
          "text": [
            "0/10\n"
          ]
        },
        {
          "output_type": "stream",
          "name": "stderr",
          "text": [
            "/usr/local/lib/python3.7/dist-packages/ipykernel_launcher.py:20: DeprecationWarning: `np.float` is a deprecated alias for the builtin `float`. To silence this warning, use `float` by itself. Doing this will not modify any behavior and is safe. If you specifically wanted the numpy scalar type, use `np.float64` here.\n",
            "Deprecated in NumPy 1.20; for more details and guidance: https://numpy.org/devdocs/release/1.20.0-notes.html#deprecations\n"
          ]
        },
        {
          "output_type": "stream",
          "name": "stdout",
          "text": [
            "1/10\n",
            "2/10\n",
            "3/10\n",
            "4/10\n",
            "5/10\n",
            "6/10\n",
            "7/10\n",
            "8/10\n",
            "9/10\n"
          ]
        }
      ]
    },
    {
      "cell_type": "code",
      "metadata": {
        "id": "f3qglKmAmErw"
      },
      "source": [
        "# Run this cell if you are interested in visualizing all the results in one\n",
        "# one shot within a webpage. It generates a file view.html that loads all the\n",
        "# images in a table\n",
        "view_algos = [\"orig\", algo_name]\n",
        "\n",
        "with open(os.path.join(target, \"view.html\"), \"w\") as fh:\n",
        "  fh.write(\"<html><body><table>\")\n",
        "  fh.write(\"<tr>\")\n",
        "  for algo in view_algos:\n",
        "    fh.write(f\"<td>{algo}</td>\")\n",
        "  fh.write(\"</tr>\")\n",
        "  for image in images:\n",
        "    height = heights[image]\n",
        "    fh.write(\"<tr>\")\n",
        "    for algo in view_algos:\n",
        "      img_path = f\"{image}_{algo}.png\"\n",
        "      fh.write(f\"<td><img height='{height}' src='{img_path}'></td>\")\n",
        "    fh.write(\"</tr>\")\n",
        "  fh.write(\"</table></body></html>\")\n",
        "  fh.close()"
      ],
      "execution_count": null,
      "outputs": []
    }
  ]
}