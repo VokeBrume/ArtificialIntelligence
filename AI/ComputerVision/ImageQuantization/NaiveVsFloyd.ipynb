{
  "nbformat": 4,
  "nbformat_minor": 0,
  "metadata": {
    "colab": {
      "provenance": [],
      "collapsed_sections": [
        "7wa4c8PJWNQ4",
        "x_3Nl4WWlsV9",
        "5p5mKcVOv8rO"
      ],
      "toc_visible": true,
      "include_colab_link": true
    },
    "kernelspec": {
      "name": "python3",
      "display_name": "Python 3"
    },
    "language_info": {
      "name": "python"
    }
  },
  "cells": [
    {
      "cell_type": "markdown",
      "metadata": {
        "id": "view-in-github",
        "colab_type": "text"
      },
      "source": [
        "<a href=\"https://colab.research.google.com/github/voke-brume/AI-ML/blob/main/AI/ComputerVision/ImageQuantization/NaiveVsFloyd.ipynb\" target=\"_parent\"><img src=\"https://colab.research.google.com/assets/colab-badge.svg\" alt=\"Open In Colab\"/></a>"
      ]
    },
    {
      "cell_type": "markdown",
      "metadata": {
        "id": "COKZ94drn0M_"
      },
      "source": [
        "## **Image Quantization**"
      ]
    },
    {
      "cell_type": "code",
      "source": [
        "from google.colab import drive\n",
        "drive.mount('/content/drive')"
      ],
      "metadata": {
        "colab": {
          "base_uri": "https://localhost:8080/"
        },
        "id": "7aXSou5Yj8Hb",
        "outputId": "61e230a7-1e82-44d5-8cda-ccb4c6d5139a"
      },
      "execution_count": null,
      "outputs": [
        {
          "output_type": "stream",
          "name": "stdout",
          "text": [
            "Drive already mounted at /content/drive; to attempt to forcibly remount, call drive.mount(\"/content/drive\", force_remount=True).\n"
          ]
        }
      ]
    },
    {
      "cell_type": "code",
      "metadata": {
        "id": "Hmy8D7DOzvri"
      },
      "source": [
        "import os\n",
        "import sys\n",
        "import cv2\n",
        "import numpy as np\n",
        "\n",
        "def coverPalette(N):\n",
        "    # Return the palette we're using\n",
        "    return np.linspace(1, 0, 2 ** N)\n",
        "\n",
        "def reconstructImage(IQ, palette):\n",
        "    \"\"\"\n",
        "    Given a quantized image IQ and their value, return a floating point image\n",
        "    \"\"\"\n",
        "    # opencv is full of these assertions.\n",
        "    # If you're looking here you may have an error.\n",
        "    # Check to see what the assertion says\n",
        "    assert(np.issubdtype(IQ.dtype, np.integer))\n",
        "    return palette[IQ]\n",
        "\n",
        "def upscaleNN(I, target_size):\n",
        "    \"\"\"\n",
        "    NN upsample I until it hits a target size but without going over 4096\n",
        "    \"\"\"\n",
        "    h, w = I.shape[:2]\n",
        "    scale = 1\n",
        "    while True:\n",
        "        if min(h * scale, w * scale) >= target_size:\n",
        "            break\n",
        "        if max(h * (scale + 1), w * (scale + 1)) > 4096:\n",
        "            break\n",
        "        scale += 1\n",
        "    # usually you should call a library but providing the call here defeats\n",
        "    # the purpose :)\n",
        "    shape = (scale, scale) if I.ndim == 2 else (scale, scale, 1)\n",
        "    return np.kron(I, np.ones(shape))\n"
      ],
      "execution_count": null,
      "outputs": []
    },
    {
      "cell_type": "code",
      "metadata": {
        "id": "zJ9ZeJ1nPUb0"
      },
      "source": [
        "def quantize(v, palette):\n",
        "    \"\"\"\n",
        "    Given a scalar v and array of values palette,\n",
        "    return the index of the closest value\n",
        "    \"\"\"\n",
        "    if np.isscalar(v): return np.abs(palette - v).argmin()\n",
        "    output = np.zeros( (v.shape[0]), dtype = int )\n",
        "    for i in range (len(v)): output[i] = np.abs(palette - v[i]).argmin()\n",
        "    return output\n",
        "\n",
        "def quantizeNaive(IF, palette):\n",
        "    \"\"\"Given a floating-point image return quantized version (Naive)\"\"\"\n",
        "    newImage = np.zeros(IF.shape, dtype = 'uint8')\n",
        "    for i in range (IF.shape[0]):\n",
        "      for j in range (IF.shape[1]):\n",
        "        newImage[i][j] = quantize(IF[i][j], palette)\n",
        "    return newImage\n",
        "\n",
        "def quantizeFloyd(IF, palette):\n",
        "    \"\"\"\n",
        "    Given a floating-point image return quantized version (Floyd-Steinberg)\n",
        "    \"\"\"\n",
        "    output = np.zeros(IF.shape, dtype = 'uint8')\n",
        "    h = IF.shape[0]\n",
        "    w = IF.shape[1]\n",
        "    for x in range (h):\n",
        "      for y in range (w):\n",
        "        old_value = IF[x][y].copy()\n",
        "        color_index = quantize(old_value, palette)\n",
        "        output[x][y] = color_index\n",
        "        if np.isscalar(color_index): new_value = palette[color_index]\n",
        "        else: new_value = [palette[i] for i in color_index]\n",
        "        error = old_value - new_value\n",
        "        if x + 1 < h: IF[x+1][y] += error*7/16\n",
        "        if (x - 1 >= 0) and (y + 1 < w): IF[x-1][y+1] += error*3/16\n",
        "        if y + 1 < w: IF[x][y+1] += error*5/16\n",
        "        if (y + 1 < w) and (x + 1 < h): IF[x+1][y+1] += error*1/16  \n",
        "    return output"
      ],
      "execution_count": null,
      "outputs": []
    },
    {
      "cell_type": "markdown",
      "metadata": {
        "id": "U7olqD8Ain9Q"
      },
      "source": [
        "## **Image Resizing**"
      ]
    },
    {
      "cell_type": "code",
      "metadata": {
        "id": "lLJPVod_ikgR"
      },
      "source": [
        "def resizeImage(I, maxDim):\n",
        "    \"\"\"Given an image, make sure it's no bigger than maxDim on either side\"\"\"\n",
        "    new_image = I\n",
        "    h = new_image.shape[0]\n",
        "    w = new_image.shape[1]\n",
        "    while h > maxDim or w > maxDim:\n",
        "        new_image = cv2.resize(new_image, (0, 0), fx=0.50, fy=0.50)\n",
        "        h = new_image.shape[0]\n",
        "        w = new_image.shape[1]\n",
        "    return new_image"
      ],
      "execution_count": null,
      "outputs": []
    }
  ]
}