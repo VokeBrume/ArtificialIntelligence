{
  "cells": [
    {
      "cell_type": "markdown",
      "metadata": {
        "id": "view-in-github",
        "colab_type": "text"
      },
      "source": [
        "<a href=\"https://colab.research.google.com/github/voke-brume/AI-ML/blob/main/AI/ComputerVision/ConvolutionCornersTransformation/ConvCornTransform.ipynb\" target=\"_parent\"><img src=\"https://colab.research.google.com/assets/colab-badge.svg\" alt=\"Open In Colab\"/></a>"
      ]
    },
    {
      "cell_type": "markdown",
      "metadata": {
        "id": "8vxmeNK6zvdA"
      },
      "source": [
        "# **Image Filtering**"
      ]
    },
    {
      "cell_type": "markdown",
      "source": [
        "## **Convolution**"
      ],
      "metadata": {
        "id": "03IHTQhhwSYB"
      }
    },
    {
      "cell_type": "code",
      "execution_count": null,
      "metadata": {
        "id": "fbUaH8lS3Zrf"
      },
      "outputs": [],
      "source": [
        "# TODO: Complete the function\n",
        "def convolve(image, kernel):\n",
        "  \"\"\"\n",
        "  Return the convolution result: image * kernel.\n",
        "  Reminder to implement convolution and not cross-correlation!\n",
        "  Caution: Please use zero-padding.\n",
        "\n",
        "  Input- image: H x W\n",
        "          kernel: h x w\n",
        "  Output- convolve: H x W\n",
        "  \"\"\"\n",
        "  # Reshape image if image is not 2D\n",
        "  if len(image.shape) > 2: image = reshape_image(image)\n",
        "\n",
        "  # Pad image by appropriate pixels\n",
        "  padded_image = zero_padding(image, get_padding_on_sides(kernel.shape[0]))\n",
        "\n",
        "  # Flip kernel for convolution\n",
        "  if kernel.shape[0] == 1: flipped_kernel = np.fliplr( kernel )\n",
        "  elif kernel.shape[1] == 1: flipped_kernel = np.flipud( kernel )\n",
        "  else: flipped_kernel = np.flipud(np.fliplr(kernel))\n",
        "\n",
        "  # Create output with same size as image but filled with zeros\n",
        "  output = np.zeros(shape = image.shape)\n",
        "\n",
        "  # Save kernel size\n",
        "  k = max( flipped_kernel.shape[0], flipped_kernel.shape[1] )\n",
        "\n",
        "  # Iterate over the rows\n",
        "  for i in range(image.shape[0]):\n",
        "      # Iterate over the columns\n",
        "      for j in range(image.shape[1]):\n",
        "          # Get the current matrix\n",
        "          matrix = padded_image[i:i+k, j:j+k]\n",
        "          # Apply convolution using element-wise multiplication and summation\n",
        "          output[i, j] = np.sum( np.multiply(matrix, flipped_kernel) )\n",
        "\n",
        "  return output"
      ]
    },
    {
      "cell_type": "markdown",
      "source": [
        "## **Gaussian Kernel**"
      ],
      "metadata": {
        "id": "BloMj8mywZkc"
      }
    },
    {
      "cell_type": "code",
      "source": [
        "# Gaussian Filter Implementation\n",
        "def gaussian_kernel(size: int, sigma: float, sum_of_one = False) -> np.array:\n",
        "  \"\"\"\n",
        "  This function creates a gaussian filter of specified size and\n",
        "  standard deviation (sigma).\n",
        "\n",
        "  Input - size(int)\n",
        "          sigma (float)\n",
        "          sum_of_one (boolean): determines if the sum of kernel values is one or not\n",
        "  \"\"\"\n",
        "  ax = np.linspace(-(size - 1) / 2., (size - 1) / 2., size)\n",
        "  xx, yy = np.meshgrid(ax, ax)\n",
        "\n",
        "  kernel = np.exp(-0.5 * (np.square(xx) + np.square(yy)) / np.square(sigma))\n",
        "\n",
        "  # Return sum of one\n",
        "  if sum_of_one == True:  return kernel / np.sum(kernel)\n",
        "\n",
        "  # Return values that do not sum up to one\n",
        "  return kernel"
      ],
      "metadata": {
        "id": "HnqglewZr2Ep"
      },
      "execution_count": null,
      "outputs": []
    },
    {
      "cell_type": "markdown",
      "source": [
        "## **Edge Detection**"
      ],
      "metadata": {
        "id": "6aCJyge_we0L"
      }
    },
    {
      "cell_type": "code",
      "execution_count": null,
      "metadata": {
        "id": "-CyOp0dWEyUO"
      },
      "outputs": [],
      "source": [
        "# TODO: Complete the function\n",
        "def edge_detection(image):\n",
        "    \"\"\"\n",
        "    Return Ix, Iy and the gradient magnitude of the input image\n",
        "\n",
        "    Input- image: H x W\n",
        "    Output- Ix, Iy, grad_magnitude: H x W\n",
        "    \"\"\"\n",
        "    \n",
        "    # TODO: Fix kx, ky\n",
        "    kx = np.array([ [-1, 0, 1] ])  # 1 x 3\n",
        "    ky = np.array([ [1], [0], [-1] ])  # 3 x 1\n",
        "\n",
        "    #  Convolve image and derivative filters\n",
        "    Ix = convolve(image, kx)\n",
        "    Iy = convolve(image, ky)\n",
        "\n",
        "    # TODO: Use Ix, Iy to calculate grad_magnitude: (Ix^2 + Iy^2)^1/2\n",
        "    grad_magnitude = np.sqrt( np.square(Ix) + np.square(Iy) )\n",
        "\n",
        "    return Ix, Iy, grad_magnitude"
      ]
    },
    {
      "cell_type": "markdown",
      "source": [
        "# **Corners**"
      ],
      "metadata": {
        "id": "dBGucndiwwOu"
      }
    },
    {
      "cell_type": "markdown",
      "source": [
        "## **Corner Score**"
      ],
      "metadata": {
        "id": "di5TxdX5w6Qv"
      }
    },
    {
      "cell_type": "code",
      "execution_count": null,
      "metadata": {
        "id": "ohN-IFQSKBUU"
      },
      "outputs": [],
      "source": [
        "# TODO: Complete the function\n",
        "def corner_score(image, u=5, v=5, window_size=(5, 5)):\n",
        "  \"\"\"\n",
        "  Given an input image, x_offset, y_offset, and window_size,\n",
        "  return the function E(u,v) for window size W\n",
        "  corner detector score for that pixel.\n",
        "  Use zero-padding to handle window values outside of the image.\n",
        "\n",
        "  Input- image: H x W\n",
        "          u: a scalar for x offset\n",
        "          v: a scalar for y offset\n",
        "          window_size: a tuple for window size\n",
        "\n",
        "  Output- results: a image of size H x W\n",
        "  \"\"\"\n",
        "  # Save window size\n",
        "  wind_size = window_size[0]\n",
        "\n",
        "  # Reshape image if image is not 2D\n",
        "  if len(image.shape) > 2: image = reshape_image(image)\n",
        "\n",
        "  # Save image shape\n",
        "  image_shape = image.shape\n",
        "\n",
        "  # Pad image by appropriate pixels\n",
        "  padded_image = zero_padding(image, get_padding_on_sides(wind_size) +  wind_size)\n",
        "  #padded_image = padded_image[wind_size:, wind_size:]\n",
        "\n",
        "  # Create output with same size as image but filled with zeros\n",
        "  output = np.zeros(shape = image_shape)\n",
        "\n",
        "   # Iterate over the rows\n",
        "  for i in range(image_shape[0]):\n",
        "      # Iterate over the columns\n",
        "      for j in range(image_shape[1]):\n",
        "          # img[i, j] = individual pixel value\n",
        "          # Get the current matrix\n",
        "          current_matrix = padded_image[i+wind_size: i+ (wind_size*2), j+wind_size:j+ (wind_size*2)]\n",
        "          rolled_matrix = np.roll(np.roll(padded_image, padded_image.shape[1] - u, axis=1), padded_image.shape[0] - v, axis=0)[i+wind_size: i+ (wind_size*2), j+wind_size:j+ (wind_size*2)]\n",
        "\n",
        "          # Calculate for E(u,v) for each pixel\n",
        "          output[i, j] = np.sum( np.square(rolled_matrix - current_matrix) )\n",
        "\n",
        "  # output = None\n",
        "  return output"
      ]
    },
    {
      "cell_type": "markdown",
      "source": [
        "## **Harris Corner Detector**"
      ],
      "metadata": {
        "id": "e2Ogbk4sxRka"
      }
    },
    {
      "cell_type": "code",
      "execution_count": null,
      "metadata": {
        "id": "rVac1zoPr35s"
      },
      "outputs": [],
      "source": [
        "# TODO: Complete the function\n",
        "def harris_detector(image, window_size=(5, 5)):\n",
        "    \"\"\"\n",
        "    Given an input image, calculate the Harris Detector score for all pixels\n",
        "    You can use same-padding for intensity (or 0-padding for derivatives)\n",
        "    to handle window values outside of the image.\n",
        "\n",
        "    Input- image: H x W\n",
        "    Output- results: a image of size H x W\n",
        "    \"\"\"\n",
        "\n",
        "    # Change image to grayscale\n",
        "    image = cv2.cvtColor(image, cv2.COLOR_BGR2GRAY)\n",
        "\n",
        "    # compute the derivatives\n",
        "    Ix, Iy, mag = edge_detection(image)\n",
        "\n",
        "    # Gaussian kernel\n",
        "    gauss_kernel = gaussian_kernel(window_size[0], 1, sum_of_one = True)\n",
        "\n",
        "    Ixx = ndimage.convolve(np.square(Ix), gauss_kernel, mode='constant', cval=0.0)\n",
        "    Iyy = ndimage.convolve(np.square(Iy), gauss_kernel, mode='constant', cval=0.0)\n",
        "    Ixy = ndimage.convolve(Ix * Iy, gauss_kernel, mode='constant', cval=0.0)\n",
        "\n",
        "    # For each image location, construct the structure tensor and calculate\n",
        "    # the Harris response\n",
        "    sensitivity_factor = 0.05\n",
        "\n",
        "    # Parameters to computer Harri response\n",
        "    detA = Ixx * Iyy - np.square(Ixy)\n",
        "    traceA = Ixx +  Iyy\n",
        "    \n",
        "    # Response scores for harri detector\n",
        "    response = detA - sensitivity_factor * np.square(traceA)\n",
        "\n",
        "    # Normalizing the values\n",
        "    response_range = response.max() - response.min()\n",
        "    response = (response / response_range) * 255\n",
        "\n",
        "    return response"
      ]
    },
    {
      "cell_type": "markdown",
      "metadata": {
        "id": "O91CgYBXxgx7"
      },
      "source": [
        "# **Fitting Affine Transform**"
      ]
    },
    {
      "cell_type": "code",
      "source": [
        "# Function for fitting affine transform using least squared method\n",
        "def affine_transform_lstsq(file):\n",
        "  # Seperate the values\n",
        "  x_y = file[:,0:2]\n",
        "  x_y_prime = file[:,2:4]\n",
        "  plt.scatter(x_y[:,0],x_y[:,1],1)\n",
        "  plt.scatter(x_y_prime[:,0],x_y_prime[:,1],1)\n",
        "  # Create empty matrix of values\n",
        "  x_y_prime = [item for sublist in zip(x_y_prime[:,0], x_y_prime[:,1]) for item in sublist]\n",
        "\n",
        "  z=np.zeros_like(x_y)\n",
        "  a1 = np.array([item for sublist in zip(x_y[:,0:2],z[:,0:2]) for item in sublist])\n",
        "  a2 = np.array([item for sublist in zip(z[:,0:2],x_y[:,0:2]) for item in sublist])\n",
        "  z = z[:,0]\n",
        "  q = np.ones_like(z)\n",
        "  a3 = np.array([item for sublist in zip(q,z) for item in sublist])\n",
        "  a4 = np.array([item for sublist in zip(z,q) for item in sublist])\n",
        "  A = np.column_stack((a1,a2,a3,a4))\n",
        "\n",
        "  return np.linalg.lstsq(A, x_y_prime, rcond=None)"
      ],
      "metadata": {
        "id": "KoBOBQO3wO4A"
      },
      "execution_count": null,
      "outputs": []
    },
    {
      "cell_type": "code",
      "source": [
        "# Function to transform the (x,y) using (S, t)\n",
        "def transform_points(file, kernel):\n",
        "  \"\"\" \n",
        "  Transform (x,y) to (x',y') using (S, t)\n",
        "\n",
        "  input: points (nd.array)\n",
        "         matrix (3 x 3)\n",
        "\n",
        "  return: warped points\n",
        "  \"\"\"\n",
        "\n",
        "  # Convert points to np.array\n",
        "  points = np.array(file)\n",
        "\n",
        "  # Pad the data with ones, so that our transformation can do translations\n",
        "  pts_pad = np.hstack([points, np.ones((points.shape[0], 1))])\n",
        "  \n",
        "  # Compute dot product of kernel and points\n",
        "  points_warp = np.dot(pts_pad, kernel.T)\n",
        "\n",
        "  return points_warp[:, :-1]"
      ],
      "metadata": {
        "id": "c1kzrwG63x0j"
      },
      "execution_count": null,
      "outputs": []
    }
  ],
  "metadata": {
    "colab": {
      "collapsed_sections": [
        "najp0BBTOqPQ",
        "sQLA7vjvINdM",
        "8vxmeNK6zvdA",
        "20nvkW3L5Wzv",
        "M-uYVf4JGJmS",
        "lD9MApUIhnL1",
        "O91CgYBXxgx7",
        "xjGWYpaX2zDh",
        "7CHZtqIj52Ut"
      ],
      "provenance": [],
      "toc_visible": true,
      "include_colab_link": true
    },
    "kernelspec": {
      "display_name": "Python 3",
      "name": "python3"
    },
    "language_info": {
      "name": "python"
    }
  },
  "nbformat": 4,
  "nbformat_minor": 0
}