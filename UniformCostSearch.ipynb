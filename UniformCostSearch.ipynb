{
  "nbformat": 4,
  "nbformat_minor": 0,
  "metadata": {
    "colab": {
      "name": "UniformCostSearch.ipynb",
      "provenance": [],
      "collapsed_sections": [],
      "include_colab_link": true
    },
    "kernelspec": {
      "name": "python3",
      "display_name": "Python 3"
    },
    "language_info": {
      "name": "python"
    }
  },
  "cells": [
    {
      "cell_type": "markdown",
      "metadata": {
        "id": "view-in-github",
        "colab_type": "text"
      },
      "source": [
        "<a href=\"https://colab.research.google.com/github/VokeBrume/ArtificialIntelligence/blob/main/UniformCostSearch.ipynb\" target=\"_parent\"><img src=\"https://colab.research.google.com/assets/colab-badge.svg\" alt=\"Open In Colab\"/></a>"
      ]
    },
    {
      "cell_type": "markdown",
      "source": [
        "Import libraries for project"
      ],
      "metadata": {
        "id": "OPHTXCe5RjZ8"
      }
    },
    {
      "cell_type": "code",
      "source": [
        "import queue\n",
        "from google.colab import drive\n",
        "drive.mount('/content/drive')"
      ],
      "metadata": {
        "id": "2HftnFUVNYU8",
        "colab": {
          "base_uri": "https://localhost:8080/"
        },
        "outputId": "4b18d156-7865-41e7-9953-69365c672f91"
      },
      "execution_count": null,
      "outputs": [
        {
          "output_type": "stream",
          "name": "stdout",
          "text": [
            "Mounted at /content/drive\n"
          ]
        }
      ]
    },
    {
      "cell_type": "markdown",
      "source": [
        "Save path of generated adjacency list as a variable"
      ],
      "metadata": {
        "id": "275ZAJsZOEy2"
      }
    },
    {
      "cell_type": "code",
      "source": [
        "romania_path = \"/content/drive/MyDrive/Colab Notebooks/homework02/RomaniaTableAdjacencyList.csv\""
      ],
      "metadata": {
        "id": "J_uFfidGOS4J"
      },
      "execution_count": null,
      "outputs": []
    },
    {
      "cell_type": "markdown",
      "source": [
        "Create graph using generated adjency list"
      ],
      "metadata": {
        "id": "9bwxOZ44SuzM"
      }
    },
    {
      "cell_type": "code",
      "source": [
        "def graph_data_struct(file_path):\n",
        "\n",
        "    #Open file, declare paths, and skip past the file header\n",
        "    file = open(file_path,'r')\n",
        "    paths = {}\n",
        "    #Skip header\n",
        "    next(file)\n",
        "\n",
        "    #Loop through file to create graph structure and strip new line characters\n",
        "    for row in file:\n",
        "      row = row.split(',')\n",
        "      paths.setdefault( row[0], []).append( (row[1],str.rstrip(row[2])) )\n",
        "      paths.setdefault( row[1], []).append( (row[0],str.rstrip(row[2])) )\n",
        "    \n",
        "    #Close file\n",
        "    file.close()\n",
        "    \n",
        "    #Return graph\n",
        "    return paths"
      ],
      "metadata": {
        "id": "zOz44TvcTDcy"
      },
      "execution_count": null,
      "outputs": []
    },
    {
      "cell_type": "markdown",
      "source": [
        "Function for Uniform Cost Search (Dijkstra's) Algorithm"
      ],
      "metadata": {
        "id": "ARshsP7nRkW6"
      }
    },
    {
      "cell_type": "code",
      "source": [
        "def uniform_cost_search(graph_struct, start_city, dest_city):\n",
        "\n",
        "  path = []\n",
        "  visited = set()\n",
        "  frontier = queue.PriorityQueue()\n",
        "  frontier.put( (0, [start_city]) )\n",
        "  iteration = 0\n",
        "\n",
        "  while frontier: \n",
        "\n",
        "    #Conditional statement to prevent infinite loop\n",
        "    if frontier.empty(): \n",
        "      print ('There is no valid path')\n",
        "      break\n",
        "\n",
        "    #Print routes explored by algorithm\n",
        "    iterations(frontier, iteration)\n",
        "    iteration += 1\n",
        "      \n",
        "    cost, path = frontier.get()\n",
        "    city_node = path[len(path) - 1]\n",
        "\n",
        "\n",
        "    #Add unvisited city to visited list\n",
        "    if city_node not in visited:\n",
        "      visited.add(city_node)\n",
        "      \n",
        "      #Conditional statement if destination city is reached\n",
        "      if city_node == dest_city:\n",
        "        path.append(cost)\n",
        "        solution_path(graph_struct, path)\n",
        "        return path\n",
        "\n",
        "    #Explore cities directly connected to current city\n",
        "    children = graph_struct[city_node]\n",
        "    neighbor = [ j[0] for j in children ]\n",
        "\n",
        "    #Loop to calculate the cost from current city to neighboring cities and add to priority queue\n",
        "    for j in neighbor:\n",
        "\n",
        "      if j not in visited: \n",
        "        totaldistance = cost + int( dist_to_neighbor(graph_struct, city_node, j) )\n",
        "        temp = path[:]\n",
        "        temp.append(j)\n",
        "        frontier.put((totaldistance, temp))\n",
        "  \n",
        "  return"
      ],
      "metadata": {
        "id": "wXZw46Wdz6tB"
      },
      "execution_count": null,
      "outputs": []
    },
    {
      "cell_type": "markdown",
      "source": [
        "Function to calculate distance from current city to neighbor"
      ],
      "metadata": {
        "id": "O4vrRkgSYPpQ"
      }
    },
    {
      "cell_type": "code",
      "source": [
        "def dist_to_neighbor(graph_struct, current_city, neighbor):\n",
        "    index = [i[0] for i in graph_struct[current_city]].index(neighbor)\n",
        "    return graph_struct[current_city][index][1]"
      ],
      "metadata": {
        "id": "nEK7v_ufYCdO"
      },
      "execution_count": null,
      "outputs": []
    },
    {
      "cell_type": "markdown",
      "source": [
        "Functions to display iterations and solution"
      ],
      "metadata": {
        "id": "05auxMwRYhsn"
      }
    },
    {
      "cell_type": "code",
      "source": [
        "#Function to display iterations\n",
        "def iterations(priority_queue, count):\n",
        "  size = priority_queue.qsize()\n",
        "  print( '\\nIteration %s: %s' %(count, priority_queue.queue) )\n",
        "  \n",
        "  return\n",
        "\n",
        "#Function to display solution\n",
        "def solution_path(graph,path):\n",
        "    distance = path[-1]\n",
        "    print('\\nSolution: ', end =\"\")\n",
        "    z = 0\n",
        "\n",
        "    while z < ( (len(path)) - 2):\n",
        "        cost = dist_to_neighbor(graph, path[z], path[z+1])\n",
        "        if z < 1:\n",
        "          print( '%s -> %s(%s)' %( path[z], path[z+1], cost ), end =\" \" )\n",
        "        else:\n",
        "          print( '-> %s(%s)' %( path[z+1], cost ), end =\" \" )\n",
        "        z+=1\n",
        "\n",
        "    print('Total cost: %s'%(distance))\n",
        "    return\n"
      ],
      "metadata": {
        "id": "LhBSITwNYHg2"
      },
      "execution_count": null,
      "outputs": []
    },
    {
      "cell_type": "markdown",
      "source": [
        "Main function to run program"
      ],
      "metadata": {
        "id": "13ZYYe_7Yyzq"
      }
    },
    {
      "cell_type": "code",
      "source": [
        "#Main function\n",
        "def main():\n",
        "\n",
        "  #Request for user input\n",
        "  start_city = input(\"Enter the start city: \")\n",
        "  dest_city = input(\"Enter the destination city: \")\n",
        "\n",
        "  #Save graph structure\n",
        "  graph = graph_data_struct(romania_path)\n",
        "\n",
        "  if start_city not in graph:\n",
        "    print('Start city: %s not found in graph. Check spelling and rerun program' %(start_city))\n",
        "    return\n",
        "\n",
        "  if dest_city not in graph:\n",
        "    print('Destination city: %s not found in graph. Check spelling and rerun program' %(start_city))\n",
        "    return\n",
        "\n",
        "  \n",
        "\n",
        "  #Call uniform cost search function\n",
        "  uniform_cost_search(graph, start_city, dest_city)\n",
        "\n",
        "main()\n"
      ],
      "metadata": {
        "colab": {
          "base_uri": "https://localhost:8080/"
        },
        "id": "TTI4w9ENap7L",
        "outputId": "75a5d821-46d5-4aa8-98f1-0070706e52ea"
      },
      "execution_count": null,
      "outputs": [
        {
          "output_type": "stream",
          "name": "stdout",
          "text": [
            "Enter the start city: Arad\n",
            "Enter the destination city: Bucharest\n",
            "\n",
            "Iteration 0: [(0, ['Arad'])]\n",
            "\n",
            "Iteration 1: [(75, ['Arad', 'Zerind']), (118, ['Arad', 'Timisoara']), (140, ['Arad', 'Sibiu'])]\n",
            "\n",
            "Iteration 2: [(118, ['Arad', 'Timisoara']), (140, ['Arad', 'Sibiu']), (146, ['Arad', 'Zerind', 'Oradea'])]\n",
            "\n",
            "Iteration 3: [(140, ['Arad', 'Sibiu']), (146, ['Arad', 'Zerind', 'Oradea']), (229, ['Arad', 'Timisoara', 'Lugoj'])]\n",
            "\n",
            "Iteration 4: [(146, ['Arad', 'Zerind', 'Oradea']), (220, ['Arad', 'Sibiu', 'Rimnicu Vilcea']), (291, ['Arad', 'Sibiu', 'Oradea']), (229, ['Arad', 'Timisoara', 'Lugoj']), (239, ['Arad', 'Sibiu', 'Fagaras'])]\n",
            "\n",
            "Iteration 5: [(220, ['Arad', 'Sibiu', 'Rimnicu Vilcea']), (229, ['Arad', 'Timisoara', 'Lugoj']), (291, ['Arad', 'Sibiu', 'Oradea']), (239, ['Arad', 'Sibiu', 'Fagaras'])]\n",
            "\n",
            "Iteration 6: [(229, ['Arad', 'Timisoara', 'Lugoj']), (239, ['Arad', 'Sibiu', 'Fagaras']), (291, ['Arad', 'Sibiu', 'Oradea']), (366, ['Arad', 'Sibiu', 'Rimnicu Vilcea', 'Craiova']), (317, ['Arad', 'Sibiu', 'Rimnicu Vilcea', 'Pitesti'])]\n",
            "\n",
            "Iteration 7: [(239, ['Arad', 'Sibiu', 'Fagaras']), (299, ['Arad', 'Timisoara', 'Lugoj', 'Mehadia']), (291, ['Arad', 'Sibiu', 'Oradea']), (366, ['Arad', 'Sibiu', 'Rimnicu Vilcea', 'Craiova']), (317, ['Arad', 'Sibiu', 'Rimnicu Vilcea', 'Pitesti'])]\n",
            "\n",
            "Iteration 8: [(291, ['Arad', 'Sibiu', 'Oradea']), (299, ['Arad', 'Timisoara', 'Lugoj', 'Mehadia']), (317, ['Arad', 'Sibiu', 'Rimnicu Vilcea', 'Pitesti']), (366, ['Arad', 'Sibiu', 'Rimnicu Vilcea', 'Craiova'])]\n",
            "\n",
            "Iteration 9: [(299, ['Arad', 'Timisoara', 'Lugoj', 'Mehadia']), (366, ['Arad', 'Sibiu', 'Rimnicu Vilcea', 'Craiova']), (317, ['Arad', 'Sibiu', 'Rimnicu Vilcea', 'Pitesti'])]\n",
            "\n",
            "Iteration 10: [(317, ['Arad', 'Sibiu', 'Rimnicu Vilcea', 'Pitesti']), (366, ['Arad', 'Sibiu', 'Rimnicu Vilcea', 'Craiova']), (374, ['Arad', 'Timisoara', 'Lugoj', 'Mehadia', 'Drobeta'])]\n",
            "\n",
            "Iteration 11: [(366, ['Arad', 'Sibiu', 'Rimnicu Vilcea', 'Craiova']), (374, ['Arad', 'Timisoara', 'Lugoj', 'Mehadia', 'Drobeta']), (455, ['Arad', 'Sibiu', 'Rimnicu Vilcea', 'Pitesti', 'Craiova']), (418, ['Arad', 'Sibiu', 'Rimnicu Vilcea', 'Pitesti', 'Bucharest'])]\n",
            "\n",
            "Iteration 12: [(374, ['Arad', 'Timisoara', 'Lugoj', 'Mehadia', 'Drobeta']), (418, ['Arad', 'Sibiu', 'Rimnicu Vilcea', 'Pitesti', 'Bucharest']), (455, ['Arad', 'Sibiu', 'Rimnicu Vilcea', 'Pitesti', 'Craiova']), (486, ['Arad', 'Sibiu', 'Rimnicu Vilcea', 'Craiova', 'Drobeta'])]\n",
            "\n",
            "Iteration 13: [(418, ['Arad', 'Sibiu', 'Rimnicu Vilcea', 'Pitesti', 'Bucharest']), (486, ['Arad', 'Sibiu', 'Rimnicu Vilcea', 'Craiova', 'Drobeta']), (455, ['Arad', 'Sibiu', 'Rimnicu Vilcea', 'Pitesti', 'Craiova'])]\n",
            "\n",
            "Solution: Arad -> Sibiu(140) -> Rimnicu Vilcea(80) -> Pitesti(97) -> Bucharest(101) Total cost: 418\n"
          ]
        }
      ]
    }
  ]
}